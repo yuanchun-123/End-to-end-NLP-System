{
  "cells": [
    {
      "cell_type": "markdown",
      "metadata": {
        "id": "vmDxgA4QVHqt"
      },
      "source": [
        "# Implementation & Evaluation Run RAG (Colab Version)\n",
        "\n",
        "- **Goal**: For your RAG system, you will need the following three components:\n",
        "1.\tDocument & query embedder (can use existing models)\n",
        "2.\tDocument retriever (implement sparse, dense and hybrid retrieval)\n",
        "3.\tDocument reader (aka. question-answering system) (can use existing models)\n",
        "\n",
        "- **Inputs**: Data layout expected:\n",
        "1.  data/corpus/chunks.clean.jsonl\n",
        "2.   data/test/questions.txt\n",
        "3.   data/test/reference_answers.json\n",
        "\n",
        "- **Outputs**:\n",
        "1. \"index\" folder\n",
        "    - bm25.pkl\n",
        "    - dense_meta.json\n",
        "    - faiss.index\n",
        "    - metas.pkl\n",
        "    - texts.pkl\n",
        "2. \"data/test\" folder\n",
        "    - questions.txt — contains evaluation questions  \n",
        "    - reference_answers.json — contains reference answers for evaluation  \n",
        "    - system_output_test.json — generated answers on the test set (Hybrid RRF)\n",
        "\n",
        "3. \"system_outputs\" folder.\n",
        "    - Files are in the form: system_output_1.json"
      ]
    },
    {
      "cell_type": "code",
      "execution_count": 2,
      "metadata": {
        "colab": {
          "base_uri": "https://localhost:8080/"
        },
        "id": "hu_yy7BnSOLV",
        "outputId": "0b096cbd-b4b7-4d56-f511-af16e54857e3"
      },
      "outputs": [
        {
          "name": "stdout",
          "output_type": "stream",
          "text": [
            "\u001b[2K   \u001b[90m━━━━━━━━━━━━━━━━━━━━━━━━━━━━━━━━━━━━━━━━\u001b[0m \u001b[32m31.4/31.4 MB\u001b[0m \u001b[31m84.6 MB/s\u001b[0m eta \u001b[36m0:00:00\u001b[0m\n",
            "\u001b[?25h"
          ]
        }
      ],
      "source": [
        "!pip -q install transformers accelerate sentence-transformers faiss-cpu rank-bm25\n",
        "\n",
        "from pathlib import Path\n",
        "import json, re, string, collections, numpy as np, torch"
      ]
    },
    {
      "cell_type": "code",
      "execution_count": 3,
      "metadata": {
        "colab": {
          "base_uri": "https://localhost:8080/"
        },
        "id": "QytIcTnwRt7h",
        "outputId": "7c0b702f-0b3a-4219-c718-5dab9eab46a4"
      },
      "outputs": [
        {
          "name": "stdout",
          "output_type": "stream",
          "text": [
            "Drive already mounted at /content/drive; to attempt to forcibly remount, call drive.mount(\"/content/drive\", force_remount=True).\n",
            "['data', 'scripts', 'seeds.txt', 'rag.py', 'system_outputs', 'index', '__pycache__', 'run_rag_colab.ipynb']\n",
            "OK\n"
          ]
        }
      ],
      "source": [
        "from google.colab import drive\n",
        "drive.mount('/content/drive')\n",
        "\n",
        "import os\n",
        "print(os.listdir('/content/drive/MyDrive/rag-pgh'))\n",
        "\n",
        "import faiss, numpy, torch\n",
        "from rank_bm25 import BM25Okapi\n",
        "from sentence_transformers import SentenceTransformer\n",
        "from transformers import AutoTokenizer, AutoModelForCausalLM\n",
        "print(\"OK\")\n"
      ]
    },
    {
      "cell_type": "code",
      "execution_count": 6,
      "metadata": {
        "colab": {
          "base_uri": "https://localhost:8080/"
        },
        "id": "tnilF3i5SeRi",
        "outputId": "6973a8d3-4081-4028-edbe-f700a9c8abe1"
      },
      "outputs": [
        {
          "name": "stdout",
          "output_type": "stream",
          "text": [
            "N questions: 240\n"
          ]
        }
      ],
      "source": [
        "root = Path(\"/content/drive/MyDrive/rag-pgh\")\n",
        "\n",
        "q_path   = root/\"data/test/questions.txt\"\n",
        "ref_path = root/\"data/test/reference_answers.json\"\n",
        "out_path = root/\"data/test/system_output_test.json\"\n",
        "\n",
        "questions = [ln.strip() for ln in q_path.read_text(encoding=\"utf-8\").splitlines() if ln.strip()]\n",
        "print(\"N questions:\", len(questions))"
      ]
    },
    {
      "cell_type": "code",
      "execution_count": 7,
      "metadata": {
        "id": "M_ahWA09Sbem"
      },
      "outputs": [],
      "source": [
        "import sys\n",
        "sys.path.append(str(root))\n",
        "\n",
        "import rag\n",
        "from types import SimpleNamespace"
      ]
    },
    {
      "cell_type": "code",
      "execution_count": 8,
      "metadata": {
        "colab": {
          "base_uri": "https://localhost:8080/"
        },
        "id": "K4wEhVF1SXp6",
        "outputId": "f4d02120-0edf-4b6c-ecb5-fd6953790501"
      },
      "outputs": [
        {
          "name": "stdout",
          "output_type": "stream",
          "text": [
            "✔ Patched rag.Reader (short-span, deterministic).\n"
          ]
        }
      ],
      "source": [
        "from transformers import AutoTokenizer, AutoModelForSeq2SeqLM, AutoModelForCausalLM\n",
        "\n",
        "class PatchedReader:\n",
        "    \"\"\"\n",
        "    Drop-in replacement for rag.Reader:\n",
        "      - strict prompt: short span (<=5 words) or 'unknown'\n",
        "      - supports seq2seq (FLAN/T5) or causal (Mistral/LLaMA)\n",
        "      - deterministic (no sampling), short outputs\n",
        "    \"\"\"\n",
        "    def __init__(self, model_name: str, max_new_tokens: int = 16, temperature: float = 0.0, include_sources: bool = False):\n",
        "        self.model_name = model_name\n",
        "        self.is_seq2seq = any(k in model_name.lower() for k in [\"flan\",\"t5\"])\n",
        "        self.tok = AutoTokenizer.from_pretrained(model_name)\n",
        "        if self.is_seq2seq:\n",
        "            self.lm = AutoModelForSeq2SeqLM.from_pretrained(model_name, device_map=\"auto\")\n",
        "        else:\n",
        "            self.lm = AutoModelForCausalLM.from_pretrained(model_name, device_map=\"auto\")\n",
        "            if self.tok.pad_token_id is None:\n",
        "                self.tok.pad_token = self.tok.eos_token\n",
        "        self.max_new_tokens = max_new_tokens\n",
        "\n",
        "    def _prompt(self, question: str, passages, max_ctx_chars=1600):\n",
        "        ctx = \"\"\n",
        "        for p in passages[:5]:  # cap to 5 passages\n",
        "            piece = f\"[Passage]\\n{p}\\n\\n\"\n",
        "            if len(ctx) + len(piece) > max_ctx_chars: break\n",
        "            ctx += piece\n",
        "        instr = (\"Answer with a short span (<=5 words) using ONLY the provided context. \"\n",
        "                 \"If the answer is not explicitly present, output exactly: unknown\")\n",
        "        if self.is_seq2seq:\n",
        "            return f\"{instr}\\n\\nQuestion: {question}\\n\\nContext:\\n{ctx}\\n\\nAnswer:\"\n",
        "        else:\n",
        "            return f\"[INST]{instr}\\n\\nQuestion: {question}\\n\\nContext:\\n{ctx}\\n\\nAnswer:[/INST]\"\n",
        "\n",
        "    def _shorten(self, text: str, max_words=5):\n",
        "        # first line, strip junk, cap words\n",
        "        import re\n",
        "        s = text.splitlines()[0].strip().strip(\" .,:;\\\"'()[]\")\n",
        "        s = re.split(r\"(?:^answer\\s*:)\", s, flags=re.I)[-1].strip()\n",
        "        words = s.split()\n",
        "        if not words: return \"unknown\"\n",
        "        if len(words) > max_words: s = \" \".join(words[:max_words])\n",
        "        if len(s) > 40 and \" \" in s: s = \" \".join(s.split()[:max_words])\n",
        "        return s or \"unknown\"\n",
        "\n",
        "    def answer(self, question: str, passages, sources=None) -> str:\n",
        "        prompt = self._prompt(question, passages)\n",
        "        ids = self.tok(prompt, return_tensors=\"pt\", truncation=True, max_length=2048).to(self.lm.device)\n",
        "        with torch.no_grad():\n",
        "            if self.is_seq2seq:\n",
        "                out = self.lm.generate(**ids, max_new_tokens=self.max_new_tokens, do_sample=False, num_beams=4)\n",
        "            else:\n",
        "                out = self.lm.generate(**ids, max_new_tokens=self.max_new_tokens, do_sample=False, temperature=0.0)\n",
        "        raw = self.tok.decode(out[0], skip_special_tokens=True)\n",
        "        return self._shorten(raw, max_words=5)\n",
        "\n",
        "# Monkey-patch for this session:\n",
        "rag.Reader = PatchedReader\n",
        "print(\"✔ Patched rag.Reader (short-span, deterministic).\")\n"
      ]
    },
    {
      "cell_type": "code",
      "execution_count": 9,
      "metadata": {
        "id": "BYciWLYLSwDt"
      },
      "outputs": [],
      "source": [
        "def nb_index(\n",
        "    chunks=\"data/corpus/chunks.clean.jsonl\",\n",
        "    embedder=\"sentence-transformers/all-MiniLM-L6-v2\",\n",
        "    outdir=\"index\",\n",
        "    batch=256,\n",
        "):\n",
        "    args = SimpleNamespace(chunks=str(root/chunks), embedder=embedder, outdir=str(root/outdir), batch=batch)\n",
        "    rag.cmd_index(args)\n",
        "    return {\"indexdir\": args.outdir}\n",
        "\n",
        "def nb_answer(\n",
        "    questions=\"data/test/questions.txt\",\n",
        "    indexdir=\"index\",\n",
        "    reader=\"google/flan-t5-base\",     # override TinyLlama\n",
        "    k=5,\n",
        "    mode=\"hybrid\",\n",
        "    fusion=\"rrf\",                     # more robust than weighted\n",
        "    alpha=0.3,\n",
        "    pool=40,\n",
        "    rrfK=60,\n",
        "    max_new_tokens=16,\n",
        "    temp=0.0,\n",
        "    system_out=\"data/test/system_output_test.json\",\n",
        "    include_sources=False,\n",
        "):\n",
        "    args = SimpleNamespace(\n",
        "        questions=str(root/questions),\n",
        "        indexdir=str(root/indexdir),\n",
        "        reader=reader,\n",
        "        k=k, mode=mode, fusion=fusion, alpha=alpha, pool=pool, rrfK=rrfK,\n",
        "        max_new_tokens=max_new_tokens, temp=temp,\n",
        "        system_out=str(root/system_out),\n",
        "        include_sources=include_sources,\n",
        "    )\n",
        "    rag.cmd_answer(args)\n",
        "    return json.loads(Path(args.system_out).read_text(encoding=\"utf-8\"))"
      ]
    },
    {
      "cell_type": "markdown",
      "metadata": {
        "id": "PrgTErcEUVVK"
      },
      "source": [
        "test set"
      ]
    },
    {
      "cell_type": "code",
      "execution_count": null,
      "metadata": {
        "colab": {
          "base_uri": "https://localhost:8080/",
          "height": 1000,
          "referenced_widgets": [
            "f73378ce33ce49759427e8e47c54ecce",
            "60d2ef1123084520b2344bee0c5045f6",
            "7b1bbc9446994d48a7cc457abc36960f",
            "8739c1f0c22347c8b4777952d1c7d249",
            "7cc0ce7dc34742159e22c2e60dba7a89",
            "c55e6975a8e6465089feebc4826d2f5a",
            "af6917cfdea74207a03638147469b918",
            "6dd0a70304414d93a24a950cbaa6b5c1",
            "06005a7b6a614174857909c1d5efffc7",
            "3dfd82c726524ddb87b2e4f071ce45b5",
            "8465c699c3b447699c5eb67b7fdc95ce",
            "30deaa28a3d14bb885b1559968d81e4f",
            "84bdd8e2684047608277e59ef1e53f08",
            "4479972678344badb3af55b2c4da0e2f",
            "fb52983ea2754f978225be48909a08e1",
            "e5bf95ee01654549924bd323c30f482b",
            "4b38d31ae87144a89db3b3bd73094c99",
            "962485678c934f909d9b37862a03ee80",
            "939b0755f1044347b7719bec39421d64",
            "4db6e338a7de41c480de953aa4c7e155",
            "eda26346a0f147628263c7eb6f5af29b",
            "cb5a947989594bfeb7c0225ebd739078",
            "bbf3576d737742bc8991400bdf51ef17",
            "9765c195fe424a308bcb3e49592964b1",
            "874d4e86a82b43298ec99e4bb1b67c8b",
            "2ad72911a5784415bc707de099b9348d",
            "2acac88d9b7a47358f46960f37d5d2eb",
            "8310c6e7ab3b4df3b315289ea538b0cd",
            "80cf2179717746b09b72ae14827b1582",
            "6687510a696a4d79b2c3eefae6be23f7",
            "94779fbf4b98446186948dc7c46a8042",
            "a1d2f05aa0314725abce3d71d6260255",
            "6b68fcb5bbaf4c6ca34553ffeac8cf3e",
            "bbcafdf202bb4c27939f88c1ab242d85",
            "3173617e3eb84b099c20bf97d1c34941",
            "f2f72a40464e4504a3e96cab8481aa35",
            "ca75b3fa83d04e768cf1825d247f958b",
            "81225845c2524796af71ec5ce26857d7",
            "04ecbd5a1f9445aea41bbc409eb32379",
            "cf4c79ccbde942559aa12d8cbc0d1998",
            "65ac5afc621e4743a733e3fd8be17dcf",
            "61e7b293947241c7979bdc025debdaf8",
            "7319a7ef7fd24e1ca41401782a225766",
            "121655b9b7804d64b3a618941d11a668",
            "0837ebbaf7954b63b2318070f8da557b",
            "8947a5ec91514ac2b67cfabb9ec82c1b",
            "8bb3fa205f52427c921b0096d9be5cad",
            "ed2933195c7f4336a2692440bcbb5038",
            "4064da1bd9934cb3ac6851a4e9020cce",
            "d3515521b7614749b78ad70c0fba8463",
            "59023d10e4384146a26b387e3036a690",
            "e4c982978dd341d78348462706437357",
            "e93bf98f4a1a460e89457b28c59d8922",
            "e503c7779582450088272064c16e7076",
            "620a63e50b09428982223c26314d040b",
            "19c18f658c2d4d89afc9ea9e89d2cc93",
            "232bd20e278b4de49c2103d1d223a873",
            "f29da959484844bc9d6dcb761afdf27a",
            "f0276dc2fd504893bcc00ba4f4f2fb39",
            "ce29e018bb884d3fa4ac33025ee5e56b",
            "278a5d6a42cd4ddc8d559076bd37a779",
            "05cb2e277ebb411bb16117cb18423302",
            "b41873cfc6c045e994c7da1777401be9",
            "8acbf3003fe3407c8007128876733a67",
            "81340af3334547d6a2bc1e1149639c94",
            "99f2af1a9ab54e1487373c07c461ba3c",
            "181ccd2342e44029a164c8e299599248",
            "bb6d4b345386427795e8120bf9a3208f",
            "84962797fbbc46cdbff8d495f69b1233",
            "068a2e565da14fd98d3d8234f8a838e1",
            "e3272793f0c442afa7159d520bc46a28",
            "787747bddfce4e7abc6dff60d7538162",
            "11f6897129b74c509b6000528b73d40d",
            "579100a0cd8840b79845fabedef60eaf",
            "9e1ef541e56347d29abc5ff3130b514d",
            "b230b01ebaec4292b7b5e600d40762b2",
            "71170f055fa6474ca8db5177c6bacd71",
            "16dbb3dcab6c4e8e98f791d81b523888",
            "56b5990c03f5456f9719fed1218a1da8",
            "cf286c1602bd4245a1cb5693fc5c8093",
            "14ed3f089e3244e78de05b780fe14fce",
            "424ce06fcb1b4327a76c2346052981e8",
            "a7f6863bf3284d2a934dfd3bfd35675e",
            "3dd62f79240b42db8a2c1a87b434d0f7",
            "c9476a0e97a54f4dba2b88d1ee6c1599",
            "7fe448991dd344c186d62806236f4e2f",
            "2ad325374631403aba9334d9a0c03e2c",
            "08bc769705cb4a6c94f0b88cf70b8d3d",
            "91bf69c77bc242f4827d3f4f159dcb37",
            "8bb93eb9e73d464d922c925423425dce",
            "e508f9ccec7f41b695549a9cd117e21d",
            "75b436c206554976a9ddb00b5cf9acab",
            "f4c932aac1dd4b60b4c9ca7d93023af7",
            "9441dd635e4a4cbaaadd9bbe50294485",
            "cdbfbd520c1245ffb599b23ba4a1b39d",
            "41d6341cd7814b21a655c9108d3c3fc2",
            "0d34fd28d92744ed814fa6b7b8860452",
            "3b442da9b0fe426b96fd90bf40f89c2c",
            "e49f923d0ab84154b6b92c3e032a3722",
            "4bbfc200de60491b9c8def5e92af64cd",
            "6da399c48b6f4a7789a83ca1f629f8c7",
            "f1a955f3d96040c584246eef27f58c97",
            "57d764d43bb049f39711d268a000e8ba",
            "fd9d9003d8774acb8af10b7521808517",
            "2fb4092ad2f341d5a0e377cb298c2c57",
            "2f1825da191d4350a39fefc0effcedc0",
            "16d3216fdfe746f7a1675d0828c2353d",
            "bb436847f3a342d1bdd877a2d0af4e51",
            "8ce5e0efa2f341b6885772b7745a5f7c",
            "0840cd9c74ac4eba9e0ae6ecf13800ba",
            "0cf63b1f53834782aff820ed0d5bb4fe",
            "33e845dde37547e3914175483ddfa201",
            "5995e57b254e4f88879e6d7f6cf75863",
            "a7541caf08d541f1b76e30b049c87cb8",
            "55a266e84ebe4d39b467999d9d0e191b",
            "74b093607a7640bab5ec623082ee1d5d",
            "40d901ae974f4c36b6bd0c8ebe612601",
            "c0549f365ab54bc3b484142a11984437",
            "97e76bd760454daa91d7160e5ada153a",
            "4c8ad9c89ec54ad39a9486e4b092ef4c",
            "f03dcb782cfa41d691db6e265af7982c",
            "ba5f7a0638b9471194a5665602c7949a",
            "410af1d25cf34d0985a89b7f2bee17e1",
            "a1c65d743e4a42699010c7438b4bb5c6",
            "963de9c1050746dd971200305dc2d615",
            "103f8c70f8d246d4b3b9509d83817a0f",
            "0466f0a751d64634b917b4419006db65",
            "10689611e3dd47eaae7f9d5dbba859b8",
            "a452517413ab4837a15fd0878b6eaa91",
            "187ea1c43ef242289bbcb2c1a40014fb",
            "f1c2c7e6c8b547aa939c8f9f3f0c9568",
            "73c3f74cd556433290e8a8877f2937e2",
            "d53bab4e249343969c0b4b1b85e207a8",
            "de1cd6208bd7426a80b85d91c0de353a",
            "7e8d7ef37d45457f9c6354b1c609ce4e",
            "fb097c07d48646cdb9918d5a97c95e61",
            "c6bf9f11ccc94e71b67d74034af1c685",
            "a967c90cb0094960b963faca9d41e72a",
            "e3b010dd43d6443fb628713a92070da1",
            "24eae5671a284479aaef233b3bdba293",
            "60f38db45b3f48bab8148fb5b54571d5",
            "eb7a719f03214229910d4527dd4ec0db",
            "a709e26e7c0e43d4907631617292cd3e",
            "c7beb9be26b3424290ac6b440e3981a3",
            "2563636448364378b1a58a4f99dbddb0",
            "479899f6df8c4c448c3723e65c730377",
            "f5b44ba59a084b2dad9c59dcb03b84fc",
            "ce9c40b28e814971ae8915745cf51339",
            "eb54c8df9290490cae904dd4574c9622",
            "34772812fedf4c22934835194f7ce8a0",
            "1efb141b312c40dba63912d723b67f64",
            "5796ce0428654b018bb81e42751d1859",
            "eaebde64f6a94ee8ae0a10d0f84620da",
            "a8b32a0ee84b45d9910f88651a0435ed",
            "99e510f250cd4dc99757308ff4c37797",
            "07c1469557f14a92b4bf36f913e7c384",
            "308896670f014bdb8fc2c71fab0957d3",
            "3e57cac9ba0b447eac56d54a965191fc",
            "f5eeaf6b133c424284492520fe243fd6",
            "4b74fa6f2c434136bcdef66c25f33405",
            "6ccf1e58c72f4c7a85337b58f6fb00f5",
            "6559435eb0a743158204cb137a43a2d1",
            "9365a2ca0b7d4479a6feb5fb06dc9bb3",
            "0f9fb69e954e4b748a5292d768a8b8d8",
            "1b5eb765e7e243cdb6f6ec4ba308b363",
            "586af5c58bd942478e649d6e8658d6cd",
            "ff85256eedf3457fa8c9b90ba1d31946",
            "59361372440346bd95d50c62f1af85dc",
            "471de197d0e04d42a3db5f6633d0718b",
            "d0bc0dbdf30c4bcc9ecb09399adf56ef",
            "5e982b21a8b34000888682cda1259b16",
            "aefcaf2b972c47029be071a0b3992ea7",
            "75f29d7e4de348a0ad20b8a793ca9389",
            "f3e88432406241e289f36b28810c335d",
            "080f78f446d64769bf676560fce36ad2",
            "e758ed15a7c246db9619750429dc6012",
            "be1676299faa4f5bbfe8544aa70e8d4c",
            "e13035ad801b4d05b25a0e4372adc7db",
            "b2583a31ece3468c9cd5b863383d9240",
            "de9eb131ff074612a85efc6c310695bd",
            "6592504ba65c4af98545646d59dd9cdf",
            "15b458c8b9f84769ac4262ae8ea26875",
            "aeb906745a394d29b5bf1c894a247e36",
            "84ffb0539ee94104b754815b9caebe87",
            "059ead11de8b4c33a3b21745f0c3dc4b",
            "43c6c3e98cf6499d9c1bc8807ff18e3a",
            "fe426c74687144a2af5738f0a34442a9",
            "28815b608d2d43c39f183870775ec96a",
            "2dc7afc3e1094d308e0973a82c9cd030",
            "b31380d5ad3a4b639b849c3f795397e0",
            "bfb2a64e8ab3482db003a43e94d8f62f",
            "d78101abfce143918fee8fea7137f00e",
            "af449b969ceb4bb1822a365a2085203a",
            "900690eaa7a2412c80f35aa80e9f4265",
            "67737e87ca2e44e1b4d8020f291b229c",
            "fbb55e79bb4c45dda21dd751d4144f45",
            "22d7520b3a9e4a3e8afaeb8b7cca7c9f",
            "01905d8806754e6f953a5094dd9c7781",
            "a8b0db36c6b34c3b9704efa5064a56af",
            "ae57de3415fa4f4aa7dacd7170daafed",
            "2966c74e68ec4db28a5e3a9104051d32",
            "8d698816bb204f398c8f98629d0e73e7",
            "b8b1d96870fa49018c98ff4cd402f872",
            "ee7cab43e02f41c18f911939b7bd9c27",
            "be20bfde0f9542868e921ed368f2c28b",
            "7825d92d937e4b458fc92ce50c276af2",
            "546b27f78ed44dce9feb8298a23fee60",
            "f9406b7919ee4a18a850431633aca080",
            "805c5844915f4a7ab61ce3563bd4ab86"
          ]
        },
        "id": "_J2Onv0NUbkD",
        "outputId": "1dc91b91-f673-463e-918a-4fed363f6f97"
      },
      "outputs": [],
      "source": [
        "root = Path(\"/content/drive/MyDrive/rag-pgh\")\n",
        "\n",
        "# 1) Build / refresh indexes\n",
        "_ = nb_index(\n",
        "    chunks=\"data/corpus/chunks.clean.jsonl\",\n",
        "    embedder=\"sentence-transformers/all-MiniLM-L6-v2\",\n",
        "    outdir=\"index\",\n",
        ")\n",
        "\n",
        "# 2) Generate answers\n",
        "# HYBRID (RRF)\n",
        "_ = nb_answer(\n",
        "    questions=\"data/test/questions.txt\",\n",
        "    indexdir=\"index\",\n",
        "    reader=\"google/flan-t5-base\",\n",
        "    mode=\"hybrid\",\n",
        "    fusion=\"rrf\",\n",
        "    k=5, pool=40,\n",
        "    max_new_tokens=16, temp=0.0,\n",
        "    system_out=\"data/test/system_output_test.json\",  # main hybrid file\n",
        "    include_sources=False,\n",
        ")\n",
        "\n",
        "# SPARSE (BM25)\n",
        "_ = nb_answer(\n",
        "    questions=\"data/test/questions.txt\",\n",
        "    indexdir=\"index\",\n",
        "    reader=\"google/flan-t5-base\",\n",
        "    mode=\"sparse\",\n",
        "    fusion=\"rrf\",\n",
        "    k=5, pool=40,\n",
        "    max_new_tokens=16, temp=0.0,\n",
        "    system_out=\"data/test/system_output_sparse.json\",\n",
        "    include_sources=False,\n",
        ")\n",
        "\n",
        "# DENSE (FAISS)\n",
        "_ = nb_answer(\n",
        "    questions=\"data/test/questions.txt\",\n",
        "    indexdir=\"index\",\n",
        "    reader=\"google/flan-t5-base\",\n",
        "    mode=\"dense\",\n",
        "    fusion=\"rrf\",\n",
        "    k=5, pool=40,\n",
        "    max_new_tokens=16, temp=0.0,\n",
        "    system_out=\"data/test/system_output_dense.json\",\n",
        "    include_sources=False,\n",
        ")\n",
        "\n",
        "print(\"Wrote:\")\n",
        "print(\"- data/test/system_output_test.json     (hybrid)\")\n",
        "print(\"- data/test/system_output_sparse.json   (sparse)\")\n",
        "print(\"- data/test/system_output_dense.json    (dense)\")"
      ]
    },
    {
      "cell_type": "code",
      "execution_count": 23,
      "metadata": {
        "colab": {
          "base_uri": "https://localhost:8080/"
        },
        "id": "VtQ0PyyoVbvt",
        "outputId": "15e46fb8-e562-40db-c34c-80a556ab49cc"
      },
      "outputs": [
        {
          "name": "stdout",
          "output_type": "stream",
          "text": [
            "  1. Q: 1. When was Carnegie Mellon University founded?\n",
            "     A: spring of 2006\n",
            "     G: 1900\n",
            "\n",
            "  2. Q: 2. Who founded Carnegie Mellon University?\n",
            "     A: the world’s first machine learning\n",
            "     G: Andrew Carnegie\n",
            "\n",
            "  3. Q: 3. What was the original name of Carnegie Mellon University?\n",
            "     A: unknown\n",
            "     G: Carnegie Technical Schools\n",
            "\n",
            "  4. Q: 4. What academic fields is Carnegie Mellon University best known for?\n",
            "     A: artificial intelligence, cybersecurity, information systems,\n",
            "     G: computer science; robotics; artificial intelligence; engineering\n",
            "\n",
            "  5. Q: 5. What are the major colleges or schools within Carnegie Mellon University?\n",
            "     A: Carnegie Mellon University is tied\n",
            "     G: College of Engineering; School of Computer Science; Dietrich College of Humanities and Social Sciences; Tepper School of Business; Heinz College; Mellon College of Science; School of Architecture\n",
            "\n",
            "  6. Q: 6. Where is Carnegie Mellon University located?\n",
            "     A: United States\n",
            "     G: Pittsburgh, Pennsylvania\n",
            "\n",
            "  7. Q: 7. What is the official mascot of Carnegie Mellon University?\n",
            "     A: Carnegie Mellon\n",
            "     G: Scottish Terrier\n",
            "\n",
            "  8. Q: 8. What are the official colors of Carnegie Mellon University?\n",
            "     A: unknown\n",
            "     G: Cardinal red; Gray\n",
            "\n",
            "  9. Q: 9. How many students attend Carnegie Mellon University as of 2024?\n",
            "     A: unknown\n",
            "     G: 15000\n",
            "\n",
            " 10. Q: 10. What is Carnegie Mellon University’s undergraduate acceptance rate in 2024?\n",
            "     A: unknown\n",
            "     G: 15-20%\n",
            "\n",
            " 11. Q: 11. What was the population of Pittsburgh in the 2020 census?\n",
            "     A: unknown\n",
            "     G: 302,971 (2020 census)\n",
            "\n",
            " 12. Q: 12. What nickname is Pittsburgh commonly known by?\n",
            "     A: b!tch\n",
            "     G: Steel City; City of Bridges\n",
            "\n",
            " 13. Q: 13. Which three rivers meet in Pittsburgh?\n",
            "     A: Fort Pitt and Fort Duquesne\n",
            "     G: Allegheny River; Monongahela River; Ohio River\n",
            "\n",
            " 14. Q: 14. When was the city of Pittsburgh founded?\n",
            "     A: unknown\n",
            "     G: 1758\n",
            "\n",
            " 15. Q: 15. What nickname refers to Pittsburgh’s steel heritage?\n",
            "     A: Steel City\n",
            "     G: Steel City\n",
            "\n",
            " 16. Q: 16. What is the largest city in Pennsylvania?\n",
            "     A: Philadelphia\n",
            "     G: Philadelphia\n",
            "\n",
            " 17. Q: 17. Which city is home to Carnegie Mellon University?\n",
            "     A: unknown\n",
            "     G: Pittsburgh\n",
            "\n",
            " 18. Q: 18. What is the elevation of Pittsburgh above sea level?\n",
            "     A: unknown\n",
            "     G: 1300 feet\n",
            "\n",
            " 19. Q: 19. What is the total area of Pittsburgh in square miles?\n",
            "     A: 18\n",
            "     G: 58.3 square miles\n",
            "\n",
            " 20. Q: 20. In which county is Pittsburgh located?\n",
            "     A: Allegheny County\n",
            "     G: Allegheny County\n",
            "\n",
            " 21. Q: 21. Which neighborhood of Pittsburgh contains most major universities?\n",
            "     A: unanswerable\n",
            "     G: Oakland\n",
            "\n",
            " 22. Q: 22. Which park is adjacent to Carnegie Mellon University’s campus?\n",
            "     A: unanswerable\n",
            "     G: Schenley Park\n",
            "\n",
            " 23. Q: 23. Which area in Pittsburgh is known for sports stadiums and the Science Center?\n",
            "     A: downtown\n",
            "     G: North Shore\n",
            "\n",
            " 24. Q: 24. What is the current name of the Pittsburgh Steelers’ home stadium?\n",
            "     A: Acrisure Stadium\n",
            "     G: Acrisure Stadium; Heinz Field\n",
            "\n",
            " 25. Q: 25. Where do the Pittsburgh Pirates play their home games?\n",
            "     A: Pittsburgh, PA\n",
            "     G: PNC Park\n",
            "\n",
            " 26. Q: 26. What is the home arena of the Pittsburgh Penguins?\n",
            "     A: PPG Paints Arena\n",
            "     G: PPG Paints Arena\n",
            "\n",
            " 27. Q: 27. How many Super Bowl titles have the Pittsburgh Steelers won?\n",
            "     A: six\n",
            "     G: 6\n",
            "\n",
            " 28. Q: 28. How many Stanley Cups have the Pittsburgh Penguins won?\n",
            "     A: unknown\n",
            "     G: 5\n",
            "\n",
            " 29. Q: 29. How many World Series championships have the Pittsburgh Pirates won?\n",
            "     A: unknown\n",
            "     G: 5\n",
            "\n",
            " 30. Q: 30. In what year did the Pittsburgh Steelers win their most recent Super Bowl?\n",
            "     A: unknown\n",
            "     G: 2009\n",
            "\n",
            " 31. Q: 31. What is the name of Pittsburgh’s annual pickle festival?\n",
            "     A: Picklesburgh\n",
            "     G: Picklesburgh\n",
            "\n",
            " 32. Q: 32. What is the name of Pittsburgh’s semiannual restaurant celebration?\n",
            "     A: One Bite One Day\n",
            "     G: Pittsburgh Restaurant Week\n",
            "\n",
            " 33. Q: 33. Which annual event celebrates Italian heritage in Pittsburgh?\n",
            "     A: unanswerable\n",
            "     G: Little Italy Days\n",
            "\n",
            " 34. Q: 34. What is the name of Pittsburgh’s taco-themed festival?\n",
            "     A: Dia de los Muertos Halloween\n",
            "     G: Pittsburgh Taco Fest\n",
            "\n",
            " 35. Q: 35. Which festival celebrates the banana split dessert in Pittsburgh?\n",
            "     A: unanswerable\n",
            "     G: Banana Split Fest\n",
            "\n",
            " 36. Q: 36. Name a major museum in Pittsburgh.\n",
            "     A: Carnegie Museum of Natural History\n",
            "     G: Carnegie Museums; Andy Warhol Museum; The Frick Pittsburgh; Heinz History Center\n",
            "\n",
            " 37. Q: 37. Which museum in Pittsburgh focuses on natural history?\n",
            "     A: Carnegie Museum of Natural History\n",
            "     G: Carnegie Museum of Natural History\n",
            "\n",
            " 38. Q: 38. Which museum in Pittsburgh honors pop artist Andy Warhol?\n",
            "     A: The Andy Warhol Museum\n",
            "     G: Andy Warhol Museum\n",
            "\n",
            " 39. Q: 39. Which art museum is located in The Frick Pittsburgh?\n",
            "     A: The Frick Art Museum\n",
            "     G: Frick Art Museum\n",
            "\n",
            " 40. Q: 40. Which museum in Pittsburgh highlights local history?\n",
            "     A: Carnegie Museum of Natural History\n",
            "     G: Heinz History Center\n",
            "\n",
            " 41. Q: 41. What sandwich is closely associated with Pittsburgh’s food culture?\n",
            "     A: Oktoberfest\n",
            "     G: Carnegie Museum of Art\n",
            "\n",
            " 42. Q: 42. Which museum of art is part of the Carnegie Museums of Pittsburgh?\n",
            "     A: Carnegie Museum of Art\n",
            "     G: Carnegie Museum of Natural History\n",
            "\n",
            " 43. Q: 43. Which museum of natural history is located in Oakland?\n",
            "     A: Carnegie Museum of Natural History\n",
            "     G: The Frick Pittsburgh\n",
            "\n",
            " 44. Q: 44. What is the name of the 42-story gothic tower on the University of Pittsburgh campus?\n",
            "     A: Duquesne University\n",
            "     G: Cathedral of Learning\n",
            "\n",
            " 45. Q: 45. What park is located at the meeting point of Pittsburgh’s three rivers?\n",
            "     A: PNC Park\n",
            "     G: Point State Park\n",
            "\n",
            " 46. Q: 46. What hill provides panoramic views of downtown Pittsburgh?\n",
            "     A: Mt. Washington\n",
            "     G: Mount Washington\n",
            "\n",
            " 47. Q: 47. Which neighborhood is famous for food markets and old warehouses?\n",
            "     A: The Strip District\n",
            "     G: Strip District\n",
            "\n",
            " 48. Q: 48. Which neighborhood is known for art galleries and breweries?\n",
            "     A: The Cultural District\n",
            "     G: Lawrenceville\n",
            "\n",
            " 49. Q: 49. Which Pittsburgh neighborhood is known for upscale shopping?\n",
            "     A: The Strip District\n",
            "     G: Shadyside\n",
            "\n",
            " 50. Q: 50. Which neighborhood is home to a large Jewish community in Pittsburgh?\n",
            "     A: Beechview\n",
            "     G: Squirrel Hill\n",
            "\n",
            " 51. Q: 51. Which neighborhood in Pittsburgh is called “Little Italy”?\n",
            "     A: unanswerable\n",
            "     G: Bloomfield\n",
            "\n",
            " 52. Q: 52. Which incline in Pittsburgh runs along West Carson Street?\n",
            "     A: Duquesne Incline\n",
            "     G: Duquesne Incline\n",
            "\n",
            " 53. Q: 53. Which incline runs from Station Square to Mount Washington?\n",
            "     A: Duquesne\n",
            "     G: Monongahela Incline\n",
            "\n",
            " 54. Q: 54. Which museum is located inside Point State Park?\n",
            "     A: unanswerable\n",
            "     G: Fort Pitt Museum\n",
            "\n",
            " 55. Q: 55. What botanical garden is located in Schenley Park?\n",
            "     A: Beechview Community Garden\n",
            "     G: Phipps Conservatory and Botanical Gardens\n",
            "\n",
            " 56. Q: 56. What museum combines science exhibits with a planetarium and submarine?\n",
            "     A: Carnegie Museum of Natural History\n",
            "     G: Carnegie Science Center\n",
            "\n",
            " 57. Q: 57. Which bird-focused attraction is located on Pittsburgh’s North Side?\n",
            "     A: Park Rangers\n",
            "     G: National Aviary\n",
            "\n",
            " 58. Q: 58. Which large urban park is near Carnegie Mellon University?\n",
            "     A: Rangos Auditorium\n",
            "     G: Schenley Park\n",
            "\n",
            " 59. Q: 59. Which CMU professor is known for the “Last Lecture”?\n",
            "     A: Russell Schwartz\n",
            "     G: Randy Pausch\n",
            "\n",
            " 60. Q: 60. Which CMU building houses engineering and computer science departments?\n",
            "     A: Mellon College of Science\n",
            "     G: Wean Hall\n",
            "\n",
            " 61. Q: 61. What CMU building houses the College of Fine Arts?\n",
            "     A: Carnegie Mellon\n",
            "     G: College of Fine Arts\n",
            "\n",
            " 62. Q: 62. Which CMU hall was built for women students in the early 1900s?\n",
            "     A: unknown\n",
            "     G: Margaret Morrison Carnegie Hall\n",
            "\n",
            " 63. Q: 63. What landmark building connects CMU and the University of Pittsburgh?\n",
            "     A: Carnegie Mellon University\n",
            "     G: Mellon Institute\n",
            "\n",
            " 64. Q: 64. What CMU building is home to computer science research?\n",
            "     A: Robotics Innovation Center\n",
            "     G: Gates Center for Computer Science\n",
            "\n",
            " 65. Q: 65. Where is CMU’s branch campus located in the Middle East?\n",
            "     A: unknown\n",
            "     G: Qatar Campus\n",
            "\n",
            " 66. Q: 66. Which CMU center focuses on interactive entertainment design?\n",
            "     A: unanswerable\n",
            "     G: Entertainment Technology Center\n",
            "\n",
            " 67. Q: 67. Which CMU school focuses on business and management?\n",
            "     A: Tepper School of Business\n",
            "     G: Tepper School of Business\n",
            "\n",
            " 68. Q: 68. Which CMU college specializes in information systems and public policy?\n",
            "     A: Heinz College\n",
            "     G: Heinz College\n",
            "\n",
            " 69. Q: 69. What federally funded institute at CMU develops software engineering methods?\n",
            "     A: Software Engineering Institute\n",
            "     G: Software Engineering Institute\n",
            "\n",
            " 70. Q: 70. What CMU department is famous for robotics research?\n",
            "     A: School of Computer Science\n",
            "     G: Robotics Institute\n",
            "\n",
            " 71. Q: 71. Which CMU institute studies human-computer interaction?\n",
            "     A: Human-Computer Interaction Institute\n",
            "     G: Human-Computer Interaction Institute\n",
            "\n",
            " 72. Q: 72. Which CMU institute specializes in natural language and speech technologies?\n",
            "     A: Language Technologies Institute\n",
            "     G: Language Technologies Institute\n",
            "\n",
            " 73. Q: 73. Which CMU department focuses on machine learning?\n",
            "     A: the Machine Learning Department\n",
            "     G: Machine Learning Department\n",
            "\n",
            " 74. Q: 74. Which CMU school is known for its drama program?\n",
            "     A: Dietrich College of Humanities and\n",
            "     G: School of Drama\n",
            "\n",
            " 75. Q: 75. Which CMU school trains musicians and composers?\n",
            "     A: School of Music\n",
            "     G: School of Music\n",
            "\n",
            " 76. Q: 76. Which CMU school teaches architecture and design of buildings?\n",
            "     A: School of Computer Science\n",
            "     G: School of Architecture\n",
            "\n",
            " 77. Q: 77. Which CMU school offers degrees in design?\n",
            "     A: Mellon College of Science\n",
            "     G: School of Design\n",
            "\n",
            " 78. Q: 78. Which CMU school offers programs in art and studio practice?\n",
            "     A: College of Fine Arts\n",
            "     G: School of Art\n",
            "\n",
            " 79. Q: 79. What is the name of CMU’s marching band?\n",
            "     A: Kiltie\n",
            "     G: Kiltie Band\n",
            "\n",
            " 80. Q: 80. What patterned fabric represents CMU’s Scottish heritage?\n",
            "     A: unknown\n",
            "     G: Tartan\n",
            "\n",
            " 81. Q: 81. What CMU landmark fence is repainted by student organizations?\n",
            "     A: the Coulter Welcome Center\n",
            "     G: The Fence\n",
            "\n",
            " 82. Q: 82. What is the name of CMU’s Scottie dog mascot?\n",
            "     A: Zane\n",
            "     G: Scotty\n",
            "\n",
            " 83. Q: 83. What is the nickname for Pittsburgh’s light rail system?\n",
            "     A: Getting Around\n",
            "     G: Pittsburgh Light Rail (T)\n",
            "\n",
            " 84. Q: 84. What is the name of Pittsburgh’s public transit agency?\n",
            "     A: DLC\n",
            "     G: Port Authority of Allegheny County\n",
            "\n",
            " 85. Q: 85. What is the main airport serving Pittsburgh?\n",
            "     A: Pittsburgh International Airport\n",
            "     G: Pittsburgh International Airport\n",
            "\n",
            " 86. Q: 86. What are the names of the three rivers in Pittsburgh?\n",
            "     A: unknown\n",
            "     G: Allegheny River; Monongahela River; Ohio River\n",
            "\n",
            " 87. Q: 87. Which bridge connects Point State Park to downtown Pittsburgh?\n",
            "     A: Fort Pitt Bridge\n",
            "     G: Fort Pitt Bridge\n",
            "\n",
            " 88. Q: 88. What is the downtown subway section of Pittsburgh’s light rail called?\n",
            "     A: First Side\n",
            "     G: Downtown subway section of the T\n",
            "\n",
            " 89. Q: 89. Does Pittsburgh have a city monorail system?\n",
            "     A: unknown\n",
            "     G: N/A\n",
            "\n",
            " 90. Q: 90. Does Pittsburgh have a cable car transit system?\n",
            "     A: unanswerable\n",
            "     G: N/A\n",
            "\n",
            " 91. Q: 91. What is the main public library system in Pittsburgh?\n",
            "     A: Carnegie Library Trust\n",
            "     G: Carnegie Library of Pittsburgh\n",
            "\n",
            " 92. Q: 92. Which concert hall is home to the Pittsburgh Symphony Orchestra?\n",
            "     A: Heinz Hall\n",
            "     G: Heinz Hall\n",
            "\n",
            " 93. Q: 93. What theater hosts many Broadway shows in Pittsburgh?\n",
            "     A: Benedum Center\n",
            "     G: Benedum Center\n",
            "\n",
            " 94. Q: 94. Which downtown theater is operated by the Pittsburgh Cultural Trust?\n",
            "     A: unknown\n",
            "     G: Byham Theater\n",
            "\n",
            " 95. Q: 95. Which theater is home to the Pittsburgh Public Theater?\n",
            "     A: Art Cinema\n",
            "     G: O'Reilly Theater\n",
            "\n",
            " 96. Q: 96. What cultural center celebrates African American arts in Pittsburgh?\n",
            "     A: August Wilson African American Cultural\n",
            "     G: August Wilson African American Cultural Center\n",
            "\n",
            " 97. Q: 97. What large lawn lies outside Acrisure Stadium?\n",
            "     A: 100 Art Rooney Ave\n",
            "     G: Heinz Field Great Lawn\n",
            "\n",
            " 98. Q: 98. What landmark fountain sits at the tip of Point State Park?\n",
            "     A: Monongahela Rivers\n",
            "     G: Point State Park Fountain\n",
            "\n",
            " 99. Q: 99. What open plaza is located near the University of Pittsburgh?\n",
            "     A: Legacy Plaza\n",
            "     G: Schenley Plaza\n",
            "\n",
            "100. Q: 100. What downtown area features restaurants and open-air seating?\n",
            "     A: The Pennsylvanian\n",
            "     G: Market Square\n",
            "\n",
            "101. Q: 101. Which neighborhood is known for its public markets and nightlife?\n",
            "     A: Pittsburgh Restaurants\n",
            "     G: Strip District\n",
            "\n",
            "102. Q: 102. Which observatory in Pittsburgh is affiliated with the University of Pittsburgh?\n",
            "     A: Franklin Furnace Archive\n",
            "     G: Allegheny Observatory\n",
            "\n",
            "103. Q: 103. What museum honors military service members in Pittsburgh?\n",
            "     A: Carnegie Museum of Natural History\n",
            "     G: Soldiers & Sailors Memorial Hall and Museum\n",
            "\n",
            "104. Q: 104. What is the name of CMU’s athletic teams?\n",
            "     A: Tartan Men’s and Women’s Swim\n",
            "     G: Carnegie Mellon Tartans\n",
            "\n",
            "105. Q: 105. What is the tallest building in Pittsburgh?\n",
            "     A: unanswerable\n",
            "     G: U.S. Steel Tower\n",
            "\n",
            "106. Q: 106. Which amusement park is located near Pittsburgh?\n",
            "     A: Frick Park\n",
            "     G: Kennywood\n",
            "\n",
            "107. Q: 107. What is the name of Pittsburgh’s waterpark?\n",
            "     A: Gateway Clipper\n",
            "     G: Sandcastle Waterpark\n",
            "\n",
            "108. Q: 108. Which zoo and aquarium are located in Highland Park?\n",
            "     A: Bandi Schaum\n",
            "     G: Pittsburgh Zoo & Aquarium\n",
            "\n",
            "109. Q: 109. What organization oversees the Carnegie Museums?\n",
            "     A: Carnegie Museums of Pittsburgh\n",
            "     G: Carnegie Museums of Pittsburgh\n",
            "\n",
            "110. Q: 110. Which large park lies east of Squirrel Hill?\n",
            "     A: Swisshelm Park\n",
            "     G: Frick Park\n",
            "\n",
            "111. Q: 111. Who is the mayor of Pittsburgh as of January 2025?\n",
            "     A: Gainey\n",
            "     G: Riverview Park\n",
            "\n",
            "112. Q: 112. Which park in Pittsburgh is known for its hilltop observatory?\n",
            "     A: Allegheny Observatory\n",
            "     G: Mellon Park\n",
            "\n",
            "113. Q: 113. Which park contains formal gardens and a historic wall?\n",
            "     A: unanswerable\n",
            "     G: Highland Park\n",
            "\n",
            "114. Q: 114. Which park features a large fountain and sports fields in the East End?\n",
            "     A: Liberty Green Park\n",
            "     G: The Waterfront\n",
            "\n",
            "115. Q: 115. What park in Pittsburgh contains a large public swimming pool?\n",
            "     A: unanswerable\n",
            "     G: SouthSide Works\n",
            "\n",
            "116. Q: 116. What riverfront shopping and entertainment area is located on the South Side?\n",
            "     A: Lawrenceville\n",
            "     G: Station Square\n",
            "\n",
            "117. Q: 117. What glass complex features an annual ice rink downtown?\n",
            "     A: Schenley Park\n",
            "     G: PPG Place\n",
            "\n",
            "118. Q: 118. What downtown area is known for outdoor dining and public events?\n",
            "     A: Pittsburgh, PA\n",
            "     G: Market Square\n",
            "\n",
            "119. Q: 119. What large convention venue sits along the Allegheny River?\n",
            "     A: Acrisure Stadium\n",
            "     G: Convention Center\n",
            "\n",
            "120. Q: 120. What is the name of CMU’s business school building?\n",
            "     A: Tepper School of Business\n",
            "     G: David A. Tepper Quadrangle\n",
            "\n",
            "121. Q: 121. What is the main CMU library on campus?\n",
            "     A: David and Susan Coulter Welcome\n",
            "     G: Hunt Library\n",
            "\n",
            "122. Q: 122. What is the main auditorium inside CMU’s Tepper Quadrangle?\n",
            "     A: Simmons Auditorium\n",
            "     G: Simmons Auditorium\n",
            "\n",
            "123. Q: 123. What facility at CMU houses athletics and recreation?\n",
            "     A: Recreation Centers\n",
            "     G: Cohon University Center\n",
            "\n",
            "124. Q: 124. What is the name of CMU’s outdoor track and football field?\n",
            "     A: Gesling Stadium\n",
            "     G: Gesling Stadium\n",
            "\n",
            "125. Q: 125. What gymnasium is located next to CMU’s pool?\n",
            "     A: Cohon University Center\n",
            "     G: Skibo Gymnasium\n",
            "\n",
            "126. Q: 126. What engineering library is located in Hamerschlag Hall?\n",
            "     A: Carnegie Library of Pittsburgh\n",
            "     G: Sorrells Library\n",
            "\n",
            "127. Q: 127. What indoor pool is located in CMU’s University Center?\n",
            "     A: CMU Intersquad Swim Meet 11\n",
            "     G: University Center Pool\n",
            "\n",
            "128. Q: 128. What open grassy area lies at the center of CMU’s campus?\n",
            "     A: The Fence\n",
            "     G: Cut (CMU lawn)\n",
            "\n",
            "129. Q: 129. Which CMU college focuses on engineering disciplines?\n",
            "     A: College of Engineering\n",
            "     G: College of Engineering\n",
            "\n",
            "130. Q: 130. Which CMU school specializes in computer science?\n",
            "     A: Mellon College of Science\n",
            "     G: School of Computer Science\n",
            "\n",
            "131. Q: 131. What is the name of Pittsburgh’s professional symphony orchestra?\n",
            "     A: Pittsburgh Symphony Orchestra\n",
            "     G: Pittsburgh Symphony Orchestra\n",
            "\n",
            "132. Q: 132. What is the name of Pittsburgh’s opera company?\n",
            "     A: Pittsburgh Opera\n",
            "     G: Pittsburgh Opera\n",
            "\n",
            "133. Q: 133. What is the name of Pittsburgh’s ballet company?\n",
            "     A: Pittsburgh Ballet Company\n",
            "     G: Pittsburgh Ballet Theatre\n",
            "\n",
            "134. Q: 134. What nonprofit promotes Pittsburgh’s downtown arts and culture?\n",
            "     A: Carnegie Museums\n",
            "     G: Pittsburgh Cultural Trust\n",
            "\n",
            "135. Q: 135. What is the name of the music hall inside the Carnegie Museum complex?\n",
            "     A: The Warhol theater\n",
            "     G: Carnegie Music Hall\n",
            "\n",
            "136. Q: 136. What downtown theater hosts major Broadway productions?\n",
            "     A: Benedum\n",
            "     G: Benedum Center\n",
            "\n",
            "137. Q: 137. Which concert hall hosts the Pittsburgh Symphony Orchestra?\n",
            "     A: Heinz Hall\n",
            "     G: Heinz Hall\n",
            "\n",
            "138. Q: 138. Which historic theater is located near the Cultural District?\n",
            "     A: unknown\n",
            "     G: Byham Theater\n",
            "\n",
            "139. Q: 139. Which theater is home to Pittsburgh Public Theater performances?\n",
            "     A: Harris Theater\n",
            "     G: O'Reilly Theater\n",
            "\n",
            "140. Q: 140. Which East Liberty theater is known for community performances?\n",
            "     A: the Harris Theater\n",
            "     G: Kelly-Strayhorn Theater\n",
            "\n",
            "141. Q: 141. What is the official tourism organization for Pittsburgh?\n",
            "     A: PA\n",
            "     G: VisitPittsburgh\n",
            "\n",
            "142. Q: 142. Which nonprofit manages downtown Pittsburgh’s events and marketing?\n",
            "     A: Pittsburgh Cultural Trust\n",
            "     G: Downtown Pittsburgh Partnership\n",
            "\n",
            "143. Q: 143. Which regional organization promotes economic development in Pittsburgh?\n",
            "     A: SPC\n",
            "     G: Allegheny Conference on Community Development\n",
            "\n",
            "144. Q: 144. Which authority manages Pittsburgh’s sports and exhibition venues?\n",
            "     A: Public Auditorium Authority of Pittsburgh\n",
            "     G: Sports & Exhibition Authority\n",
            "\n",
            "145. Q: 145. What organization supports Pittsburgh’s tech and startup companies?\n",
            "     A: American Geophysical Union\n",
            "     G: Pittsburgh Technology Council\n",
            "\n",
            "146. Q: 146. What accelerator supports Pittsburgh’s early-stage technology startups?\n",
            "     A: Carnegie Mellon University\n",
            "     G: Innovation Works\n",
            "\n",
            "147. Q: 147. What are the names of Pittsburgh’s two startup accelerators run by Innovation Works?\n",
            "     A: PGHLab , the Western Pennsylvania\n",
            "     G: AlphaLab; AlphaLab Gear\n",
            "\n",
            "148. Q: 148. What is Pittsburgh’s largest healthcare provider?\n",
            "     A: unknown\n",
            "     G: UPMC\n",
            "\n",
            "149. Q: 149. What is the major financial institution headquartered in Pittsburgh?\n",
            "     A: City of Pittsburgh\n",
            "     G: PNC Financial Services\n",
            "\n",
            "150. Q: 150. What is one of the largest health insurance companies based in Pittsburgh?\n",
            "     A: unanswerable\n",
            "     G: Highmark\n",
            "\n",
            "151. Q: 151. Which university in Pittsburgh is Catholic and located on the Bluff?\n",
            "     A: Duquesne University\n",
            "     G: Duquesne University\n",
            "\n",
            "152. Q: 152. What major public university is located in Oakland near CMU?\n",
            "     A: Mellon\n",
            "     G: University of Pittsburgh\n",
            "\n",
            "153. Q: 153. Which university in Pittsburgh was founded by Rachel Carson’s alma mater?\n",
            "     A: Carnegie Mellon University\n",
            "     G: Chatham University\n",
            "\n",
            "154. Q: 154. Which university in downtown Pittsburgh focuses on performing arts and media?\n",
            "     A: Point Park University\n",
            "     G: Point Park University\n",
            "\n",
            "155. Q: 155. Which Catholic university is located in Oakland near Fifth Avenue?\n",
            "     A: Central Catholic High School\n",
            "     G: Carlow University\n",
            "\n",
            "156. Q: 156. Which CMU library serves the College of Engineering?\n",
            "     A: Tepper School of Business\n",
            "     G: La Roche University\n",
            "\n",
            "157. Q: 157. Which university near Pittsburgh is known for business and technology programs?\n",
            "     A: Carnegie Mellon University\n",
            "     G: Robert Morris University\n",
            "\n",
            "158. Q: 158. Which Catholic university is located in Greensburg near Pittsburgh?\n",
            "     A: Duquesne University\n",
            "     G: Seton Hill University\n",
            "\n",
            "159. Q: 159. Which small liberal arts college lies south of Pittsburgh?\n",
            "     A: unanswerable\n",
            "     G: Washington & Jefferson College\n",
            "\n",
            "160. Q: 160. Which private Christian college lies north of Pittsburgh?\n",
            "     A: Community College of Allegheny County\n",
            "     G: Grove City College\n",
            "\n",
            "161. Q: 161. What annual event combines art exhibitions and live music along the rivers?\n",
            "     A: The Three Rivers Arts Festival\n",
            "     G: Three Rivers Arts Festival\n",
            "\n",
            "162. Q: 162. What vintage car race takes place in Schenley Park?\n",
            "     A: Greenfield Glide 5K Run &\n",
            "     G: Pittsburgh Vintage Grand Prix\n",
            "\n",
            "163. Q: 163. What boating festival is held on Pittsburgh’s three rivers?\n",
            "     A: Haunted Three Rivers Cruise\n",
            "     G: Three Rivers Regatta\n",
            "\n",
            "164. Q: 164. What annual race attracts runners through the city’s neighborhoods?\n",
            "     A: EQT Pittsburgh 10 Miler\n",
            "     G: Pittsburgh Marathon\n",
            "\n",
            "165. Q: 165. What downtown celebration marks the start of the holiday season?\n",
            "     A: Light Up Night\n",
            "     G: Light Up Night\n",
            "\n",
            "166. Q: 166. What event celebrates New Year’s Eve in downtown Pittsburgh?\n",
            "     A: First Night\n",
            "     G: First Night Pittsburgh\n",
            "\n",
            "167. Q: 167. What charity music festival benefits local causes each summer?\n",
            "     A: Giant Eagle Foundation\n",
            "     G: Rock, Reggae & Relief\n",
            "\n",
            "168. Q: 168. What annual celebration honors Pittsburgh’s LGBTQ+ community?\n",
            "     A: YWCA Greater Pittsburgh 5th Annual\n",
            "     G: Pittsburgh Pride\n",
            "\n",
            "169. Q: 169. What is the full name of the Three Rivers Arts Festival?\n",
            "     A: The Three Rivers Arts Festival\n",
            "     G: Dollar Bank Three Rivers Arts Festival\n",
            "\n",
            "170. Q: 170. What annual festival celebrates pickles in downtown Pittsburgh?\n",
            "     A: unanswerable\n",
            "     G: Picklesburgh\n",
            "\n",
            "171. Q: 171. What festival celebrates Irish heritage in Pittsburgh?\n",
            "     A: St. Patrick's Day\n",
            "     G: Pittsburgh Irish Festival\n",
            "\n",
            "172. Q: 172. Which Renaissance-themed festival is held near Pittsburgh each fall?\n",
            "     A: unanswerable\n",
            "     G: Pittsburgh Renaissance Festival\n",
            "\n",
            "173. Q: 173. Which neighborhood festival celebrates Italian heritage each August?\n",
            "     A: Los Sabrosos\n",
            "     G: Little Italy Days\n",
            "\n",
            "174. Q: 174. Which neighborhood hosts an annual Cookie Tour in December?\n",
            "     A: neighborhood soup crawls\n",
            "     G: Lawrenceville Cookie Tour\n",
            "\n",
            "175. Q: 175. Which South Side event features a soup-tasting competition?\n",
            "     A: Pittsburgh Restaurant Week\n",
            "     G: SouthSide Soup Contest\n",
            "\n",
            "176. Q: 176. Which neighborhood hosts one of the oldest Halloween parades in Pittsburgh?\n",
            "     A: unanswerable\n",
            "     G: Bloomfield Halloween Parade\n",
            "\n",
            "177. Q: 177. What restaurant event offers discounted prix fixe menus twice a year?\n",
            "     A: unanswerable\n",
            "     G: Pittsburgh Restaurant Week\n",
            "\n",
            "178. Q: 178. What annual event celebrates tacos and Latin cuisine?\n",
            "     A: Con Alma\n",
            "     G: Pittsburgh Taco Festival\n",
            "\n",
            "179. Q: 179. What festival celebrates Pittsburgh’s famous pierogi?\n",
            "     A: What's Happening - Downtown Pittsburgh\n",
            "     G: Pittsburgh Pierogi Festival\n",
            "\n",
            "180. Q: 180. What monthly flea market takes place in the Strip District?\n",
            "     A: Clearview\n",
            "     G: Neighborhood Flea\n",
            "\n",
            "181. Q: 181. What redeveloped terminal now serves as a retail and dining hub in the Strip District?\n",
            "     A: unanswerable\n",
            "     G: Strip District Terminal\n",
            "\n",
            "182. Q: 182. What oval-shaped ice rink and track are located in Schenley Park?\n",
            "     A: Schenley Skating Rink\n",
            "     G: Schenley Park Oval\n",
            "\n",
            "183. Q: 183. What walled garden is located inside Mellon Park?\n",
            "     A: unanswerable\n",
            "     G: Mellon Park Walled Garden\n",
            "\n",
            "184. Q: 184. What annual showcase features CMU’s drama students in New York City?\n",
            "     A: unanswerable\n",
            "     G: Lubin House (CMU drama showcase)\n",
            "\n",
            "185. Q: 185. What annual spring festival at CMU includes rides and booths?\n",
            "     A: unanswerable\n",
            "     G: CMU Spring Carnival\n",
            "\n",
            "186. Q: 186. What student race competition features pushcarts at CMU’s Spring Carnival?\n",
            "     A: unknown\n",
            "     G: Buggy (Sweepstakes)\n",
            "\n",
            "187. Q: 187. What large-scale booth-building event happens during CMU Spring Carnival?\n",
            "     A: Pride Festival Volunteers\n",
            "     G: Booth (Spring Carnival)\n",
            "\n",
            "188. Q: 188. What long-standing CMU tradition involves painting messages overnight?\n",
            "     A: unanswerable\n",
            "     G: Fence painting\n",
            "\n",
            "189. Q: 189. What CMU student organization produces musical theater?\n",
            "     A: Scotch'n'Soda\n",
            "     G: Scotch'n'Soda Theatre\n",
            "\n",
            "190. Q: 190. What student marching band performs at CMU events?\n",
            "     A: Kiltie\n",
            "     G: Kiltie Band concerts\n",
            "\n",
            "191. Q: 191. What CMU event is a musical performance competition among Greek organizations?\n",
            "     A: Intersquad Swim Meet\n",
            "     G: Greek Sing\n",
            "\n",
            "192. Q: 192. What is the nickname for CMU’s varsity athletic teams?\n",
            "     A: Tartan\n",
            "     G: Tartan Athletics\n",
            "\n",
            "193. Q: 193. What CMU student magazine covers campus life and research?\n",
            "     A: Campus Life\n",
            "     G: CMU Horizons\n",
            "\n",
            "194. Q: 194. What annual CMU event celebrates global cultures and diversity?\n",
            "     A: Fulbright U.S. Student Program\n",
            "     G: CMU International Festival\n",
            "\n",
            "195. Q: 195. What campus-wide event showcases student research and innovation?\n",
            "     A: Visit Carnegie Mellon\n",
            "     G: CMU Research Showcase\n",
            "\n",
            "196. Q: 196. What annual fall event brings alumni back to CMU?\n",
            "     A: Family Weekend 2025\n",
            "     G: CMU Homecoming\n",
            "\n",
            "197. Q: 197. What ceremony marks the end of the academic year at CMU?\n",
            "     A: unanswerable\n",
            "     G: CMU Commencement\n",
            "\n",
            "198. Q: 198. What does CMU stand for?\n",
            "     A: Carnegie Mellon University\n",
            "     G: Carnegie Mellon University; CMU\n",
            "\n",
            "199. Q: 199. Who was the industrialist who founded Carnegie Mellon University?\n",
            "     A: Andrew Carnegie\n",
            "     G: Andrew Carnegie\n",
            "\n",
            "200. Q: 200. Which building once housed the Mellon Institute of Industrial Research?\n",
            "     A: Carnegie Mellon University\n",
            "     G: Mellon Institute of Industrial Research\n",
            "\n",
            "201. Q: 201. Which major bank has roots in Pittsburgh?\n",
            "     A: First National Bank\n",
            "     G: Bank of New York Mellon; BNY Mellon\n",
            "\n",
            "202. Q: 202. Which steel company was headquartered in Pittsburgh?\n",
            "     A: Steelers\n",
            "     G: U.S. Steel\n",
            "\n",
            "203. Q: 203. Which aluminum producer was founded in Pittsburgh?\n",
            "     A: Squatch Brewing\n",
            "     G: Alcoa\n",
            "\n",
            "204. Q: 204. Which glass and coatings company is headquartered in Pittsburgh?\n",
            "     A: Steel\n",
            "     G: PPG Industries\n",
            "\n",
            "205. Q: 205. Which electrical engineering company was founded in Pittsburgh?\n",
            "     A: Voodoo Brewing Co\n",
            "     G: Westinghouse Electric\n",
            "\n",
            "206. Q: 206. Which food company is historically associated with Pittsburgh?\n",
            "     A: Food Systems\n",
            "     G: Heinz\n",
            "\n",
            "207. Q: 207. Which retail clothing company is based in Pittsburgh?\n",
            "     A: unanswerable\n",
            "     G: American Eagle Outfitters\n",
            "\n",
            "208. Q: 208. Which sporting goods retailer is headquartered near Pittsburgh?\n",
            "     A: unknown\n",
            "     G: Dick's Sporting Goods\n",
            "\n",
            "209. Q: 209. Which language-learning app company is based in Pittsburgh?\n",
            "     A: City of Pittsburgh\n",
            "     G: Duolingo\n",
            "\n",
            "210. Q: 210. Which self-driving vehicle company operates in Pittsburgh?\n",
            "     A: SUV\n",
            "     G: Aurora Innovation\n",
            "\n",
            "211. Q: 211. Which lunar robotics company is headquartered in Pittsburgh?\n",
            "     A: Astrobotic\n",
            "     G: Astrobotic\n",
            "\n",
            "212. Q: 212. Which robotics company spun off from Carnegie Mellon University?\n",
            "     A: Astrobotic\n",
            "     G: Carnegie Robotics\n",
            "\n",
            "213. Q: 213. Which autonomous vehicle company was founded in Pittsburgh?\n",
            "     A: Argo AI\n",
            "     G: Argo AI\n",
            "\n",
            "214. Q: 214. Which 3D printing company operates a factory in Pittsburgh?\n",
            "     A: unanswerable\n",
            "     G: Formlabs Factory Solutions (Pittsburgh site)\n",
            "\n",
            "215. Q: 215. What does NREC stand for in CMU’s robotics division?\n",
            "     A: Robotics Innovation Center\n",
            "     G: NREC (National Robotics Engineering Center)\n",
            "\n",
            "216. Q: 216. What innovation center occupies a former steel mill site in Hazelwood?\n",
            "     A: Robotics Innovation Center\n",
            "     G: Mill 19\n",
            "\n",
            "217. Q: 217. What redevelopment site aims to be Pittsburgh’s model green district?\n",
            "     A: the Cultural District\n",
            "     G: Hazelwood Green\n",
            "\n",
            "218. Q: 218. Which complex in East Liberty houses Google’s Pittsburgh offices?\n",
            "     A: unanswerable\n",
            "     G: Bakery Square\n",
            "\n",
            "219. Q: 219. Which historic freight terminal in the Strip District has been redeveloped?\n",
            "     A: unanswerable\n",
            "     G: Strip District Terminal\n",
            "\n",
            "220. Q: 220. What mixed-use complex occupies the former Pittsburgh Terminal Buildings?\n",
            "     A: 429 First Avenue\n",
            "     G: The Highline\n",
            "\n",
            "221. Q: 221. What South Side development includes shopping, dining, and apartments?\n",
            "     A: Lawrenceville\n",
            "     G: SouthSide Works\n",
            "\n",
            "222. Q: 222. Which former candy factory has been converted into offices in Lawrenceville?\n",
            "     A: 429 First Avenue\n",
            "     G: Chocolate Factory (Lawrenceville redevelopment)\n",
            "\n",
            "223. Q: 223. Which historic downtown building is known for its ornate atrium and glass dome?\n",
            "     A: 429 First Avenue\n",
            "     G: Union Trust Building\n",
            "\n",
            "224. Q: 224. What is the name of Pittsburgh’s Union Station?\n",
            "     A: Duquesne Incline Lower Station\n",
            "     G: Union Station (Penn Station)\n",
            "\n",
            "225. Q: 225. Which early skyscraper in Pittsburgh was built by industrialist Henry Clay Frick?\n",
            "     A: Overholt Distillery\n",
            "     G: Frick Building\n",
            "\n",
            "226. Q: 226. What downtown park features fountains and mid-century design?\n",
            "     A: Coffey Way\n",
            "     G: Mellon Square\n",
            "\n",
            "227. Q: 227. What glass complex in downtown Pittsburgh contains an ice rink each winter?\n",
            "     A: Schenley Skating Rink\n",
            "     G: PPG Place\n",
            "\n",
            "228. Q: 228. What is the tallest skyscraper in Pittsburgh?\n",
            "     A: unknown\n",
            "     G: U.S. Steel Tower\n",
            "\n",
            "229. Q: 229. Which bridge connects the South Side to Uptown?\n",
            "     A: Liberty Bridge\n",
            "     G: Birmingham Bridge\n",
            "\n",
            "230. Q: 230. Which downtown bridge features distinctive yellow arches?\n",
            "     A: DOMI reviews all submitted requests\n",
            "     G: Smithfield Street Bridge\n",
            "\n",
            "231. Q: 231. Which bridge is named after pop artist Andy Warhol?\n",
            "     A: Andy Warhol Bridge\n",
            "     G: Andy Warhol Bridge\n",
            "\n",
            "232. Q: 232. Which bridge is named after baseball legend Roberto Clemente?\n",
            "     A: Roberto Clemente Bridge\n",
            "     G: Roberto Clemente Bridge\n",
            "\n",
            "233. Q: 233. Which bridge is named after environmentalist Rachel Carson?\n",
            "     A: Andy Warhol Bridge\n",
            "     G: Rachel Carson Bridge\n",
            "\n",
            "234. Q: 234. Which bridge connects downtown Pittsburgh to the North Shore near the stadiums?\n",
            "     A: unanswerable\n",
            "     G: Ft. Duquesne Bridge\n",
            "\n",
            "235. Q: 235. Which bridge connects Point State Park to the Fort Pitt Tunnel?\n",
            "     A: Fort Pitt Bridge\n",
            "     G: Fort Pitt Bridge\n",
            "\n",
            "236. Q: 236. Which bridge carries traffic from downtown to the South Hills?\n",
            "     A: East Carson Street\n",
            "     G: Liberty Bridge\n",
            "\n",
            "237. Q: 237. Which bridge connects Oakland to the South Side near Second Avenue?\n",
            "     A: Liberty Bridge\n",
            "     G: Hot Metal Bridge\n",
            "\n",
            "238. Q: 238. Which bridge crosses the Allegheny River at 17th Street?\n",
            "     A: Fort Pitt Bridge\n",
            "     G: 17th Street Bridge\n",
            "\n",
            "239. Q: 239. Which bridge spans the Ohio River west of downtown Pittsburgh?\n",
            "     A: Fort Pitt Bridge\n",
            "     G: McKees Rocks Bridge\n",
            "\n",
            "240. Q: 240. Which railroad bridge crosses the Allegheny River near the Strip District?\n",
            "     A: Liberty Bridge\n",
            "     G: 33rd Street Railroad Bridge\n",
            "\n"
          ]
        }
      ],
      "source": [
        "import json\n",
        "from pathlib import Path\n",
        "\n",
        "root = Path(\"/content/drive/MyDrive/rag-pgh\")\n",
        "q_path   = root/\"data/test/questions.txt\"\n",
        "ref_path = root/\"data/test/reference_answers.json\"\n",
        "sys_path = root/\"data/test/system_output_test.json\"\n",
        "\n",
        "questions = [ln.strip() for ln in q_path.read_text(encoding=\"utf-8\").splitlines() if ln.strip()]\n",
        "pred = json.loads(sys_path.read_text(encoding=\"utf-8\"))\n",
        "refs = json.loads(ref_path.read_text(encoding=\"utf-8\"))\n",
        "\n",
        "for i, q in enumerate(questions, start=1):\n",
        "    k = str(i)\n",
        "    print(f\"{i:>3}. Q: {q}\\n     A: {pred.get(k,'')}\\n     G: {refs.get(k,'')}\\n\")"
      ]
    },
    {
      "cell_type": "markdown",
      "metadata": {
        "id": "eu43H6-OVzds"
      },
      "source": [
        "unseen data"
      ]
    },
    {
      "cell_type": "code",
      "execution_count": 14,
      "metadata": {
        "colab": {
          "base_uri": "https://localhost:8080/"
        },
        "id": "2f4l74jnW8pL",
        "outputId": "0ac60e8c-09cc-42d3-9609-34bce9e65530"
      },
      "outputs": [
        {
          "name": "stdout",
          "output_type": "stream",
          "text": [
            "Columns: ['Question']\n",
            "Detected question column: Question\n",
            " Saved 400 questions to /content/drive/MyDrive/rag-pgh/system_outputs/day1_questions.txt\n",
            "  1. What year did Pittsburgh suffer its worst flood?\n",
            "  2. When did the Carnegie-Mellon merger occur?\n",
            "  3. What Kennywood food is most iconic?\n",
            "  4. How many schools and colleges does CMU have?\n",
            "  5. What former church is a music venue?\n"
          ]
        }
      ],
      "source": [
        "import pandas as pd\n",
        "from pathlib import Path\n",
        "\n",
        "# paths\n",
        "root = Path(\"/content/drive/MyDrive/rag-pgh\")\n",
        "csv_path = root / \"system_outputs/test_set_Day1.csv\"\n",
        "out_q_path = root / \"system_outputs/day1_questions.txt\"\n",
        "\n",
        "# 1) Load CSV safely with pandas\n",
        "try:\n",
        "    df = pd.read_csv(csv_path)\n",
        "except Exception as e:\n",
        "    print(\" pandas read_csv failed, retrying with python engine:\", e)\n",
        "    df = pd.read_csv(csv_path, engine=\"python\")\n",
        "\n",
        "print(\"Columns:\", list(df.columns))\n",
        "\n",
        "# 2) Automatically detect which column has the questions\n",
        "# Preference order by common names\n",
        "candidate_cols = [c for c in df.columns if c.strip()]\n",
        "question_col = None\n",
        "for cand in [\"question\", \"Question\", \"questions\", \"Questions\", \"text\", \"Text\", \"prompt\"]:\n",
        "    if cand in df.columns:\n",
        "        question_col = cand\n",
        "        break\n",
        "\n",
        "# If none matched, pick the first column with non-empty text values\n",
        "if question_col is None:\n",
        "    non_empty_counts = df.notna().sum().to_dict()\n",
        "    question_col = max(non_empty_counts, key=non_empty_counts.get)\n",
        "\n",
        "print(f\"Detected question column: {question_col}\")\n",
        "\n",
        "# 3) Clean and extract question list\n",
        "questions = (\n",
        "    df[question_col]\n",
        "    .astype(str)\n",
        "    .apply(lambda x: x.strip())\n",
        "    .loc[lambda s: s != \"\"]\n",
        "    .tolist()\n",
        ")\n",
        "\n",
        "questions = [q for q in questions if q.lower() not in {\"nan\", \"none\", \"null\"}]\n",
        "\n",
        "# 4) Save as text\n",
        "out_q_path.write_text(\"\\n\".join(questions) + \"\\n\", encoding=\"utf-8\")\n",
        "print(f\" Saved {len(questions)} questions to {out_q_path}\")\n",
        "\n",
        "# 5) Preview a few\n",
        "for i, q in enumerate(questions[:5], start=1):\n",
        "    print(f\"{i:>3}. {q}\")\n"
      ]
    },
    {
      "cell_type": "code",
      "execution_count": 15,
      "metadata": {
        "colab": {
          "base_uri": "https://localhost:8080/"
        },
        "id": "Yhr1MPBVXQDB",
        "outputId": "bae747af-c9c5-44fc-cfc0-f36bed6f693d"
      },
      "outputs": [
        {
          "name": "stdout",
          "output_type": "stream",
          "text": [
            "Loaded index with 3197 chunks\n"
          ]
        },
        {
          "name": "stderr",
          "output_type": "stream",
          "text": [
            "Answering:   0%|          | 1/400 [00:01<10:14,  1.54s/it]"
          ]
        },
        {
          "name": "stdout",
          "output_type": "stream",
          "text": [
            "Q1 sources:\n",
            "  [1] Public Safety - Pittsburgh, PA — https://www.pittsburghpa.gov/Safety/Alerts/Public-Safety-Press-Release-Archive\n",
            "  [2] Public Safety - Pittsburgh, PA — https://www.pittsburghpa.gov/Safety/Alerts/Public-Safety-Press-Release-Archive\n",
            "  [3] Public Safety - Pittsburgh, PA — https://www.pittsburghpa.gov/Safety/Alerts/Public-Safety-Press-Release-Archive\n",
            "  [4] Public Safety - Pittsburgh, PA — https://www.pittsburghpa.gov/Safety/Alerts/Public-Safety-Press-Release-Archive\n",
            "  [5] Public Safety - Pittsburgh, PA — https://www.pittsburghpa.gov/Safety/Alerts/Public-Safety-Press-Release-Archive\n",
            "Q2 sources:\n",
            "  [1] Legal | Carnegie Mellon University — https://www.cmu.edu/legal/\n",
            "  [2] Legal | Carnegie Mellon University — https://www.cmu.edu/legal/\n",
            "  [3] Legal | Carnegie Mellon University — https://www.cmu.edu/legal/\n",
            "  [4] Regional Impact | Carnegie Mellon University — https://www.cmu.edu/regional-impact\n",
            "  [5] Carnegie Mellon Named a Top 20 US University — https://www.cmu.edu/news/stories/archives/2025/september/carnegie-mellon-named-a-top-20-us-university\n"
          ]
        },
        {
          "name": "stderr",
          "output_type": "stream",
          "text": [
            "Answering:   1%|          | 3/400 [00:01<03:12,  2.06it/s]"
          ]
        },
        {
          "name": "stdout",
          "output_type": "stream",
          "text": [
            "Q3 sources:\n",
            "  [1] Kennywood | Visit Pittsburgh — https://www.visitpittsburgh.com/directory/kennywood/\n",
            "  [2] Pittsburgh Food Festivals - Greek - Oktoberfest - Apples - Maple Syrup — https://www.visitpittsburgh.com/events-festivals/food-festivals/\n",
            "  [3] Public Safety - Pittsburgh, PA — https://www.pittsburghpa.gov/Safety/Alerts/Public-Safety-Press-Release-Archive\n",
            "  [4] Dining Partners — https://pittsburghsymphony.org/pso_home/web/give-landing/corporate-partnerships/dining-partners\n",
            "  [5] Pistons in the Park Car Cruise — https://www.pittsburghpa.gov/Recreation-Events/Events/Pistons-in-the-Park-Car-Cruise\n",
            "Q4 sources:\n",
            "  [1] Giving Opportunities | Engage with CMU — https://www.cmu.edu/engage/give/opportunities/index.html\n",
            "  [2] CMU Undergraduates Take on Cancer Research — https://www.cmu.edu/news/stories/archives/2025/may/cmu-undergraduates-take-on-cancer-research\n",
            "  [3] CMU Celebrates 2025 Fulbright Recipients — https://www.cmu.edu/news/stories/archives/2025/august/cmu-celebrates-2025-fulbright-recipients\n",
            "  [4] CMU Undergraduates Take on Cancer Research — https://www.cmu.edu/news/stories/archives/2025/may/cmu-undergraduates-take-on-cancer-research\n",
            "  [5] Family Weekend - Family Engagement - Carnegie Mellon University — https://www.cmu.edu/family/events/family-weekend/\n"
          ]
        },
        {
          "name": "stderr",
          "output_type": "stream",
          "text": [
            "Answering:   1%|▏         | 5/400 [00:02<02:14,  2.94it/s]"
          ]
        },
        {
          "name": "stdout",
          "output_type": "stream",
          "text": [
            "Q5 sources:\n",
            "  [1] Event - Downtown Pittsburgh — https://downtownpittsburgh.com/events/event/?id=63957\n",
            "  [2] Event - Downtown Pittsburgh — https://downtownpittsburgh.com/events/event/?id=63915\n",
            "  [3] Event - Downtown Pittsburgh — https://downtownpittsburgh.com/events/event/?id=63718\n",
            "  [4] Event - Downtown Pittsburgh — https://downtownpittsburgh.com/events/event/?id=63915\n",
            "  [5] Public Safety - Pittsburgh, PA — https://www.pittsburghpa.gov/Safety/Alerts/Public-Safety-Press-Release-Archive\n",
            "Q6 sources:\n",
            "  [1] 2026 NFL Draft | Visit Pittsburgh — https://www.visitpittsburgh.com/nfl-draft-pittsburgh/\n",
            "  [2] 2026 NFL Draft Countdown Clock — https://www.visitpittsburgh.com/blog/the-countdown-is-on-for-the-2026-nfl-draft-in-pittsburgh/\n",
            "  [3] Official Tourism Site for Pittsburgh, PA — https://www.visitpittsburgh.com/\n",
            "  [4] What's Happening - Downtown Pittsburgh — https://downtownpittsburgh.com/events/\n",
            "  [5] Special Event & Block Party Permitting — https://www.pittsburghpa.gov/Recreation-Events/Film-Event-Management/Special-Event-Block-Party-Permitting\n"
          ]
        },
        {
          "name": "stderr",
          "output_type": "stream",
          "text": [
            "Answering:   2%|▏         | 7/400 [00:02<01:33,  4.21it/s]"
          ]
        },
        {
          "name": "stdout",
          "output_type": "stream",
          "text": [
            "Q7 sources:\n",
            "  [1] The Neill Log House — https://www.pittsburghpa.gov/Recreation-Events/Park-Facilities/The-Neill-Log-House\n",
            "  [2] Public Safety - Pittsburgh, PA — https://www.pittsburghpa.gov/Safety/Alerts/Public-Safety-Press-Release-Archive\n",
            "  [3] Public Safety - Pittsburgh, PA — https://www.pittsburghpa.gov/Safety/Alerts/Public-Safety-Press-Release-Archive\n",
            "  [4] Public Safety - Pittsburgh, PA — https://www.pittsburghpa.gov/Safety/Alerts/Public-Safety-Press-Release-Archive\n",
            "  [5] Public Safety - Pittsburgh, PA — https://www.pittsburghpa.gov/Safety/Alerts/Public-Safety-Press-Release-Archive\n",
            "Q8 sources:\n",
            "  [1] Carnegie Mellon Named a Top 20 US University — https://www.cmu.edu/news/stories/archives/2025/september/carnegie-mellon-named-a-top-20-us-university\n",
            "  [2] CMU125 - CMU125 - Carnegie Mellon University — https://www.cmu.edu/125/index.html\n",
            "  [3] Carnegie Mellon University Welcomes Second Cohort of Rales Fellows — https://www.cmu.edu/news/stories/archives/2025/october/carnegie-mellon-university-welcomes-second-cohort-of-rales-fellows\n",
            "  [4] History | Carnegie Mellon University — https://www.cmu.edu/about/history.html\n",
            "  [5] Legal | Carnegie Mellon University — https://www.cmu.edu/legal/\n"
          ]
        },
        {
          "name": "stderr",
          "output_type": "stream",
          "text": [
            "Answering:   2%|▏         | 9/400 [00:03<01:16,  5.09it/s]"
          ]
        },
        {
          "name": "stdout",
          "output_type": "stream",
          "text": [
            "Q9 sources:\n",
            "  [1] What's Happening - Downtown Pittsburgh — https://downtownpittsburgh.com/events/\n",
            "  [2] What's Happening - Downtown Pittsburgh — https://downtownpittsburgh.com/events/?n=11&d=1&y=2025\n",
            "  [3] What's Happening - Downtown Pittsburgh — https://downtownpittsburgh.com/events/?n=10&d=25&y=2025\n",
            "  [4] What's Happening - Downtown Pittsburgh — https://downtownpittsburgh.com/events/?n=10&d=4&y=2025\n",
            "  [5] Dining Partners — https://pittsburghsymphony.org/pso_home/web/give-landing/corporate-partnerships/dining-partners\n",
            "Q10 sources:\n",
            "  [1] Historic Home and Gardens — https://www.thefrickpittsburgh.org/historichome\n",
            "  [2] Park Rangers - Pittsburgh, PA — https://www.pittsburghpa.gov/Safety/Public-Safety/Park-Rangers\n",
            "  [3] The Frick Pittsburgh Museums & Gardens — https://www.thefrickpittsburgh.org/leadership\n",
            "  [4] Historic Home and Gardens — https://www.thefrickpittsburgh.org/historichome\n",
            "  [5] Forest Bathing: Mindful Nature Experience — https://www.thefrickpittsburgh.org/Event-Forest-Bathing-Mindful-Nature-Experience-Oct-7\n"
          ]
        },
        {
          "name": "stderr",
          "output_type": "stream",
          "text": [
            "\rAnswering:   2%|▎         | 10/400 [00:03<01:11,  5.45it/s]"
          ]
        },
        {
          "name": "stdout",
          "output_type": "stream",
          "text": [
            "Q11 sources:\n",
            "  [1] Taxes - Pittsburgh, PA — https://www.pittsburghpa.gov/City-Government/Finance-Budget/Taxes\n",
            "  [2] Taxes - Pittsburgh, PA — https://www.pittsburghpa.gov/City-Government/Finance-Budget/Taxes\n",
            "  [3] Taxes - Pittsburgh, PA — https://www.pittsburghpa.gov/City-Government/Finance-Budget/Taxes\n",
            "  [4] Taxes - Pittsburgh, PA — https://www.pittsburghpa.gov/City-Government/Finance-Budget/Taxes\n",
            "  [5] Taxes - Pittsburgh, PA — https://www.pittsburghpa.gov/City-Government/Finance-Budget/Taxes\n"
          ]
        },
        {
          "name": "stderr",
          "output_type": "stream",
          "text": [
            "Answering:   3%|▎         | 12/400 [00:03<01:24,  4.58it/s]"
          ]
        },
        {
          "name": "stdout",
          "output_type": "stream",
          "text": [
            "Q12 sources:\n",
            "  [1] Shopping in Pittsburgh | Reviews, Maps & Coupons | Visit Pittsburgh — https://www.visitpittsburgh.com/things-to-do/shopping/\n",
            "  [2] OneStopPGH Tips for Small Businesses — https://www.pittsburghpa.gov/Business-Development/Small-Business-Resources/OneStopPGH-Tips-for-Small-Businesses\n",
            "  [3] What's Happening - Downtown Pittsburgh — https://downtownpittsburgh.com/events/?n=10&d=29&y=2025\n",
            "  [4] What's Happening - Downtown Pittsburgh — https://downtownpittsburgh.com/events/?n=10&d=30&y=2025\n",
            "  [5] Resident Testimonials — https://downtownpittsburgh.com/live/downtown-lifestyle/resident-testimonials/\n",
            "Q13 sources:\n",
            "  [1] Code Enforcement — https://www.pittsburghpa.gov/Business-Development/Permits-Licenses-and-Inspections/Code-Enforcement\n",
            "  [2] Downtown Activation + Public Art — https://downtownpittsburgh.com/publicart/\n",
            "  [3] Resident Testimonials — https://downtownpittsburgh.com/live/downtown-lifestyle/resident-testimonials/\n",
            "  [4] Public Safety - Pittsburgh, PA — https://www.pittsburghpa.gov/Safety/Alerts/Public-Safety-Press-Release-Archive\n",
            "  [5] About City Planning — https://www.pittsburghpa.gov/Business-Development/City-Planning/About-DCP\n"
          ]
        },
        {
          "name": "stderr",
          "output_type": "stream",
          "text": [
            "Answering:   4%|▎         | 14/400 [00:04<01:16,  5.04it/s]"
          ]
        },
        {
          "name": "stdout",
          "output_type": "stream",
          "text": [
            "Q14 sources:\n",
            "  [1] Carnegie Mellon Named a Top 20 US University — https://www.cmu.edu/news/stories/archives/2025/september/carnegie-mellon-named-a-top-20-us-university\n",
            "  [2] About — https://www.ml.cmu.edu/about/\n",
            "  [3] Giving Opportunities | Engage with CMU — https://www.cmu.edu/engage/give/opportunities/index.html\n",
            "  [4] Carnegie Mellon University Welcomes Second Cohort of Rales Fellows — https://www.cmu.edu/news/stories/archives/2025/october/carnegie-mellon-university-welcomes-second-cohort-of-rales-fellows\n",
            "  [5] Undergraduate Admission - Undergraduate Admission - Carnegie Mellon University — https://www.cmu.edu/admission/\n",
            "Q15 sources:\n",
            "  [1] Taxes - Pittsburgh, PA — https://www.pittsburghpa.gov/City-Government/Finance-Budget/Taxes\n",
            "  [2] Taxes - Pittsburgh, PA — https://www.pittsburghpa.gov/City-Government/Finance-Budget/Taxes\n",
            "  [3] Taxes - Pittsburgh, PA — https://www.pittsburghpa.gov/City-Government/Finance-Budget/Taxes\n",
            "  [4] Taxes - Pittsburgh, PA — https://www.pittsburghpa.gov/City-Government/Finance-Budget/Taxes\n",
            "  [5] Taxes - Pittsburgh, PA — https://www.pittsburghpa.gov/City-Government/Finance-Budget/Taxes\n"
          ]
        },
        {
          "name": "stderr",
          "output_type": "stream",
          "text": [
            "Answering:   4%|▍         | 16/400 [00:04<01:31,  4.19it/s]"
          ]
        },
        {
          "name": "stdout",
          "output_type": "stream",
          "text": [
            "Q16 sources:\n",
            "  [1] About the Controller — https://www.pittsburghpa.gov/City-Government/City-Controllers-Office/About-the-Controller\n",
            "  [2] The City of Pittsburgh, PA: Boards — https://www.pittsburghpa.gov/City-Government/Boards-Authorities-Commissions/Member-Rosters\n",
            "  [3] Public Safety - Pittsburgh, PA — https://www.pittsburghpa.gov/Safety/Alerts/Public-Safety-Press-Release-Archive\n",
            "  [4] Holidays At City-County Building — https://www.pittsburghpa.gov/Recreation-Events/Events/Holidays-At-City-County-Building\n",
            "  [5] Maps - Pittsburgh, PA — https://www.pittsburghpa.gov/Business-Development/Mobility-and-Infrastructure/Maps\n",
            "Q17 sources:\n",
            "  [1] City Planning Public Notices — https://www.pittsburghpa.gov/Business-Development/City-Planning/Public-Notices\n",
            "  [2] City Planning Public Notices — https://www.pittsburghpa.gov/Business-Development/City-Planning/Public-Notices\n",
            "  [3] City Bridges - Pittsburgh, PA — https://www.pittsburghpa.gov/Business-Development/Mobility-and-Infrastructure/Plans/City-Bridges\n",
            "  [4] City Bridges - Pittsburgh, PA — https://www.pittsburghpa.gov/Business-Development/Mobility-and-Infrastructure/Plans/City-Bridges\n",
            "  [5] City Bridges - Pittsburgh, PA — https://www.pittsburghpa.gov/Business-Development/Mobility-and-Infrastructure/Plans/City-Bridges\n"
          ]
        },
        {
          "name": "stderr",
          "output_type": "stream",
          "text": [
            "\rAnswering:   4%|▍         | 17/400 [00:04<01:22,  4.67it/s]"
          ]
        },
        {
          "name": "stdout",
          "output_type": "stream",
          "text": [
            "Q18 sources:\n",
            "  [1] Taxes - Pittsburgh, PA — https://www.pittsburghpa.gov/City-Government/Finance-Budget/Taxes\n",
            "  [2] Taxes - Pittsburgh, PA — https://www.pittsburghpa.gov/City-Government/Finance-Budget/Taxes\n",
            "  [3] Taxes - Pittsburgh, PA — https://www.pittsburghpa.gov/City-Government/Finance-Budget/Taxes\n",
            "  [4] Taxes - Pittsburgh, PA — https://www.pittsburghpa.gov/City-Government/Finance-Budget/Taxes\n",
            "  [5] Taxes - Pittsburgh, PA — https://www.pittsburghpa.gov/City-Government/Finance-Budget/Taxes\n"
          ]
        },
        {
          "name": "stderr",
          "output_type": "stream",
          "text": [
            "Answering:   5%|▍         | 19/400 [00:05<01:28,  4.29it/s]"
          ]
        },
        {
          "name": "stdout",
          "output_type": "stream",
          "text": [
            "Q19 sources:\n",
            "  [1] Shopping in Pittsburgh | Reviews, Maps & Coupons | Visit Pittsburgh — https://www.visitpittsburgh.com/things-to-do/shopping/\n",
            "  [2] Public Safety - Pittsburgh, PA — https://www.pittsburghpa.gov/Safety/Alerts/Public-Safety-Press-Release-Archive\n",
            "  [3] Pittsburgh Farmers Markets & U-Pick Farms — https://www.visitpittsburgh.com/restaurants-culinary/farms-farmers-markets/\n",
            "  [4] Free Things to Do in Pittsburgh Today — https://www.visitpittsburgh.com/things-to-do/free-things-to-do/\n",
            "  [5] Pittsburgh Farmers Markets & U-Pick Farms — https://www.visitpittsburgh.com/restaurants-culinary/farms-farmers-markets/\n",
            "Q20 sources:\n",
            "  [1] Public Safety - Pittsburgh, PA — https://www.pittsburghpa.gov/Safety/Alerts/Public-Safety-Press-Release-Archive\n",
            "  [2] Public Safety - Pittsburgh, PA — https://www.pittsburghpa.gov/Safety/Alerts/Public-Safety-Press-Release-Archive\n",
            "  [3] Carnegie Mellon Professor Wins 2025 Pulitzer Prize in History — https://www.cmu.edu/news/stories/archives/2025/may/carnegie-mellon-professor-wins-2025-pulitzer-prize-in-history\n",
            "  [4] Carnegie Mellon Professor Wins 2025 Pulitzer Prize in History — https://www.cmu.edu/news/stories/archives/2025/may/carnegie-mellon-professor-wins-2025-pulitzer-prize-in-history\n",
            "  [5] Public Safety - Pittsburgh, PA — https://www.pittsburghpa.gov/Safety/Alerts/Public-Safety-Press-Release-Archive\n"
          ]
        },
        {
          "name": "stderr",
          "output_type": "stream",
          "text": [
            "Answering:   5%|▌         | 21/400 [00:05<01:32,  4.09it/s]"
          ]
        },
        {
          "name": "stdout",
          "output_type": "stream",
          "text": [
            "Q21 sources:\n",
            "  [1] Real Estate - Pittsburgh, PA — https://www.pittsburghpa.gov/City-Government/Finance-Budget/Real-Estate\n",
            "  [2] Real Estate - Pittsburgh, PA — https://www.pittsburghpa.gov/City-Government/Finance-Budget/Real-Estate\n",
            "  [3] Taxes - Pittsburgh, PA — https://www.pittsburghpa.gov/City-Government/Finance-Budget/Taxes\n",
            "  [4] Taxes - Pittsburgh, PA — https://www.pittsburghpa.gov/City-Government/Finance-Budget/Taxes\n",
            "  [5] Real Estate - Pittsburgh, PA — https://www.pittsburghpa.gov/City-Government/Finance-Budget/Real-Estate\n"
          ]
        },
        {
          "name": "stderr",
          "output_type": "stream",
          "text": [
            "\rAnswering:   6%|▌         | 22/400 [00:06<01:23,  4.54it/s]"
          ]
        },
        {
          "name": "stdout",
          "output_type": "stream",
          "text": [
            "Q22 sources:\n",
            "  [1] About — https://www.ml.cmu.edu/about/\n",
            "  [2] About — https://www.ml.cmu.edu/about/\n",
            "  [3] Carnegie Mellon University Welcomes Second Cohort of Rales Fellows — https://www.cmu.edu/news/stories/archives/2025/october/carnegie-mellon-university-welcomes-second-cohort-of-rales-fellows\n",
            "  [4] CMU Undergraduates Take on Cancer Research — https://www.cmu.edu/news/stories/archives/2025/may/cmu-undergraduates-take-on-cancer-research\n",
            "  [5] CMU125 - CMU125 - Carnegie Mellon University — https://www.cmu.edu/125/index.html\n",
            "Q23 sources:\n",
            "  [1] Park Rangers - Pittsburgh, PA — https://www.pittsburghpa.gov/Safety/Public-Safety/Park-Rangers\n",
            "  [2] Park Rangers - Pittsburgh, PA — https://www.pittsburghpa.gov/Safety/Public-Safety/Park-Rangers\n",
            "  [3] Park Rangers - Pittsburgh, PA — https://www.pittsburghpa.gov/Safety/Public-Safety/Park-Rangers\n",
            "  [4] Park Rangers - Pittsburgh, PA — https://www.pittsburghpa.gov/Safety/Public-Safety/Park-Rangers\n",
            "  [5] Park Rangers - Pittsburgh, PA — https://www.pittsburghpa.gov/Safety/Public-Safety/Park-Rangers\n"
          ]
        },
        {
          "name": "stderr",
          "output_type": "stream",
          "text": [
            "\rAnswering:   6%|▌         | 23/400 [00:06<01:16,  4.96it/s]"
          ]
        },
        {
          "name": "stdout",
          "output_type": "stream",
          "text": [
            "Q24 sources:\n",
            "  [1] Clerk's Office - Pittsburgh, PA — https://www.pittsburghpa.gov/City-Government/City-Council/Clerks-Office\n",
            "  [2] Public Safety - Pittsburgh, PA — https://www.pittsburghpa.gov/Safety/Alerts/Public-Safety-Press-Release-Archive\n",
            "  [3] Public Safety - Pittsburgh, PA — https://www.pittsburghpa.gov/Safety/Alerts/Public-Safety-Press-Release-Archive\n",
            "  [4] Public Safety - Pittsburgh, PA — https://www.pittsburghpa.gov/Safety/Alerts/Public-Safety-Press-Release-Archive\n",
            "  [5] Public Safety - Pittsburgh, PA — https://www.pittsburghpa.gov/Safety/Alerts/Public-Safety-Press-Release-Archive\n"
          ]
        },
        {
          "name": "stderr",
          "output_type": "stream",
          "text": [
            "Answering:   6%|▋         | 25/400 [00:06<01:24,  4.43it/s]"
          ]
        },
        {
          "name": "stdout",
          "output_type": "stream",
          "text": [
            "Q25 sources:\n",
            "  [1] About — https://www.ml.cmu.edu/about/\n",
            "  [2] Legal | Carnegie Mellon University — https://www.cmu.edu/legal/\n",
            "  [3] Carnegie Mellon Named a Top 20 US University — https://www.cmu.edu/news/stories/archives/2025/september/carnegie-mellon-named-a-top-20-us-university\n",
            "  [4] CMU125 - CMU125 - Carnegie Mellon University — https://www.cmu.edu/125/index.html\n",
            "  [5] Campus Life | Carnegie Mellon University — https://www.cmu.edu/campus-life\n",
            "Q26 sources:\n",
            "  [1] History | Carnegie Mellon University — https://www.cmu.edu/about/history.html\n",
            "  [2] CMU125 - CMU125 - Carnegie Mellon University — https://www.cmu.edu/125/index.html\n",
            "  [3] Carnegie Mellon Professor Wins 2025 Pulitzer Prize in History — https://www.cmu.edu/news/stories/archives/2025/may/carnegie-mellon-professor-wins-2025-pulitzer-prize-in-history\n",
            "  [4] Carnegie Mellon University Welcomes Second Cohort of Rales Fellows — https://www.cmu.edu/news/stories/archives/2025/october/carnegie-mellon-university-welcomes-second-cohort-of-rales-fellows\n",
            "  [5] Carnegie Mellon Named a Top 20 US University — https://www.cmu.edu/news/stories/archives/2025/september/carnegie-mellon-named-a-top-20-us-university\n"
          ]
        },
        {
          "name": "stderr",
          "output_type": "stream",
          "text": [
            "\rAnswering:   6%|▋         | 26/400 [00:06<01:15,  4.96it/s]"
          ]
        },
        {
          "name": "stdout",
          "output_type": "stream",
          "text": [
            "Q27 sources:\n",
            "  [1] City Planning Public Notices — https://www.pittsburghpa.gov/Business-Development/City-Planning/Public-Notices\n",
            "  [2] City Bridges - Pittsburgh, PA — https://www.pittsburghpa.gov/Business-Development/Mobility-and-Infrastructure/Plans/City-Bridges\n",
            "  [3] City Bridges - Pittsburgh, PA — https://www.pittsburghpa.gov/Business-Development/Mobility-and-Infrastructure/Plans/City-Bridges\n",
            "  [4] City Bridges - Pittsburgh, PA — https://www.pittsburghpa.gov/Business-Development/Mobility-and-Infrastructure/Plans/City-Bridges\n",
            "  [5] City Bridges - Pittsburgh, PA — https://www.pittsburghpa.gov/Business-Development/Mobility-and-Infrastructure/Plans/City-Bridges\n"
          ]
        },
        {
          "name": "stderr",
          "output_type": "stream",
          "text": [
            "\rAnswering:   7%|▋         | 27/400 [00:07<01:23,  4.45it/s]"
          ]
        },
        {
          "name": "stdout",
          "output_type": "stream",
          "text": [
            "Q28 sources:\n",
            "  [1] Public Safety - Pittsburgh, PA — https://www.pittsburghpa.gov/Safety/Alerts/Public-Safety-Press-Release-Archive\n",
            "  [2] Public Safety - Pittsburgh, PA — https://www.pittsburghpa.gov/Safety/Alerts/Public-Safety-Press-Release-Archive\n",
            "  [3] Public Safety - Pittsburgh, PA — https://www.pittsburghpa.gov/Safety/Alerts/Public-Safety-Press-Release-Archive\n",
            "  [4] Park Rangers - Pittsburgh, PA — https://www.pittsburghpa.gov/Safety/Public-Safety/Park-Rangers\n",
            "  [5] Park Rangers - Pittsburgh, PA — https://www.pittsburghpa.gov/Safety/Public-Safety/Park-Rangers\n"
          ]
        },
        {
          "name": "stderr",
          "output_type": "stream",
          "text": [
            "Answering:   7%|▋         | 29/400 [00:07<01:27,  4.24it/s]"
          ]
        },
        {
          "name": "stdout",
          "output_type": "stream",
          "text": [
            "Q29 sources:\n",
            "  [1] Pittsburgh Transportation | Getting Around | Visit Pittsburgh | Visit Pittsburgh — https://www.visitpittsburgh.com/plan-your-trip/transportation/\n",
            "  [2] Public Safety - Pittsburgh, PA — https://www.pittsburghpa.gov/Safety/Alerts/Public-Safety-Press-Release-Archive\n",
            "  [3] Public Safety - Pittsburgh, PA — https://www.pittsburghpa.gov/Safety/Alerts/Public-Safety-Press-Release-Archive\n",
            "  [4] Public Safety - Pittsburgh, PA — https://www.pittsburghpa.gov/Safety/Alerts/Public-Safety-Press-Release-Archive\n",
            "  [5] Public Safety - Pittsburgh, PA — https://www.pittsburghpa.gov/Safety/Alerts/Public-Safety-Press-Release-Archive\n",
            "Q30 sources:\n",
            "  [1] About — https://www.ml.cmu.edu/about/\n",
            "  [2] About — https://www.ml.cmu.edu/about/\n",
            "  [3] Giving Opportunities | Engage with CMU — https://www.cmu.edu/engage/give/opportunities/index.html\n",
            "  [4] B.S. in Artificial Intelligence — https://www.cs.cmu.edu/bs-in-artificial-intelligence/\n",
            "  [5] Home - Online Education - Carnegie Mellon University — https://www.cmu.edu/online/\n"
          ]
        },
        {
          "name": "stderr",
          "output_type": "stream",
          "text": [
            "Answering:   8%|▊         | 31/400 [00:08<01:20,  4.59it/s]"
          ]
        },
        {
          "name": "stdout",
          "output_type": "stream",
          "text": [
            "Q31 sources:\n",
            "  [1] Public Safety - Pittsburgh, PA — https://www.pittsburghpa.gov/Safety/Alerts/Public-Safety-Press-Release-Archive\n",
            "  [2] Public Safety - Pittsburgh, PA — https://www.pittsburghpa.gov/Safety/Alerts/Public-Safety-Press-Release-Archive\n",
            "  [3] Public Safety - Pittsburgh, PA — https://www.pittsburghpa.gov/Safety/Alerts/Public-Safety-Press-Release-Archive\n",
            "  [4] Public Safety - Pittsburgh, PA — https://www.pittsburghpa.gov/Safety/Alerts/Public-Safety-Press-Release-Archive\n",
            "  [5] Official Pittsburgh Visitors Centers — https://www.visitpittsburgh.com/plan-your-trip/welcome-centers/\n",
            "Q32 sources:\n",
            "  [1] Pittsburgh Climate and Average Weather by Month — https://www.visitpittsburgh.com/plan-your-trip/weather/\n",
            "  [2] Event - Downtown Pittsburgh — https://downtownpittsburgh.com/events/event/?id=63919\n",
            "  [3] What's Happening - Downtown Pittsburgh — https://downtownpittsburgh.com/events/?n=10&d=4&y=2025\n",
            "  [4] Pittsburgh Steelers — https://www.visitpittsburgh.com/directory/pittsburgh-steelers/\n",
            "  [5] What's Happening - Downtown Pittsburgh — https://downtownpittsburgh.com/events/\n"
          ]
        },
        {
          "name": "stderr",
          "output_type": "stream",
          "text": [
            "Answering:   8%|▊         | 33/400 [00:08<01:27,  4.20it/s]"
          ]
        },
        {
          "name": "stdout",
          "output_type": "stream",
          "text": [
            "Q33 sources:\n",
            "  [1] Taxes - Pittsburgh, PA — https://www.pittsburghpa.gov/City-Government/Finance-Budget/Taxes\n",
            "  [2] Taxes - Pittsburgh, PA — https://www.pittsburghpa.gov/City-Government/Finance-Budget/Taxes\n",
            "  [3] Taxes - Pittsburgh, PA — https://www.pittsburghpa.gov/City-Government/Finance-Budget/Taxes\n",
            "  [4] Taxes - Pittsburgh, PA — https://www.pittsburghpa.gov/City-Government/Finance-Budget/Taxes\n",
            "  [5] City of Pittsburgh Charity Challenges: FAQs — https://www.pittsburghpa.gov/City-Government/Mayor/City-of-Pittsburgh-Charity-Challenges-FAQs\n",
            "Q34 sources:\n",
            "  [1] Official Pittsburgh Visitors Centers — https://www.visitpittsburgh.com/plan-your-trip/welcome-centers/\n",
            "  [2] Pittsburgh Cultural Activities — https://www.pittsburghpa.gov/Recreation-Events/Events/Pittsburgh-Cultural-Activities\n",
            "  [3] Public Safety - Pittsburgh, PA — https://www.pittsburghpa.gov/Safety/Alerts/Public-Safety-Press-Release-Archive\n",
            "  [4] Gingerbread House Competition Accepting Entries Beginning October 1 — https://www.pittsburghpa.gov/News-articles/Homepage/The-23rd-Annual-Gingerbread-House-Competition-Accepting-Entries-Beginning-October-1\n",
            "  [5] Gingerbread House Competition Accepting Entries Beginning October 1 — https://www.pittsburghpa.gov/Events-directory/Gingerbread-House-Competition-Accepting-Entries-Beginning-October-1\n"
          ]
        },
        {
          "name": "stderr",
          "output_type": "stream",
          "text": [
            "Answering:   9%|▉         | 35/400 [00:09<01:14,  4.92it/s]"
          ]
        },
        {
          "name": "stdout",
          "output_type": "stream",
          "text": [
            "Q35 sources:\n",
            "  [1] Public Safety - Pittsburgh, PA — https://www.pittsburghpa.gov/Safety/Alerts/Public-Safety-Press-Release-Archive\n",
            "  [2] Public Safety - Pittsburgh, PA — https://www.pittsburghpa.gov/Safety/Alerts/Public-Safety-Press-Release-Archive\n",
            "  [3] Public Safety - Pittsburgh, PA — https://www.pittsburghpa.gov/Safety/Alerts/Public-Safety-Press-Release-Archive\n",
            "  [4] Public Safety - Pittsburgh, PA — https://www.pittsburghpa.gov/Safety/Alerts/Public-Safety-Press-Release-Archive\n",
            "  [5] Public Safety - Pittsburgh, PA — https://www.pittsburghpa.gov/Safety/Alerts/Public-Safety-Press-Release-Archive\n",
            "Q36 sources:\n",
            "  [1] Public Safety - Pittsburgh, PA — https://www.pittsburghpa.gov/Safety/Alerts/Public-Safety-Press-Release-Archive\n",
            "  [2] Pittsburgh Steelers — https://www.visitpittsburgh.com/directory/pittsburgh-steelers/\n",
            "  [3] Pittsburgh Steelers — https://www.visitpittsburgh.com/directory/pittsburgh-steelers/\n",
            "  [4] Public Safety - Pittsburgh, PA — https://www.pittsburghpa.gov/Safety/Alerts/Public-Safety-Press-Release-Archive\n",
            "  [5] Pittsburgh ranks in Lonely Planet's 2025 Global Best in Travel 2025 list — https://www.visitpittsburgh.com/blog/particular-brand-of-magic-pittsburgh-ranks-in-lonely-planets-top-10-global-best-in-travel-2025-list/\n"
          ]
        },
        {
          "name": "stderr",
          "output_type": "stream",
          "text": [
            "Answering:   9%|▉         | 37/400 [00:09<01:17,  4.67it/s]"
          ]
        },
        {
          "name": "stdout",
          "output_type": "stream",
          "text": [
            "Q37 sources:\n",
            "  [1] Public Safety - Pittsburgh, PA — https://www.pittsburghpa.gov/Safety/Alerts/Public-Safety-Press-Release-Archive\n",
            "  [2] Public Safety - Pittsburgh, PA — https://www.pittsburghpa.gov/Safety/Alerts/Public-Safety-Press-Release-Archive\n",
            "  [3] Public Safety - Pittsburgh, PA — https://www.pittsburghpa.gov/Safety/Alerts/Public-Safety-Press-Release-Archive\n",
            "  [4] Public Safety - Pittsburgh, PA — https://www.pittsburghpa.gov/Safety/Alerts/Public-Safety-Press-Release-Archive\n",
            "  [5] Program Rules & Regulations — https://www.pittsburghpa.gov/Business-Development/PGH-Lab/Program-Rules-Regulations\n",
            "Q38 sources:\n",
            "  [1] CMU Visit - Carnegie Mellon University — https://www.cmu.edu/visit/\n",
            "  [2] About — https://www.ml.cmu.edu/about/\n",
            "  [3] First Destination (Post Graduation) Outcomes - Career & Professional Development Center - Student Affairs - Carnegie Mellon University — https://www.cmu.edu/career/outcomes/post-grad-dashboard.html\n",
            "  [4] Visitor Information — https://www.cmu.edu/visit/visitor-information\n",
            "  [5] Getting Around - Downtown Pittsburgh — https://downtownpittsburgh.com/visit/getting-here/\n"
          ]
        },
        {
          "name": "stderr",
          "output_type": "stream",
          "text": [
            "Answering:  10%|▉         | 39/400 [00:09<01:07,  5.32it/s]"
          ]
        },
        {
          "name": "stdout",
          "output_type": "stream",
          "text": [
            "Q39 sources:\n",
            "  [1] Park Rangers - Pittsburgh, PA — https://www.pittsburghpa.gov/Safety/Public-Safety/Park-Rangers\n",
            "  [2] Free Things to Do in Pittsburgh Today — https://www.visitpittsburgh.com/things-to-do/free-things-to-do/\n",
            "  [3] The City of Pittsburgh, PA: Boards — https://www.pittsburghpa.gov/City-Government/Boards-Authorities-Commissions/Member-Rosters\n",
            "  [4] Park Rangers - Pittsburgh, PA — https://www.pittsburghpa.gov/Safety/Public-Safety/Park-Rangers\n",
            "  [5] Zoning FAQ - Pittsburgh, PA — https://www.pittsburghpa.gov/Business-Development/Zoning/Zoning-FAQ\n",
            "Q40 sources:\n",
            "  [1] B.S. in Artificial Intelligence — https://www.cs.cmu.edu/bs-in-artificial-intelligence/\n",
            "  [2] History | Carnegie Mellon University — https://www.cmu.edu/about/history.html\n",
            "  [3] Family Weekend - Family Engagement - Carnegie Mellon University — https://www.cmu.edu/family/events/family-weekend/\n",
            "  [4] Center for Business Engagement — https://www.cmu.edu/business-engagement/\n",
            "  [5] Carnegie Mellon Named a Top 20 US University — https://www.cmu.edu/news/stories/archives/2025/september/carnegie-mellon-named-a-top-20-us-university\n"
          ]
        },
        {
          "name": "stderr",
          "output_type": "stream",
          "text": [
            "\rAnswering:  10%|█         | 40/400 [00:10<01:01,  5.88it/s]"
          ]
        },
        {
          "name": "stdout",
          "output_type": "stream",
          "text": [
            "Q41 sources:\n",
            "  [1] Pittsburgh Transportation | Getting Around | Visit Pittsburgh | Visit Pittsburgh — https://www.visitpittsburgh.com/plan-your-trip/transportation/\n",
            "  [2] Getting Around - Downtown Pittsburgh — https://downtownpittsburgh.com/visit/getting-here/\n",
            "  [3] Event - Downtown Pittsburgh — https://downtownpittsburgh.com/events/event/?id=61926\n",
            "  [4] City Farms - Pittsburgh, PA — https://www.pittsburghpa.gov/Recreation-Events/Parks/City-Farms\n",
            "  [5] Public Safety - Pittsburgh, PA — https://www.pittsburghpa.gov/Safety/Alerts/Public-Safety-Press-Release-Archive\n"
          ]
        },
        {
          "name": "stderr",
          "output_type": "stream",
          "text": [
            "\rAnswering:  10%|█         | 41/400 [00:10<01:08,  5.27it/s]"
          ]
        },
        {
          "name": "stdout",
          "output_type": "stream",
          "text": [
            "Q42 sources:\n",
            "  [1] Pittsburgh ranks in Lonely Planet's 2025 Global Best in Travel 2025 list — https://www.visitpittsburgh.com/blog/particular-brand-of-magic-pittsburgh-ranks-in-lonely-planets-top-10-global-best-in-travel-2025-list/\n",
            "  [2] America250 | Visit Pittsburgh | Visit Pittsburgh — https://www.visitpittsburgh.com/america-250/\n",
            "  [3] Public Safety - Pittsburgh, PA — https://www.pittsburghpa.gov/Safety/Alerts/Public-Safety-Press-Release-Archive\n",
            "  [4] Public Safety - Pittsburgh, PA — https://www.pittsburghpa.gov/Safety/Alerts/Public-Safety-Press-Release-Archive\n",
            "  [5] Living in Pittsburgh — https://www.cmu.edu/campus-life/living-in-pittsburgh\n"
          ]
        },
        {
          "name": "stderr",
          "output_type": "stream",
          "text": [
            "Answering:  11%|█         | 43/400 [00:10<01:20,  4.46it/s]"
          ]
        },
        {
          "name": "stdout",
          "output_type": "stream",
          "text": [
            "Q43 sources:\n",
            "  [1] Pittsburgh Marathons, Runs, and Walks — https://www.visitpittsburgh.com/events-festivals/marathons-runs-walks/\n",
            "  [2] First-Place Finish — https://www.cmu.edu/homepage/practical/2007/fall/victory.shtml\n",
            "  [3] Public Safety - Pittsburgh, PA — https://www.pittsburghpa.gov/Safety/Alerts/Public-Safety-Press-Release-Archive\n",
            "  [4] CMU125 - CMU125 - Carnegie Mellon University — https://www.cmu.edu/125/index.html\n",
            "  [5] Park Rangers - Pittsburgh, PA — https://www.pittsburghpa.gov/Safety/Public-Safety/Park-Rangers\n",
            "Q44 sources:\n",
            "  [1] Taxes - Pittsburgh, PA — https://www.pittsburghpa.gov/City-Government/Finance-Budget/Taxes\n",
            "  [2] Public Safety - Pittsburgh, PA — https://www.pittsburghpa.gov/Safety/Alerts/Public-Safety-Press-Release-Archive\n",
            "  [3] Public Safety - Pittsburgh, PA — https://www.pittsburghpa.gov/Safety/Alerts/Public-Safety-Press-Release-Archive\n",
            "  [4] Public Safety - Pittsburgh, PA — https://www.pittsburghpa.gov/Safety/Alerts/Public-Safety-Press-Release-Archive\n",
            "  [5] What's Happening - Downtown Pittsburgh — https://downtownpittsburgh.com/events/\n"
          ]
        },
        {
          "name": "stderr",
          "output_type": "stream",
          "text": [
            "\rAnswering:  11%|█         | 44/400 [00:11<01:38,  3.60it/s]"
          ]
        },
        {
          "name": "stdout",
          "output_type": "stream",
          "text": [
            "Q45 sources:\n",
            "  [1] Taxes - Pittsburgh, PA — https://www.pittsburghpa.gov/City-Government/Finance-Budget/Taxes\n",
            "  [2] Taxes - Pittsburgh, PA — https://www.pittsburghpa.gov/City-Government/Finance-Budget/Taxes\n",
            "  [3] Taxes - Pittsburgh, PA — https://www.pittsburghpa.gov/City-Government/Finance-Budget/Taxes\n",
            "  [4] Taxes - Pittsburgh, PA — https://www.pittsburghpa.gov/City-Government/Finance-Budget/Taxes\n",
            "  [5] Taxes - Pittsburgh, PA — https://www.pittsburghpa.gov/City-Government/Finance-Budget/Taxes\n"
          ]
        },
        {
          "name": "stderr",
          "output_type": "stream",
          "text": [
            "Answering:  12%|█▏        | 46/400 [00:11<01:35,  3.71it/s]"
          ]
        },
        {
          "name": "stdout",
          "output_type": "stream",
          "text": [
            "Q46 sources:\n",
            "  [1] Public Safety - Pittsburgh, PA — https://www.pittsburghpa.gov/Safety/Alerts/Public-Safety-Press-Release-Archive\n",
            "  [2] Public Safety - Pittsburgh, PA — https://www.pittsburghpa.gov/Safety/Alerts/Public-Safety-Press-Release-Archive\n",
            "  [3] Shopping in Pittsburgh | Reviews, Maps & Coupons | Visit Pittsburgh — https://www.visitpittsburgh.com/things-to-do/shopping/\n",
            "  [4] Public Safety - Pittsburgh, PA — https://www.pittsburghpa.gov/Safety/Alerts/Public-Safety-Press-Release-Archive\n",
            "  [5] Public Safety - Pittsburgh, PA — https://www.pittsburghpa.gov/Safety/Alerts/Public-Safety-Press-Release-Archive\n",
            "Q47 sources:\n",
            "  [1] Biography - Pittsburgh, PA — https://www.pittsburghpa.gov/City-Government/Mayor/Biography\n",
            "  [2] City of Pittsburgh Charity Challenges: FAQs — https://www.pittsburghpa.gov/City-Government/Mayor/City-of-Pittsburgh-Charity-Challenges-FAQs\n",
            "  [3] Public Safety - Pittsburgh, PA — https://www.pittsburghpa.gov/Safety/Alerts/Public-Safety-Press-Release-Archive\n",
            "  [4] Public Safety - Pittsburgh, PA — https://www.pittsburghpa.gov/Safety/Alerts/Public-Safety-Press-Release-Archive\n",
            "  [5] Public Safety - Pittsburgh, PA — https://www.pittsburghpa.gov/Safety/Alerts/Public-Safety-Press-Release-Archive\n"
          ]
        },
        {
          "name": "stderr",
          "output_type": "stream",
          "text": [
            "Answering:  12%|█▏        | 48/400 [00:12<01:22,  4.27it/s]"
          ]
        },
        {
          "name": "stdout",
          "output_type": "stream",
          "text": [
            "Q48 sources:\n",
            "  [1] Pittsburgh Steelers — https://www.visitpittsburgh.com/directory/pittsburgh-steelers/\n",
            "  [2] Event - Downtown Pittsburgh — https://downtownpittsburgh.com/events/event/?id=63768\n",
            "  [3] What's Happening - Downtown Pittsburgh — https://downtownpittsburgh.com/events/\n",
            "  [4] Pittsburgh Steelers — https://www.visitpittsburgh.com/directory/pittsburgh-steelers/\n",
            "  [5] Public Safety - Pittsburgh, PA — https://www.pittsburghpa.gov/Safety/Alerts/Public-Safety-Press-Release-Archive\n",
            "Q49 sources:\n",
            "  [1] Pittsburgh ranks in Lonely Planet's 2025 Global Best in Travel 2025 list — https://www.visitpittsburgh.com/blog/particular-brand-of-magic-pittsburgh-ranks-in-lonely-planets-top-10-global-best-in-travel-2025-list/\n",
            "  [2] Pittsburgh Steelers — https://www.visitpittsburgh.com/directory/pittsburgh-steelers/\n",
            "  [3] Pittsburgh Steelers — https://www.visitpittsburgh.com/directory/pittsburgh-steelers/\n",
            "  [4] Public Safety - Pittsburgh, PA — https://www.pittsburghpa.gov/Safety/Alerts/Public-Safety-Press-Release-Archive\n",
            "  [5] Public Safety - Pittsburgh, PA — https://www.pittsburghpa.gov/Safety/Alerts/Public-Safety-Press-Release-Archive\n"
          ]
        },
        {
          "name": "stderr",
          "output_type": "stream",
          "text": [
            "\rAnswering:  12%|█▏        | 49/400 [00:12<01:14,  4.71it/s]"
          ]
        },
        {
          "name": "stdout",
          "output_type": "stream",
          "text": [
            "Q50 sources:\n",
            "  [1] Harris Theater — https://trustarts.org/pct_home/visit/facilities/harris-theater\n",
            "  [2] Broadway Subscribe — https://trustarts.org/events/series/pnc-broadway-in-pittsburgh/broadway-subscribe\n",
            "  [3] Harris Theater — https://trustarts.org/pct_home/visit/facilities/harris-theater\n",
            "  [4] Volunteer — https://trustarts.org/pct_home/about/volunteering\n",
            "  [5] Broadway Subscribe — https://trustarts.org/events/series/pnc-broadway-in-pittsburgh/broadway-subscribe\n"
          ]
        },
        {
          "name": "stderr",
          "output_type": "stream",
          "text": [
            "\rAnswering:  12%|█▎        | 50/400 [00:12<01:35,  3.65it/s]"
          ]
        },
        {
          "name": "stdout",
          "output_type": "stream",
          "text": [
            "Q51 sources:\n",
            "  [1] Pittsburgh Cultural Activities — https://www.pittsburghpa.gov/Recreation-Events/Events/Pittsburgh-Cultural-Activities\n",
            "  [2] Pittsburgh Cultural Activities — https://www.pittsburghpa.gov/Recreation-Events/Events/Pittsburgh-Cultural-Activities\n",
            "  [3] The Frick Pittsburgh Museums & Gardens — https://www.thefrickpittsburgh.org/leadership\n",
            "  [4] Event - Downtown Pittsburgh — https://downtownpittsburgh.com/events/event/?id=63282\n",
            "  [5] Car and Carriage Museum — https://www.thefrickpittsburgh.org/carandcarriagemuseum\n"
          ]
        },
        {
          "name": "stderr",
          "output_type": "stream",
          "text": [
            "Answering:  13%|█▎        | 52/400 [00:13<01:29,  3.89it/s]"
          ]
        },
        {
          "name": "stdout",
          "output_type": "stream",
          "text": [
            "Q52 sources:\n",
            "  [1] Pittsburgh Neighborhoods Map | Visit Pittsburgh | Visit Pittsburgh — https://www.visitpittsburgh.com/neighborhoods/\n",
            "  [2] National Night Out — https://www.pittsburghpa.gov/Safety/Public-Safety/National-Night-Out\n",
            "  [3] Shopping in Pittsburgh | Reviews, Maps & Coupons | Visit Pittsburgh — https://www.visitpittsburgh.com/things-to-do/shopping/\n",
            "  [4] About City Planning — https://www.pittsburghpa.gov/Business-Development/City-Planning/About-DCP\n",
            "  [5] Public Safety - Pittsburgh, PA — https://www.pittsburghpa.gov/Safety/Alerts/Public-Safety-Press-Release-Archive\n",
            "Q53 sources:\n",
            "  [1] Pittsburgh Restaurants | Listings, Nightlife & Farmers Markets | Visit Pittsburgh — https://www.visitpittsburgh.com/restaurants-culinary/\n",
            "  [2] Resident Testimonials — https://downtownpittsburgh.com/live/downtown-lifestyle/resident-testimonials/\n",
            "  [3] Official Blog of Visit Pittsburgh - Visit Pittsburgh — https://www.visitpittsburgh.com/blog/\n",
            "  [4] Getting Around - Downtown Pittsburgh — https://downtownpittsburgh.com/visit/getting-here/\n",
            "  [5] Event - Downtown Pittsburgh — https://downtownpittsburgh.com/events/event/?id=61926\n"
          ]
        },
        {
          "name": "stderr",
          "output_type": "stream",
          "text": [
            "\rAnswering:  13%|█▎        | 53/400 [00:13<01:21,  4.27it/s]"
          ]
        },
        {
          "name": "stdout",
          "output_type": "stream",
          "text": [
            "Q54 sources:\n",
            "  [1] Taxes - Pittsburgh, PA — https://www.pittsburghpa.gov/City-Government/Finance-Budget/Taxes\n",
            "  [2] Public Safety - Pittsburgh, PA — https://www.pittsburghpa.gov/Safety/Alerts/Public-Safety-Press-Release-Archive\n",
            "  [3] Public Safety - Pittsburgh, PA — https://www.pittsburghpa.gov/Safety/Alerts/Public-Safety-Press-Release-Archive\n",
            "  [4] Public Safety - Pittsburgh, PA — https://www.pittsburghpa.gov/Safety/Alerts/Public-Safety-Press-Release-Archive\n",
            "  [5] What's Happening - Downtown Pittsburgh — https://downtownpittsburgh.com/events/\n"
          ]
        },
        {
          "name": "stderr",
          "output_type": "stream",
          "text": [
            "Answering:  14%|█▍        | 55/400 [00:13<01:14,  4.60it/s]"
          ]
        },
        {
          "name": "stdout",
          "output_type": "stream",
          "text": [
            "Q55 sources:\n",
            "  [1] Park Rangers - Pittsburgh, PA — https://www.pittsburghpa.gov/Safety/Public-Safety/Park-Rangers\n",
            "  [2] Park Rangers - Pittsburgh, PA — https://www.pittsburghpa.gov/Safety/Public-Safety/Park-Rangers\n",
            "  [3] Park Rangers - Pittsburgh, PA — https://www.pittsburghpa.gov/Safety/Public-Safety/Park-Rangers\n",
            "  [4] Park Rangers - Pittsburgh, PA — https://www.pittsburghpa.gov/Safety/Public-Safety/Park-Rangers\n",
            "  [5] Park Rangers - Pittsburgh, PA — https://www.pittsburghpa.gov/Safety/Public-Safety/Park-Rangers\n",
            "Q56 sources:\n",
            "  [1] Public Safety - Pittsburgh, PA — https://www.pittsburghpa.gov/Safety/Alerts/Public-Safety-Press-Release-Archive\n",
            "  [2] Public Safety - Pittsburgh, PA — https://www.pittsburghpa.gov/Safety/Alerts/Public-Safety-Press-Release-Archive\n",
            "  [3] Public Safety - Pittsburgh, PA — https://www.pittsburghpa.gov/Safety/Alerts/Public-Safety-Press-Release-Archive\n",
            "  [4] Public Safety - Pittsburgh, PA — https://www.pittsburghpa.gov/Safety/Alerts/Public-Safety-Press-Release-Archive\n",
            "  [5] Public Safety - Pittsburgh, PA — https://www.pittsburghpa.gov/Safety/Alerts/Public-Safety-Press-Release-Archive\n"
          ]
        },
        {
          "name": "stderr",
          "output_type": "stream",
          "text": [
            "Answering:  14%|█▍        | 57/400 [00:14<01:07,  5.07it/s]"
          ]
        },
        {
          "name": "stdout",
          "output_type": "stream",
          "text": [
            "Q57 sources:\n",
            "  [1] Real Estate - Pittsburgh, PA — https://www.pittsburghpa.gov/City-Government/Finance-Budget/Real-Estate\n",
            "  [2] Real Estate - Pittsburgh, PA — https://www.pittsburghpa.gov/City-Government/Finance-Budget/Real-Estate\n",
            "  [3] Real Estate - Pittsburgh, PA — https://www.pittsburghpa.gov/City-Government/Finance-Budget/Real-Estate\n",
            "  [4] Taxes - Pittsburgh, PA — https://www.pittsburghpa.gov/City-Government/Finance-Budget/Taxes\n",
            "  [5] Taxes - Pittsburgh, PA — https://www.pittsburghpa.gov/City-Government/Finance-Budget/Taxes\n",
            "Q58 sources:\n",
            "  [1] Family Weekend - Family Engagement - Carnegie Mellon University — https://www.cmu.edu/family/events/family-weekend/\n",
            "  [2] Center for Business Engagement — https://www.cmu.edu/business-engagement/\n",
            "  [3] Family Weekend - Family Engagement - Carnegie Mellon University — https://www.cmu.edu/family/events/family-weekend/\n",
            "  [4] Family Weekend - Family Engagement - Carnegie Mellon University — https://www.cmu.edu/family/events/family-weekend/\n",
            "  [5] History | Carnegie Mellon University — https://www.cmu.edu/about/history.html\n"
          ]
        },
        {
          "name": "stderr",
          "output_type": "stream",
          "text": [
            "Answering:  15%|█▍        | 59/400 [00:14<01:02,  5.45it/s]"
          ]
        },
        {
          "name": "stdout",
          "output_type": "stream",
          "text": [
            "Q59 sources:\n",
            "  [1] About — https://www.ml.cmu.edu/about/\n",
            "  [2] Academics | Carnegie Mellon University — https://www.cmu.edu/academics\n",
            "  [3] History | Carnegie Mellon University — https://www.cmu.edu/about/history.html\n",
            "  [4] Giving Opportunities | Engage with CMU — https://www.cmu.edu/engage/give/opportunities/index.html\n",
            "  [5] B.S. in Artificial Intelligence — https://www.cs.cmu.edu/bs-in-artificial-intelligence/\n",
            "Q60 sources:\n",
            "  [1] Family Weekend - Family Engagement - Carnegie Mellon University — https://www.cmu.edu/family/events/family-weekend/\n",
            "  [2] Meet in Pittsburgh — https://www.visitpittsburgh.com/meetings-and-events/reasons-to-meet-in-pittsburgh/\n",
            "  [3] Center for Business Engagement — https://www.cmu.edu/business-engagement/\n",
            "  [4] History | Carnegie Mellon University — https://www.cmu.edu/about/history.html\n",
            "  [5] Family Weekend - Family Engagement - Carnegie Mellon University — https://www.cmu.edu/family/events/family-weekend/\n"
          ]
        },
        {
          "name": "stderr",
          "output_type": "stream",
          "text": [
            "Answering:  15%|█▌        | 61/400 [00:14<00:54,  6.21it/s]"
          ]
        },
        {
          "name": "stdout",
          "output_type": "stream",
          "text": [
            "Q61 sources:\n",
            "  [1] Pittsburgh Food Festivals - Greek - Oktoberfest - Apples - Maple Syrup — https://www.visitpittsburgh.com/events-festivals/food-festivals/\n",
            "  [2] Food Systems - Pittsburgh, PA — https://www.pittsburghpa.gov/Business-Development/Sustainability/Food-Systems\n",
            "  [3] What's Happening - Downtown Pittsburgh — https://downtownpittsburgh.com/events/?n=10&d=4&y=2025\n",
            "  [4] What's Happening - Downtown Pittsburgh — https://downtownpittsburgh.com/events/?n=10&d=18&y=2025\n",
            "  [5] Event - Downtown Pittsburgh — https://downtownpittsburgh.com/events/event/?id=63793\n",
            "Q62 sources:\n",
            "  [1] Pittsburgh Cultural Activities — https://www.pittsburghpa.gov/Recreation-Events/Events/Pittsburgh-Cultural-Activities\n",
            "  [2] Public Safety - Pittsburgh, PA — https://www.pittsburghpa.gov/Safety/Alerts/Public-Safety-Press-Release-Archive\n",
            "  [3] Gingerbread House Competition Accepting Entries Beginning October 1 — https://www.pittsburghpa.gov/News-articles/Homepage/The-23rd-Annual-Gingerbread-House-Competition-Accepting-Entries-Beginning-October-1\n",
            "  [4] Gingerbread House Competition Accepting Entries Beginning October 1 — https://www.pittsburghpa.gov/News-articles/Homepage/The-23rd-Annual-Gingerbread-House-Competition-Accepting-Entries-Beginning-October-1\n",
            "  [5] Commissions and Boards — https://www.pittsburghpa.gov/Business-Development/City-Planning/Commissions-and-Boards\n"
          ]
        },
        {
          "name": "stderr",
          "output_type": "stream",
          "text": [
            "Answering:  16%|█▌        | 63/400 [00:15<00:51,  6.48it/s]"
          ]
        },
        {
          "name": "stdout",
          "output_type": "stream",
          "text": [
            "Q63 sources:\n",
            "  [1] Clerk's Office - Pittsburgh, PA — https://www.pittsburghpa.gov/City-Government/City-Council/Clerks-Office\n",
            "  [2] Public Safety - Pittsburgh, PA — https://www.pittsburghpa.gov/Safety/Alerts/Public-Safety-Press-Release-Archive\n",
            "  [3] Public Safety - Pittsburgh, PA — https://www.pittsburghpa.gov/Safety/Alerts/Public-Safety-Press-Release-Archive\n",
            "  [4] Public Safety - Pittsburgh, PA — https://www.pittsburghpa.gov/Safety/Alerts/Public-Safety-Press-Release-Archive\n",
            "  [5] Public Safety - Pittsburgh, PA — https://www.pittsburghpa.gov/Safety/Alerts/Public-Safety-Press-Release-Archive\n",
            "Q64 sources:\n",
            "  [1] Pittsburgh ranks in Lonely Planet's 2025 Global Best in Travel 2025 list — https://www.visitpittsburgh.com/blog/particular-brand-of-magic-pittsburgh-ranks-in-lonely-planets-top-10-global-best-in-travel-2025-list/\n",
            "  [2] The Neill Log House — https://www.pittsburghpa.gov/Recreation-Events/Park-Facilities/The-Neill-Log-House\n",
            "  [3] Public Safety - Pittsburgh, PA — https://www.pittsburghpa.gov/Safety/Alerts/Public-Safety-Press-Release-Archive\n",
            "  [4] What's Happening - Downtown Pittsburgh — https://downtownpittsburgh.com/events/?n=11&y=2025\n",
            "  [5] Public Safety - Pittsburgh, PA — https://www.pittsburghpa.gov/Safety/Alerts/Public-Safety-Press-Release-Archive\n"
          ]
        },
        {
          "name": "stderr",
          "output_type": "stream",
          "text": [
            "\rAnswering:  16%|█▌        | 64/400 [00:15<00:51,  6.47it/s]"
          ]
        },
        {
          "name": "stdout",
          "output_type": "stream",
          "text": [
            "Q65 sources:\n",
            "  [1] Taxes - Pittsburgh, PA — https://www.pittsburghpa.gov/City-Government/Finance-Budget/Taxes\n",
            "  [2] Taxes - Pittsburgh, PA — https://www.pittsburghpa.gov/City-Government/Finance-Budget/Taxes\n",
            "  [3] Taxes - Pittsburgh, PA — https://www.pittsburghpa.gov/City-Government/Finance-Budget/Taxes\n",
            "  [4] Taxes - Pittsburgh, PA — https://www.pittsburghpa.gov/City-Government/Finance-Budget/Taxes\n",
            "  [5] Taxes - Pittsburgh, PA — https://www.pittsburghpa.gov/City-Government/Finance-Budget/Taxes\n"
          ]
        },
        {
          "name": "stderr",
          "output_type": "stream",
          "text": [
            "Answering:  16%|█▋        | 66/400 [00:15<01:09,  4.82it/s]"
          ]
        },
        {
          "name": "stdout",
          "output_type": "stream",
          "text": [
            "Q66 sources:\n",
            "  [1] Student Admission — https://www.cmu.edu/student-admission/index.html\n",
            "  [2] CMU Visit - Carnegie Mellon University — https://www.cmu.edu/visit/\n",
            "  [3] Campus Life | Carnegie Mellon University — https://www.cmu.edu/campus-life\n",
            "  [4] Where Research Gets to Work — https://www.cmu.edu/news/stories/archives/2025/may/where-research-gets-to-work\n",
            "  [5] Carnegie Mellon Named a Top 20 US University — https://www.cmu.edu/news/stories/archives/2025/september/carnegie-mellon-named-a-top-20-us-university\n",
            "Q67 sources:\n",
            "  [1] Honeck Manfred — https://pittsburghsymphony.org/pso_home/biographies/pso-conductors/honeck-manfred\n",
            "  [2] PNC Pops Concerts — https://www.pittsburghsymphony.org/pso_home/web/subscriptions/pnc-pops-concerts\n",
            "  [3] What's Happening - Downtown Pittsburgh — https://downtownpittsburgh.com/events/\n",
            "  [4] Saturday Sessions — https://www.pittsburghsymphony.org/pso_home/web/saturday-sessions\n",
            "  [5] What's Happening - Downtown Pittsburgh — https://downtownpittsburgh.com/events/\n"
          ]
        },
        {
          "name": "stderr",
          "output_type": "stream",
          "text": [
            "\rAnswering:  17%|█▋        | 67/400 [00:16<01:29,  3.74it/s]"
          ]
        },
        {
          "name": "stdout",
          "output_type": "stream",
          "text": [
            "Q68 sources:\n",
            "  [1] Getting Around - Downtown Pittsburgh — https://downtownpittsburgh.com/visit/getting-here/\n",
            "  [2] Getting Around - Downtown Pittsburgh — https://downtownpittsburgh.com/visit/getting-here/\n",
            "  [3] Park Rangers - Pittsburgh, PA — https://www.pittsburghpa.gov/Safety/Public-Safety/Park-Rangers\n",
            "  [4] Official Pittsburgh Visitors Centers — https://www.visitpittsburgh.com/plan-your-trip/welcome-centers/\n",
            "  [5] Park Rangers - Pittsburgh, PA — https://www.pittsburghpa.gov/Safety/Public-Safety/Park-Rangers\n"
          ]
        },
        {
          "name": "stderr",
          "output_type": "stream",
          "text": [
            "Answering:  17%|█▋        | 69/400 [00:16<01:28,  3.75it/s]"
          ]
        },
        {
          "name": "stdout",
          "output_type": "stream",
          "text": [
            "Q69 sources:\n",
            "  [1] Public Safety - Pittsburgh, PA — https://www.pittsburghpa.gov/Safety/Alerts/Public-Safety-Press-Release-Archive\n",
            "  [2] Public Safety - Pittsburgh, PA — https://www.pittsburghpa.gov/Safety/Alerts/Public-Safety-Press-Release-Archive\n",
            "  [3] Public Safety - Pittsburgh, PA — https://www.pittsburghpa.gov/Safety/Alerts/Public-Safety-Press-Release-Archive\n",
            "  [4] Public Safety - Pittsburgh, PA — https://www.pittsburghpa.gov/Safety/Alerts/Public-Safety-Press-Release-Archive\n",
            "  [5] Public Safety - Pittsburgh, PA — https://www.pittsburghpa.gov/Safety/Alerts/Public-Safety-Press-Release-Archive\n",
            "Q70 sources:\n",
            "  [1] Free Things to Do in Pittsburgh Today — https://www.visitpittsburgh.com/things-to-do/free-things-to-do/\n",
            "  [2] Resident Testimonials — https://downtownpittsburgh.com/live/downtown-lifestyle/resident-testimonials/\n",
            "  [3] What's Happening - Downtown Pittsburgh — https://downtownpittsburgh.com/events/?n=11&d=1&y=2025\n",
            "  [4] The Neill Log House — https://www.pittsburghpa.gov/Recreation-Events/Park-Facilities/The-Neill-Log-House\n",
            "  [5] Pittsburgh ranks in Lonely Planet's 2025 Global Best in Travel 2025 list — https://www.visitpittsburgh.com/blog/particular-brand-of-magic-pittsburgh-ranks-in-lonely-planets-top-10-global-best-in-travel-2025-list/\n"
          ]
        },
        {
          "name": "stderr",
          "output_type": "stream",
          "text": [
            "\rAnswering:  18%|█▊        | 70/400 [00:17<01:20,  4.07it/s]"
          ]
        },
        {
          "name": "stdout",
          "output_type": "stream",
          "text": [
            "Q71 sources:\n",
            "  [1] City Controller - Pittsburgh, PA — https://www.pittsburghpa.gov/City-Government/City-Controllers-Office\n",
            "  [2] City Controller - Pittsburgh, PA — https://www.pittsburghpa.gov/City-Government/City-Controllers-Office\n",
            "  [3] About the Controller — https://www.pittsburghpa.gov/City-Government/City-Controllers-Office/About-the-Controller\n",
            "  [4] City of Pittsburgh Careers — https://www.pittsburghpa.gov/City-Government/Jobs/Careers\n",
            "  [5] About City Planning — https://www.pittsburghpa.gov/Business-Development/City-Planning/About-DCP\n",
            "Q72 sources:\n",
            "  [1] About City Planning — https://www.pittsburghpa.gov/Business-Development/City-Planning/About-DCP\n",
            "  [2] City of Pittsburgh Charity Challenges: FAQs — https://www.pittsburghpa.gov/City-Government/Mayor/City-of-Pittsburgh-Charity-Challenges-FAQs\n",
            "  [3] Resident Testimonials — https://downtownpittsburgh.com/live/downtown-lifestyle/resident-testimonials/\n",
            "  [4] The City of Pittsburgh, PA: Boards — https://www.pittsburghpa.gov/City-Government/Boards-Authorities-Commissions/Member-Rosters\n",
            "  [5] City Planning - Pittsburgh, PA — https://www.pittsburghpa.gov/Business-Development/City-Planning\n"
          ]
        },
        {
          "name": "stderr",
          "output_type": "stream",
          "text": [
            "Answering:  18%|█▊        | 73/400 [00:17<01:02,  5.24it/s]"
          ]
        },
        {
          "name": "stdout",
          "output_type": "stream",
          "text": [
            "Q73 sources:\n",
            "  [1] Public Safety - Pittsburgh, PA — https://www.pittsburghpa.gov/Safety/Alerts/Public-Safety-Press-Release-Archive\n",
            "  [2] Public Safety - Pittsburgh, PA — https://www.pittsburghpa.gov/Safety/Alerts/Public-Safety-Press-Release-Archive\n",
            "  [3] About Bureau of Fire — https://www.pittsburghpa.gov/Safety/Fire/About-Fire\n",
            "  [4] Public Safety - Pittsburgh, PA — https://www.pittsburghpa.gov/Safety/Alerts/Public-Safety-Press-Release-Archive\n",
            "  [5] Public Safety - Pittsburgh, PA — https://www.pittsburghpa.gov/Safety/Alerts/Public-Safety-Press-Release-Archive\n",
            "Q74 sources:\n",
            "  [1] Where Research Gets to Work — https://www.cmu.edu/news/stories/archives/2025/may/where-research-gets-to-work\n",
            "  [2] Where Research Gets to Work — https://www.cmu.edu/news/stories/archives/2025/may/where-research-gets-to-work\n",
            "  [3] About — https://www.ml.cmu.edu/about/\n",
            "  [4] Blog — https://trustarts.org/blog\n",
            "  [5] A Puppy’s Guide Dog Training: The Benedum Center Edition — https://trustarts.org/blog/a-puppys-guide-dog-training-the-benedum-center-edition\n"
          ]
        },
        {
          "name": "stderr",
          "output_type": "stream",
          "text": [
            "\rAnswering:  18%|█▊        | 74/400 [00:17<01:01,  5.34it/s]"
          ]
        },
        {
          "name": "stdout",
          "output_type": "stream",
          "text": [
            "Q75 sources:\n",
            "  [1] About Police - Pittsburgh, PA — https://www.pittsburghpa.gov/Safety/Police/About-Police\n",
            "  [2] Public Safety - Pittsburgh, PA — https://www.pittsburghpa.gov/Safety/Alerts/Public-Safety-Press-Release-Archive\n",
            "  [3] Pittsburgh ranks in Lonely Planet's 2025 Global Best in Travel 2025 list — https://www.visitpittsburgh.com/blog/particular-brand-of-magic-pittsburgh-ranks-in-lonely-planets-top-10-global-best-in-travel-2025-list/\n",
            "  [4] What's Happening - Downtown Pittsburgh — https://downtownpittsburgh.com/events/?n=11&y=2025\n",
            "  [5] Public Safety - Pittsburgh, PA — https://www.pittsburghpa.gov/Safety/Alerts/Public-Safety-Press-Release-Archive\n"
          ]
        },
        {
          "name": "stderr",
          "output_type": "stream",
          "text": [
            "Answering:  19%|█▉        | 76/400 [00:18<01:11,  4.53it/s]"
          ]
        },
        {
          "name": "stdout",
          "output_type": "stream",
          "text": [
            "Q76 sources:\n",
            "  [1] City Planning Public Notices — https://www.pittsburghpa.gov/Business-Development/City-Planning/Public-Notices\n",
            "  [2] City Bridges - Pittsburgh, PA — https://www.pittsburghpa.gov/Business-Development/Mobility-and-Infrastructure/Plans/City-Bridges\n",
            "  [3] City Bridges - Pittsburgh, PA — https://www.pittsburghpa.gov/Business-Development/Mobility-and-Infrastructure/Plans/City-Bridges\n",
            "  [4] City Bridges - Pittsburgh, PA — https://www.pittsburghpa.gov/Business-Development/Mobility-and-Infrastructure/Plans/City-Bridges\n",
            "  [5] Public Safety - Pittsburgh, PA — https://www.pittsburghpa.gov/Safety/Alerts/Public-Safety-Press-Release-Archive\n",
            "Q77 sources:\n",
            "  [1] Pittsburgh Cultural Activities — https://www.pittsburghpa.gov/Recreation-Events/Events/Pittsburgh-Cultural-Activities\n",
            "  [2] Event - Downtown Pittsburgh — https://downtownpittsburgh.com/events/event/?id=63773\n",
            "  [3] LGBTQIA+ Travel in Pittsburgh — https://www.visitpittsburgh.com/plan-your-trip/lgbtq-travel/\n",
            "  [4] Event - Downtown Pittsburgh — https://downtownpittsburgh.com/events/event/?id=63823\n",
            "  [5] Senior Travel | Visit Pittsburgh — https://www.visitpittsburgh.com/plan-your-trip/senior-travel/\n"
          ]
        },
        {
          "name": "stderr",
          "output_type": "stream",
          "text": [
            "Answering:  20%|█▉        | 78/400 [00:18<01:11,  4.50it/s]"
          ]
        },
        {
          "name": "stdout",
          "output_type": "stream",
          "text": [
            "Q78 sources:\n",
            "  [1] Startup Resources — https://www.pittsburghpa.gov/Business-Development/Small-Business-Resources/Startup-Resources\n",
            "  [2] Historic Home and Gardens — https://www.thefrickpittsburgh.org/historichome\n",
            "  [3] What's Happening - Downtown Pittsburgh — https://downtownpittsburgh.com/events/\n",
            "  [4] Historic Home and Gardens — https://www.thefrickpittsburgh.org/historichome\n",
            "  [5] Clayton Preservation Tour — https://www.thefrickpittsburgh.org/Event-Clayton-Preservation-Tour\n",
            "Q79 sources:\n",
            "  [1] About City Planning — https://www.pittsburghpa.gov/Business-Development/City-Planning/About-DCP\n",
            "  [2] City Planning - Pittsburgh, PA — https://www.pittsburghpa.gov/Business-Development/City-Planning\n",
            "  [3] City of Pittsburgh Charity Challenges: FAQs — https://www.pittsburghpa.gov/City-Government/Mayor/City-of-Pittsburgh-Charity-Challenges-FAQs\n",
            "  [4] New Business Registration — https://www.pittsburghpa.gov/City-Government/Finance-Budget/New-Business-Registration\n",
            "  [5] The City of Pittsburgh, PA: Boards — https://www.pittsburghpa.gov/City-Government/Boards-Authorities-Commissions/Member-Rosters\n"
          ]
        },
        {
          "name": "stderr",
          "output_type": "stream",
          "text": [
            "Answering:  20%|██        | 80/400 [00:19<01:00,  5.31it/s]"
          ]
        },
        {
          "name": "stdout",
          "output_type": "stream",
          "text": [
            "Q80 sources:\n",
            "  [1] CMU Celebrates 2025 Fulbright Recipients — https://www.cmu.edu/news/stories/archives/2025/august/cmu-celebrates-2025-fulbright-recipients\n",
            "  [2] The Frick Pittsburgh Museums & Gardens — https://www.thefrickpittsburgh.org/familyandlegacy\n",
            "  [3] The Frick Pittsburgh Museums & Gardens — https://www.thefrickpittsburgh.org/exhibitions\n",
            "  [4] Public Safety - Pittsburgh, PA — https://www.pittsburghpa.gov/Safety/Alerts/Public-Safety-Press-Release-Archive\n",
            "  [5] America250 | Visit Pittsburgh | Visit Pittsburgh — https://www.visitpittsburgh.com/america-250/\n",
            "Q81 sources:\n",
            "  [1] The Frick Pittsburgh Museums & Gardens — https://www.thefrickpittsburgh.org/familyandlegacy\n",
            "  [2] Historic Home and Gardens — https://www.thefrickpittsburgh.org/historichome\n",
            "  [3] What's Happening - Downtown Pittsburgh — https://downtownpittsburgh.com/events/\n",
            "  [4] Public Safety - Pittsburgh, PA — https://www.pittsburghpa.gov/Safety/Alerts/Public-Safety-Press-Release-Archive\n",
            "  [5] Historic Home and Gardens — https://www.thefrickpittsburgh.org/historichome\n"
          ]
        },
        {
          "name": "stderr",
          "output_type": "stream",
          "text": [
            "\rAnswering:  20%|██        | 81/400 [00:19<00:57,  5.60it/s]"
          ]
        },
        {
          "name": "stdout",
          "output_type": "stream",
          "text": [
            "Q82 sources:\n",
            "  [1] What's Happening - Downtown Pittsburgh — https://downtownpittsburgh.com/events/?n=10&d=31&y=2025\n",
            "  [2] Taxes - Pittsburgh, PA — https://www.pittsburghpa.gov/City-Government/Finance-Budget/Taxes\n",
            "  [3] What's Happening - Downtown Pittsburgh — https://downtownpittsburgh.com/events/\n",
            "  [4] What's Happening - Downtown Pittsburgh — https://downtownpittsburgh.com/events/?n=10&d=4&y=2025\n",
            "  [5] Community Festivals — https://www.pittsburghpa.gov/Recreation-Events/Special-Events/Community-Festivals\n"
          ]
        },
        {
          "name": "stderr",
          "output_type": "stream",
          "text": [
            "\rAnswering:  20%|██        | 82/400 [00:19<01:19,  4.02it/s]"
          ]
        },
        {
          "name": "stdout",
          "output_type": "stream",
          "text": [
            "Q83 sources:\n",
            "  [1] Pittsburgh Cultural Activities — https://www.pittsburghpa.gov/Recreation-Events/Events/Pittsburgh-Cultural-Activities\n",
            "  [2] Pittsburgh, PA Sports Teams — https://www.visitpittsburgh.com/things-to-do/pittsburgh-sports-teams/\n",
            "  [3] The Frick Pittsburgh Museums & Gardens — https://www.thefrickpittsburgh.org/groupvisits\n",
            "  [4] Event - Downtown Pittsburgh — https://downtownpittsburgh.com/events/event/?id=63282\n",
            "  [5] Photography Policies — https://www.thefrickpittsburgh.org/photography-policy\n"
          ]
        },
        {
          "name": "stderr",
          "output_type": "stream",
          "text": [
            "\rAnswering:  21%|██        | 83/400 [00:19<01:25,  3.73it/s]"
          ]
        },
        {
          "name": "stdout",
          "output_type": "stream",
          "text": [
            "Q84 sources:\n",
            "  [1] Taxes - Pittsburgh, PA — https://www.pittsburghpa.gov/City-Government/Finance-Budget/Taxes\n",
            "  [2] Taxes - Pittsburgh, PA — https://www.pittsburghpa.gov/City-Government/Finance-Budget/Taxes\n",
            "  [3] Taxes - Pittsburgh, PA — https://www.pittsburghpa.gov/City-Government/Finance-Budget/Taxes\n",
            "  [4] Taxes - Pittsburgh, PA — https://www.pittsburghpa.gov/City-Government/Finance-Budget/Taxes\n",
            "  [5] Taxes - Pittsburgh, PA — https://www.pittsburghpa.gov/City-Government/Finance-Budget/Taxes\n"
          ]
        },
        {
          "name": "stderr",
          "output_type": "stream",
          "text": [
            "\rAnswering:  21%|██        | 84/400 [00:20<01:38,  3.20it/s]"
          ]
        },
        {
          "name": "stdout",
          "output_type": "stream",
          "text": [
            "Q85 sources:\n",
            "  [1] Taxes - Pittsburgh, PA — https://www.pittsburghpa.gov/City-Government/Finance-Budget/Taxes\n",
            "  [2] Public Safety - Pittsburgh, PA — https://www.pittsburghpa.gov/Safety/Alerts/Public-Safety-Press-Release-Archive\n",
            "  [3] Public Safety - Pittsburgh, PA — https://www.pittsburghpa.gov/Safety/Alerts/Public-Safety-Press-Release-Archive\n",
            "  [4] Public Safety - Pittsburgh, PA — https://www.pittsburghpa.gov/Safety/Alerts/Public-Safety-Press-Release-Archive\n",
            "  [5] Public Safety - Pittsburgh, PA — https://www.pittsburghpa.gov/Safety/Alerts/Public-Safety-Press-Release-Archive\n"
          ]
        },
        {
          "name": "stderr",
          "output_type": "stream",
          "text": [
            "Answering:  22%|██▏       | 86/400 [00:20<01:30,  3.47it/s]"
          ]
        },
        {
          "name": "stdout",
          "output_type": "stream",
          "text": [
            "Q86 sources:\n",
            "  [1] Real Estate - Pittsburgh, PA — https://www.pittsburghpa.gov/City-Government/Finance-Budget/Real-Estate\n",
            "  [2] Clayton Preservation Tour — https://www.thefrickpittsburgh.org/Event-Clayton-Preservation-Tour\n",
            "  [3] Code Enforcement — https://www.pittsburghpa.gov/Business-Development/Permits-Licenses-and-Inspections/Code-Enforcement\n",
            "  [4] The Frick Pittsburgh Museums & Gardens — https://www.thefrickpittsburgh.org/tours\n",
            "  [5] Public Safety - Pittsburgh, PA — https://www.pittsburghpa.gov/Safety/Alerts/Public-Safety-Press-Release-Archive\n",
            "Q87 sources:\n",
            "  [1] Getting Around - Downtown Pittsburgh — https://downtownpittsburgh.com/visit/getting-here/\n",
            "  [2] Getting Around - Downtown Pittsburgh — https://downtownpittsburgh.com/visit/getting-here/\n",
            "  [3] Official Pittsburgh Visitors Centers — https://www.visitpittsburgh.com/plan-your-trip/welcome-centers/\n",
            "  [4] Public Safety - Pittsburgh, PA — https://www.pittsburghpa.gov/Safety/Alerts/Public-Safety-Press-Release-Archive\n",
            "  [5] Public Safety - Pittsburgh, PA — https://www.pittsburghpa.gov/Safety/Alerts/Public-Safety-Press-Release-Archive\n"
          ]
        },
        {
          "name": "stderr",
          "output_type": "stream",
          "text": [
            "\rAnswering:  22%|██▏       | 87/400 [00:21<01:41,  3.07it/s]"
          ]
        },
        {
          "name": "stdout",
          "output_type": "stream",
          "text": [
            "Q88 sources:\n",
            "  [1] Housing - Pittsburgh, PA — https://www.pittsburghpa.gov/Business-Development/Zoning/Housing\n",
            "  [2] City Cuts - Pittsburgh, PA — https://www.pittsburghpa.gov/Resident-Services/Community-Programming/City-Cuts\n",
            "  [3] Taxes - Pittsburgh, PA — https://www.pittsburghpa.gov/City-Government/Finance-Budget/Taxes\n",
            "  [4] City of Pittsburgh Charity Challenges: FAQs — https://www.pittsburghpa.gov/City-Government/Mayor/City-of-Pittsburgh-Charity-Challenges-FAQs\n",
            "  [5] About Mobility and Infrastructure — https://www.pittsburghpa.gov/Business-Development/Mobility-and-Infrastructure/About-Mobility-and-Infrastructure\n"
          ]
        },
        {
          "name": "stderr",
          "output_type": "stream",
          "text": [
            "Answering:  22%|██▏       | 89/400 [00:21<01:22,  3.76it/s]"
          ]
        },
        {
          "name": "stdout",
          "output_type": "stream",
          "text": [
            "Q89 sources:\n",
            "  [1] Public Safety - Pittsburgh, PA — https://www.pittsburghpa.gov/Safety/Alerts/Public-Safety-Press-Release-Archive\n",
            "  [2] Biography - Pittsburgh, PA — https://www.pittsburghpa.gov/City-Government/Mayor/Biography\n",
            "  [3] Become a Paramedic — https://www.pittsburghpa.gov/Safety/Emergency-Medical-Services/Become-a-Paramedic\n",
            "  [4] Public Safety - Pittsburgh, PA — https://www.pittsburghpa.gov/Safety/Alerts/Public-Safety-Press-Release-Archive\n",
            "  [5] Public Safety - Pittsburgh, PA — https://www.pittsburghpa.gov/Safety/Alerts/Public-Safety-Press-Release-Archive\n",
            "Q90 sources:\n",
            "  [1] Free Things to Do in Pittsburgh Today — https://www.visitpittsburgh.com/things-to-do/free-things-to-do/\n",
            "  [2] America250 | Visit Pittsburgh | Visit Pittsburgh — https://www.visitpittsburgh.com/america-250/\n",
            "  [3] Public Safety - Pittsburgh, PA — https://www.pittsburghpa.gov/Safety/Alerts/Public-Safety-Press-Release-Archive\n",
            "  [4] Pittsburgh ranks in Lonely Planet's 2025 Global Best in Travel 2025 list — https://www.visitpittsburgh.com/blog/particular-brand-of-magic-pittsburgh-ranks-in-lonely-planets-top-10-global-best-in-travel-2025-list/\n",
            "  [5] Official Pittsburgh Visitors Centers — https://www.visitpittsburgh.com/plan-your-trip/welcome-centers/\n"
          ]
        },
        {
          "name": "stderr",
          "output_type": "stream",
          "text": [
            "\rAnswering:  22%|██▎       | 90/400 [00:21<01:11,  4.32it/s]"
          ]
        },
        {
          "name": "stdout",
          "output_type": "stream",
          "text": [
            "Q91 sources:\n",
            "  [1] Pittsburgh ranks in Lonely Planet's 2025 Global Best in Travel 2025 list — https://www.visitpittsburgh.com/blog/particular-brand-of-magic-pittsburgh-ranks-in-lonely-planets-top-10-global-best-in-travel-2025-list/\n",
            "  [2] The Frick Pittsburgh Museums & Gardens — https://www.thefrickpittsburgh.org/familyandlegacy\n",
            "  [3] America250 | Visit Pittsburgh | Visit Pittsburgh — https://www.visitpittsburgh.com/america-250/\n",
            "  [4] The Frick Pittsburgh Museums & Gardens — https://www.thefrickpittsburgh.org/familyandlegacy\n",
            "  [5] History | Carnegie Mellon University — https://www.cmu.edu/about/history.html\n"
          ]
        },
        {
          "name": "stderr",
          "output_type": "stream",
          "text": [
            "\rAnswering:  23%|██▎       | 91/400 [00:22<01:27,  3.53it/s]"
          ]
        },
        {
          "name": "stdout",
          "output_type": "stream",
          "text": [
            "Q92 sources:\n",
            "  [1] Free Things to Do in Pittsburgh Today — https://www.visitpittsburgh.com/things-to-do/free-things-to-do/\n",
            "  [2] America250 | Visit Pittsburgh | Visit Pittsburgh — https://www.visitpittsburgh.com/america-250/\n",
            "  [3] Official Pittsburgh Visitors Centers — https://www.visitpittsburgh.com/plan-your-trip/welcome-centers/\n",
            "  [4] What's Happening - Downtown Pittsburgh — https://downtownpittsburgh.com/events/?n=10&d=31&y=2025\n",
            "  [5] What's Happening - Downtown Pittsburgh — https://downtownpittsburgh.com/events/?n=11&y=2025\n"
          ]
        },
        {
          "name": "stderr",
          "output_type": "stream",
          "text": [
            "Answering:  23%|██▎       | 93/400 [00:22<01:23,  3.67it/s]"
          ]
        },
        {
          "name": "stdout",
          "output_type": "stream",
          "text": [
            "Q93 sources:\n",
            "  [1] Council Budget Office — https://www.pittsburghpa.gov/City-Government/City-Council/Council-Budget-Office\n",
            "  [2] Management & Budget — https://www.pittsburghpa.gov/City-Government/Finance-Budget/Management-Budget\n",
            "  [3] What's Happening - Downtown Pittsburgh — https://downtownpittsburgh.com/events/?n=11&y=2025\n",
            "  [4] Fee Schedule - Pittsburgh, PA — https://www.pittsburghpa.gov/City-Government/Finance-Budget/Finance-Fee-Schedule\n",
            "  [5] City Bridges - Pittsburgh, PA — https://www.pittsburghpa.gov/Business-Development/Mobility-and-Infrastructure/Plans/City-Bridges\n",
            "Q94 sources:\n",
            "  [1] What's Happening - Downtown Pittsburgh — https://downtownpittsburgh.com/events/?n=11&d=8&y=2025\n",
            "  [2] What's Happening - Downtown Pittsburgh — https://downtownpittsburgh.com/events/?n=11&y=2025\n",
            "  [3] What's Happening - Downtown Pittsburgh — https://downtownpittsburgh.com/events/?n=10&d=30&y=2025\n",
            "  [4] What's Happening - Downtown Pittsburgh — https://downtownpittsburgh.com/events/?n=11&d=1&y=2025\n",
            "  [5] Senior Travel | Visit Pittsburgh — https://www.visitpittsburgh.com/plan-your-trip/senior-travel/\n"
          ]
        },
        {
          "name": "stderr",
          "output_type": "stream",
          "text": [
            "Answering:  24%|██▍       | 95/400 [00:23<01:04,  4.71it/s]"
          ]
        },
        {
          "name": "stdout",
          "output_type": "stream",
          "text": [
            "Q95 sources:\n",
            "  [1] Council Budget Office — https://www.pittsburghpa.gov/City-Government/City-Council/Council-Budget-Office\n",
            "  [2] About the Controller — https://www.pittsburghpa.gov/City-Government/City-Controllers-Office/About-the-Controller\n",
            "  [3] Management & Budget — https://www.pittsburghpa.gov/City-Government/Finance-Budget/Management-Budget\n",
            "  [4] City Bridges - Pittsburgh, PA — https://www.pittsburghpa.gov/Business-Development/Mobility-and-Infrastructure/Plans/City-Bridges\n",
            "  [5] Public Safety - Pittsburgh, PA — https://www.pittsburghpa.gov/Safety/Alerts/Public-Safety-Press-Release-Archive\n",
            "Q96 sources:\n",
            "  [1] Public Safety - Pittsburgh, PA — https://www.pittsburghpa.gov/Safety/Alerts/Public-Safety-Press-Release-Archive\n",
            "  [2] Pittsburgh Steelers — https://www.visitpittsburgh.com/directory/pittsburgh-steelers/\n",
            "  [3] Pittsburgh Steelers — https://www.visitpittsburgh.com/directory/pittsburgh-steelers/\n",
            "  [4] Pittsburgh ranks in Lonely Planet's 2025 Global Best in Travel 2025 list — https://www.visitpittsburgh.com/blog/particular-brand-of-magic-pittsburgh-ranks-in-lonely-planets-top-10-global-best-in-travel-2025-list/\n",
            "  [5] Public Safety - Pittsburgh, PA — https://www.pittsburghpa.gov/Safety/Alerts/Public-Safety-Press-Release-Archive\n"
          ]
        },
        {
          "name": "stderr",
          "output_type": "stream",
          "text": [
            "\rAnswering:  24%|██▍       | 96/400 [00:23<00:57,  5.32it/s]"
          ]
        },
        {
          "name": "stdout",
          "output_type": "stream",
          "text": [
            "Q97 sources:\n",
            "  [1] Kennywood | Visit Pittsburgh — https://www.visitpittsburgh.com/directory/kennywood/\n",
            "  [2] Park Rangers - Pittsburgh, PA — https://www.pittsburghpa.gov/Safety/Public-Safety/Park-Rangers\n",
            "  [3] Clayton Preservation Tour — https://www.thefrickpittsburgh.org/Event-Clayton-Preservation-Tour\n",
            "  [4] Park Rangers - Pittsburgh, PA — https://www.pittsburghpa.gov/Safety/Public-Safety/Park-Rangers\n",
            "  [5] The Neill Log House — https://www.pittsburghpa.gov/Recreation-Events/Park-Facilities/The-Neill-Log-House\n"
          ]
        },
        {
          "name": "stderr",
          "output_type": "stream",
          "text": [
            "Answering:  24%|██▍       | 98/400 [00:23<01:04,  4.65it/s]"
          ]
        },
        {
          "name": "stdout",
          "output_type": "stream",
          "text": [
            "Q98 sources:\n",
            "  [1] Pittsburgh ranks in Lonely Planet's 2025 Global Best in Travel 2025 list — https://www.visitpittsburgh.com/blog/particular-brand-of-magic-pittsburgh-ranks-in-lonely-planets-top-10-global-best-in-travel-2025-list/\n",
            "  [2] Public Safety - Pittsburgh, PA — https://www.pittsburghpa.gov/Safety/Alerts/Public-Safety-Press-Release-Archive\n",
            "  [3] Public Safety - Pittsburgh, PA — https://www.pittsburghpa.gov/Safety/Alerts/Public-Safety-Press-Release-Archive\n",
            "  [4] What's Happening - Downtown Pittsburgh — https://downtownpittsburgh.com/events/?n=11&y=2025\n",
            "  [5] Public Safety - Pittsburgh, PA — https://www.pittsburghpa.gov/Safety/Alerts/Public-Safety-Press-Release-Archive\n",
            "Q99 sources:\n",
            "  [1] Public Safety - Pittsburgh, PA — https://www.pittsburghpa.gov/Safety/Alerts/Public-Safety-Press-Release-Archive\n",
            "  [2] Event - Downtown Pittsburgh — https://downtownpittsburgh.com/events/event/?id=63718\n",
            "  [3] Public Safety - Pittsburgh, PA — https://www.pittsburghpa.gov/Safety/Alerts/Public-Safety-Press-Release-Archive\n",
            "  [4] Special Event & Block Party Permitting — https://www.pittsburghpa.gov/Recreation-Events/Film-Event-Management/Special-Event-Block-Party-Permitting\n",
            "  [5] Public Safety - Pittsburgh, PA — https://www.pittsburghpa.gov/Safety/Alerts/Public-Safety-Press-Release-Archive\n"
          ]
        },
        {
          "name": "stderr",
          "output_type": "stream",
          "text": [
            "Answering:  25%|██▌       | 100/400 [00:24<01:12,  4.16it/s]"
          ]
        },
        {
          "name": "stdout",
          "output_type": "stream",
          "text": [
            "Q100 sources:\n",
            "  [1] Shopping in Pittsburgh | Reviews, Maps & Coupons | Visit Pittsburgh — https://www.visitpittsburgh.com/things-to-do/shopping/\n",
            "  [2] Gingerbread House Competition Accepting Entries Beginning October 1 — https://www.pittsburghpa.gov/News-articles/Homepage/The-23rd-Annual-Gingerbread-House-Competition-Accepting-Entries-Beginning-October-1\n",
            "  [3] Gingerbread House Competition Accepting Entries Beginning October 1 — https://www.pittsburghpa.gov/Events-directory/Gingerbread-House-Competition-Accepting-Entries-Beginning-October-1\n",
            "  [4] Public Safety - Pittsburgh, PA — https://www.pittsburghpa.gov/Safety/Alerts/Public-Safety-Press-Release-Archive\n",
            "  [5] Real Estate - Pittsburgh, PA — https://www.pittsburghpa.gov/City-Government/Finance-Budget/Real-Estate\n",
            "Q101 sources:\n",
            "  [1] LGBTQIA+ Travel in Pittsburgh — https://www.visitpittsburgh.com/plan-your-trip/lgbtq-travel/\n",
            "  [2] Downtown Activation + Public Art — https://downtownpittsburgh.com/publicart/\n",
            "  [3] Past Exhibitions — https://www.thefrickpittsburgh.org/past-exhibitions\n",
            "  [4] What's Happening - Downtown Pittsburgh — https://downtownpittsburgh.com/events/\n",
            "  [5] What's Happening - Downtown Pittsburgh — https://downtownpittsburgh.com/events/?n=10&d=15&y=2025\n"
          ]
        },
        {
          "name": "stderr",
          "output_type": "stream",
          "text": [
            "\rAnswering:  25%|██▌       | 101/400 [00:24<01:28,  3.36it/s]"
          ]
        },
        {
          "name": "stdout",
          "output_type": "stream",
          "text": [
            "Q102 sources:\n",
            "  [1] Pittsburgh Cultural Activities — https://www.pittsburghpa.gov/Recreation-Events/Events/Pittsburgh-Cultural-Activities\n",
            "  [2] Harris Theater — https://trustarts.org/pct_home/visit/facilities/harris-theater\n",
            "  [3] Pittsburgh Cultural Activities — https://www.pittsburghpa.gov/Recreation-Events/Events/Pittsburgh-Cultural-Activities\n",
            "  [4] The Scandinavian Home: Landscape and Lore — https://www.thefrickpittsburgh.org/Event-The-Scandinavian-Home-Landscape-and-Lore-The-Frick-Pittsburgh-Museums-Gardens\n",
            "  [5] The Frick Pittsburgh Museums & Gardens — https://www.thefrickpittsburgh.org/support-detail\n"
          ]
        },
        {
          "name": "stderr",
          "output_type": "stream",
          "text": [
            "Answering:  26%|██▌       | 103/400 [00:25<01:15,  3.95it/s]"
          ]
        },
        {
          "name": "stdout",
          "output_type": "stream",
          "text": [
            "Q103 sources:\n",
            "  [1] About — https://trustarts.org/pct_home/about\n",
            "  [2] Pittsburgh ranks in Lonely Planet's 2025 Global Best in Travel 2025 list — https://www.visitpittsburgh.com/blog/particular-brand-of-magic-pittsburgh-ranks-in-lonely-planets-top-10-global-best-in-travel-2025-list/\n",
            "  [3] What's Happening - Downtown Pittsburgh — https://downtownpittsburgh.com/events/?n=10&d=29&y=2025\n",
            "  [4] What's Happening - Downtown Pittsburgh — https://downtownpittsburgh.com/events/?n=10&d=30&y=2025\n",
            "  [5] Public Safety - Pittsburgh, PA — https://www.pittsburghpa.gov/Safety/Alerts/Public-Safety-Press-Release-Archive\n",
            "Q104 sources:\n",
            "  [1] Pittsburgh Symphony Orchestra — https://pittsburghsymphony.org/\n",
            "  [2] Contact — https://pittsburghsymphony.org/pso_home/web/contact\n",
            "  [3] Photography Policies — https://www.thefrickpittsburgh.org/photography-policy\n",
            "  [4] Pittsburgh Cultural Activities — https://www.pittsburghpa.gov/Recreation-Events/Events/Pittsburgh-Cultural-Activities\n",
            "  [5] Movies with the PSO — https://www.pittsburghsymphony.org/pso_home/web/movies-with-the-pso\n",
            "Q105 sources:\n",
            "  [1] Pittsburgh Transportation | Getting Around | Visit Pittsburgh | Visit Pittsburgh — https://www.visitpittsburgh.com/plan-your-trip/transportation/\n",
            "  [2] Rescue Division - Pittsburgh, PA — https://www.pittsburghpa.gov/Safety/Emergency-Medical-Services/Rescue-Division\n",
            "  [3] Public Safety - Pittsburgh, PA — https://www.pittsburghpa.gov/Safety/Alerts/Public-Safety-Press-Release-Archive\n",
            "  [4] Public Safety - Pittsburgh, PA — https://www.pittsburghpa.gov/Safety/Alerts/Public-Safety-Press-Release-Archive\n",
            "  [5] Public Safety - Pittsburgh, PA — https://www.pittsburghpa.gov/Safety/Alerts/Public-Safety-Press-Release-Archive\n"
          ]
        },
        {
          "name": "stderr",
          "output_type": "stream",
          "text": [
            "Answering:  26%|██▋       | 106/400 [00:25<01:03,  4.63it/s]"
          ]
        },
        {
          "name": "stdout",
          "output_type": "stream",
          "text": [
            "Q106 sources:\n",
            "  [1] Pittsburgh Cultural Activities — https://www.pittsburghpa.gov/Recreation-Events/Events/Pittsburgh-Cultural-Activities\n",
            "  [2] Event - Downtown Pittsburgh — https://downtownpittsburgh.com/events/event/?id=63282\n",
            "  [3] The Frick Pittsburgh Museums & Gardens — https://www.thefrickpittsburgh.org/familyandlegacy\n",
            "  [4] Pittsburgh Cultural Activities — https://www.pittsburghpa.gov/Recreation-Events/Events/Pittsburgh-Cultural-Activities\n",
            "  [5] About — https://trustarts.org/pct_home/about\n",
            "Q107 sources:\n",
            "  [1] Pittsburgh Cultural Activities — https://www.pittsburghpa.gov/Recreation-Events/Events/Pittsburgh-Cultural-Activities\n",
            "  [2] Live Downtown - Downtown Pittsburgh — https://downtownpittsburgh.com/live/\n",
            "  [3] Official Pittsburgh Visitors Centers — https://www.visitpittsburgh.com/plan-your-trip/welcome-centers/\n",
            "  [4] Community Garden Plots — https://www.pittsburghpa.gov/Recreation-Events/Parks/Community-Garden-Plots\n",
            "  [5] Event - Downtown Pittsburgh — https://downtownpittsburgh.com/events/event/?id=63920\n"
          ]
        },
        {
          "name": "stderr",
          "output_type": "stream",
          "text": [
            "\rAnswering:  27%|██▋       | 107/400 [00:26<01:03,  4.63it/s]"
          ]
        },
        {
          "name": "stdout",
          "output_type": "stream",
          "text": [
            "Q108 sources:\n",
            "  [1] Pittsburgh Cultural Activities — https://www.pittsburghpa.gov/Recreation-Events/Events/Pittsburgh-Cultural-Activities\n",
            "  [2] LGBTQIA+ Travel in Pittsburgh — https://www.visitpittsburgh.com/plan-your-trip/lgbtq-travel/\n",
            "  [3] Event - Downtown Pittsburgh — https://downtownpittsburgh.com/events/event/?id=63282\n",
            "  [4] Photography Policies — https://www.thefrickpittsburgh.org/photography-policy\n",
            "  [5] The Frick Pittsburgh Museums & Gardens — https://www.thefrickpittsburgh.org/familyandlegacy\n"
          ]
        },
        {
          "name": "stderr",
          "output_type": "stream",
          "text": [
            "Answering:  27%|██▋       | 109/400 [00:26<01:12,  4.01it/s]"
          ]
        },
        {
          "name": "stdout",
          "output_type": "stream",
          "text": [
            "Q109 sources:\n",
            "  [1] Event - Downtown Pittsburgh — https://downtownpittsburgh.com/events/event/?id=63964\n",
            "  [2] Special Events News — https://www.pittsburghpa.gov/Recreation-Events/Special-Events/Special-Events-News\n",
            "  [3] What's Happening - Downtown Pittsburgh — https://downtownpittsburgh.com/events/?n=10&d=4&y=2025\n",
            "  [4] What's Happening - Downtown Pittsburgh — https://downtownpittsburgh.com/events/\n",
            "  [5] Public Safety - Pittsburgh, PA — https://www.pittsburghpa.gov/Safety/Alerts/Public-Safety-Press-Release-Archive\n",
            "Q110 sources:\n",
            "  [1] Senior Travel | Visit Pittsburgh — https://www.visitpittsburgh.com/plan-your-trip/senior-travel/\n",
            "  [2] Pittsburgh Cultural Activities — https://www.pittsburghpa.gov/Recreation-Events/Events/Pittsburgh-Cultural-Activities\n",
            "  [3] Downtown Activation + Public Art — https://downtownpittsburgh.com/publicart/\n",
            "  [4] The Frick Pittsburgh Museums & Gardens — https://www.thefrickpittsburgh.org/familyandlegacy\n",
            "  [5] Event - Downtown Pittsburgh — https://downtownpittsburgh.com/events/event/?id=63282\n"
          ]
        },
        {
          "name": "stderr",
          "output_type": "stream",
          "text": [
            "\rAnswering:  28%|██▊       | 110/400 [00:26<01:07,  4.32it/s]"
          ]
        },
        {
          "name": "stdout",
          "output_type": "stream",
          "text": [
            "Q111 sources:\n",
            "  [1] Pittsburgh Cultural Activities — https://www.pittsburghpa.gov/Recreation-Events/Events/Pittsburgh-Cultural-Activities\n",
            "  [2] Senior Travel | Visit Pittsburgh — https://www.visitpittsburgh.com/plan-your-trip/senior-travel/\n",
            "  [3] Event - Downtown Pittsburgh — https://downtownpittsburgh.com/events/event/?id=63282\n",
            "  [4] Pittsburgh Cultural Activities — https://www.pittsburghpa.gov/Recreation-Events/Events/Pittsburgh-Cultural-Activities\n",
            "  [5] What's Happening - Downtown Pittsburgh — https://downtownpittsburgh.com/events/?n=11&d=8&y=2025\n"
          ]
        },
        {
          "name": "stderr",
          "output_type": "stream",
          "text": [
            "\rAnswering:  28%|██▊       | 111/400 [00:27<01:06,  4.37it/s]"
          ]
        },
        {
          "name": "stdout",
          "output_type": "stream",
          "text": [
            "Q112 sources:\n",
            "  [1] Volunteer — https://trustarts.org/pct_home/about/volunteering\n",
            "  [2] Broadway Subscribe — https://trustarts.org/events/series/pnc-broadway-in-pittsburgh/broadway-subscribe\n",
            "  [3] Student Side-By-Side Program — https://www.pittsburghsymphony.org/pso_home/web/community-landing/learning-programs/student-side-by-side-program\n",
            "  [4] Broadway Subscribe — https://trustarts.org/events/series/pnc-broadway-in-pittsburgh/broadway-subscribe\n",
            "  [5] Volunteer — https://trustarts.org/pct_home/about/volunteering\n"
          ]
        },
        {
          "name": "stderr",
          "output_type": "stream",
          "text": [
            "\rAnswering:  28%|██▊       | 112/400 [00:27<01:08,  4.20it/s]"
          ]
        },
        {
          "name": "stdout",
          "output_type": "stream",
          "text": [
            "Q113 sources:\n",
            "  [1] Public Safety - Pittsburgh, PA — https://www.pittsburghpa.gov/Safety/Alerts/Public-Safety-Press-Release-Archive\n",
            "  [2] Official Pittsburgh Visitors Centers — https://www.visitpittsburgh.com/plan-your-trip/welcome-centers/\n",
            "  [3] Event - Downtown Pittsburgh — https://downtownpittsburgh.com/events/event/?id=63919\n",
            "  [4] Event - Downtown Pittsburgh — https://downtownpittsburgh.com/events/event/?id=63920\n",
            "  [5] Corporate Partnerships — https://pittsburghsymphony.org/pso_home/web/give-landing/corporate-partnerships\n"
          ]
        },
        {
          "name": "stderr",
          "output_type": "stream",
          "text": [
            "Answering:  28%|██▊       | 114/400 [00:27<01:03,  4.52it/s]"
          ]
        },
        {
          "name": "stdout",
          "output_type": "stream",
          "text": [
            "Q114 sources:\n",
            "  [1] Corporate Partnerships — https://pittsburghsymphony.org/pso_home/web/give-landing/corporate-partnerships\n",
            "  [2] Corporate Partnerships — https://pittsburghsymphony.org/pso_home/web/give-landing/corporate-partnerships\n",
            "  [3] Corporate Partnerships — https://pittsburghsymphony.org/pso_home/web/give-landing/corporate-partnerships\n",
            "  [4] Dining Partners — https://pittsburghsymphony.org/pso_home/web/give-landing/corporate-partnerships/dining-partners\n",
            "  [5] Visit Landing — https://pittsburghsymphony.org/pso_home/web/visit-landing\n",
            "Q115 sources:\n",
            "  [1] In Honor of Service — https://pittsburghsymphony.org/pso_home/web/tickets/in-honor-of-service\n",
            "  [2] Student Side-By-Side Program — https://www.pittsburghsymphony.org/pso_home/web/community-landing/learning-programs/student-side-by-side-program\n",
            "  [3] Visitor Information — https://www.cmu.edu/visit/visitor-information\n",
            "  [4] First Destination (Post Graduation) Outcomes - Career & Professional Development Center - Student Affairs - Carnegie Mellon University — https://www.cmu.edu/career/outcomes/post-grad-dashboard.html\n",
            "  [5] Corporate Partnerships — https://pittsburghsymphony.org/pso_home/web/give-landing/corporate-partnerships\n"
          ]
        },
        {
          "name": "stderr",
          "output_type": "stream",
          "text": [
            "Answering:  29%|██▉       | 116/400 [00:28<01:03,  4.45it/s]"
          ]
        },
        {
          "name": "stdout",
          "output_type": "stream",
          "text": [
            "Q116 sources:\n",
            "  [1] Saturday Sessions — https://www.pittsburghsymphony.org/pso_home/web/saturday-sessions\n",
            "  [2] Student Side-By-Side Program — https://www.pittsburghsymphony.org/pso_home/web/community-landing/learning-programs/student-side-by-side-program\n",
            "  [3] PNC Pops Concerts — https://www.pittsburghsymphony.org/pso_home/web/subscriptions/pnc-pops-concerts\n",
            "  [4] Student Side-By-Side Program — https://www.pittsburghsymphony.org/pso_home/web/community-landing/learning-programs/student-side-by-side-program\n",
            "  [5] Honeck Manfred — https://pittsburghsymphony.org/pso_home/biographies/pso-conductors/honeck-manfred\n",
            "Q117 sources:\n",
            "  [1] Honeck Manfred — https://pittsburghsymphony.org/pso_home/biographies/pso-conductors/honeck-manfred\n",
            "  [2] PSO Conductors — https://pittsburghsymphony.org/pso_home/web/about-landing/pso-conductors\n",
            "  [3] Visit Landing — https://pittsburghsymphony.org/pso_home/web/visit-landing\n",
            "  [4] Melia P. Tourangeau — https://pittsburghsymphony.org/pso_home/web/about-landing/melia-p-tourangeau-president\n",
            "  [5] Melia P. Tourangeau — https://pittsburghsymphony.org/pso_home/web/about-landing/melia-p-tourangeau-president\n"
          ]
        },
        {
          "name": "stderr",
          "output_type": "stream",
          "text": [
            "\rAnswering:  29%|██▉       | 117/400 [00:28<01:19,  3.56it/s]"
          ]
        },
        {
          "name": "stdout",
          "output_type": "stream",
          "text": [
            "Q118 sources:\n",
            "  [1] Pittsburgh Cultural Activities — https://www.pittsburghpa.gov/Recreation-Events/Events/Pittsburgh-Cultural-Activities\n",
            "  [2] Event - Downtown Pittsburgh — https://downtownpittsburgh.com/events/event/?id=63282\n",
            "  [3] Event - Downtown Pittsburgh — https://downtownpittsburgh.com/events/event/?id=63282\n",
            "  [4] The Frick Pittsburgh Museums & Gardens — https://www.thefrickpittsburgh.org/familyandlegacy\n",
            "  [5] Support — https://trustarts.org/pct_home/support\n"
          ]
        },
        {
          "name": "stderr",
          "output_type": "stream",
          "text": [
            "Answering:  30%|██▉       | 119/400 [00:29<01:06,  4.21it/s]"
          ]
        },
        {
          "name": "stdout",
          "output_type": "stream",
          "text": [
            "Q119 sources:\n",
            "  [1] Harris Theater — https://trustarts.org/pct_home/visit/facilities/harris-theater\n",
            "  [2] Harris Theater — https://trustarts.org/pct_home/visit/facilities/harris-theater\n",
            "  [3] Harris Theater — https://trustarts.org/pct_home/visit/facilities/harris-theater\n",
            "  [4] Harris Theater — https://trustarts.org/pct_home/visit/facilities/harris-theater\n",
            "  [5] Event - Downtown Pittsburgh — https://downtownpittsburgh.com/events/event/?id=63282\n",
            "Q120 sources:\n",
            "  [1] Pittsburgh Cultural Activities — https://www.pittsburghpa.gov/Recreation-Events/Events/Pittsburgh-Cultural-Activities\n",
            "  [2] Pittsburgh Cultural Activities — https://www.pittsburghpa.gov/Recreation-Events/Events/Pittsburgh-Cultural-Activities\n",
            "  [3] America250 | Visit Pittsburgh | Visit Pittsburgh — https://www.visitpittsburgh.com/america-250/\n",
            "  [4] What's Happening - Downtown Pittsburgh — https://downtownpittsburgh.com/events/?n=11&y=2025\n",
            "  [5] History | Carnegie Mellon University — https://www.cmu.edu/about/history.html\n"
          ]
        },
        {
          "name": "stderr",
          "output_type": "stream",
          "text": [
            "\rAnswering:  30%|███       | 120/400 [00:29<01:01,  4.55it/s]"
          ]
        },
        {
          "name": "stdout",
          "output_type": "stream",
          "text": [
            "Q121 sources:\n",
            "  [1] Event - Downtown Pittsburgh — https://downtownpittsburgh.com/events/event/?id=63919\n",
            "  [2] Event - Downtown Pittsburgh — https://downtownpittsburgh.com/events/event/?id=63920\n",
            "  [3] Public Safety - Pittsburgh, PA — https://www.pittsburghpa.gov/Safety/Alerts/Public-Safety-Press-Release-Archive\n",
            "  [4] Official Pittsburgh Visitors Centers — https://www.visitpittsburgh.com/plan-your-trip/welcome-centers/\n",
            "  [5] Public Safety - Pittsburgh, PA — https://www.pittsburghpa.gov/Safety/Alerts/Public-Safety-Press-Release-Archive\n"
          ]
        },
        {
          "name": "stderr",
          "output_type": "stream",
          "text": [
            "Answering:  30%|███       | 122/400 [00:29<01:04,  4.29it/s]"
          ]
        },
        {
          "name": "stdout",
          "output_type": "stream",
          "text": [
            "Q122 sources:\n",
            "  [1] What's Happening - Downtown Pittsburgh — https://downtownpittsburgh.com/events/\n",
            "  [2] Event - Downtown Pittsburgh — https://downtownpittsburgh.com/events/event/?id=63838\n",
            "  [3] Black History Month — https://www.pittsburghpa.gov/Recreation-Events/Special-Events/Black-History-Month\n",
            "  [4] Black History Month — https://www.pittsburghpa.gov/Recreation-Events/Special-Events/Black-History-Month\n",
            "  [5] Project Pop-Up - Downtown Pittsburgh — https://downtownpittsburgh.com/project-pop-up/\n"
          ]
        },
        {
          "name": "stderr",
          "output_type": "stream",
          "text": [
            "\rAnswering:  31%|███       | 123/400 [00:29<00:58,  4.72it/s]"
          ]
        },
        {
          "name": "stdout",
          "output_type": "stream",
          "text": [
            "Q123 sources:\n",
            "  [1] The City of Pittsburgh, PA: Boards — https://www.pittsburghpa.gov/City-Government/Boards-Authorities-Commissions/Member-Rosters\n",
            "  [2] The City of Pittsburgh, PA: Boards — https://www.pittsburghpa.gov/City-Government/Boards-Authorities-Commissions/Member-Rosters\n",
            "  [3] Annual Reports & Strategic Plan — https://www.thefrickpittsburgh.org/strategicplan\n",
            "  [4] Pittsburgh Cultural Activities — https://www.pittsburghpa.gov/Recreation-Events/Events/Pittsburgh-Cultural-Activities\n",
            "  [5] A New Theater, a Significant Sketch, and a Giant Duck: Three Big Moments in Trust History — https://trustarts.org/blog/a-new-theater-a-significant-sketch-and-a-giant-duck-three-big-moments-in-trust-history\n",
            "Q124 sources:\n",
            "  [1] Melia P. Tourangeau — https://pittsburghsymphony.org/pso_home/web/about-landing/melia-p-tourangeau-president\n",
            "  [2] Visit Landing — https://pittsburghsymphony.org/pso_home/web/visit-landing\n",
            "  [3] Honeck Manfred — https://pittsburghsymphony.org/pso_home/biographies/pso-conductors/honeck-manfred\n",
            "  [4] Pittsburgh Symphony Orchestra — https://pittsburghsymphony.org/\n",
            "  [5] Group Sales — https://pittsburghsymphony.org/pso_home/web/tickets/group-sales\n"
          ]
        },
        {
          "name": "stderr",
          "output_type": "stream",
          "text": [
            "Answering:  31%|███▏      | 125/400 [00:30<00:48,  5.69it/s]"
          ]
        },
        {
          "name": "stdout",
          "output_type": "stream",
          "text": [
            "Q125 sources:\n",
            "  [1] Event - Downtown Pittsburgh — https://downtownpittsburgh.com/events/event/?id=63793\n",
            "  [2] Volunteer — https://trustarts.org/pct_home/about/volunteering\n",
            "  [3] Black History Month — https://www.pittsburghpa.gov/Recreation-Events/Special-Events/Black-History-Month\n",
            "  [4] Black History Month — https://www.pittsburghpa.gov/Recreation-Events/Special-Events/Black-History-Month\n",
            "  [5] What's Happening - Downtown Pittsburgh — https://downtownpittsburgh.com/events/\n",
            "Q126 sources:\n",
            "  [1] What's Happening - Downtown Pittsburgh — https://downtownpittsburgh.com/events/\n",
            "  [2] Event - Downtown Pittsburgh — https://downtownpittsburgh.com/events/event/?id=62903\n",
            "  [3] What's Happening - Downtown Pittsburgh — https://downtownpittsburgh.com/events/?n=10&d=24&y=2025\n",
            "  [4] What's Happening - Downtown Pittsburgh — https://downtownpittsburgh.com/events/\n",
            "  [5] Pittsburgh Cultural Activities — https://www.pittsburghpa.gov/Recreation-Events/Events/Pittsburgh-Cultural-Activities\n"
          ]
        },
        {
          "name": "stderr",
          "output_type": "stream",
          "text": [
            "Answering:  32%|███▏      | 127/400 [00:30<01:04,  4.26it/s]"
          ]
        },
        {
          "name": "stdout",
          "output_type": "stream",
          "text": [
            "Q127 sources:\n",
            "  [1] The Frick Pittsburgh Museums & Gardens — https://www.thefrickpittsburgh.org/tickets\n",
            "  [2] The Frick Pittsburgh Museums & Gardens — https://www.thefrickpittsburgh.org/tickets\n",
            "  [3] The Frick Pittsburgh Museums & Gardens — https://www.thefrickpittsburgh.org/tickets\n",
            "  [4] Plan Your Visit | The Frick Pittsburgh Museums & Gardens — http://www.thefrickpittsburgh.org/plan-your-visit\n",
            "  [5] Clayton Preservation Tour — https://www.thefrickpittsburgh.org/Event-Clayton-Preservation-Tour\n"
          ]
        },
        {
          "name": "stderr",
          "output_type": "stream",
          "text": [
            "\rAnswering:  32%|███▏      | 128/400 [00:30<00:57,  4.72it/s]"
          ]
        },
        {
          "name": "stdout",
          "output_type": "stream",
          "text": [
            "Q128 sources:\n",
            "  [1] Pittsburgh Cultural Activities — https://www.pittsburghpa.gov/Recreation-Events/Events/Pittsburgh-Cultural-Activities\n",
            "  [2] First Destination (Post Graduation) Outcomes - Career & Professional Development Center - Student Affairs - Carnegie Mellon University — https://www.cmu.edu/career/outcomes/post-grad-dashboard.html\n",
            "  [3] Directions, Parking & Lodging — https://pittsburghsymphony.org/pso_home/web/visit-landing/directions-parking-lodging\n",
            "  [4] Corporate Partnerships — https://pittsburghsymphony.org/pso_home/web/give-landing/corporate-partnerships\n",
            "  [5] Historic Home and Gardens — https://www.thefrickpittsburgh.org/historichome\n",
            "Q129 sources:\n",
            "  [1] Free Things to Do in Pittsburgh Today — https://www.visitpittsburgh.com/things-to-do/free-things-to-do/\n",
            "  [2] Pittsburgh Cultural Activities — https://www.pittsburghpa.gov/Recreation-Events/Events/Pittsburgh-Cultural-Activities\n",
            "  [3] Event - Downtown Pittsburgh — https://downtownpittsburgh.com/events/event/?id=63282\n",
            "  [4] The Frick Pittsburgh Museums & Gardens — https://www.thefrickpittsburgh.org/groupvisits\n",
            "  [5] Photography Policies — https://www.thefrickpittsburgh.org/photography-policy\n"
          ]
        },
        {
          "name": "stderr",
          "output_type": "stream",
          "text": [
            "Answering:  32%|███▎      | 130/400 [00:31<00:49,  5.47it/s]"
          ]
        },
        {
          "name": "stdout",
          "output_type": "stream",
          "text": [
            "Q130 sources:\n",
            "  [1] Park Rangers - Pittsburgh, PA — https://www.pittsburghpa.gov/Safety/Public-Safety/Park-Rangers\n",
            "  [2] Park Rangers - Pittsburgh, PA — https://www.pittsburghpa.gov/Safety/Public-Safety/Park-Rangers\n",
            "  [3] Forest Bathing: Mindful Nature Experience — https://www.thefrickpittsburgh.org/Event-Forest-Bathing-Mindful-Nature-Experience-Nov-8\n",
            "  [4] Forest Bathing: Mindful Nature Experience — https://www.thefrickpittsburgh.org/Event-Forest-Bathing-Mindful-Nature-Experience-Nov-8\n",
            "  [5] Forest Bathing: Mindful Nature Experience — https://www.thefrickpittsburgh.org/Event-Forest-Bathing-Mindful-Nature-Experience-Oct-7\n",
            "Q131 sources:\n",
            "  [1] Annual Events in Pittsburgh, PA — https://www.visitpittsburgh.com/events-festivals/annual-events/\n",
            "  [2] Gingerbread House Competition Accepting Entries Beginning October 1 — https://www.pittsburghpa.gov/News-articles/Homepage/The-23rd-Annual-Gingerbread-House-Competition-Accepting-Entries-Beginning-October-1\n",
            "  [3] Gingerbread House Competition Accepting Entries Beginning October 1 — https://www.pittsburghpa.gov/Events-directory/Gingerbread-House-Competition-Accepting-Entries-Beginning-October-1\n",
            "  [4] Gingerbread House Competition Accepting Entries Beginning October 1 — https://www.pittsburghpa.gov/News-articles/Homepage/The-23rd-Annual-Gingerbread-House-Competition-Accepting-Entries-Beginning-October-1\n",
            "  [5] Event - Downtown Pittsburgh — https://downtownpittsburgh.com/events/event/?id=63981\n"
          ]
        },
        {
          "name": "stderr",
          "output_type": "stream",
          "text": [
            "\rAnswering:  33%|███▎      | 131/400 [00:31<00:49,  5.45it/s]"
          ]
        },
        {
          "name": "stdout",
          "output_type": "stream",
          "text": [
            "Q132 sources:\n",
            "  [1] The Frick Pittsburgh Museums & Gardens — https://www.thefrickpittsburgh.org/inclusion\n",
            "  [2] The Frick Pittsburgh Museums & Gardens — https://www.thefrickpittsburgh.org/inclusion\n",
            "  [3] The Frick Pittsburgh Museums & Gardens — https://www.thefrickpittsburgh.org/membership\n",
            "  [4] The Frick Pittsburgh Museums & Gardens — https://www.thefrickpittsburgh.org/support-detail\n",
            "  [5] The Frick Pittsburgh Museums & Gardens — https://www.thefrickpittsburgh.org/familyandlegacy\n"
          ]
        },
        {
          "name": "stderr",
          "output_type": "stream",
          "text": [
            "Answering:  33%|███▎      | 133/400 [00:32<00:59,  4.51it/s]"
          ]
        },
        {
          "name": "stdout",
          "output_type": "stream",
          "text": [
            "Q133 sources:\n",
            "  [1] Honeck Manfred — https://pittsburghsymphony.org/pso_home/biographies/pso-conductors/honeck-manfred\n",
            "  [2] Saturday Sessions — https://www.pittsburghsymphony.org/pso_home/web/saturday-sessions\n",
            "  [3] BNY Classics Concerts — https://www.pittsburghsymphony.org/pso_home/web/bny-classics/bny-classics-concerts\n",
            "  [4] Pittsburgh Symphony Orchestra — https://pittsburghsymphony.org/\n",
            "  [5] Honeck Manfred — https://pittsburghsymphony.org/pso_home/biographies/pso-conductors/honeck-manfred\n",
            "Q134 sources:\n",
            "  [1] The City of Pittsburgh, PA: Boards — https://www.pittsburghpa.gov/City-Government/Boards-Authorities-Commissions/Member-Rosters\n",
            "  [2] Event - Downtown Pittsburgh — https://downtownpittsburgh.com/events/event/?id=63282\n",
            "  [3] Drop-Off Info & Additional Resources — https://www.pittsburghpa.gov/Resident-Services/Trash-Recycling/Drop-Off-Info-Additional-Resources\n",
            "  [4] Commercial Recycling — https://www.pittsburghpa.gov/Resident-Services/Trash-Recycling/Commercial-Recycling\n",
            "  [5] Public Safety - Pittsburgh, PA — https://www.pittsburghpa.gov/Safety/Alerts/Public-Safety-Press-Release-Archive\n"
          ]
        },
        {
          "name": "stderr",
          "output_type": "stream",
          "text": [
            "Answering:  34%|███▍      | 135/400 [00:32<00:52,  5.04it/s]"
          ]
        },
        {
          "name": "stdout",
          "output_type": "stream",
          "text": [
            "Q135 sources:\n",
            "  [1] Pittsburgh Cultural Activities — https://www.pittsburghpa.gov/Recreation-Events/Events/Pittsburgh-Cultural-Activities\n",
            "  [2] Car and Carriage Museum — https://www.thefrickpittsburgh.org/carandcarriagemuseum\n",
            "  [3] The Frick Pittsburgh Museums & Gardens — https://www.thefrickpittsburgh.org/familyandlegacy\n",
            "  [4] The Frick Pittsburgh Museums & Gardens — https://www.thefrickpittsburgh.org/leadership\n",
            "  [5] Clayton Preservation Tour — https://www.thefrickpittsburgh.org/Event-Clayton-Preservation-Tour\n",
            "Q136 sources:\n",
            "  [1] What's Happening - Downtown Pittsburgh — https://downtownpittsburgh.com/events/?n=9&y=2025\n",
            "  [2] Public Safety - Pittsburgh, PA — https://www.pittsburghpa.gov/Safety/Alerts/Public-Safety-Press-Release-Archive\n",
            "  [3] Snow Plow Tracker — https://www.pittsburghpa.gov/Resident-Services/Snow-Removal/Snow-Plow-Tracker\n",
            "  [4] Public Safety - Pittsburgh, PA — https://www.pittsburghpa.gov/Safety/Alerts/Public-Safety-Press-Release-Archive\n",
            "  [5] City Bridges - Pittsburgh, PA — https://www.pittsburghpa.gov/Business-Development/Mobility-and-Infrastructure/Plans/City-Bridges\n"
          ]
        },
        {
          "name": "stderr",
          "output_type": "stream",
          "text": [
            "\rAnswering:  34%|███▍      | 136/400 [00:32<01:08,  3.85it/s]"
          ]
        },
        {
          "name": "stdout",
          "output_type": "stream",
          "text": [
            "Q137 sources:\n",
            "  [1] Pittsburgh's Women's Suffrage Centennial — https://www.pittsburghpa.gov/Resident-Services/Community-Programming/Pittsburghs-Womens-Suffrage-Centennial\n",
            "  [2] Public Safety - Pittsburgh, PA — https://www.pittsburghpa.gov/Safety/Alerts/Public-Safety-Press-Release-Archive\n",
            "  [3] Pittsburgh, PA Sports Teams — https://www.visitpittsburgh.com/things-to-do/pittsburgh-sports-teams/\n",
            "  [4] The Frick Pittsburgh Museums & Gardens — https://www.thefrickpittsburgh.org/Event-Signature-Clayton-Tour-Experience-Gilded-Not-Golden\n",
            "  [5] Public Safety - Pittsburgh, PA — https://www.pittsburghpa.gov/Safety/Alerts/Public-Safety-Press-Release-Archive\n"
          ]
        },
        {
          "name": "stderr",
          "output_type": "stream",
          "text": [
            "\rAnswering:  34%|███▍      | 137/400 [00:33<01:11,  3.66it/s]"
          ]
        },
        {
          "name": "stdout",
          "output_type": "stream",
          "text": [
            "Q138 sources:\n",
            "  [1] Pittsburgh Symphony Orchestra — https://pittsburghsymphony.org/\n",
            "  [2] Student Side-By-Side Program — https://www.pittsburghsymphony.org/pso_home/web/community-landing/learning-programs/student-side-by-side-program\n",
            "  [3] Student Side-By-Side Program — https://www.pittsburghsymphony.org/pso_home/web/community-landing/learning-programs/student-side-by-side-program\n",
            "  [4] Learning Programs — https://pittsburghsymphony.org/pso_home/web/community-landing/learning-programs\n",
            "  [5] Fiddlesticks Musical Exploration Subscriptions — https://www.pittsburghsymphony.org/pso_home/web/fiddlesticks-musical-exploration/fiddlesticks-musical-exploration-subscriptions\n"
          ]
        },
        {
          "name": "stderr",
          "output_type": "stream",
          "text": [
            "\rAnswering:  34%|███▍      | 138/400 [00:33<01:23,  3.15it/s]"
          ]
        },
        {
          "name": "stdout",
          "output_type": "stream",
          "text": [
            "Q139 sources:\n",
            "  [1] Pittsburgh PA Destination Services — https://www.visitpittsburgh.com/meetings-and-events/event-services/\n",
            "  [2] Special Events News — https://www.pittsburghpa.gov/Recreation-Events/Special-Events/Special-Events-News\n",
            "  [3] Student Side-By-Side Program — https://www.pittsburghsymphony.org/pso_home/web/community-landing/learning-programs/student-side-by-side-program\n",
            "  [4] The Long Game: Years of CMU Discoveries Drive New Parkinson's Treatment — https://www.cmu.edu/news/stories/archives/2025/october/the-long-game-years-of-cmu-discoveries-drive-new-parkinsons-treatment\n",
            "  [5] Public Safety - Pittsburgh, PA — https://www.pittsburghpa.gov/Safety/Alerts/Public-Safety-Press-Release-Archive\n"
          ]
        },
        {
          "name": "stderr",
          "output_type": "stream",
          "text": [
            "Answering:  35%|███▌      | 140/400 [00:34<01:15,  3.45it/s]"
          ]
        },
        {
          "name": "stdout",
          "output_type": "stream",
          "text": [
            "Q140 sources:\n",
            "  [1] Pittsburgh Cultural Activities — https://www.pittsburghpa.gov/Recreation-Events/Events/Pittsburgh-Cultural-Activities\n",
            "  [2] The Frick Pittsburgh Museums & Gardens — https://www.thefrickpittsburgh.org/leadership\n",
            "  [3] The Frick Pittsburgh Museums & Gardens — https://www.thefrickpittsburgh.org/familyandlegacy\n",
            "  [4] Car and Carriage Museum — https://www.thefrickpittsburgh.org/carandcarriagemuseum\n",
            "  [5] The Frick Pittsburgh Museums & Gardens — https://www.thefrickpittsburgh.org/familyandlegacy\n",
            "Q141 sources:\n",
            "  [1] The City of Pittsburgh, PA: Boards — https://www.pittsburghpa.gov/City-Government/Boards-Authorities-Commissions/Member-Rosters\n",
            "  [2] Public Safety - Pittsburgh, PA — https://www.pittsburghpa.gov/Safety/Alerts/Public-Safety-Press-Release-Archive\n",
            "  [3] List of Boards, Authorities, Commissions — https://www.pittsburghpa.gov/City-Government/Boards-Authorities-Commissions/List-of-Boards-Authorities-Commissions\n",
            "  [4] Three Icons, One Night of Celebration: Arts Leaders Honored at the Pittsburgh Cultural Trust Gala — https://trustarts.org/blog/three-icons-one-night-of-celebration-arts-leaders-honored-at-the-pittsburgh-cultural-trust-gala\n",
            "  [5] About — https://trustarts.org/pct_home/about\n"
          ]
        },
        {
          "name": "stderr",
          "output_type": "stream",
          "text": [
            "Answering:  36%|███▌      | 142/400 [00:34<01:03,  4.05it/s]"
          ]
        },
        {
          "name": "stdout",
          "output_type": "stream",
          "text": [
            "Q142 sources:\n",
            "  [1] Pittsburgh Cultural Activities — https://www.pittsburghpa.gov/Recreation-Events/Events/Pittsburgh-Cultural-Activities\n",
            "  [2] Official Pittsburgh Visitors Centers — https://www.visitpittsburgh.com/plan-your-trip/welcome-centers/\n",
            "  [3] Historic Home and Gardens — https://www.thefrickpittsburgh.org/historichome\n",
            "  [4] Historic Home and Gardens — https://www.thefrickpittsburgh.org/historichome\n",
            "  [5] Corporate Partnerships — https://pittsburghsymphony.org/pso_home/web/give-landing/corporate-partnerships\n",
            "Q143 sources:\n",
            "  [1] History | Carnegie Mellon University — https://www.cmu.edu/about/history.html\n",
            "  [2] LGBTQIA+ Travel in Pittsburgh — https://www.visitpittsburgh.com/plan-your-trip/lgbtq-travel/\n",
            "  [3] Black History Month — https://www.pittsburghpa.gov/Recreation-Events/Special-Events/Black-History-Month\n",
            "  [4] About — https://www.ml.cmu.edu/about/\n",
            "  [5] Where Research Gets to Work — https://www.cmu.edu/news/stories/archives/2025/may/where-research-gets-to-work\n"
          ]
        },
        {
          "name": "stderr",
          "output_type": "stream",
          "text": [
            "Answering:  36%|███▌      | 144/400 [00:34<00:59,  4.33it/s]"
          ]
        },
        {
          "name": "stdout",
          "output_type": "stream",
          "text": [
            "Q144 sources:\n",
            "  [1] Pittsburgh Cultural Activities — https://www.pittsburghpa.gov/Recreation-Events/Events/Pittsburgh-Cultural-Activities\n",
            "  [2] Pittsburgh Cultural Activities — https://www.pittsburghpa.gov/Recreation-Events/Events/Pittsburgh-Cultural-Activities\n",
            "  [3] Carnegie Mellon Professor Wins 2025 Pulitzer Prize in History — https://www.cmu.edu/news/stories/archives/2025/may/carnegie-mellon-professor-wins-2025-pulitzer-prize-in-history\n",
            "  [4] Carnegie Mellon University Welcomes Second Cohort of Rales Fellows — https://www.cmu.edu/news/stories/archives/2025/october/carnegie-mellon-university-welcomes-second-cohort-of-rales-fellows\n",
            "  [5] Family Weekend - Family Engagement - Carnegie Mellon University — https://www.cmu.edu/family/events/family-weekend/\n"
          ]
        },
        {
          "name": "stderr",
          "output_type": "stream",
          "text": [
            "\rAnswering:  36%|███▋      | 145/400 [00:35<00:53,  4.73it/s]"
          ]
        },
        {
          "name": "stdout",
          "output_type": "stream",
          "text": [
            "Q145 sources:\n",
            "  [1] Pittsburgh Cultural Activities — https://www.pittsburghpa.gov/Recreation-Events/Events/Pittsburgh-Cultural-Activities\n",
            "  [2] History | Carnegie Mellon University — https://www.cmu.edu/about/history.html\n",
            "  [3] The Frick Pittsburgh Museums & Gardens — https://www.thefrickpittsburgh.org/tours\n",
            "  [4] Pittsburgh Cultural Activities — https://www.pittsburghpa.gov/Recreation-Events/Events/Pittsburgh-Cultural-Activities\n",
            "  [5] Car and Carriage Museum — https://www.thefrickpittsburgh.org/carandcarriagemuseum\n",
            "Q146 sources:\n",
            "  [1] Pittsburgh Cultural Activities — https://www.pittsburghpa.gov/Recreation-Events/Events/Pittsburgh-Cultural-Activities\n",
            "  [2] Senior Travel | Visit Pittsburgh — https://www.visitpittsburgh.com/plan-your-trip/senior-travel/\n",
            "  [3] Event - Downtown Pittsburgh — https://downtownpittsburgh.com/events/event/?id=63919\n",
            "  [4] Event - Downtown Pittsburgh — https://downtownpittsburgh.com/events/event/?id=63920\n",
            "  [5] What's Happening - Downtown Pittsburgh — https://downtownpittsburgh.com/events/\n"
          ]
        },
        {
          "name": "stderr",
          "output_type": "stream",
          "text": [
            "\rAnswering:  36%|███▋      | 146/400 [00:35<00:49,  5.09it/s]"
          ]
        },
        {
          "name": "stdout",
          "output_type": "stream",
          "text": [
            "Q147 sources:\n",
            "  [1] LGBTQIA+ Travel in Pittsburgh — https://www.visitpittsburgh.com/plan-your-trip/lgbtq-travel/\n",
            "  [2] Past Exhibitions — https://www.thefrickpittsburgh.org/past-exhibitions\n",
            "  [3] Downtown Activation + Public Art — https://downtownpittsburgh.com/publicart/\n",
            "  [4] Project Pop-Up - Downtown Pittsburgh — https://downtownpittsburgh.com/project-pop-up/\n",
            "  [5] The Frick Pittsburgh Museums & Gardens — https://www.thefrickpittsburgh.org/inclusion\n"
          ]
        },
        {
          "name": "stderr",
          "output_type": "stream",
          "text": [
            "\rAnswering:  37%|███▋      | 147/400 [00:35<00:55,  4.60it/s]"
          ]
        },
        {
          "name": "stdout",
          "output_type": "stream",
          "text": [
            "Q148 sources:\n",
            "  [1] What's Happening - Downtown Pittsburgh — https://downtownpittsburgh.com/events/?n=10&d=10&y=2025\n",
            "  [2] What's Happening - Downtown Pittsburgh — https://downtownpittsburgh.com/events/\n",
            "  [3] What's Happening - Downtown Pittsburgh — https://downtownpittsburgh.com/events/\n",
            "  [4] Blog — https://trustarts.org/blog\n",
            "  [5] Event - Downtown Pittsburgh — https://downtownpittsburgh.com/events/event/?id=63823\n"
          ]
        },
        {
          "name": "stderr",
          "output_type": "stream",
          "text": [
            "Answering:  37%|███▋      | 149/400 [00:36<01:05,  3.85it/s]"
          ]
        },
        {
          "name": "stdout",
          "output_type": "stream",
          "text": [
            "Q149 sources:\n",
            "  [1] Website Accessibility — https://www.pittsburghpa.gov/Resident-Services/ADA-Disability-Rights/Statutes-Policies/Website-Accessibility\n",
            "  [2] Website Accessibility — https://www.pittsburghpa.gov/Resident-Services/ADA-Disability-Rights/Statutes-Policies/Website-Accessibility\n",
            "  [3] The Frick Pittsburgh Museums & Gardens — https://www.thefrickpittsburgh.org/employment\n",
            "  [4] Public Safety - Pittsburgh, PA — https://www.pittsburghpa.gov/Safety/Alerts/Public-Safety-Press-Release-Archive\n",
            "  [5] Website Accessibility — https://www.pittsburghpa.gov/Resident-Services/ADA-Disability-Rights/Statutes-Policies/Website-Accessibility\n",
            "Q150 sources:\n",
            "  [1] Pittsburgh Cultural Activities — https://www.pittsburghpa.gov/Recreation-Events/Events/Pittsburgh-Cultural-Activities\n",
            "  [2] Car and Carriage Museum — https://www.thefrickpittsburgh.org/carandcarriagemuseum\n",
            "  [3] Pittsburgh, PA Sports Teams — https://www.visitpittsburgh.com/things-to-do/pittsburgh-sports-teams/\n",
            "  [4] The Frick Pittsburgh Museums & Gardens — https://www.thefrickpittsburgh.org/groupvisits\n",
            "  [5] Event - Downtown Pittsburgh — https://downtownpittsburgh.com/events/event/?id=63282\n"
          ]
        },
        {
          "name": "stderr",
          "output_type": "stream",
          "text": [
            "Answering:  38%|███▊      | 151/400 [00:36<00:55,  4.46it/s]"
          ]
        },
        {
          "name": "stdout",
          "output_type": "stream",
          "text": [
            "Q151 sources:\n",
            "  [1] Pittsburgh Cultural Activities — https://www.pittsburghpa.gov/Recreation-Events/Events/Pittsburgh-Cultural-Activities\n",
            "  [2] Event - Downtown Pittsburgh — https://downtownpittsburgh.com/events/event/?id=63773\n",
            "  [3] Pittsburgh Cultural Activities — https://www.pittsburghpa.gov/Recreation-Events/Events/Pittsburgh-Cultural-Activities\n",
            "  [4] What's Happening - Downtown Pittsburgh — https://downtownpittsburgh.com/events/\n",
            "  [5] The Frick Pittsburgh Museums & Gardens — https://www.thefrickpittsburgh.org/support-detail\n",
            "Q152 sources:\n",
            "  [1] Public Safety - Pittsburgh, PA — https://www.pittsburghpa.gov/Safety/Alerts/Public-Safety-Press-Release-Archive\n",
            "  [2] Saturday Sessions — https://www.pittsburghsymphony.org/pso_home/web/saturday-sessions\n",
            "  [3] Public Safety - Pittsburgh, PA — https://www.pittsburghpa.gov/Safety/Alerts/Public-Safety-Press-Release-Archive\n",
            "  [4] City Bridges - Pittsburgh, PA — https://www.pittsburghpa.gov/Business-Development/Mobility-and-Infrastructure/Plans/City-Bridges\n",
            "  [5] Catching Sunbeams from the Porch Swing of Wisteria Castle — https://www.thefrickpittsburgh.org/Exhibition-Catching-Sunbeams\n"
          ]
        },
        {
          "name": "stderr",
          "output_type": "stream",
          "text": [
            "Answering:  38%|███▊      | 153/400 [00:36<00:47,  5.21it/s]"
          ]
        },
        {
          "name": "stdout",
          "output_type": "stream",
          "text": [
            "Q153 sources:\n",
            "  [1] Event - Downtown Pittsburgh — https://downtownpittsburgh.com/events/event/?id=62499\n",
            "  [2] Event - Downtown Pittsburgh — https://downtownpittsburgh.com/events/event/?id=63793\n",
            "  [3] Blog — https://trustarts.org/blog\n",
            "  [4] Volunteer — https://trustarts.org/pct_home/about/volunteering\n",
            "  [5] Blog — https://trustarts.org/blog\n",
            "Q154 sources:\n",
            "  [1] The Frick Pittsburgh Museums & Gardens — https://www.thefrickpittsburgh.org/employment\n",
            "  [2] The Frick Pittsburgh Museums & Gardens — https://www.thefrickpittsburgh.org/inclusion\n",
            "  [3] Park Rangers - Pittsburgh, PA — https://www.pittsburghpa.gov/Safety/Public-Safety/Park-Rangers\n",
            "  [4] Park Rangers - Pittsburgh, PA — https://www.pittsburghpa.gov/Safety/Public-Safety/Park-Rangers\n",
            "  [5] The Frick Pittsburgh - Membership And Donations — https://tickets.thefrickpittsburgh.org/MembershipAndDonations.aspx?RegularOnly=True\n"
          ]
        },
        {
          "name": "stderr",
          "output_type": "stream",
          "text": [
            "Answering:  39%|███▉      | 155/400 [00:37<00:49,  4.93it/s]"
          ]
        },
        {
          "name": "stdout",
          "output_type": "stream",
          "text": [
            "Q155 sources:\n",
            "  [1] Pittsburgh Cultural Activities — https://www.pittsburghpa.gov/Recreation-Events/Events/Pittsburgh-Cultural-Activities\n",
            "  [2] The Frick Pittsburgh Museums & Gardens — https://www.thefrickpittsburgh.org/leadership\n",
            "  [3] The City of Pittsburgh, PA: Boards — https://www.pittsburghpa.gov/City-Government/Boards-Authorities-Commissions/Member-Rosters\n",
            "  [4] Car and Carriage Museum — https://www.thefrickpittsburgh.org/carandcarriagemuseum\n",
            "  [5] Clayton Preservation Tour — https://www.thefrickpittsburgh.org/Event-Clayton-Preservation-Tour\n",
            "Q156 sources:\n",
            "  [1] Forest Bathing: Mindful Nature Experience — https://www.thefrickpittsburgh.org/Event-Forest-Bathing-Mindful-Nature-Experience-Oct-7\n",
            "  [2] Forest Bathing: Mindful Nature Experience — https://www.thefrickpittsburgh.org/Event-Forest-Bathing-Mindful-Nature-Experience-Nov-8\n",
            "  [3] Park Rangers - Pittsburgh, PA — https://www.pittsburghpa.gov/Safety/Public-Safety/Park-Rangers\n",
            "  [4] Downtown Activation + Public Art — https://downtownpittsburgh.com/publicart/\n",
            "  [5] Park Rangers - Pittsburgh, PA — https://www.pittsburghpa.gov/Safety/Public-Safety/Park-Rangers\n"
          ]
        },
        {
          "name": "stderr",
          "output_type": "stream",
          "text": [
            "\rAnswering:  39%|███▉      | 156/400 [00:37<00:46,  5.27it/s]"
          ]
        },
        {
          "name": "stdout",
          "output_type": "stream",
          "text": [
            "Q157 sources:\n",
            "  [1] Member's Salon at the Frick — https://www.thefrickpittsburgh.org/Event-Members-Salon-at-the-Frick\n",
            "  [2] The Frick Pittsburgh Museums & Gardens — https://www.thefrickpittsburgh.org/leadership\n",
            "  [3] Clayton Preservation Tour — https://www.thefrickpittsburgh.org/Event-Clayton-Preservation-Tour\n",
            "  [4] Harris Theater — https://trustarts.org/pct_home/visit/facilities/harris-theater\n",
            "  [5] Public Safety - Pittsburgh, PA — https://www.pittsburghpa.gov/Safety/Alerts/Public-Safety-Press-Release-Archive\n"
          ]
        },
        {
          "name": "stderr",
          "output_type": "stream",
          "text": [
            "Answering:  40%|███▉      | 158/400 [00:37<00:51,  4.68it/s]"
          ]
        },
        {
          "name": "stdout",
          "output_type": "stream",
          "text": [
            "Q158 sources:\n",
            "  [1] Pittsburgh Cultural Activities — https://www.pittsburghpa.gov/Recreation-Events/Events/Pittsburgh-Cultural-Activities\n",
            "  [2] Public Safety - Pittsburgh, PA — https://www.pittsburghpa.gov/Safety/Alerts/Public-Safety-Press-Release-Archive\n",
            "  [3] Official Pittsburgh Visitors Centers — https://www.visitpittsburgh.com/plan-your-trip/welcome-centers/\n",
            "  [4] Event - Downtown Pittsburgh — https://downtownpittsburgh.com/events/event/?id=63920\n",
            "  [5] Corporate Partnerships — https://pittsburghsymphony.org/pso_home/web/give-landing/corporate-partnerships\n"
          ]
        },
        {
          "name": "stderr",
          "output_type": "stream",
          "text": [
            "\rAnswering:  40%|███▉      | 159/400 [00:38<00:48,  4.93it/s]"
          ]
        },
        {
          "name": "stdout",
          "output_type": "stream",
          "text": [
            "Q159 sources:\n",
            "  [1] Pittsburgh, PA Sports Teams — https://www.visitpittsburgh.com/things-to-do/pittsburgh-sports-teams/\n",
            "  [2] Public Safety - Pittsburgh, PA — https://www.pittsburghpa.gov/Safety/Alerts/Public-Safety-Press-Release-Archive\n",
            "  [3] Public Safety - Pittsburgh, PA — https://www.pittsburghpa.gov/Safety/Alerts/Public-Safety-Press-Release-Archive\n",
            "  [4] Public Safety - Pittsburgh, PA — https://www.pittsburghpa.gov/Safety/Alerts/Public-Safety-Press-Release-Archive\n",
            "  [5] Public Safety - Pittsburgh, PA — https://www.pittsburghpa.gov/Safety/Alerts/Public-Safety-Press-Release-Archive\n",
            "Q160 sources:\n",
            "  [1] Event - Downtown Pittsburgh — https://downtownpittsburgh.com/events/event/?id=63718\n",
            "  [2] What's Happening - Downtown Pittsburgh — https://downtownpittsburgh.com/events/\n",
            "  [3] Downtown Activation + Public Art — https://downtownpittsburgh.com/publicart/\n",
            "  [4] Black History Month — https://www.pittsburghpa.gov/Recreation-Events/Special-Events/Black-History-Month\n",
            "  [5] A New Theater, a Significant Sketch, and a Giant Duck: Three Big Moments in Trust History — https://trustarts.org/blog/a-new-theater-a-significant-sketch-and-a-giant-duck-three-big-moments-in-trust-history\n"
          ]
        },
        {
          "name": "stderr",
          "output_type": "stream",
          "text": [
            "\rAnswering:  40%|████      | 160/400 [00:38<00:49,  4.81it/s]"
          ]
        },
        {
          "name": "stdout",
          "output_type": "stream",
          "text": [
            "Q161 sources:\n",
            "  [1] Public Safety - Pittsburgh, PA — https://www.pittsburghpa.gov/Safety/Alerts/Public-Safety-Press-Release-Archive\n",
            "  [2] Event - Downtown Pittsburgh — https://downtownpittsburgh.com/events/event/?id=63282\n",
            "  [3] The Scandinavian Home: Landscape and Lore — https://www.thefrickpittsburgh.org/Event-The-Scandinavian-Home-Landscape-and-Lore-The-Frick-Pittsburgh-Museums-Gardens\n",
            "  [4] What's Happening - Downtown Pittsburgh — https://downtownpittsburgh.com/events/?n=10&d=12&y=2025\n",
            "  [5] Resident Testimonials — https://downtownpittsburgh.com/live/downtown-lifestyle/resident-testimonials/\n"
          ]
        },
        {
          "name": "stderr",
          "output_type": "stream",
          "text": [
            "\rAnswering:  40%|████      | 161/400 [00:38<00:56,  4.21it/s]"
          ]
        },
        {
          "name": "stdout",
          "output_type": "stream",
          "text": [
            "Q162 sources:\n",
            "  [1] Pittsburgh Cultural Activities — https://www.pittsburghpa.gov/Recreation-Events/Events/Pittsburgh-Cultural-Activities\n",
            "  [2] The City of Pittsburgh, PA: Boards — https://www.pittsburghpa.gov/City-Government/Boards-Authorities-Commissions/Member-Rosters\n",
            "  [3] Directions, Parking & Lodging — https://pittsburghsymphony.org/pso_home/web/visit-landing/directions-parking-lodging\n",
            "  [4] Historic Home and Gardens — https://www.thefrickpittsburgh.org/historichome\n",
            "  [5] Official Pittsburgh Visitors Centers — https://www.visitpittsburgh.com/plan-your-trip/welcome-centers/\n"
          ]
        },
        {
          "name": "stderr",
          "output_type": "stream",
          "text": [
            "Answering:  41%|████      | 163/400 [00:39<00:50,  4.73it/s]"
          ]
        },
        {
          "name": "stdout",
          "output_type": "stream",
          "text": [
            "Q163 sources:\n",
            "  [1] Public Safety - Pittsburgh, PA — https://www.pittsburghpa.gov/Safety/Alerts/Public-Safety-Press-Release-Archive\n",
            "  [2] Pittsburgh Cultural Activities — https://www.pittsburghpa.gov/Recreation-Events/Events/Pittsburgh-Cultural-Activities\n",
            "  [3] Pittsburgh ranks in Lonely Planet's 2025 Global Best in Travel 2025 list — https://www.visitpittsburgh.com/blog/particular-brand-of-magic-pittsburgh-ranks-in-lonely-planets-top-10-global-best-in-travel-2025-list/\n",
            "  [4] Resident Testimonials — https://downtownpittsburgh.com/live/downtown-lifestyle/resident-testimonials/\n",
            "  [5] Historic Home and Gardens — https://www.thefrickpittsburgh.org/historichome\n",
            "Q164 sources:\n",
            "  [1] Public Safety - Pittsburgh, PA — https://www.pittsburghpa.gov/Safety/Alerts/Public-Safety-Press-Release-Archive\n",
            "  [2] Pittsburgh Steelers — https://www.visitpittsburgh.com/directory/pittsburgh-steelers/\n",
            "  [3] Pittsburgh Steelers — https://www.visitpittsburgh.com/directory/pittsburgh-steelers/\n",
            "  [4] Public Safety - Pittsburgh, PA — https://www.pittsburghpa.gov/Safety/Alerts/Public-Safety-Press-Release-Archive\n",
            "  [5] Public Safety - Pittsburgh, PA — https://www.pittsburghpa.gov/Safety/Alerts/Public-Safety-Press-Release-Archive\n"
          ]
        },
        {
          "name": "stderr",
          "output_type": "stream",
          "text": [
            "Answering:  41%|████▏     | 165/400 [00:39<00:47,  4.97it/s]"
          ]
        },
        {
          "name": "stdout",
          "output_type": "stream",
          "text": [
            "Q165 sources:\n",
            "  [1] Pittsburgh Cultural Activities — https://www.pittsburghpa.gov/Recreation-Events/Events/Pittsburgh-Cultural-Activities\n",
            "  [2] Car and Carriage Museum — https://www.thefrickpittsburgh.org/carandcarriagemuseum\n",
            "  [3] The Frick Pittsburgh Museums & Gardens — https://www.thefrickpittsburgh.org/familyandlegacy\n",
            "  [4] The Frick Pittsburgh Museums & Gardens — https://www.thefrickpittsburgh.org/leadership\n",
            "  [5] The Frick Pittsburgh Museums & Gardens — https://www.thefrickpittsburgh.org/familyandlegacy\n"
          ]
        },
        {
          "name": "stderr",
          "output_type": "stream",
          "text": [
            "\rAnswering:  42%|████▏     | 166/400 [00:39<00:44,  5.30it/s]"
          ]
        },
        {
          "name": "stdout",
          "output_type": "stream",
          "text": [
            "Q166 sources:\n",
            "  [1] What's Happening - Downtown Pittsburgh — https://downtownpittsburgh.com/events/?n=10&d=15&y=2025\n",
            "  [2] Event - Downtown Pittsburgh — https://downtownpittsburgh.com/events/event/?id=63947\n",
            "  [3] Event - Downtown Pittsburgh — https://downtownpittsburgh.com/events/event/?id=63947\n",
            "  [4] What's Happening - Downtown Pittsburgh — https://downtownpittsburgh.com/events/\n",
            "  [5] What's Happening - Downtown Pittsburgh — https://downtownpittsburgh.com/events/\n",
            "Q167 sources:\n",
            "  [1] Honeck Manfred — https://pittsburghsymphony.org/pso_home/biographies/pso-conductors/honeck-manfred\n",
            "  [2] Melia P. Tourangeau — https://pittsburghsymphony.org/pso_home/web/about-landing/melia-p-tourangeau-president\n",
            "  [3] Honeck Manfred — https://pittsburghsymphony.org/pso_home/biographies/pso-conductors/honeck-manfred\n",
            "  [4] PSO Conductors — https://pittsburghsymphony.org/pso_home/web/about-landing/pso-conductors\n",
            "  [5] Honeck Manfred — https://pittsburghsymphony.org/pso_home/biographies/pso-conductors/honeck-manfred\n"
          ]
        },
        {
          "name": "stderr",
          "output_type": "stream",
          "text": [
            "Answering:  42%|████▏     | 168/400 [00:40<00:53,  4.33it/s]"
          ]
        },
        {
          "name": "stdout",
          "output_type": "stream",
          "text": [
            "Q168 sources:\n",
            "  [1] Group Sales — https://pittsburghsymphony.org/pso_home/web/tickets/group-sales\n",
            "  [2] Event - Downtown Pittsburgh — https://downtownpittsburgh.com/events/event/?id=63920\n",
            "  [3] Public Safety - Pittsburgh, PA — https://www.pittsburghpa.gov/Safety/Alerts/Public-Safety-Press-Release-Archive\n",
            "  [4] In Honor of Service — https://pittsburghsymphony.org/pso_home/web/tickets/in-honor-of-service\n",
            "  [5] Corporate Partnerships — https://pittsburghsymphony.org/pso_home/web/give-landing/corporate-partnerships\n",
            "Q169 sources:\n",
            "  [1] Blog — https://trustarts.org/blog\n",
            "  [2] Frequently Asked Questions — https://pittsburghsymphony.org/pso_home/web/visit-landing/frequently-asked-questions\n",
            "  [3] Event - Downtown Pittsburgh — https://downtownpittsburgh.com/events/event/?id=63834\n",
            "  [4] Dining Partners — https://pittsburghsymphony.org/pso_home/web/give-landing/corporate-partnerships/dining-partners\n",
            "  [5] Group Sales — https://pittsburghsymphony.org/pso_home/web/tickets/group-sales\n"
          ]
        },
        {
          "name": "stderr",
          "output_type": "stream",
          "text": [
            "Answering:  42%|████▎     | 170/400 [00:40<01:00,  3.82it/s]"
          ]
        },
        {
          "name": "stdout",
          "output_type": "stream",
          "text": [
            "Q170 sources:\n",
            "  [1] About — https://trustarts.org/pct_home/about\n",
            "  [2] Visit — https://trustarts.org/pct_home/visit\n",
            "  [3] Pittsburgh Neighborhoods Map | Visit Pittsburgh | Visit Pittsburgh — https://www.visitpittsburgh.com/neighborhoods/\n",
            "  [4] About — https://trustarts.org/pct_home/about\n",
            "  [5] Explore Black Culture & Heritage — https://www.visitpittsburgh.com/plan-your-trip/explore-black-culture-heritage/\n",
            "Q171 sources:\n",
            "  [1] What's Happening - Downtown Pittsburgh — https://downtownpittsburgh.com/events/?n=10&d=31&y=2025\n",
            "  [2] What's Happening - Downtown Pittsburgh — https://downtownpittsburgh.com/events/?n=11&d=1&y=2025\n",
            "  [3] What's Happening - Downtown Pittsburgh — https://downtownpittsburgh.com/events/?n=11&y=2025\n",
            "  [4] What's Happening - Downtown Pittsburgh — https://downtownpittsburgh.com/events/?n=11&d=2&y=2025\n",
            "  [5] What's Happening - Downtown Pittsburgh — https://downtownpittsburgh.com/events/?n=10&d=17&y=2025\n"
          ]
        },
        {
          "name": "stderr",
          "output_type": "stream",
          "text": [
            "Answering:  43%|████▎     | 172/400 [00:41<01:00,  3.76it/s]"
          ]
        },
        {
          "name": "stdout",
          "output_type": "stream",
          "text": [
            "Q172 sources:\n",
            "  [1] LGBTQIA+ Travel in Pittsburgh — https://www.visitpittsburgh.com/plan-your-trip/lgbtq-travel/\n",
            "  [2] Resident Testimonials — https://downtownpittsburgh.com/live/downtown-lifestyle/resident-testimonials/\n",
            "  [3] Historic Home and Gardens — https://www.thefrickpittsburgh.org/historichome\n",
            "  [4] Announcements - Pittsburgh, PA — https://www.pittsburghpa.gov/Business-Development/Permits-Licenses-and-Inspections/Announcements\n",
            "  [5] New Business Registration — https://www.pittsburghpa.gov/City-Government/Finance-Budget/New-Business-Registration\n",
            "Q173 sources:\n",
            "  [1] Pittsburgh Cultural Activities — https://www.pittsburghpa.gov/Recreation-Events/Events/Pittsburgh-Cultural-Activities\n",
            "  [2] Pittsburgh Cultural Activities — https://www.pittsburghpa.gov/Recreation-Events/Events/Pittsburgh-Cultural-Activities\n",
            "  [3] Event - Downtown Pittsburgh — https://downtownpittsburgh.com/events/event/?id=63919\n",
            "  [4] What's Happening - Downtown Pittsburgh — https://downtownpittsburgh.com/events/?n=9&d=30&y=2025\n",
            "  [5] Event - Downtown Pittsburgh — https://downtownpittsburgh.com/events/event/?id=63920\n"
          ]
        },
        {
          "name": "stderr",
          "output_type": "stream",
          "text": [
            "Answering:  44%|████▎     | 174/400 [00:41<00:48,  4.62it/s]"
          ]
        },
        {
          "name": "stdout",
          "output_type": "stream",
          "text": [
            "Q174 sources:\n",
            "  [1] Where Research Gets to Work — https://www.cmu.edu/news/stories/archives/2025/may/where-research-gets-to-work\n",
            "  [2] What's Happening - Downtown Pittsburgh — https://downtownpittsburgh.com/events/\n",
            "  [3] Strategic Framework — https://www.cmu.edu/strategic-framework/\n",
            "  [4] Pittsburgh PA Destination Services — https://www.visitpittsburgh.com/meetings-and-events/event-services/\n",
            "  [5] Event - Downtown Pittsburgh — https://downtownpittsburgh.com/events/event/?id=63920\n",
            "Q175 sources:\n",
            "  [1] The City of Pittsburgh, PA: Boards — https://www.pittsburghpa.gov/City-Government/Boards-Authorities-Commissions/Member-Rosters\n",
            "  [2] Photography Policies — https://www.thefrickpittsburgh.org/photography-policy\n",
            "  [3] Past Exhibitions — https://www.thefrickpittsburgh.org/past-exhibitions\n",
            "  [4] Photography Policies — https://www.thefrickpittsburgh.org/photography-policy\n",
            "  [5] Event - Downtown Pittsburgh — https://downtownpittsburgh.com/events/event/?id=63282\n"
          ]
        },
        {
          "name": "stderr",
          "output_type": "stream",
          "text": [
            "Answering:  44%|████▍     | 176/400 [00:42<00:42,  5.31it/s]"
          ]
        },
        {
          "name": "stdout",
          "output_type": "stream",
          "text": [
            "Q176 sources:\n",
            "  [1] Student Side-By-Side Program — https://www.pittsburghsymphony.org/pso_home/web/community-landing/learning-programs/student-side-by-side-program\n",
            "  [2] Broadway Subscribe — https://trustarts.org/events/series/pnc-broadway-in-pittsburgh/broadway-subscribe\n",
            "  [3] Blog — https://trustarts.org/blog\n",
            "  [4] Blog — https://trustarts.org/blog\n",
            "  [5] Event - Downtown Pittsburgh — https://downtownpittsburgh.com/events/event/?id=63793\n",
            "Q177 sources:\n",
            "  [1] Project Pop-Up - Downtown Pittsburgh — https://downtownpittsburgh.com/project-pop-up/\n",
            "  [2] About — https://trustarts.org/pct_home/about\n",
            "  [3] What's Happening - Downtown Pittsburgh — https://downtownpittsburgh.com/events/?n=11&d=16&y=2025\n",
            "  [4] A New Theater, a Significant Sketch, and a Giant Duck: Three Big Moments in Trust History — https://trustarts.org/blog/a-new-theater-a-significant-sketch-and-a-giant-duck-three-big-moments-in-trust-history\n",
            "  [5] Public Safety - Pittsburgh, PA — https://www.pittsburghpa.gov/Safety/Alerts/Public-Safety-Press-Release-Archive\n"
          ]
        },
        {
          "name": "stderr",
          "output_type": "stream",
          "text": [
            "Answering:  44%|████▍     | 178/400 [00:42<00:38,  5.78it/s]"
          ]
        },
        {
          "name": "stdout",
          "output_type": "stream",
          "text": [
            "Q178 sources:\n",
            "  [1] Event - Downtown Pittsburgh — https://downtownpittsburgh.com/events/event/?id=63793\n",
            "  [2] Honeck Manfred — https://pittsburghsymphony.org/pso_home/biographies/pso-conductors/honeck-manfred\n",
            "  [3] Black History Month — https://www.pittsburghpa.gov/Recreation-Events/Special-Events/Black-History-Month\n",
            "  [4] What's Happening - Downtown Pittsburgh — https://downtownpittsburgh.com/events/\n",
            "  [5] Honeck Manfred — https://pittsburghsymphony.org/pso_home/biographies/pso-conductors/honeck-manfred\n",
            "Q179 sources:\n",
            "  [1] Where Research Gets to Work — https://www.cmu.edu/news/stories/archives/2025/may/where-research-gets-to-work\n",
            "  [2] Blog — https://trustarts.org/blog\n",
            "  [3] LGBTQIA+ Travel in Pittsburgh — https://www.visitpittsburgh.com/plan-your-trip/lgbtq-travel/\n",
            "  [4] Member's Salon at the Frick — https://www.thefrickpittsburgh.org/Event-Members-Salon-at-the-Frick\n",
            "  [5] History | Carnegie Mellon University — https://www.cmu.edu/about/history.html\n"
          ]
        },
        {
          "name": "stderr",
          "output_type": "stream",
          "text": [
            "\rAnswering:  45%|████▍     | 179/400 [00:42<00:49,  4.46it/s]"
          ]
        },
        {
          "name": "stdout",
          "output_type": "stream",
          "text": [
            "Q180 sources:\n",
            "  [1] Dining Partners — https://pittsburghsymphony.org/pso_home/web/give-landing/corporate-partnerships/dining-partners\n",
            "  [2] Visit Landing — https://pittsburghsymphony.org/pso_home/web/visit-landing\n",
            "  [3] Dining Partners — https://pittsburghsymphony.org/pso_home/web/give-landing/corporate-partnerships/dining-partners\n",
            "  [4] Corporate Partnerships — https://pittsburghsymphony.org/pso_home/web/give-landing/corporate-partnerships\n",
            "  [5] Broadway Subscribe — https://trustarts.org/events/series/pnc-broadway-in-pittsburgh/broadway-subscribe\n",
            "Q181 sources:\n",
            "  [1] Event - Downtown Pittsburgh — https://downtownpittsburgh.com/events/event/?id=63793\n",
            "  [2] Broadway Subscribe — https://trustarts.org/events/series/pnc-broadway-in-pittsburgh/broadway-subscribe\n",
            "  [3] Event - Downtown Pittsburgh — https://downtownpittsburgh.com/events/event/?id=62499\n",
            "  [4] Pittsburgh Cultural Activities — https://www.pittsburghpa.gov/Recreation-Events/Events/Pittsburgh-Cultural-Activities\n",
            "  [5] Event - Downtown Pittsburgh — https://downtownpittsburgh.com/events/event/?id=63718\n"
          ]
        },
        {
          "name": "stderr",
          "output_type": "stream",
          "text": [
            "\rAnswering:  45%|████▌     | 181/400 [00:42<00:40,  5.47it/s]"
          ]
        },
        {
          "name": "stdout",
          "output_type": "stream",
          "text": [
            "Q182 sources:\n",
            "  [1] Event - Downtown Pittsburgh — https://downtownpittsburgh.com/events/event/?id=63964\n",
            "  [2] Event - Downtown Pittsburgh — https://downtownpittsburgh.com/events/event/?id=63838\n",
            "  [3] Event - Downtown Pittsburgh — https://downtownpittsburgh.com/events/event/?id=63964\n",
            "  [4] Event - Downtown Pittsburgh — https://downtownpittsburgh.com/events/event/?id=63835\n",
            "  [5] What's Happening - Downtown Pittsburgh — https://downtownpittsburgh.com/events/?n=10&d=22&y=2025\n"
          ]
        },
        {
          "name": "stderr",
          "output_type": "stream",
          "text": [
            "\rAnswering:  46%|████▌     | 182/400 [00:43<00:52,  4.14it/s]"
          ]
        },
        {
          "name": "stdout",
          "output_type": "stream",
          "text": [
            "Q183 sources:\n",
            "  [1] Health & Wellness — https://www.visitpittsburgh.com/things-to-do/health-wellness/\n",
            "  [2] Commissions and Boards — https://www.pittsburghpa.gov/Business-Development/City-Planning/Commissions-and-Boards\n",
            "  [3] What's Happening - Downtown Pittsburgh — https://downtownpittsburgh.com/events/?n=10&d=25&y=2025\n",
            "  [4] America250 | Visit Pittsburgh | Visit Pittsburgh — https://www.visitpittsburgh.com/america-250/\n",
            "  [5] Public Safety - Pittsburgh, PA — https://www.pittsburghpa.gov/Safety/Alerts/Public-Safety-Press-Release-Archive\n"
          ]
        },
        {
          "name": "stderr",
          "output_type": "stream",
          "text": [
            "Answering:  46%|████▌     | 184/400 [00:43<00:55,  3.92it/s]"
          ]
        },
        {
          "name": "stdout",
          "output_type": "stream",
          "text": [
            "Q184 sources:\n",
            "  [1] About — https://trustarts.org/pct_home/about\n",
            "  [2] Facilities & Spaces — https://trustarts.org/pct_home/visit/facilities\n",
            "  [3] About — https://trustarts.org/pct_home/about\n",
            "  [4] Public Safety - Pittsburgh, PA — https://www.pittsburghpa.gov/Safety/Alerts/Public-Safety-Press-Release-Archive\n",
            "  [5] Individual Giving — https://trustarts.org/pct_home/support/individual-giving\n",
            "Q185 sources:\n",
            "  [1] Event - Downtown Pittsburgh — https://downtownpittsburgh.com/events/event/?id=63793\n",
            "  [2] Individual Giving — https://trustarts.org/pct_home/support/individual-giving\n",
            "  [3] Broadway Subscribe — https://trustarts.org/events/series/pnc-broadway-in-pittsburgh/broadway-subscribe\n",
            "  [4] Event - Downtown Pittsburgh — https://downtownpittsburgh.com/events/event/?id=63834\n",
            "  [5] Blog — https://trustarts.org/blog\n"
          ]
        },
        {
          "name": "stderr",
          "output_type": "stream",
          "text": [
            "Answering:  46%|████▋     | 186/400 [00:44<00:51,  4.16it/s]"
          ]
        },
        {
          "name": "stdout",
          "output_type": "stream",
          "text": [
            "Q186 sources:\n",
            "  [1] The Frick Pittsburgh Museums & Gardens — https://www.thefrickpittsburgh.org/groupvisits\n",
            "  [2] The Frick Pittsburgh Museums & Gardens — https://www.thefrickpittsburgh.org/inclusion\n",
            "  [3] Public Safety - Pittsburgh, PA — https://www.pittsburghpa.gov/Safety/Alerts/Public-Safety-Press-Release-Archive\n",
            "  [4] The Frick Pittsburgh Museums & Gardens — https://www.thefrickpittsburgh.org/tickets\n",
            "  [5] Legacy Planning | The Frick Pittsburgh Museums & Gardens — https://www.thefrickpittsburgh.org/LegacyPlanning\n",
            "Q187 sources:\n",
            "  [1] Pittsburgh Cultural Activities — https://www.pittsburghpa.gov/Recreation-Events/Events/Pittsburgh-Cultural-Activities\n",
            "  [2] Pittsburgh Cultural Activities — https://www.pittsburghpa.gov/Recreation-Events/Events/Pittsburgh-Cultural-Activities\n",
            "  [3] Pittsburgh, PA Sports Teams — https://www.visitpittsburgh.com/things-to-do/pittsburgh-sports-teams/\n",
            "  [4] City Bridges - Pittsburgh, PA — https://www.pittsburghpa.gov/Business-Development/Mobility-and-Infrastructure/Plans/City-Bridges\n",
            "  [5] Event - Downtown Pittsburgh — https://downtownpittsburgh.com/events/event/?id=63920\n"
          ]
        },
        {
          "name": "stderr",
          "output_type": "stream",
          "text": [
            "\rAnswering:  47%|████▋     | 187/400 [00:44<01:02,  3.39it/s]"
          ]
        },
        {
          "name": "stdout",
          "output_type": "stream",
          "text": [
            "Q188 sources:\n",
            "  [1] History | Carnegie Mellon University — https://www.cmu.edu/about/history.html\n",
            "  [2] LGBTQIA+ Travel in Pittsburgh — https://www.visitpittsburgh.com/plan-your-trip/lgbtq-travel/\n",
            "  [3] Black History Month — https://www.pittsburghpa.gov/Recreation-Events/Special-Events/Black-History-Month\n",
            "  [4] About — https://www.ml.cmu.edu/about/\n",
            "  [5] Film Festivals in Pittsburgh — https://www.visitpittsburgh.com/events-festivals/film-festivals/\n"
          ]
        },
        {
          "name": "stderr",
          "output_type": "stream",
          "text": [
            "\rAnswering:  47%|████▋     | 188/400 [00:45<01:01,  3.43it/s]"
          ]
        },
        {
          "name": "stdout",
          "output_type": "stream",
          "text": [
            "Q189 sources:\n",
            "  [1] Special Event & Block Party Permitting — https://www.pittsburghpa.gov/Recreation-Events/Film-Event-Management/Special-Event-Block-Party-Permitting\n",
            "  [2] Code Enforcement — https://www.pittsburghpa.gov/Business-Development/Permits-Licenses-and-Inspections/Code-Enforcement\n",
            "  [3] OneStopPGH Tips for Small Businesses — https://www.pittsburghpa.gov/Business-Development/Small-Business-Resources/OneStopPGH-Tips-for-Small-Businesses\n",
            "  [4] Code Enforcement — https://www.pittsburghpa.gov/Business-Development/Permits-Licenses-and-Inspections/Code-Enforcement\n",
            "  [5] Commissions and Boards — https://www.pittsburghpa.gov/Business-Development/City-Planning/Commissions-and-Boards\n"
          ]
        },
        {
          "name": "stderr",
          "output_type": "stream",
          "text": [
            "Answering:  48%|████▊     | 190/400 [00:45<00:54,  3.87it/s]"
          ]
        },
        {
          "name": "stdout",
          "output_type": "stream",
          "text": [
            "Q190 sources:\n",
            "  [1] Photography Policies — https://www.thefrickpittsburgh.org/photography-policy\n",
            "  [2] LGBTQIA+ Travel in Pittsburgh — https://www.visitpittsburgh.com/plan-your-trip/lgbtq-travel/\n",
            "  [3] The Frick Pittsburgh Museums & Gardens — https://www.thefrickpittsburgh.org/groupvisits\n",
            "  [4] A New Theater, a Significant Sketch, and a Giant Duck: Three Big Moments in Trust History — https://trustarts.org/blog/a-new-theater-a-significant-sketch-and-a-giant-duck-three-big-moments-in-trust-history\n",
            "  [5] Event - Downtown Pittsburgh — https://downtownpittsburgh.com/events/event/?id=63282\n",
            "Q191 sources:\n",
            "  [1] New Business Registration — https://www.pittsburghpa.gov/City-Government/Finance-Budget/New-Business-Registration\n",
            "  [2] LGBTQIA+ Travel in Pittsburgh — https://www.visitpittsburgh.com/plan-your-trip/lgbtq-travel/\n",
            "  [3] Resident Testimonials — https://downtownpittsburgh.com/live/downtown-lifestyle/resident-testimonials/\n",
            "  [4] Project Pop-Up - Downtown Pittsburgh — https://downtownpittsburgh.com/project-pop-up/\n",
            "  [5] History | Carnegie Mellon University — https://www.cmu.edu/about/history.html\n"
          ]
        },
        {
          "name": "stderr",
          "output_type": "stream",
          "text": [
            "Answering:  48%|████▊     | 192/400 [00:45<00:40,  5.14it/s]"
          ]
        },
        {
          "name": "stdout",
          "output_type": "stream",
          "text": [
            "Q192 sources:\n",
            "  [1] The City of Pittsburgh, PA: Boards — https://www.pittsburghpa.gov/City-Government/Boards-Authorities-Commissions/Member-Rosters\n",
            "  [2] Pittsburgh Cultural Activities — https://www.pittsburghpa.gov/Recreation-Events/Events/Pittsburgh-Cultural-Activities\n",
            "  [3] Event - Downtown Pittsburgh — https://downtownpittsburgh.com/events/event/?id=63282\n",
            "  [4] Pittsburgh PA Destination Services — https://www.visitpittsburgh.com/meetings-and-events/event-services/\n",
            "  [5] Maps - Pittsburgh, PA — https://www.pittsburghpa.gov/Business-Development/Mobility-and-Infrastructure/Maps\n",
            "Q193 sources:\n",
            "  [1] Event - Downtown Pittsburgh — https://downtownpittsburgh.com/events/event/?id=63773\n",
            "  [2] Event - Downtown Pittsburgh — https://downtownpittsburgh.com/events/event/?id=63785\n",
            "  [3] LGBTQIA+ Travel in Pittsburgh — https://www.visitpittsburgh.com/plan-your-trip/lgbtq-travel/\n",
            "  [4] Event - Downtown Pittsburgh — https://downtownpittsburgh.com/events/event/?id=63947\n",
            "  [5] What's Happening - Downtown Pittsburgh — https://downtownpittsburgh.com/events/\n"
          ]
        },
        {
          "name": "stderr",
          "output_type": "stream",
          "text": [
            "Answering:  48%|████▊     | 194/400 [00:46<00:36,  5.71it/s]"
          ]
        },
        {
          "name": "stdout",
          "output_type": "stream",
          "text": [
            "Q194 sources:\n",
            "  [1] Event - Downtown Pittsburgh — https://downtownpittsburgh.com/events/event/?id=63773\n",
            "  [2] Pittsburgh Cultural Activities — https://www.pittsburghpa.gov/Recreation-Events/Events/Pittsburgh-Cultural-Activities\n",
            "  [3] LGBTQIA+ Travel in Pittsburgh — https://www.visitpittsburgh.com/plan-your-trip/lgbtq-travel/\n",
            "  [4] Event - Downtown Pittsburgh — https://downtownpittsburgh.com/events/event/?id=63823\n",
            "  [5] Photography Policies — https://www.thefrickpittsburgh.org/photography-policy\n",
            "Q195 sources:\n",
            "  [1] Event - Downtown Pittsburgh — https://downtownpittsburgh.com/events/event/?id=63793\n",
            "  [2] Volunteer — https://trustarts.org/pct_home/about/volunteering\n",
            "  [3] Black History Month — https://www.pittsburghpa.gov/Recreation-Events/Special-Events/Black-History-Month\n",
            "  [4] City Bridges - Pittsburgh, PA — https://www.pittsburghpa.gov/Business-Development/Mobility-and-Infrastructure/Plans/City-Bridges\n",
            "  [5] Pittsburgh Symphony Orchestra — https://pittsburghsymphony.org/\n"
          ]
        },
        {
          "name": "stderr",
          "output_type": "stream",
          "text": [
            "\rAnswering:  49%|████▉     | 195/400 [00:46<00:37,  5.43it/s]"
          ]
        },
        {
          "name": "stdout",
          "output_type": "stream",
          "text": [
            "Q196 sources:\n",
            "  [1] Explore Black Culture & Heritage — https://www.visitpittsburgh.com/plan-your-trip/explore-black-culture-heritage/\n",
            "  [2] The Frick Pittsburgh Museums & Gardens — https://www.thefrickpittsburgh.org/Event-Signature-Clayton-Tour-Experience-Gilded-Not-Golden\n",
            "  [3] The Neill Log House — https://www.pittsburghpa.gov/Recreation-Events/Park-Facilities/The-Neill-Log-House\n",
            "  [4] Event - Downtown Pittsburgh — https://downtownpittsburgh.com/events/event/?id=63919\n",
            "  [5] Historic Home and Gardens — https://www.thefrickpittsburgh.org/historichome\n"
          ]
        },
        {
          "name": "stderr",
          "output_type": "stream",
          "text": [
            "\rAnswering:  49%|████▉     | 196/400 [00:46<00:51,  3.93it/s]"
          ]
        },
        {
          "name": "stdout",
          "output_type": "stream",
          "text": [
            "Q197 sources:\n",
            "  [1] LGBTQIA+ Travel in Pittsburgh — https://www.visitpittsburgh.com/plan-your-trip/lgbtq-travel/\n",
            "  [2] Support — https://trustarts.org/pct_home/support\n",
            "  [3] Support — https://trustarts.org/pct_home/support\n",
            "  [4] Three Icons, One Night of Celebration: Arts Leaders Honored at the Pittsburgh Cultural Trust Gala — https://trustarts.org/blog/three-icons-one-night-of-celebration-arts-leaders-honored-at-the-pittsburgh-cultural-trust-gala\n",
            "  [5] A New Theater, a Significant Sketch, and a Giant Duck: Three Big Moments in Trust History — https://trustarts.org/blog/a-new-theater-a-significant-sketch-and-a-giant-duck-three-big-moments-in-trust-history\n"
          ]
        },
        {
          "name": "stderr",
          "output_type": "stream",
          "text": [
            "\rAnswering:  49%|████▉     | 197/400 [00:47<00:49,  4.06it/s]"
          ]
        },
        {
          "name": "stdout",
          "output_type": "stream",
          "text": [
            "Q198 sources:\n",
            "  [1] Group Sales — https://pittsburghsymphony.org/pso_home/web/tickets/group-sales\n",
            "  [2] BNY Classics Concerts — https://www.pittsburghsymphony.org/pso_home/web/bny-classics/bny-classics-concerts\n",
            "  [3] Public Safety - Pittsburgh, PA — https://www.pittsburghpa.gov/Safety/Alerts/Public-Safety-Press-Release-Archive\n",
            "  [4] Dining Partners — https://pittsburghsymphony.org/pso_home/web/give-landing/corporate-partnerships/dining-partners\n",
            "  [5] Harris Theater — https://trustarts.org/pct_home/visit/facilities/harris-theater\n"
          ]
        },
        {
          "name": "stderr",
          "output_type": "stream",
          "text": [
            "Answering:  50%|████▉     | 199/400 [00:47<00:52,  3.80it/s]"
          ]
        },
        {
          "name": "stdout",
          "output_type": "stream",
          "text": [
            "Q199 sources:\n",
            "  [1] Car and Carriage Museum — https://www.thefrickpittsburgh.org/carandcarriagemuseum\n",
            "  [2] Senior Travel | Visit Pittsburgh — https://www.visitpittsburgh.com/plan-your-trip/senior-travel/\n",
            "  [3] Pittsburgh Cultural Activities — https://www.pittsburghpa.gov/Recreation-Events/Events/Pittsburgh-Cultural-Activities\n",
            "  [4] Free Things to Do in Pittsburgh Today — https://www.visitpittsburgh.com/things-to-do/free-things-to-do/\n",
            "  [5] Pittsburgh, PA Sports Teams — https://www.visitpittsburgh.com/things-to-do/pittsburgh-sports-teams/\n",
            "Q200 sources:\n",
            "  [1] Black History Month — https://www.pittsburghpa.gov/Recreation-Events/Special-Events/Black-History-Month\n",
            "  [2] Black History Month — https://www.pittsburghpa.gov/Recreation-Events/Special-Events/Black-History-Month\n",
            "  [3] Event - Downtown Pittsburgh — https://downtownpittsburgh.com/events/event/?id=63793\n",
            "  [4] What's Happening - Downtown Pittsburgh — https://downtownpittsburgh.com/events/?n=10&d=4&y=2025\n",
            "  [5] Black History Month — https://www.pittsburghpa.gov/Recreation-Events/Special-Events/Black-History-Month\n"
          ]
        },
        {
          "name": "stderr",
          "output_type": "stream",
          "text": [
            "Answering:  50%|█████     | 201/400 [00:47<00:41,  4.75it/s]"
          ]
        },
        {
          "name": "stdout",
          "output_type": "stream",
          "text": [
            "Q201 sources:\n",
            "  [1] Event - Downtown Pittsburgh — https://downtownpittsburgh.com/events/event/?id=63967\n",
            "  [2] What's Happening - Downtown Pittsburgh — https://downtownpittsburgh.com/events/\n",
            "  [3] What's Happening - Downtown Pittsburgh — https://downtownpittsburgh.com/events/\n",
            "  [4] Official Tourism Site for Pittsburgh, PA — https://www.visitpittsburgh.com/\n",
            "  [5] Event - Downtown Pittsburgh — https://downtownpittsburgh.com/events/event/?id=63968\n",
            "Q202 sources:\n",
            "  [1] Public Safety - Pittsburgh, PA — https://www.pittsburghpa.gov/Safety/Alerts/Public-Safety-Press-Release-Archive\n",
            "  [2] Public Safety - Pittsburgh, PA — https://www.pittsburghpa.gov/Safety/Alerts/Public-Safety-Press-Release-Archive\n",
            "  [3] What's Happening - Downtown Pittsburgh — https://downtownpittsburgh.com/events/\n",
            "  [4] Public Safety - Pittsburgh, PA — https://www.pittsburghpa.gov/Safety/Alerts/Public-Safety-Press-Release-Archive\n",
            "  [5] Public Safety - Pittsburgh, PA — https://www.pittsburghpa.gov/Safety/Alerts/Public-Safety-Press-Release-Archive\n"
          ]
        },
        {
          "name": "stderr",
          "output_type": "stream",
          "text": [
            "\rAnswering:  50%|█████     | 202/400 [00:48<00:38,  5.13it/s]"
          ]
        },
        {
          "name": "stdout",
          "output_type": "stream",
          "text": [
            "Q203 sources:\n",
            "  [1] Pittsburgh, PA Sports Teams — https://www.visitpittsburgh.com/things-to-do/pittsburgh-sports-teams/\n",
            "  [2] Show Your Badge | Visit Pittsburgh — https://www.visitpittsburgh.com/meetings-and-events/show-your-badge/\n",
            "  [3] Pittsburgh ranks in Lonely Planet's 2025 Global Best in Travel 2025 list — https://www.visitpittsburgh.com/blog/particular-brand-of-magic-pittsburgh-ranks-in-lonely-planets-top-10-global-best-in-travel-2025-list/\n",
            "  [4] Training Division — https://www.pittsburghpa.gov/Safety/Emergency-Medical-Services/Training-Division\n",
            "  [5] Public Safety - Pittsburgh, PA — https://www.pittsburghpa.gov/Safety/Alerts/Public-Safety-Press-Release-Archive\n"
          ]
        },
        {
          "name": "stderr",
          "output_type": "stream",
          "text": [
            "Answering:  51%|█████     | 204/400 [00:48<00:46,  4.21it/s]"
          ]
        },
        {
          "name": "stdout",
          "output_type": "stream",
          "text": [
            "Q204 sources:\n",
            "  [1] Public Safety - Pittsburgh, PA — https://www.pittsburghpa.gov/Safety/Alerts/Public-Safety-Press-Release-Archive\n",
            "  [2] Public Safety - Pittsburgh, PA — https://www.pittsburghpa.gov/Safety/Alerts/Public-Safety-Press-Release-Archive\n",
            "  [3] Public Safety - Pittsburgh, PA — https://www.pittsburghpa.gov/Safety/Alerts/Public-Safety-Press-Release-Archive\n",
            "  [4] What's Happening - Downtown Pittsburgh — https://downtownpittsburgh.com/events/\n",
            "  [5] Pittsburgh Steelers — https://www.visitpittsburgh.com/directory/pittsburgh-steelers/\n",
            "Q205 sources:\n",
            "  [1] Public Safety - Pittsburgh, PA — https://www.pittsburghpa.gov/Safety/Alerts/Public-Safety-Press-Release-Archive\n",
            "  [2] Public Safety - Pittsburgh, PA — https://www.pittsburghpa.gov/Safety/Alerts/Public-Safety-Press-Release-Archive\n",
            "  [3] Pittsburgh Steelers — https://www.visitpittsburgh.com/directory/pittsburgh-steelers/\n",
            "  [4] Event - Downtown Pittsburgh — https://downtownpittsburgh.com/events/event/?id=63768\n",
            "  [5] Pittsburgh Steelers — https://www.visitpittsburgh.com/directory/pittsburgh-steelers/\n"
          ]
        },
        {
          "name": "stderr",
          "output_type": "stream",
          "text": [
            "\rAnswering:  51%|█████▏    | 205/400 [00:49<00:56,  3.46it/s]"
          ]
        },
        {
          "name": "stdout",
          "output_type": "stream",
          "text": [
            "Q206 sources:\n",
            "  [1] Public Safety - Pittsburgh, PA — https://www.pittsburghpa.gov/Safety/Alerts/Public-Safety-Press-Release-Archive\n",
            "  [2] Public Safety - Pittsburgh, PA — https://www.pittsburghpa.gov/Safety/Alerts/Public-Safety-Press-Release-Archive\n",
            "  [3] Public Safety - Pittsburgh, PA — https://www.pittsburghpa.gov/Safety/Alerts/Public-Safety-Press-Release-Archive\n",
            "  [4] Pittsburgh Steelers — https://www.visitpittsburgh.com/directory/pittsburgh-steelers/\n",
            "  [5] Public Safety - Pittsburgh, PA — https://www.pittsburghpa.gov/Safety/Alerts/Public-Safety-Press-Release-Archive\n"
          ]
        },
        {
          "name": "stderr",
          "output_type": "stream",
          "text": [
            "Answering:  52%|█████▏    | 207/400 [00:49<00:56,  3.43it/s]"
          ]
        },
        {
          "name": "stdout",
          "output_type": "stream",
          "text": [
            "Q207 sources:\n",
            "  [1] Public Safety - Pittsburgh, PA — https://www.pittsburghpa.gov/Safety/Alerts/Public-Safety-Press-Release-Archive\n",
            "  [2] Public Safety - Pittsburgh, PA — https://www.pittsburghpa.gov/Safety/Alerts/Public-Safety-Press-Release-Archive\n",
            "  [3] Public Safety - Pittsburgh, PA — https://www.pittsburghpa.gov/Safety/Alerts/Public-Safety-Press-Release-Archive\n",
            "  [4] Public Safety - Pittsburgh, PA — https://www.pittsburghpa.gov/Safety/Alerts/Public-Safety-Press-Release-Archive\n",
            "  [5] Pittsburgh Steelers — https://www.visitpittsburgh.com/directory/pittsburgh-steelers/\n",
            "Q208 sources:\n",
            "  [1] Pittsburgh Steelers — https://www.visitpittsburgh.com/directory/pittsburgh-steelers/\n",
            "  [2] Public Safety - Pittsburgh, PA — https://www.pittsburghpa.gov/Safety/Alerts/Public-Safety-Press-Release-Archive\n",
            "  [3] Public Safety - Pittsburgh, PA — https://www.pittsburghpa.gov/Safety/Alerts/Public-Safety-Press-Release-Archive\n",
            "  [4] Public Safety - Pittsburgh, PA — https://www.pittsburghpa.gov/Safety/Alerts/Public-Safety-Press-Release-Archive\n",
            "  [5] Public Safety - Pittsburgh, PA — https://www.pittsburghpa.gov/Safety/Alerts/Public-Safety-Press-Release-Archive\n"
          ]
        },
        {
          "name": "stderr",
          "output_type": "stream",
          "text": [
            "Answering:  52%|█████▏    | 209/400 [00:50<00:51,  3.71it/s]"
          ]
        },
        {
          "name": "stdout",
          "output_type": "stream",
          "text": [
            "Q209 sources:\n",
            "  [1] Public Safety - Pittsburgh, PA — https://www.pittsburghpa.gov/Safety/Alerts/Public-Safety-Press-Release-Archive\n",
            "  [2] Pittsburgh ranks in Lonely Planet's 2025 Global Best in Travel 2025 list — https://www.visitpittsburgh.com/blog/particular-brand-of-magic-pittsburgh-ranks-in-lonely-planets-top-10-global-best-in-travel-2025-list/\n",
            "  [3] Pittsburgh Steelers — https://www.visitpittsburgh.com/directory/pittsburgh-steelers/\n",
            "  [4] Public Safety - Pittsburgh, PA — https://www.pittsburghpa.gov/Safety/Alerts/Public-Safety-Press-Release-Archive\n",
            "  [5] Public Safety - Pittsburgh, PA — https://www.pittsburghpa.gov/Safety/Alerts/Public-Safety-Press-Release-Archive\n",
            "Q210 sources:\n",
            "  [1] Event - Downtown Pittsburgh — https://downtownpittsburgh.com/events/event/?id=63967\n",
            "  [2] Event - Downtown Pittsburgh — https://downtownpittsburgh.com/events/event/?id=63968\n",
            "  [3] What's Happening - Downtown Pittsburgh — https://downtownpittsburgh.com/events/\n",
            "  [4] What's Happening - Downtown Pittsburgh — https://downtownpittsburgh.com/events/\n",
            "  [5] Official Tourism Site for Pittsburgh, PA — https://www.visitpittsburgh.com/\n"
          ]
        },
        {
          "name": "stderr",
          "output_type": "stream",
          "text": [
            "Answering:  53%|█████▎    | 211/400 [00:50<00:40,  4.68it/s]"
          ]
        },
        {
          "name": "stdout",
          "output_type": "stream",
          "text": [
            "Q211 sources:\n",
            "  [1] Pittsburgh Steelers — https://www.visitpittsburgh.com/directory/pittsburgh-steelers/\n",
            "  [2] Pittsburgh Steelers — https://www.visitpittsburgh.com/directory/pittsburgh-steelers/\n",
            "  [3] Public Safety - Pittsburgh, PA — https://www.pittsburghpa.gov/Safety/Alerts/Public-Safety-Press-Release-Archive\n",
            "  [4] Public Safety - Pittsburgh, PA — https://www.pittsburghpa.gov/Safety/Alerts/Public-Safety-Press-Release-Archive\n",
            "  [5] Public Safety - Pittsburgh, PA — https://www.pittsburghpa.gov/Safety/Alerts/Public-Safety-Press-Release-Archive\n",
            "Q212 sources:\n",
            "  [1] Pittsburgh ranks in Lonely Planet's 2025 Global Best in Travel 2025 list — https://www.visitpittsburgh.com/blog/particular-brand-of-magic-pittsburgh-ranks-in-lonely-planets-top-10-global-best-in-travel-2025-list/\n",
            "  [2] Pittsburgh Marathons, Runs, and Walks — https://www.visitpittsburgh.com/events-festivals/marathons-runs-walks/\n",
            "  [3] Official Tourism Site for Pittsburgh, PA — https://www.visitpittsburgh.com/\n",
            "  [4] 2026 NFL Draft | Visit Pittsburgh — https://www.visitpittsburgh.com/nfl-draft-pittsburgh/\n",
            "  [5] Pittsburgh Steelers — https://www.visitpittsburgh.com/directory/pittsburgh-steelers/\n"
          ]
        },
        {
          "name": "stderr",
          "output_type": "stream",
          "text": [
            "\rAnswering:  53%|█████▎    | 212/400 [00:51<00:49,  3.76it/s]"
          ]
        },
        {
          "name": "stdout",
          "output_type": "stream",
          "text": [
            "Q213 sources:\n",
            "  [1] Public Safety - Pittsburgh, PA — https://www.pittsburghpa.gov/Safety/Alerts/Public-Safety-Press-Release-Archive\n",
            "  [2] Public Safety - Pittsburgh, PA — https://www.pittsburghpa.gov/Safety/Alerts/Public-Safety-Press-Release-Archive\n",
            "  [3] Public Safety - Pittsburgh, PA — https://www.pittsburghpa.gov/Safety/Alerts/Public-Safety-Press-Release-Archive\n",
            "  [4] Public Safety - Pittsburgh, PA — https://www.pittsburghpa.gov/Safety/Alerts/Public-Safety-Press-Release-Archive\n",
            "  [5] Public Safety - Pittsburgh, PA — https://www.pittsburghpa.gov/Safety/Alerts/Public-Safety-Press-Release-Archive\n"
          ]
        },
        {
          "name": "stderr",
          "output_type": "stream",
          "text": [
            "Answering:  54%|█████▎    | 214/400 [00:51<00:49,  3.77it/s]"
          ]
        },
        {
          "name": "stdout",
          "output_type": "stream",
          "text": [
            "Q214 sources:\n",
            "  [1] Event - Downtown Pittsburgh — https://downtownpittsburgh.com/events/event/?id=63967\n",
            "  [2] What's Happening - Downtown Pittsburgh — https://downtownpittsburgh.com/events/\n",
            "  [3] Public Safety - Pittsburgh, PA — https://www.pittsburghpa.gov/Safety/Alerts/Public-Safety-Press-Release-Archive\n",
            "  [4] Public Safety - Pittsburgh, PA — https://www.pittsburghpa.gov/Safety/Alerts/Public-Safety-Press-Release-Archive\n",
            "  [5] Right to Know - Pittsburgh, PA — https://www.pittsburghpa.gov/City-Government/Legal-Services/Right-to-Know\n",
            "Q215 sources:\n",
            "  [1] Public Safety - Pittsburgh, PA — https://www.pittsburghpa.gov/Safety/Alerts/Public-Safety-Press-Release-Archive\n",
            "  [2] Public Safety - Pittsburgh, PA — https://www.pittsburghpa.gov/Safety/Alerts/Public-Safety-Press-Release-Archive\n",
            "  [3] Public Safety - Pittsburgh, PA — https://www.pittsburghpa.gov/Safety/Alerts/Public-Safety-Press-Release-Archive\n",
            "  [4] Special Event Operations — https://www.pittsburghpa.gov/Safety/Emergency-Medical-Services/Special-Event-Operations\n",
            "  [5] Event - Downtown Pittsburgh — https://downtownpittsburgh.com/events/event/?id=63768\n"
          ]
        },
        {
          "name": "stderr",
          "output_type": "stream",
          "text": [
            "Answering:  54%|█████▍    | 216/400 [00:51<00:39,  4.71it/s]"
          ]
        },
        {
          "name": "stdout",
          "output_type": "stream",
          "text": [
            "Q216 sources:\n",
            "  [1] Public Safety - Pittsburgh, PA — https://www.pittsburghpa.gov/Safety/Alerts/Public-Safety-Press-Release-Archive\n",
            "  [2] Pittsburgh, PA Sports Teams — https://www.visitpittsburgh.com/things-to-do/pittsburgh-sports-teams/\n",
            "  [3] Public Safety - Pittsburgh, PA — https://www.pittsburghpa.gov/Safety/Alerts/Public-Safety-Press-Release-Archive\n",
            "  [4] Public Safety - Pittsburgh, PA — https://www.pittsburghpa.gov/Safety/Alerts/Public-Safety-Press-Release-Archive\n",
            "  [5] Public Safety - Pittsburgh, PA — https://www.pittsburghpa.gov/Safety/Alerts/Public-Safety-Press-Release-Archive\n",
            "Q217 sources:\n",
            "  [1] Pittsburgh ranks in Lonely Planet's 2025 Global Best in Travel 2025 list — https://www.visitpittsburgh.com/blog/particular-brand-of-magic-pittsburgh-ranks-in-lonely-planets-top-10-global-best-in-travel-2025-list/\n",
            "  [2] Resident Testimonials — https://downtownpittsburgh.com/live/downtown-lifestyle/resident-testimonials/\n",
            "  [3] Meet in Pittsburgh | Pittsburgh's Business Events Team | Visit Pittsburgh — https://www.visitpittsburgh.com/meetings-and-events/\n",
            "  [4] Public Safety - Pittsburgh, PA — https://www.pittsburghpa.gov/Safety/Alerts/Public-Safety-Press-Release-Archive\n",
            "  [5] Rescue Division - Pittsburgh, PA — https://www.pittsburghpa.gov/Safety/Emergency-Medical-Services/Rescue-Division\n"
          ]
        },
        {
          "name": "stderr",
          "output_type": "stream",
          "text": [
            "\rAnswering:  54%|█████▍    | 217/400 [00:52<00:35,  5.09it/s]"
          ]
        },
        {
          "name": "stdout",
          "output_type": "stream",
          "text": [
            "Q218 sources:\n",
            "  [1] What's Happening - Downtown Pittsburgh — https://downtownpittsburgh.com/events/\n",
            "  [2] Event - Downtown Pittsburgh — https://downtownpittsburgh.com/events/event/?id=63967\n",
            "  [3] What's Happening - Downtown Pittsburgh — https://downtownpittsburgh.com/events/\n",
            "  [4] Public Safety - Pittsburgh, PA — https://www.pittsburghpa.gov/Safety/Alerts/Public-Safety-Press-Release-Archive\n",
            "  [5] Public Safety - Pittsburgh, PA — https://www.pittsburghpa.gov/Safety/Alerts/Public-Safety-Press-Release-Archive\n"
          ]
        },
        {
          "name": "stderr",
          "output_type": "stream",
          "text": [
            "Answering:  55%|█████▍    | 219/400 [00:52<00:39,  4.61it/s]"
          ]
        },
        {
          "name": "stdout",
          "output_type": "stream",
          "text": [
            "Q219 sources:\n",
            "  [1] Event - Downtown Pittsburgh — https://downtownpittsburgh.com/events/event/?id=63967\n",
            "  [2] What's Happening - Downtown Pittsburgh — https://downtownpittsburgh.com/events/\n",
            "  [3] Event - Downtown Pittsburgh — https://downtownpittsburgh.com/events/event/?id=63968\n",
            "  [4] What's Happening - Downtown Pittsburgh — https://downtownpittsburgh.com/events/\n",
            "  [5] Official Tourism Site for Pittsburgh, PA — https://www.visitpittsburgh.com/\n",
            "Q220 sources:\n",
            "  [1] Pittsburgh Steelers — https://www.visitpittsburgh.com/directory/pittsburgh-steelers/\n",
            "  [2] Pittsburgh Steelers — https://www.visitpittsburgh.com/directory/pittsburgh-steelers/\n",
            "  [3] Public Safety - Pittsburgh, PA — https://www.pittsburghpa.gov/Safety/Alerts/Public-Safety-Press-Release-Archive\n",
            "  [4] Public Safety - Pittsburgh, PA — https://www.pittsburghpa.gov/Safety/Alerts/Public-Safety-Press-Release-Archive\n",
            "  [5] Special Event Operations — https://www.pittsburghpa.gov/Safety/Emergency-Medical-Services/Special-Event-Operations\n"
          ]
        },
        {
          "name": "stderr",
          "output_type": "stream",
          "text": [
            "Answering:  55%|█████▌    | 221/400 [00:53<00:43,  4.14it/s]"
          ]
        },
        {
          "name": "stdout",
          "output_type": "stream",
          "text": [
            "Q221 sources:\n",
            "  [1] Public Safety - Pittsburgh, PA — https://www.pittsburghpa.gov/Safety/Alerts/Public-Safety-Press-Release-Archive\n",
            "  [2] Pittsburgh, PA Sports Teams — https://www.visitpittsburgh.com/things-to-do/pittsburgh-sports-teams/\n",
            "  [3] Public Safety - Pittsburgh, PA — https://www.pittsburghpa.gov/Safety/Alerts/Public-Safety-Press-Release-Archive\n",
            "  [4] Public Safety - Pittsburgh, PA — https://www.pittsburghpa.gov/Safety/Alerts/Public-Safety-Press-Release-Archive\n",
            "  [5] Public Safety - Pittsburgh, PA — https://www.pittsburghpa.gov/Safety/Alerts/Public-Safety-Press-Release-Archive\n",
            "Q222 sources:\n",
            "  [1] Public Safety - Pittsburgh, PA — https://www.pittsburghpa.gov/Safety/Alerts/Public-Safety-Press-Release-Archive\n",
            "  [2] Public Safety - Pittsburgh, PA — https://www.pittsburghpa.gov/Safety/Alerts/Public-Safety-Press-Release-Archive\n",
            "  [3] Public Safety - Pittsburgh, PA — https://www.pittsburghpa.gov/Safety/Alerts/Public-Safety-Press-Release-Archive\n",
            "  [4] Official Tourism Site for Pittsburgh, PA — https://www.visitpittsburgh.com/\n",
            "  [5] Pittsburgh Steelers — https://www.visitpittsburgh.com/directory/pittsburgh-steelers/\n"
          ]
        },
        {
          "name": "stderr",
          "output_type": "stream",
          "text": [
            "\rAnswering:  56%|█████▌    | 223/400 [00:53<00:33,  5.34it/s]"
          ]
        },
        {
          "name": "stdout",
          "output_type": "stream",
          "text": [
            "Q223 sources:\n",
            "  [1] Event - Downtown Pittsburgh — https://downtownpittsburgh.com/events/event/?id=63967\n",
            "  [2] Event - Downtown Pittsburgh — https://downtownpittsburgh.com/events/event/?id=63968\n",
            "  [3] What's Happening - Downtown Pittsburgh — https://downtownpittsburgh.com/events/\n",
            "  [4] What's Happening - Downtown Pittsburgh — https://downtownpittsburgh.com/events/\n",
            "  [5] Official Tourism Site for Pittsburgh, PA — https://www.visitpittsburgh.com/\n",
            "Q224 sources:\n",
            "  [1] What's Happening - Downtown Pittsburgh — https://downtownpittsburgh.com/events/\n",
            "  [2] What's Happening - Downtown Pittsburgh — https://downtownpittsburgh.com/events/\n",
            "  [3] Event - Downtown Pittsburgh — https://downtownpittsburgh.com/events/event/?id=63768\n",
            "  [4] Public Safety - Pittsburgh, PA — https://www.pittsburghpa.gov/Safety/Alerts/Public-Safety-Press-Release-Archive\n",
            "  [5] Public Safety - Pittsburgh, PA — https://www.pittsburghpa.gov/Safety/Alerts/Public-Safety-Press-Release-Archive\n"
          ]
        },
        {
          "name": "stderr",
          "output_type": "stream",
          "text": [
            "\rAnswering:  56%|█████▌    | 224/400 [00:53<00:42,  4.09it/s]"
          ]
        },
        {
          "name": "stdout",
          "output_type": "stream",
          "text": [
            "Q225 sources:\n",
            "  [1] Event - Downtown Pittsburgh — https://downtownpittsburgh.com/events/event/?id=63968\n",
            "  [2] What's Happening - Downtown Pittsburgh — https://downtownpittsburgh.com/events/\n",
            "  [3] Event - Downtown Pittsburgh — https://downtownpittsburgh.com/events/event/?id=63967\n",
            "  [4] Public Safety - Pittsburgh, PA — https://www.pittsburghpa.gov/Safety/Alerts/Public-Safety-Press-Release-Archive\n",
            "  [5] Public Safety - Pittsburgh, PA — https://www.pittsburghpa.gov/Safety/Alerts/Public-Safety-Press-Release-Archive\n"
          ]
        },
        {
          "name": "stderr",
          "output_type": "stream",
          "text": [
            "Answering:  56%|█████▋    | 226/400 [00:54<00:45,  3.84it/s]"
          ]
        },
        {
          "name": "stdout",
          "output_type": "stream",
          "text": [
            "Q226 sources:\n",
            "  [1] Our Parks - Pittsburgh, PA — https://www.pittsburghpa.gov/Recreation-Events/Parks/Our-Parks\n",
            "  [2] Historic Home and Gardens — https://www.thefrickpittsburgh.org/historichome\n",
            "  [3] Public Safety - Pittsburgh, PA — https://www.pittsburghpa.gov/Safety/Alerts/Public-Safety-Press-Release-Archive\n",
            "  [4] Public Safety - Pittsburgh, PA — https://www.pittsburghpa.gov/Safety/Alerts/Public-Safety-Press-Release-Archive\n",
            "  [5] Public Safety - Pittsburgh, PA — https://www.pittsburghpa.gov/Safety/Alerts/Public-Safety-Press-Release-Archive\n",
            "Q227 sources:\n",
            "  [1] Event - Downtown Pittsburgh — https://downtownpittsburgh.com/events/event/?id=63968\n",
            "  [2] Public Safety - Pittsburgh, PA — https://www.pittsburghpa.gov/Safety/Alerts/Public-Safety-Press-Release-Archive\n",
            "  [3] Event - Downtown Pittsburgh — https://downtownpittsburgh.com/events/event/?id=63967\n",
            "  [4] What's Happening - Downtown Pittsburgh — https://downtownpittsburgh.com/events/\n",
            "  [5] What's Happening - Downtown Pittsburgh — https://downtownpittsburgh.com/events/\n"
          ]
        },
        {
          "name": "stderr",
          "output_type": "stream",
          "text": [
            "\rAnswering:  57%|█████▋    | 227/400 [00:54<00:53,  3.26it/s]"
          ]
        },
        {
          "name": "stdout",
          "output_type": "stream",
          "text": [
            "Q228 sources:\n",
            "  [1] What's Happening - Downtown Pittsburgh — https://downtownpittsburgh.com/events/\n",
            "  [2] Public Safety - Pittsburgh, PA — https://www.pittsburghpa.gov/Safety/Alerts/Public-Safety-Press-Release-Archive\n",
            "  [3] Pittsburgh Steelers — https://www.visitpittsburgh.com/directory/pittsburgh-steelers/\n",
            "  [4] Public Safety - Pittsburgh, PA — https://www.pittsburghpa.gov/Safety/Alerts/Public-Safety-Press-Release-Archive\n",
            "  [5] Pittsburgh Steelers — https://www.visitpittsburgh.com/directory/pittsburgh-steelers/\n"
          ]
        },
        {
          "name": "stderr",
          "output_type": "stream",
          "text": [
            "Answering:  57%|█████▋    | 229/400 [00:55<00:42,  4.00it/s]"
          ]
        },
        {
          "name": "stdout",
          "output_type": "stream",
          "text": [
            "Q229 sources:\n",
            "  [1] Event - Downtown Pittsburgh — https://downtownpittsburgh.com/events/event/?id=63967\n",
            "  [2] Public Safety - Pittsburgh, PA — https://www.pittsburghpa.gov/Safety/Alerts/Public-Safety-Press-Release-Archive\n",
            "  [3] Official Tourism Site for Pittsburgh, PA — https://www.visitpittsburgh.com/\n",
            "  [4] Public Safety - Pittsburgh, PA — https://www.pittsburghpa.gov/Safety/Alerts/Public-Safety-Press-Release-Archive\n",
            "  [5] What's Happening - Downtown Pittsburgh — https://downtownpittsburgh.com/events/\n",
            "Q230 sources:\n",
            "  [1] Public Safety - Pittsburgh, PA — https://www.pittsburghpa.gov/Safety/Alerts/Public-Safety-Press-Release-Archive\n",
            "  [2] Pittsburgh Steelers — https://www.visitpittsburgh.com/directory/pittsburgh-steelers/\n",
            "  [3] Public Safety - Pittsburgh, PA — https://www.pittsburghpa.gov/Safety/Alerts/Public-Safety-Press-Release-Archive\n",
            "  [4] The City of Pittsburgh, PA: Boards — https://www.pittsburghpa.gov/City-Government/Boards-Authorities-Commissions/Member-Rosters\n",
            "  [5] Pittsburgh Steelers — https://www.visitpittsburgh.com/directory/pittsburgh-steelers/\n"
          ]
        },
        {
          "name": "stderr",
          "output_type": "stream",
          "text": [
            "\rAnswering:  57%|█████▊    | 230/400 [00:55<00:37,  4.48it/s]"
          ]
        },
        {
          "name": "stdout",
          "output_type": "stream",
          "text": [
            "Q231 sources:\n",
            "  [1] Public Safety - Pittsburgh, PA — https://www.pittsburghpa.gov/Safety/Alerts/Public-Safety-Press-Release-Archive\n",
            "  [2] Public Safety - Pittsburgh, PA — https://www.pittsburghpa.gov/Safety/Alerts/Public-Safety-Press-Release-Archive\n",
            "  [3] Public Safety - Pittsburgh, PA — https://www.pittsburghpa.gov/Safety/Alerts/Public-Safety-Press-Release-Archive\n",
            "  [4] Public Safety - Pittsburgh, PA — https://www.pittsburghpa.gov/Safety/Alerts/Public-Safety-Press-Release-Archive\n",
            "  [5] Public Safety - Pittsburgh, PA — https://www.pittsburghpa.gov/Safety/Alerts/Public-Safety-Press-Release-Archive\n"
          ]
        },
        {
          "name": "stderr",
          "output_type": "stream",
          "text": [
            "\rAnswering:  58%|█████▊    | 231/400 [00:55<00:42,  3.96it/s]"
          ]
        },
        {
          "name": "stdout",
          "output_type": "stream",
          "text": [
            "Q232 sources:\n",
            "  [1] Public Safety - Pittsburgh, PA — https://www.pittsburghpa.gov/Safety/Alerts/Public-Safety-Press-Release-Archive\n",
            "  [2] Public Safety - Pittsburgh, PA — https://www.pittsburghpa.gov/Safety/Alerts/Public-Safety-Press-Release-Archive\n",
            "  [3] Public Safety - Pittsburgh, PA — https://www.pittsburghpa.gov/Safety/Alerts/Public-Safety-Press-Release-Archive\n",
            "  [4] Public Safety - Pittsburgh, PA — https://www.pittsburghpa.gov/Safety/Alerts/Public-Safety-Press-Release-Archive\n",
            "  [5] Pittsburgh Steelers — https://www.visitpittsburgh.com/directory/pittsburgh-steelers/\n"
          ]
        },
        {
          "name": "stderr",
          "output_type": "stream",
          "text": [
            "\rAnswering:  58%|█████▊    | 232/400 [00:55<00:42,  3.96it/s]"
          ]
        },
        {
          "name": "stdout",
          "output_type": "stream",
          "text": [
            "Q233 sources:\n",
            "  [1] What's Happening - Downtown Pittsburgh — https://downtownpittsburgh.com/events/\n",
            "  [2] What's Happening - Downtown Pittsburgh — https://downtownpittsburgh.com/events/\n",
            "  [3] Public Safety - Pittsburgh, PA — https://www.pittsburghpa.gov/Safety/Alerts/Public-Safety-Press-Release-Archive\n",
            "  [4] Public Safety - Pittsburgh, PA — https://www.pittsburghpa.gov/Safety/Alerts/Public-Safety-Press-Release-Archive\n",
            "  [5] Event - Downtown Pittsburgh — https://downtownpittsburgh.com/events/event/?id=63768\n"
          ]
        },
        {
          "name": "stderr",
          "output_type": "stream",
          "text": [
            "\rAnswering:  58%|█████▊    | 233/400 [00:56<00:50,  3.31it/s]"
          ]
        },
        {
          "name": "stdout",
          "output_type": "stream",
          "text": [
            "Q234 sources:\n",
            "  [1] Park Rangers - Pittsburgh, PA — https://www.pittsburghpa.gov/Safety/Public-Safety/Park-Rangers\n",
            "  [2] What's Happening - Downtown Pittsburgh — https://downtownpittsburgh.com/events/?n=11&y=2025\n",
            "  [3] Park Rangers - Pittsburgh, PA — https://www.pittsburghpa.gov/Safety/Public-Safety/Park-Rangers\n",
            "  [4] Park Rangers - Pittsburgh, PA — https://www.pittsburghpa.gov/Safety/Public-Safety/Park-Rangers\n",
            "  [5] What's Happening - Downtown Pittsburgh — https://downtownpittsburgh.com/events/?n=10&d=4&y=2025\n"
          ]
        },
        {
          "name": "stderr",
          "output_type": "stream",
          "text": [
            "\rAnswering:  58%|█████▊    | 234/400 [00:56<00:48,  3.43it/s]"
          ]
        },
        {
          "name": "stdout",
          "output_type": "stream",
          "text": [
            "Q235 sources:\n",
            "  [1] Event - Downtown Pittsburgh — https://downtownpittsburgh.com/events/event/?id=63967\n",
            "  [2] Event - Downtown Pittsburgh — https://downtownpittsburgh.com/events/event/?id=63968\n",
            "  [3] What's Happening - Downtown Pittsburgh — https://downtownpittsburgh.com/events/\n",
            "  [4] Official Tourism Site for Pittsburgh, PA — https://www.visitpittsburgh.com/\n",
            "  [5] What's Happening - Downtown Pittsburgh — https://downtownpittsburgh.com/events/\n"
          ]
        },
        {
          "name": "stderr",
          "output_type": "stream",
          "text": [
            "\rAnswering:  59%|█████▉    | 235/400 [00:57<00:54,  3.03it/s]"
          ]
        },
        {
          "name": "stdout",
          "output_type": "stream",
          "text": [
            "Q236 sources:\n",
            "  [1] Pittsburgh Steelers — https://www.visitpittsburgh.com/directory/pittsburgh-steelers/\n",
            "  [2] Pittsburgh Steelers — https://www.visitpittsburgh.com/directory/pittsburgh-steelers/\n",
            "  [3] Official Tourism Site for Pittsburgh, PA — https://www.visitpittsburgh.com/\n",
            "  [4] What's Happening - Downtown Pittsburgh — https://downtownpittsburgh.com/events/\n",
            "  [5] Public Safety - Pittsburgh, PA — https://www.pittsburghpa.gov/Safety/Alerts/Public-Safety-Press-Release-Archive\n"
          ]
        },
        {
          "name": "stderr",
          "output_type": "stream",
          "text": [
            "\rAnswering:  59%|█████▉    | 236/400 [00:57<00:50,  3.25it/s]"
          ]
        },
        {
          "name": "stdout",
          "output_type": "stream",
          "text": [
            "Q237 sources:\n",
            "  [1] Dog Parks - Pittsburgh, PA — https://www.pittsburghpa.gov/Recreation-Events/Parks/Dog-Parks\n",
            "  [2] Pittsburgh Marathons, Runs, and Walks — https://www.visitpittsburgh.com/events-festivals/marathons-runs-walks/\n",
            "  [3] Pittsburgh, PA Sports Teams — https://www.visitpittsburgh.com/things-to-do/pittsburgh-sports-teams/\n",
            "  [4] Outdoor Recreation in Pittsburgh — https://www.visitpittsburgh.com/things-to-do/outdoor-adventure/\n",
            "  [5] Pittsburgh Farmers Markets & U-Pick Farms — https://www.visitpittsburgh.com/restaurants-culinary/farms-farmers-markets/\n"
          ]
        },
        {
          "name": "stderr",
          "output_type": "stream",
          "text": [
            "Answering:  60%|█████▉    | 238/400 [00:57<00:41,  3.90it/s]"
          ]
        },
        {
          "name": "stdout",
          "output_type": "stream",
          "text": [
            "Q238 sources:\n",
            "  [1] Event - Downtown Pittsburgh — https://downtownpittsburgh.com/events/event/?id=63967\n",
            "  [2] Event - Downtown Pittsburgh — https://downtownpittsburgh.com/events/event/?id=63968\n",
            "  [3] Public Safety - Pittsburgh, PA — https://www.pittsburghpa.gov/Safety/Alerts/Public-Safety-Press-Release-Archive\n",
            "  [4] Public Safety - Pittsburgh, PA — https://www.pittsburghpa.gov/Safety/Alerts/Public-Safety-Press-Release-Archive\n",
            "  [5] What's Happening - Downtown Pittsburgh — https://downtownpittsburgh.com/events/\n",
            "Q239 sources:\n",
            "  [1] Public Safety - Pittsburgh, PA — https://www.pittsburghpa.gov/Safety/Alerts/Public-Safety-Press-Release-Archive\n",
            "  [2] Event - Downtown Pittsburgh — https://downtownpittsburgh.com/events/event/?id=63967\n",
            "  [3] Official Tourism Site for Pittsburgh, PA — https://www.visitpittsburgh.com/\n",
            "  [4] Event - Downtown Pittsburgh — https://downtownpittsburgh.com/events/event/?id=63968\n",
            "  [5] A New Theater, a Significant Sketch, and a Giant Duck: Three Big Moments in Trust History — https://trustarts.org/blog/a-new-theater-a-significant-sketch-and-a-giant-duck-three-big-moments-in-trust-history\n"
          ]
        },
        {
          "name": "stderr",
          "output_type": "stream",
          "text": [
            "Answering:  60%|██████    | 240/400 [00:58<00:42,  3.73it/s]"
          ]
        },
        {
          "name": "stdout",
          "output_type": "stream",
          "text": [
            "Q240 sources:\n",
            "  [1] Pittsburgh, PA Sports Teams — https://www.visitpittsburgh.com/things-to-do/pittsburgh-sports-teams/\n",
            "  [2] Public Safety - Pittsburgh, PA — https://www.pittsburghpa.gov/Safety/Alerts/Public-Safety-Press-Release-Archive\n",
            "  [3] Public Safety - Pittsburgh, PA — https://www.pittsburghpa.gov/Safety/Alerts/Public-Safety-Press-Release-Archive\n",
            "  [4] Public Safety - Pittsburgh, PA — https://www.pittsburghpa.gov/Safety/Alerts/Public-Safety-Press-Release-Archive\n",
            "  [5] Public Safety - Pittsburgh, PA — https://www.pittsburghpa.gov/Safety/Alerts/Public-Safety-Press-Release-Archive\n",
            "Q241 sources:\n",
            "  [1] Public Safety - Pittsburgh, PA — https://www.pittsburghpa.gov/Safety/Alerts/Public-Safety-Press-Release-Archive\n",
            "  [2] The City of Pittsburgh, PA: Boards — https://www.pittsburghpa.gov/City-Government/Boards-Authorities-Commissions/Member-Rosters\n",
            "  [3] Public Safety - Pittsburgh, PA — https://www.pittsburghpa.gov/Safety/Alerts/Public-Safety-Press-Release-Archive\n",
            "  [4] What's Happening - Downtown Pittsburgh — https://downtownpittsburgh.com/events/\n",
            "  [5] Public Safety - Pittsburgh, PA — https://www.pittsburghpa.gov/Safety/Alerts/Public-Safety-Press-Release-Archive\n"
          ]
        },
        {
          "name": "stderr",
          "output_type": "stream",
          "text": [
            "\rAnswering:  60%|██████    | 241/400 [00:58<00:49,  3.22it/s]"
          ]
        },
        {
          "name": "stdout",
          "output_type": "stream",
          "text": [
            "Q242 sources:\n",
            "  [1] Pittsburgh ranks in Lonely Planet's 2025 Global Best in Travel 2025 list — https://www.visitpittsburgh.com/blog/particular-brand-of-magic-pittsburgh-ranks-in-lonely-planets-top-10-global-best-in-travel-2025-list/\n",
            "  [2] Pittsburgh Climate and Average Weather by Month — https://www.visitpittsburgh.com/plan-your-trip/weather/\n",
            "  [3] Pittsburgh Steelers — https://www.visitpittsburgh.com/directory/pittsburgh-steelers/\n",
            "  [4] Official Tourism Site for Pittsburgh, PA — https://www.visitpittsburgh.com/\n",
            "  [5] Pittsburgh Steelers — https://www.visitpittsburgh.com/directory/pittsburgh-steelers/\n"
          ]
        },
        {
          "name": "stderr",
          "output_type": "stream",
          "text": [
            "Answering:  61%|██████    | 243/400 [00:59<00:44,  3.50it/s]"
          ]
        },
        {
          "name": "stdout",
          "output_type": "stream",
          "text": [
            "Q243 sources:\n",
            "  [1] Event - Downtown Pittsburgh — https://downtownpittsburgh.com/events/event/?id=63967\n",
            "  [2] What's Happening - Downtown Pittsburgh — https://downtownpittsburgh.com/events/\n",
            "  [3] Event - Downtown Pittsburgh — https://downtownpittsburgh.com/events/event/?id=63968\n",
            "  [4] Public Safety - Pittsburgh, PA — https://www.pittsburghpa.gov/Safety/Alerts/Public-Safety-Press-Release-Archive\n",
            "  [5] What's Happening - Downtown Pittsburgh — https://downtownpittsburgh.com/events/\n",
            "Q244 sources:\n",
            "  [1] Pittsburgh, PA Sports Teams — https://www.visitpittsburgh.com/things-to-do/pittsburgh-sports-teams/\n",
            "  [2] Public Safety - Pittsburgh, PA — https://www.pittsburghpa.gov/Safety/Alerts/Public-Safety-Press-Release-Archive\n",
            "  [3] Public Safety - Pittsburgh, PA — https://www.pittsburghpa.gov/Safety/Alerts/Public-Safety-Press-Release-Archive\n",
            "  [4] Public Safety - Pittsburgh, PA — https://www.pittsburghpa.gov/Safety/Alerts/Public-Safety-Press-Release-Archive\n",
            "  [5] Public Safety - Pittsburgh, PA — https://www.pittsburghpa.gov/Safety/Alerts/Public-Safety-Press-Release-Archive\n"
          ]
        },
        {
          "name": "stderr",
          "output_type": "stream",
          "text": [
            "Answering:  61%|██████▏   | 245/400 [00:59<00:34,  4.50it/s]"
          ]
        },
        {
          "name": "stdout",
          "output_type": "stream",
          "text": [
            "Q245 sources:\n",
            "  [1] Pittsburgh's Women's Suffrage Centennial — https://www.pittsburghpa.gov/Resident-Services/Community-Programming/Pittsburghs-Womens-Suffrage-Centennial\n",
            "  [2] Pittsburgh's Women's Suffrage Centennial — https://www.pittsburghpa.gov/Resident-Services/Community-Programming/Pittsburghs-Womens-Suffrage-Centennial\n",
            "  [3] What's Happening - Downtown Pittsburgh — https://downtownpittsburgh.com/events/\n",
            "  [4] Pittsburgh Steelers — https://www.visitpittsburgh.com/directory/pittsburgh-steelers/\n",
            "  [5] Official Tourism Site for Pittsburgh, PA — https://www.visitpittsburgh.com/\n",
            "Q246 sources:\n",
            "  [1] Pittsburgh ranks in Lonely Planet's 2025 Global Best in Travel 2025 list — https://www.visitpittsburgh.com/blog/particular-brand-of-magic-pittsburgh-ranks-in-lonely-planets-top-10-global-best-in-travel-2025-list/\n",
            "  [2] Public Safety - Pittsburgh, PA — https://www.pittsburghpa.gov/Safety/Alerts/Public-Safety-Press-Release-Archive\n",
            "  [3] What's Happening - Downtown Pittsburgh — https://downtownpittsburgh.com/events/?n=10&d=4&y=2025\n",
            "  [4] Pittsburgh Marathons, Runs, and Walks — https://www.visitpittsburgh.com/events-festivals/marathons-runs-walks/\n",
            "  [5] Official Tourism Site for Pittsburgh, PA — https://www.visitpittsburgh.com/\n"
          ]
        },
        {
          "name": "stderr",
          "output_type": "stream",
          "text": [
            "Answering:  62%|██████▏   | 247/400 [00:59<00:29,  5.26it/s]"
          ]
        },
        {
          "name": "stdout",
          "output_type": "stream",
          "text": [
            "Q247 sources:\n",
            "  [1] Esports Tournaments — https://www.pittsburghpa.gov/Recreation-Events/Special-Events/Pittsburgh-E-Arena-Tournament\n",
            "  [2] Public Safety - Pittsburgh, PA — https://www.pittsburghpa.gov/Safety/Alerts/Public-Safety-Press-Release-Archive\n",
            "  [3] What's Happening - Downtown Pittsburgh — https://downtownpittsburgh.com/events/\n",
            "  [4] Group Sales — https://pittsburghsymphony.org/pso_home/web/tickets/group-sales\n",
            "  [5] Media and Information Resources — https://www.pittsburghpa.gov/Business-Development/Digital-Equity-In-Pittsburgh/Media-and-Information-Resources\n",
            "Q248 sources:\n",
            "  [1] What's Happening - Downtown Pittsburgh — https://downtownpittsburgh.com/events/\n",
            "  [2] Public Safety - Pittsburgh, PA — https://www.pittsburghpa.gov/Safety/Alerts/Public-Safety-Press-Release-Archive\n",
            "  [3] Pittsburgh ranks in Lonely Planet's 2025 Global Best in Travel 2025 list — https://www.visitpittsburgh.com/blog/particular-brand-of-magic-pittsburgh-ranks-in-lonely-planets-top-10-global-best-in-travel-2025-list/\n",
            "  [4] Public Safety - Pittsburgh, PA — https://www.pittsburghpa.gov/Safety/Alerts/Public-Safety-Press-Release-Archive\n",
            "  [5] Public Safety - Pittsburgh, PA — https://www.pittsburghpa.gov/Safety/Alerts/Public-Safety-Press-Release-Archive\n"
          ]
        },
        {
          "name": "stderr",
          "output_type": "stream",
          "text": [
            "Answering:  62%|██████▏   | 249/400 [01:00<00:26,  5.71it/s]"
          ]
        },
        {
          "name": "stdout",
          "output_type": "stream",
          "text": [
            "Q249 sources:\n",
            "  [1] Public Safety - Pittsburgh, PA — https://www.pittsburghpa.gov/Safety/Alerts/Public-Safety-Press-Release-Archive\n",
            "  [2] Event - Downtown Pittsburgh — https://downtownpittsburgh.com/events/event/?id=63967\n",
            "  [3] Event - Downtown Pittsburgh — https://downtownpittsburgh.com/events/event/?id=63968\n",
            "  [4] Official Tourism Site for Pittsburgh, PA — https://www.visitpittsburgh.com/\n",
            "  [5] Public Safety - Pittsburgh, PA — https://www.pittsburghpa.gov/Safety/Alerts/Public-Safety-Press-Release-Archive\n",
            "Q250 sources:\n",
            "  [1] Public Safety - Pittsburgh, PA — https://www.pittsburghpa.gov/Safety/Alerts/Public-Safety-Press-Release-Archive\n",
            "  [2] Public Safety - Pittsburgh, PA — https://www.pittsburghpa.gov/Safety/Alerts/Public-Safety-Press-Release-Archive\n",
            "  [3] Public Safety - Pittsburgh, PA — https://www.pittsburghpa.gov/Safety/Alerts/Public-Safety-Press-Release-Archive\n",
            "  [4] Pittsburgh Steelers — https://www.visitpittsburgh.com/directory/pittsburgh-steelers/\n",
            "  [5] Pittsburgh Steelers — https://www.visitpittsburgh.com/directory/pittsburgh-steelers/\n"
          ]
        },
        {
          "name": "stderr",
          "output_type": "stream",
          "text": [
            "\rAnswering:  62%|██████▎   | 250/400 [01:00<00:32,  4.56it/s]"
          ]
        },
        {
          "name": "stdout",
          "output_type": "stream",
          "text": [
            "Q251 sources:\n",
            "  [1] Public Safety - Pittsburgh, PA — https://www.pittsburghpa.gov/Safety/Alerts/Public-Safety-Press-Release-Archive\n",
            "  [2] Public Safety - Pittsburgh, PA — https://www.pittsburghpa.gov/Safety/Alerts/Public-Safety-Press-Release-Archive\n",
            "  [3] Public Safety - Pittsburgh, PA — https://www.pittsburghpa.gov/Safety/Alerts/Public-Safety-Press-Release-Archive\n",
            "  [4] Public Safety - Pittsburgh, PA — https://www.pittsburghpa.gov/Safety/Alerts/Public-Safety-Press-Release-Archive\n",
            "  [5] Public Safety - Pittsburgh, PA — https://www.pittsburghpa.gov/Safety/Alerts/Public-Safety-Press-Release-Archive\n"
          ]
        },
        {
          "name": "stderr",
          "output_type": "stream",
          "text": [
            "Answering:  63%|██████▎   | 252/400 [01:01<00:37,  3.98it/s]"
          ]
        },
        {
          "name": "stdout",
          "output_type": "stream",
          "text": [
            "Q252 sources:\n",
            "  [1] Public Safety - Pittsburgh, PA — https://www.pittsburghpa.gov/Safety/Alerts/Public-Safety-Press-Release-Archive\n",
            "  [2] Public Safety - Pittsburgh, PA — https://www.pittsburghpa.gov/Safety/Alerts/Public-Safety-Press-Release-Archive\n",
            "  [3] About Us | VisitPITTSBURGH Awards and Information | Visit Pittsburgh — https://www.visitpittsburgh.com/about-us/\n",
            "  [4] Public Safety - Pittsburgh, PA — https://www.pittsburghpa.gov/Safety/Alerts/Public-Safety-Press-Release-Archive\n",
            "  [5] Public Safety - Pittsburgh, PA — https://www.pittsburghpa.gov/Safety/Alerts/Public-Safety-Press-Release-Archive\n",
            "Q253 sources:\n",
            "  [1] Pittsburgh Steelers — https://www.visitpittsburgh.com/directory/pittsburgh-steelers/\n",
            "  [2] Official Tourism Site for Pittsburgh, PA — https://www.visitpittsburgh.com/\n",
            "  [3] 2026 NFL Draft | Visit Pittsburgh — https://www.visitpittsburgh.com/nfl-draft-pittsburgh/\n",
            "  [4] Public Safety - Pittsburgh, PA — https://www.pittsburghpa.gov/Safety/Alerts/Public-Safety-Press-Release-Archive\n",
            "  [5] Public Safety - Pittsburgh, PA — https://www.pittsburghpa.gov/Safety/Alerts/Public-Safety-Press-Release-Archive\n"
          ]
        },
        {
          "name": "stderr",
          "output_type": "stream",
          "text": [
            "Answering:  64%|██████▎   | 254/400 [01:01<00:30,  4.81it/s]"
          ]
        },
        {
          "name": "stdout",
          "output_type": "stream",
          "text": [
            "Q254 sources:\n",
            "  [1] Event - Downtown Pittsburgh — https://downtownpittsburgh.com/events/event/?id=63967\n",
            "  [2] Event - Downtown Pittsburgh — https://downtownpittsburgh.com/events/event/?id=63968\n",
            "  [3] Public Safety - Pittsburgh, PA — https://www.pittsburghpa.gov/Safety/Alerts/Public-Safety-Press-Release-Archive\n",
            "  [4] Public Safety - Pittsburgh, PA — https://www.pittsburghpa.gov/Safety/Alerts/Public-Safety-Press-Release-Archive\n",
            "  [5] What's Happening - Downtown Pittsburgh — https://downtownpittsburgh.com/events/\n",
            "Q255 sources:\n",
            "  [1] Event - Downtown Pittsburgh — https://downtownpittsburgh.com/events/event/?id=63967\n",
            "  [2] What's Happening - Downtown Pittsburgh — https://downtownpittsburgh.com/events/\n",
            "  [3] Event - Downtown Pittsburgh — https://downtownpittsburgh.com/events/event/?id=63968\n",
            "  [4] Public Safety - Pittsburgh, PA — https://www.pittsburghpa.gov/Safety/Alerts/Public-Safety-Press-Release-Archive\n",
            "  [5] Official Tourism Site for Pittsburgh, PA — https://www.visitpittsburgh.com/\n"
          ]
        },
        {
          "name": "stderr",
          "output_type": "stream",
          "text": [
            "\rAnswering:  64%|██████▍   | 255/400 [01:01<00:28,  5.10it/s]"
          ]
        },
        {
          "name": "stdout",
          "output_type": "stream",
          "text": [
            "Q256 sources:\n",
            "  [1] Pittsburgh, PA Sports Teams — https://www.visitpittsburgh.com/things-to-do/pittsburgh-sports-teams/\n",
            "  [2] Show Your Badge | Visit Pittsburgh — https://www.visitpittsburgh.com/meetings-and-events/show-your-badge/\n",
            "  [3] Training Division — https://www.pittsburghpa.gov/Safety/Emergency-Medical-Services/Training-Division\n",
            "  [4] Pittsburgh ranks in Lonely Planet's 2025 Global Best in Travel 2025 list — https://www.visitpittsburgh.com/blog/particular-brand-of-magic-pittsburgh-ranks-in-lonely-planets-top-10-global-best-in-travel-2025-list/\n",
            "  [5] Public Safety - Pittsburgh, PA — https://www.pittsburghpa.gov/Safety/Alerts/Public-Safety-Press-Release-Archive\n"
          ]
        },
        {
          "name": "stderr",
          "output_type": "stream",
          "text": [
            "Answering:  64%|██████▍   | 257/400 [01:02<00:33,  4.24it/s]"
          ]
        },
        {
          "name": "stdout",
          "output_type": "stream",
          "text": [
            "Q257 sources:\n",
            "  [1] Public Safety - Pittsburgh, PA — https://www.pittsburghpa.gov/Safety/Alerts/Public-Safety-Press-Release-Archive\n",
            "  [2] Public Safety - Pittsburgh, PA — https://www.pittsburghpa.gov/Safety/Alerts/Public-Safety-Press-Release-Archive\n",
            "  [3] Pittsburgh ranks in Lonely Planet's 2025 Global Best in Travel 2025 list — https://www.visitpittsburgh.com/blog/particular-brand-of-magic-pittsburgh-ranks-in-lonely-planets-top-10-global-best-in-travel-2025-list/\n",
            "  [4] Public Safety - Pittsburgh, PA — https://www.pittsburghpa.gov/Safety/Alerts/Public-Safety-Press-Release-Archive\n",
            "  [5] Public Safety - Pittsburgh, PA — https://www.pittsburghpa.gov/Safety/Alerts/Public-Safety-Press-Release-Archive\n",
            "Q258 sources:\n",
            "  [1] Pittsburgh, PA Sports Teams — https://www.visitpittsburgh.com/things-to-do/pittsburgh-sports-teams/\n",
            "  [2] Public Safety - Pittsburgh, PA — https://www.pittsburghpa.gov/Safety/Alerts/Public-Safety-Press-Release-Archive\n",
            "  [3] Public Safety - Pittsburgh, PA — https://www.pittsburghpa.gov/Safety/Alerts/Public-Safety-Press-Release-Archive\n",
            "  [4] Public Safety - Pittsburgh, PA — https://www.pittsburghpa.gov/Safety/Alerts/Public-Safety-Press-Release-Archive\n",
            "  [5] Public Safety - Pittsburgh, PA — https://www.pittsburghpa.gov/Safety/Alerts/Public-Safety-Press-Release-Archive\n"
          ]
        },
        {
          "name": "stderr",
          "output_type": "stream",
          "text": [
            "Answering:  65%|██████▍   | 259/400 [01:02<00:29,  4.78it/s]"
          ]
        },
        {
          "name": "stdout",
          "output_type": "stream",
          "text": [
            "Q259 sources:\n",
            "  [1] 2026 NFL Draft | Visit Pittsburgh — https://www.visitpittsburgh.com/nfl-draft-pittsburgh/\n",
            "  [2] Public Safety - Pittsburgh, PA — https://www.pittsburghpa.gov/Safety/Alerts/Public-Safety-Press-Release-Archive\n",
            "  [3] Pittsburgh Steelers — https://www.visitpittsburgh.com/directory/pittsburgh-steelers/\n",
            "  [4] Official Tourism Site for Pittsburgh, PA — https://www.visitpittsburgh.com/\n",
            "  [5] What's Happening - Downtown Pittsburgh — https://downtownpittsburgh.com/events/\n",
            "Q260 sources:\n",
            "  [1] Pittsburgh, PA Sports Teams — https://www.visitpittsburgh.com/things-to-do/pittsburgh-sports-teams/\n",
            "  [2] Pittsburgh Climate and Average Weather by Month — https://www.visitpittsburgh.com/plan-your-trip/weather/\n",
            "  [3] What's Happening - Downtown Pittsburgh — https://downtownpittsburgh.com/events/\n",
            "  [4] What's Happening - Downtown Pittsburgh — https://downtownpittsburgh.com/events/\n",
            "  [5] Esports Tournaments — https://www.pittsburghpa.gov/Recreation-Events/Special-Events/Pittsburgh-E-Arena-Tournament\n"
          ]
        },
        {
          "name": "stderr",
          "output_type": "stream",
          "text": [
            "\rAnswering:  65%|██████▌   | 260/400 [01:02<00:27,  5.11it/s]"
          ]
        },
        {
          "name": "stdout",
          "output_type": "stream",
          "text": [
            "Q261 sources:\n",
            "  [1] Event - Downtown Pittsburgh — https://downtownpittsburgh.com/events/event/?id=63968\n",
            "  [2] What's Happening - Downtown Pittsburgh — https://downtownpittsburgh.com/events/\n",
            "  [3] Event - Downtown Pittsburgh — https://downtownpittsburgh.com/events/event/?id=63967\n",
            "  [4] What's Happening - Downtown Pittsburgh — https://downtownpittsburgh.com/events/\n",
            "  [5] Public Safety - Pittsburgh, PA — https://www.pittsburghpa.gov/Safety/Alerts/Public-Safety-Press-Release-Archive\n"
          ]
        },
        {
          "name": "stderr",
          "output_type": "stream",
          "text": [
            "\rAnswering:  65%|██████▌   | 261/400 [01:03<00:36,  3.78it/s]"
          ]
        },
        {
          "name": "stdout",
          "output_type": "stream",
          "text": [
            "Q262 sources:\n",
            "  [1] What's Happening - Downtown Pittsburgh — https://downtownpittsburgh.com/events/\n",
            "  [2] Public Safety - Pittsburgh, PA — https://www.pittsburghpa.gov/Safety/Alerts/Public-Safety-Press-Release-Archive\n",
            "  [3] Public Safety - Pittsburgh, PA — https://www.pittsburghpa.gov/Safety/Alerts/Public-Safety-Press-Release-Archive\n",
            "  [4] Public Safety - Pittsburgh, PA — https://www.pittsburghpa.gov/Safety/Alerts/Public-Safety-Press-Release-Archive\n",
            "  [5] Public Safety - Pittsburgh, PA — https://www.pittsburghpa.gov/Safety/Alerts/Public-Safety-Press-Release-Archive\n"
          ]
        },
        {
          "name": "stderr",
          "output_type": "stream",
          "text": [
            "\rAnswering:  66%|██████▌   | 262/400 [01:03<00:39,  3.53it/s]"
          ]
        },
        {
          "name": "stdout",
          "output_type": "stream",
          "text": [
            "Q263 sources:\n",
            "  [1] Public Safety - Pittsburgh, PA — https://www.pittsburghpa.gov/Safety/Alerts/Public-Safety-Press-Release-Archive\n",
            "  [2] Public Safety - Pittsburgh, PA — https://www.pittsburghpa.gov/Safety/Alerts/Public-Safety-Press-Release-Archive\n",
            "  [3] Event - Downtown Pittsburgh — https://downtownpittsburgh.com/events/event/?id=63967\n",
            "  [4] In Honor of Service — https://pittsburghsymphony.org/pso_home/web/tickets/in-honor-of-service\n",
            "  [5] PSO Go — https://www.pittsburghsymphony.org/pso_home/web/tickets/pso-go\n"
          ]
        },
        {
          "name": "stderr",
          "output_type": "stream",
          "text": [
            "Answering:  66%|██████▌   | 264/400 [01:04<00:36,  3.75it/s]"
          ]
        },
        {
          "name": "stdout",
          "output_type": "stream",
          "text": [
            "Q264 sources:\n",
            "  [1] Public Safety - Pittsburgh, PA — https://www.pittsburghpa.gov/Safety/Alerts/Public-Safety-Press-Release-Archive\n",
            "  [2] Public Safety - Pittsburgh, PA — https://www.pittsburghpa.gov/Safety/Alerts/Public-Safety-Press-Release-Archive\n",
            "  [3] Public Safety - Pittsburgh, PA — https://www.pittsburghpa.gov/Safety/Alerts/Public-Safety-Press-Release-Archive\n",
            "  [4] Public Safety - Pittsburgh, PA — https://www.pittsburghpa.gov/Safety/Alerts/Public-Safety-Press-Release-Archive\n",
            "  [5] Public Safety - Pittsburgh, PA — https://www.pittsburghpa.gov/Safety/Alerts/Public-Safety-Press-Release-Archive\n",
            "Q265 sources:\n",
            "  [1] The City of Pittsburgh, PA: Boards — https://www.pittsburghpa.gov/City-Government/Boards-Authorities-Commissions/Member-Rosters\n",
            "  [2] Special Event & Block Party Permitting — https://www.pittsburghpa.gov/Recreation-Events/Film-Event-Management/Special-Event-Block-Party-Permitting\n",
            "  [3] Public Safety - Pittsburgh, PA — https://www.pittsburghpa.gov/Safety/Alerts/Public-Safety-Press-Release-Archive\n",
            "  [4] Public Safety - Pittsburgh, PA — https://www.pittsburghpa.gov/Safety/Alerts/Public-Safety-Press-Release-Archive\n",
            "  [5] Event - Downtown Pittsburgh — https://downtownpittsburgh.com/events/event/?id=63906\n"
          ]
        },
        {
          "name": "stderr",
          "output_type": "stream",
          "text": [
            "\rAnswering:  66%|██████▋   | 265/400 [01:04<00:40,  3.30it/s]"
          ]
        },
        {
          "name": "stdout",
          "output_type": "stream",
          "text": [
            "Q266 sources:\n",
            "  [1] Public Safety - Pittsburgh, PA — https://www.pittsburghpa.gov/Safety/Alerts/Public-Safety-Press-Release-Archive\n",
            "  [2] Public Safety - Pittsburgh, PA — https://www.pittsburghpa.gov/Safety/Alerts/Public-Safety-Press-Release-Archive\n",
            "  [3] Public Safety - Pittsburgh, PA — https://www.pittsburghpa.gov/Safety/Alerts/Public-Safety-Press-Release-Archive\n",
            "  [4] Public Safety - Pittsburgh, PA — https://www.pittsburghpa.gov/Safety/Alerts/Public-Safety-Press-Release-Archive\n",
            "  [5] Public Safety - Pittsburgh, PA — https://www.pittsburghpa.gov/Safety/Alerts/Public-Safety-Press-Release-Archive\n"
          ]
        },
        {
          "name": "stderr",
          "output_type": "stream",
          "text": [
            "\rAnswering:  66%|██████▋   | 266/400 [01:04<00:40,  3.27it/s]"
          ]
        },
        {
          "name": "stdout",
          "output_type": "stream",
          "text": [
            "Q267 sources:\n",
            "  [1] Pittsburgh Steelers — https://www.visitpittsburgh.com/directory/pittsburgh-steelers/\n",
            "  [2] Public Safety - Pittsburgh, PA — https://www.pittsburghpa.gov/Safety/Alerts/Public-Safety-Press-Release-Archive\n",
            "  [3] Pittsburgh Steelers — https://www.visitpittsburgh.com/directory/pittsburgh-steelers/\n",
            "  [4] Public Safety - Pittsburgh, PA — https://www.pittsburghpa.gov/Safety/Alerts/Public-Safety-Press-Release-Archive\n",
            "  [5] 2026 NFL Draft | Visit Pittsburgh — https://www.visitpittsburgh.com/nfl-draft-pittsburgh/\n"
          ]
        },
        {
          "name": "stderr",
          "output_type": "stream",
          "text": [
            "Answering:  67%|██████▋   | 268/400 [01:05<00:33,  3.99it/s]"
          ]
        },
        {
          "name": "stdout",
          "output_type": "stream",
          "text": [
            "Q268 sources:\n",
            "  [1] Pittsburgh, PA Sports Teams — https://www.visitpittsburgh.com/things-to-do/pittsburgh-sports-teams/\n",
            "  [2] Public Safety - Pittsburgh, PA — https://www.pittsburghpa.gov/Safety/Alerts/Public-Safety-Press-Release-Archive\n",
            "  [3] Public Safety - Pittsburgh, PA — https://www.pittsburghpa.gov/Safety/Alerts/Public-Safety-Press-Release-Archive\n",
            "  [4] Public Safety - Pittsburgh, PA — https://www.pittsburghpa.gov/Safety/Alerts/Public-Safety-Press-Release-Archive\n",
            "  [5] Public Safety - Pittsburgh, PA — https://www.pittsburghpa.gov/Safety/Alerts/Public-Safety-Press-Release-Archive\n",
            "Q269 sources:\n",
            "  [1] What's Happening - Downtown Pittsburgh — https://downtownpittsburgh.com/events/\n",
            "  [2] Public Safety - Pittsburgh, PA — https://www.pittsburghpa.gov/Safety/Alerts/Public-Safety-Press-Release-Archive\n",
            "  [3] Public Safety - Pittsburgh, PA — https://www.pittsburghpa.gov/Safety/Alerts/Public-Safety-Press-Release-Archive\n",
            "  [4] Public Safety - Pittsburgh, PA — https://www.pittsburghpa.gov/Safety/Alerts/Public-Safety-Press-Release-Archive\n",
            "  [5] Public Safety - Pittsburgh, PA — https://www.pittsburghpa.gov/Safety/Alerts/Public-Safety-Press-Release-Archive\n"
          ]
        },
        {
          "name": "stderr",
          "output_type": "stream",
          "text": [
            "Answering:  68%|██████▊   | 270/400 [01:05<00:30,  4.24it/s]"
          ]
        },
        {
          "name": "stdout",
          "output_type": "stream",
          "text": [
            "Q270 sources:\n",
            "  [1] Event - Downtown Pittsburgh — https://downtownpittsburgh.com/events/event/?id=63976\n",
            "  [2] Event - Downtown Pittsburgh — https://downtownpittsburgh.com/events/event/?id=63968\n",
            "  [3] Public Safety - Pittsburgh, PA — https://www.pittsburghpa.gov/Safety/Alerts/Public-Safety-Press-Release-Archive\n",
            "  [4] What's Happening - Downtown Pittsburgh — https://downtownpittsburgh.com/events/\n",
            "  [5] What's Happening - Downtown Pittsburgh — https://downtownpittsburgh.com/events/\n",
            "Q271 sources:\n",
            "  [1] Pittsburgh Steelers — https://www.visitpittsburgh.com/directory/pittsburgh-steelers/\n",
            "  [2] Pittsburgh Steelers — https://www.visitpittsburgh.com/directory/pittsburgh-steelers/\n",
            "  [3] Special Event Operations — https://www.pittsburghpa.gov/Safety/Emergency-Medical-Services/Special-Event-Operations\n",
            "  [4] Pittsburgh Cultural Activities — https://www.pittsburghpa.gov/Recreation-Events/Events/Pittsburgh-Cultural-Activities\n",
            "  [5] Event - Downtown Pittsburgh — https://downtownpittsburgh.com/events/event/?id=63282\n"
          ]
        },
        {
          "name": "stderr",
          "output_type": "stream",
          "text": [
            "Answering:  68%|██████▊   | 272/400 [01:06<00:26,  4.80it/s]"
          ]
        },
        {
          "name": "stdout",
          "output_type": "stream",
          "text": [
            "Q272 sources:\n",
            "  [1] Broadway Subscribe — https://trustarts.org/events/series/pnc-broadway-in-pittsburgh/broadway-subscribe\n",
            "  [2] Pittsburgh, PA Sports Teams — https://www.visitpittsburgh.com/things-to-do/pittsburgh-sports-teams/\n",
            "  [3] Official Tourism Site for Pittsburgh, PA — https://www.visitpittsburgh.com/\n",
            "  [4] Public Safety - Pittsburgh, PA — https://www.pittsburghpa.gov/Safety/Alerts/Public-Safety-Press-Release-Archive\n",
            "  [5] Commissions and Boards — https://www.pittsburghpa.gov/Business-Development/City-Planning/Commissions-and-Boards\n",
            "Q273 sources:\n",
            "  [1] Real Estate - Pittsburgh, PA — https://www.pittsburghpa.gov/City-Government/Finance-Budget/Real-Estate\n",
            "  [2] Clayton Preservation Tour — https://www.thefrickpittsburgh.org/Event-Clayton-Preservation-Tour\n",
            "  [3] Public Safety - Pittsburgh, PA — https://www.pittsburghpa.gov/Safety/Alerts/Public-Safety-Press-Release-Archive\n",
            "  [4] City of Pittsburgh Charity Challenges: FAQs — https://www.pittsburghpa.gov/City-Government/Mayor/City-of-Pittsburgh-Charity-Challenges-FAQs\n",
            "  [5] Public Safety - Pittsburgh, PA — https://www.pittsburghpa.gov/Safety/Alerts/Public-Safety-Press-Release-Archive\n"
          ]
        },
        {
          "name": "stderr",
          "output_type": "stream",
          "text": [
            "Answering:  68%|██████▊   | 274/400 [01:06<00:26,  4.80it/s]"
          ]
        },
        {
          "name": "stdout",
          "output_type": "stream",
          "text": [
            "Q274 sources:\n",
            "  [1] Public Safety - Pittsburgh, PA — https://www.pittsburghpa.gov/Safety/Alerts/Public-Safety-Press-Release-Archive\n",
            "  [2] Event - Downtown Pittsburgh — https://downtownpittsburgh.com/events/event/?id=63967\n",
            "  [3] Event - Downtown Pittsburgh — https://downtownpittsburgh.com/events/event/?id=63968\n",
            "  [4] What's Happening - Downtown Pittsburgh — https://downtownpittsburgh.com/events/\n",
            "  [5] Public Safety - Pittsburgh, PA — https://www.pittsburghpa.gov/Safety/Alerts/Public-Safety-Press-Release-Archive\n",
            "Q275 sources:\n",
            "  [1] The City of Pittsburgh, PA: Boards — https://www.pittsburghpa.gov/City-Government/Boards-Authorities-Commissions/Member-Rosters\n",
            "  [2] Public Safety - Pittsburgh, PA — https://www.pittsburghpa.gov/Safety/Alerts/Public-Safety-Press-Release-Archive\n",
            "  [3] Pittsburgh, PA Sports Teams — https://www.visitpittsburgh.com/things-to-do/pittsburgh-sports-teams/\n",
            "  [4] Public Safety - Pittsburgh, PA — https://www.pittsburghpa.gov/Safety/Alerts/Public-Safety-Press-Release-Archive\n",
            "  [5] Broadway Subscribe — https://trustarts.org/events/series/pnc-broadway-in-pittsburgh/broadway-subscribe\n"
          ]
        },
        {
          "name": "stderr",
          "output_type": "stream",
          "text": [
            "Answering:  69%|██████▉   | 276/400 [01:06<00:26,  4.76it/s]"
          ]
        },
        {
          "name": "stdout",
          "output_type": "stream",
          "text": [
            "Q276 sources:\n",
            "  [1] Event - Downtown Pittsburgh — https://downtownpittsburgh.com/events/event/?id=63967\n",
            "  [2] What's Happening - Downtown Pittsburgh — https://downtownpittsburgh.com/events/\n",
            "  [3] Public Safety - Pittsburgh, PA — https://www.pittsburghpa.gov/Safety/Alerts/Public-Safety-Press-Release-Archive\n",
            "  [4] What's Happening - Downtown Pittsburgh — https://downtownpittsburgh.com/events/\n",
            "  [5] Public Safety - Pittsburgh, PA — https://www.pittsburghpa.gov/Safety/Alerts/Public-Safety-Press-Release-Archive\n",
            "Q277 sources:\n",
            "  [1] What's Happening - Downtown Pittsburgh — https://downtownpittsburgh.com/events/\n",
            "  [2] What's Happening - Downtown Pittsburgh — https://downtownpittsburgh.com/events/?n=11&d=1&y=2025\n",
            "  [3] What's Happening - Downtown Pittsburgh — https://downtownpittsburgh.com/events/?n=11&d=8&y=2025\n",
            "  [4] Event - Downtown Pittsburgh — https://downtownpittsburgh.com/events/event/?id=63964\n",
            "  [5] Public Safety - Pittsburgh, PA — https://www.pittsburghpa.gov/Safety/Alerts/Public-Safety-Press-Release-Archive\n"
          ]
        },
        {
          "name": "stderr",
          "output_type": "stream",
          "text": [
            "\rAnswering:  69%|██████▉   | 277/400 [01:07<00:24,  5.09it/s]"
          ]
        },
        {
          "name": "stdout",
          "output_type": "stream",
          "text": [
            "Q278 sources:\n",
            "  [1] What's Happening - Downtown Pittsburgh — https://downtownpittsburgh.com/events/\n",
            "  [2] Public Safety - Pittsburgh, PA — https://www.pittsburghpa.gov/Safety/Alerts/Public-Safety-Press-Release-Archive\n",
            "  [3] Public Safety - Pittsburgh, PA — https://www.pittsburghpa.gov/Safety/Alerts/Public-Safety-Press-Release-Archive\n",
            "  [4] Event - Downtown Pittsburgh — https://downtownpittsburgh.com/events/event/?id=63768\n",
            "  [5] Public Safety - Pittsburgh, PA — https://www.pittsburghpa.gov/Safety/Alerts/Public-Safety-Press-Release-Archive\n"
          ]
        },
        {
          "name": "stderr",
          "output_type": "stream",
          "text": [
            "Answering:  70%|██████▉   | 279/400 [01:07<00:25,  4.69it/s]"
          ]
        },
        {
          "name": "stdout",
          "output_type": "stream",
          "text": [
            "Q279 sources:\n",
            "  [1] Event - Downtown Pittsburgh — https://downtownpittsburgh.com/events/event/?id=63968\n",
            "  [2] Event - Downtown Pittsburgh — https://downtownpittsburgh.com/events/event/?id=63967\n",
            "  [3] What's Happening - Downtown Pittsburgh — https://downtownpittsburgh.com/events/\n",
            "  [4] What's Happening - Downtown Pittsburgh — https://downtownpittsburgh.com/events/\n",
            "  [5] What's Happening - Downtown Pittsburgh — https://downtownpittsburgh.com/events/\n",
            "Q280 sources:\n",
            "  [1] Park Rangers - Pittsburgh, PA — https://www.pittsburghpa.gov/Safety/Public-Safety/Park-Rangers\n",
            "  [2] Public Safety - Pittsburgh, PA — https://www.pittsburghpa.gov/Safety/Alerts/Public-Safety-Press-Release-Archive\n",
            "  [3] A Puppy’s Guide Dog Training: The Benedum Center Edition — https://trustarts.org/blog/a-puppys-guide-dog-training-the-benedum-center-edition\n",
            "  [4] Public Safety - Pittsburgh, PA — https://www.pittsburghpa.gov/Safety/Alerts/Public-Safety-Press-Release-Archive\n",
            "  [5] Public Safety - Pittsburgh, PA — https://www.pittsburghpa.gov/Safety/Alerts/Public-Safety-Press-Release-Archive\n"
          ]
        },
        {
          "name": "stderr",
          "output_type": "stream",
          "text": [
            "Answering:  70%|███████   | 281/400 [01:08<00:25,  4.67it/s]"
          ]
        },
        {
          "name": "stdout",
          "output_type": "stream",
          "text": [
            "Q281 sources:\n",
            "  [1] Dog Parks - Pittsburgh, PA — https://www.pittsburghpa.gov/Recreation-Events/Parks/Dog-Parks\n",
            "  [2] Esports Tournaments — https://www.pittsburghpa.gov/Recreation-Events/Special-Events/Pittsburgh-E-Arena-Tournament\n",
            "  [3] Public Safety - Pittsburgh, PA — https://www.pittsburghpa.gov/Safety/Alerts/Public-Safety-Press-Release-Archive\n",
            "  [4] Public Safety - Pittsburgh, PA — https://www.pittsburghpa.gov/Safety/Alerts/Public-Safety-Press-Release-Archive\n",
            "  [5] Pittsburgh, PA Sports Teams — https://www.visitpittsburgh.com/things-to-do/pittsburgh-sports-teams/\n",
            "Q282 sources:\n",
            "  [1] Pittsburgh Steelers — https://www.visitpittsburgh.com/directory/pittsburgh-steelers/\n",
            "  [2] Pittsburgh Steelers — https://www.visitpittsburgh.com/directory/pittsburgh-steelers/\n",
            "  [3] Public Safety - Pittsburgh, PA — https://www.pittsburghpa.gov/Safety/Alerts/Public-Safety-Press-Release-Archive\n",
            "  [4] What's Happening - Downtown Pittsburgh — https://downtownpittsburgh.com/events/\n",
            "  [5] Pittsburgh ranks in Lonely Planet's 2025 Global Best in Travel 2025 list — https://www.visitpittsburgh.com/blog/particular-brand-of-magic-pittsburgh-ranks-in-lonely-planets-top-10-global-best-in-travel-2025-list/\n"
          ]
        },
        {
          "name": "stderr",
          "output_type": "stream",
          "text": [
            "Answering:  71%|███████   | 283/400 [01:08<00:22,  5.19it/s]"
          ]
        },
        {
          "name": "stdout",
          "output_type": "stream",
          "text": [
            "Q283 sources:\n",
            "  [1] What's Happening - Downtown Pittsburgh — https://downtownpittsburgh.com/events/\n",
            "  [2] Event - Downtown Pittsburgh — https://downtownpittsburgh.com/events/event/?id=63968\n",
            "  [3] What's Happening - Downtown Pittsburgh — https://downtownpittsburgh.com/events/\n",
            "  [4] Event - Downtown Pittsburgh — https://downtownpittsburgh.com/events/event/?id=63976\n",
            "  [5] Resident Testimonials — https://downtownpittsburgh.com/live/downtown-lifestyle/resident-testimonials/\n",
            "Q284 sources:\n",
            "  [1] Event - Downtown Pittsburgh — https://downtownpittsburgh.com/events/event/?id=63967\n",
            "  [2] Event - Downtown Pittsburgh — https://downtownpittsburgh.com/events/event/?id=63968\n",
            "  [3] What's Happening - Downtown Pittsburgh — https://downtownpittsburgh.com/events/\n",
            "  [4] Public Safety - Pittsburgh, PA — https://www.pittsburghpa.gov/Safety/Alerts/Public-Safety-Press-Release-Archive\n",
            "  [5] Public Safety - Pittsburgh, PA — https://www.pittsburghpa.gov/Safety/Alerts/Public-Safety-Press-Release-Archive\n"
          ]
        },
        {
          "name": "stderr",
          "output_type": "stream",
          "text": [
            "\rAnswering:  71%|███████   | 284/400 [01:08<00:29,  3.96it/s]"
          ]
        },
        {
          "name": "stdout",
          "output_type": "stream",
          "text": [
            "Q285 sources:\n",
            "  [1] Public Safety - Pittsburgh, PA — https://www.pittsburghpa.gov/Safety/Alerts/Public-Safety-Press-Release-Archive\n",
            "  [2] Public Safety - Pittsburgh, PA — https://www.pittsburghpa.gov/Safety/Alerts/Public-Safety-Press-Release-Archive\n",
            "  [3] Public Safety - Pittsburgh, PA — https://www.pittsburghpa.gov/Safety/Alerts/Public-Safety-Press-Release-Archive\n",
            "  [4] Pittsburgh Steelers — https://www.visitpittsburgh.com/directory/pittsburgh-steelers/\n",
            "  [5] Public Safety - Pittsburgh, PA — https://www.pittsburghpa.gov/Safety/Alerts/Public-Safety-Press-Release-Archive\n"
          ]
        },
        {
          "name": "stderr",
          "output_type": "stream",
          "text": [
            "\rAnswering:  71%|███████▏  | 285/400 [01:09<00:28,  3.99it/s]"
          ]
        },
        {
          "name": "stdout",
          "output_type": "stream",
          "text": [
            "Q286 sources:\n",
            "  [1] What's Happening - Downtown Pittsburgh — https://downtownpittsburgh.com/events/\n",
            "  [2] What's Happening - Downtown Pittsburgh — https://downtownpittsburgh.com/events/\n",
            "  [3] Event - Downtown Pittsburgh — https://downtownpittsburgh.com/events/event/?id=63768\n",
            "  [4] Public Safety - Pittsburgh, PA — https://www.pittsburghpa.gov/Safety/Alerts/Public-Safety-Press-Release-Archive\n",
            "  [5] Harris Theater — https://trustarts.org/pct_home/visit/facilities/harris-theater\n"
          ]
        },
        {
          "name": "stderr",
          "output_type": "stream",
          "text": [
            "\rAnswering:  72%|███████▏  | 286/400 [01:09<00:33,  3.40it/s]"
          ]
        },
        {
          "name": "stdout",
          "output_type": "stream",
          "text": [
            "Q287 sources:\n",
            "  [1] Public Safety - Pittsburgh, PA — https://www.pittsburghpa.gov/Safety/Alerts/Public-Safety-Press-Release-Archive\n",
            "  [2] Pittsburgh, PA Sports Teams — https://www.visitpittsburgh.com/things-to-do/pittsburgh-sports-teams/\n",
            "  [3] Public Safety - Pittsburgh, PA — https://www.pittsburghpa.gov/Safety/Alerts/Public-Safety-Press-Release-Archive\n",
            "  [4] Public Safety - Pittsburgh, PA — https://www.pittsburghpa.gov/Safety/Alerts/Public-Safety-Press-Release-Archive\n",
            "  [5] Public Safety - Pittsburgh, PA — https://www.pittsburghpa.gov/Safety/Alerts/Public-Safety-Press-Release-Archive\n"
          ]
        },
        {
          "name": "stderr",
          "output_type": "stream",
          "text": [
            "Answering:  72%|███████▏  | 288/400 [01:09<00:28,  3.89it/s]"
          ]
        },
        {
          "name": "stdout",
          "output_type": "stream",
          "text": [
            "Q288 sources:\n",
            "  [1] What's Happening - Downtown Pittsburgh — https://downtownpittsburgh.com/events/\n",
            "  [2] Public Safety - Pittsburgh, PA — https://www.pittsburghpa.gov/Safety/Alerts/Public-Safety-Press-Release-Archive\n",
            "  [3] Public Safety - Pittsburgh, PA — https://www.pittsburghpa.gov/Safety/Alerts/Public-Safety-Press-Release-Archive\n",
            "  [4] Public Safety - Pittsburgh, PA — https://www.pittsburghpa.gov/Safety/Alerts/Public-Safety-Press-Release-Archive\n",
            "  [5] Pittsburgh Steelers — https://www.visitpittsburgh.com/directory/pittsburgh-steelers/\n",
            "Q289 sources:\n",
            "  [1] Public Safety - Pittsburgh, PA — https://www.pittsburghpa.gov/Safety/Alerts/Public-Safety-Press-Release-Archive\n",
            "  [2] Pittsburgh, PA Sports Teams — https://www.visitpittsburgh.com/things-to-do/pittsburgh-sports-teams/\n",
            "  [3] Public Safety - Pittsburgh, PA — https://www.pittsburghpa.gov/Safety/Alerts/Public-Safety-Press-Release-Archive\n",
            "  [4] Melia P. Tourangeau — https://pittsburghsymphony.org/pso_home/web/about-landing/melia-p-tourangeau-president\n",
            "  [5] Public Safety - Pittsburgh, PA — https://www.pittsburghpa.gov/Safety/Alerts/Public-Safety-Press-Release-Archive\n"
          ]
        },
        {
          "name": "stderr",
          "output_type": "stream",
          "text": [
            "Answering:  72%|███████▎  | 290/400 [01:10<00:24,  4.46it/s]"
          ]
        },
        {
          "name": "stdout",
          "output_type": "stream",
          "text": [
            "Q290 sources:\n",
            "  [1] Pittsburgh Steelers — https://www.visitpittsburgh.com/directory/pittsburgh-steelers/\n",
            "  [2] Pittsburgh Steelers — https://www.visitpittsburgh.com/directory/pittsburgh-steelers/\n",
            "  [3] Official Tourism Site for Pittsburgh, PA — https://www.visitpittsburgh.com/\n",
            "  [4] Official Tourism Site for Pittsburgh, PA — https://www.visitpittsburgh.com/\n",
            "  [5] Public Safety - Pittsburgh, PA — https://www.pittsburghpa.gov/Safety/Alerts/Public-Safety-Press-Release-Archive\n"
          ]
        },
        {
          "name": "stderr",
          "output_type": "stream",
          "text": [
            "\rAnswering:  73%|███████▎  | 291/400 [01:10<00:22,  4.93it/s]"
          ]
        },
        {
          "name": "stdout",
          "output_type": "stream",
          "text": [
            "Q291 sources:\n",
            "  [1] Event - Downtown Pittsburgh — https://downtownpittsburgh.com/events/event/?id=63967\n",
            "  [2] Public Safety - Pittsburgh, PA — https://www.pittsburghpa.gov/Safety/Alerts/Public-Safety-Press-Release-Archive\n",
            "  [3] Esports Tournaments — https://www.pittsburghpa.gov/Recreation-Events/Special-Events/Pittsburgh-E-Arena-Tournament\n",
            "  [4] Official Tourism Site for Pittsburgh, PA — https://www.visitpittsburgh.com/\n",
            "  [5] What's Happening - Downtown Pittsburgh — https://downtownpittsburgh.com/events/\n",
            "Q292 sources:\n",
            "  [1] Public Safety - Pittsburgh, PA — https://www.pittsburghpa.gov/Safety/Alerts/Public-Safety-Press-Release-Archive\n",
            "  [2] Public Safety - Pittsburgh, PA — https://www.pittsburghpa.gov/Safety/Alerts/Public-Safety-Press-Release-Archive\n",
            "  [3] Public Safety - Pittsburgh, PA — https://www.pittsburghpa.gov/Safety/Alerts/Public-Safety-Press-Release-Archive\n",
            "  [4] Public Safety - Pittsburgh, PA — https://www.pittsburghpa.gov/Safety/Alerts/Public-Safety-Press-Release-Archive\n",
            "  [5] Public Safety - Pittsburgh, PA — https://www.pittsburghpa.gov/Safety/Alerts/Public-Safety-Press-Release-Archive\n"
          ]
        },
        {
          "name": "stderr",
          "output_type": "stream",
          "text": [
            "Answering:  73%|███████▎  | 293/400 [01:10<00:18,  5.67it/s]"
          ]
        },
        {
          "name": "stdout",
          "output_type": "stream",
          "text": [
            "Q293 sources:\n",
            "  [1] Public Safety - Pittsburgh, PA — https://www.pittsburghpa.gov/Safety/Alerts/Public-Safety-Press-Release-Archive\n",
            "  [2] Public Safety - Pittsburgh, PA — https://www.pittsburghpa.gov/Safety/Alerts/Public-Safety-Press-Release-Archive\n",
            "  [3] What's Happening - Downtown Pittsburgh — https://downtownpittsburgh.com/events/\n",
            "  [4] The City of Pittsburgh, PA: Boards — https://www.pittsburghpa.gov/City-Government/Boards-Authorities-Commissions/Member-Rosters\n",
            "  [5] Public Safety - Pittsburgh, PA — https://www.pittsburghpa.gov/Safety/Alerts/Public-Safety-Press-Release-Archive\n",
            "Q294 sources:\n",
            "  [1] Pittsburgh Steelers — https://www.visitpittsburgh.com/directory/pittsburgh-steelers/\n",
            "  [2] Public Safety - Pittsburgh, PA — https://www.pittsburghpa.gov/Safety/Alerts/Public-Safety-Press-Release-Archive\n",
            "  [3] Public Safety - Pittsburgh, PA — https://www.pittsburghpa.gov/Safety/Alerts/Public-Safety-Press-Release-Archive\n",
            "  [4] Pittsburgh Steelers — https://www.visitpittsburgh.com/directory/pittsburgh-steelers/\n",
            "  [5] Public Safety - Pittsburgh, PA — https://www.pittsburghpa.gov/Safety/Alerts/Public-Safety-Press-Release-Archive\n"
          ]
        },
        {
          "name": "stderr",
          "output_type": "stream",
          "text": [
            "Answering:  74%|███████▍  | 295/400 [01:11<00:18,  5.78it/s]"
          ]
        },
        {
          "name": "stdout",
          "output_type": "stream",
          "text": [
            "Q295 sources:\n",
            "  [1] Event - Downtown Pittsburgh — https://downtownpittsburgh.com/events/event/?id=63967\n",
            "  [2] What's Happening - Downtown Pittsburgh — https://downtownpittsburgh.com/events/\n",
            "  [3] Public Safety - Pittsburgh, PA — https://www.pittsburghpa.gov/Safety/Alerts/Public-Safety-Press-Release-Archive\n",
            "  [4] Public Safety - Pittsburgh, PA — https://www.pittsburghpa.gov/Safety/Alerts/Public-Safety-Press-Release-Archive\n",
            "  [5] Public Safety - Pittsburgh, PA — https://www.pittsburghpa.gov/Safety/Alerts/Public-Safety-Press-Release-Archive\n",
            "Q296 sources:\n",
            "  [1] Pittsburgh Steelers — https://www.visitpittsburgh.com/directory/pittsburgh-steelers/\n",
            "  [2] Public Safety - Pittsburgh, PA — https://www.pittsburghpa.gov/Safety/Alerts/Public-Safety-Press-Release-Archive\n",
            "  [3] Public Safety - Pittsburgh, PA — https://www.pittsburghpa.gov/Safety/Alerts/Public-Safety-Press-Release-Archive\n",
            "  [4] Pittsburgh Steelers — https://www.visitpittsburgh.com/directory/pittsburgh-steelers/\n",
            "  [5] Pittsburgh Marathons, Runs, and Walks — https://www.visitpittsburgh.com/events-festivals/marathons-runs-walks/\n"
          ]
        },
        {
          "name": "stderr",
          "output_type": "stream",
          "text": [
            "\rAnswering:  74%|███████▍  | 296/400 [01:11<00:17,  5.98it/s]"
          ]
        },
        {
          "name": "stdout",
          "output_type": "stream",
          "text": [
            "Q297 sources:\n",
            "  [1] Pittsburgh Steelers — https://www.visitpittsburgh.com/directory/pittsburgh-steelers/\n",
            "  [2] What's Happening - Downtown Pittsburgh — https://downtownpittsburgh.com/events/?n=10&d=10&y=2025\n",
            "  [3] What's Happening - Downtown Pittsburgh — https://downtownpittsburgh.com/events/?n=10&d=3&y=2025\n",
            "  [4] Pittsburgh Steelers — https://www.visitpittsburgh.com/directory/pittsburgh-steelers/\n",
            "  [5] What's Happening - Downtown Pittsburgh — https://downtownpittsburgh.com/events/\n"
          ]
        },
        {
          "name": "stderr",
          "output_type": "stream",
          "text": [
            "\rAnswering:  74%|███████▍  | 297/400 [01:11<00:20,  4.96it/s]"
          ]
        },
        {
          "name": "stdout",
          "output_type": "stream",
          "text": [
            "Q298 sources:\n",
            "  [1] Public Safety - Pittsburgh, PA — https://www.pittsburghpa.gov/Safety/Alerts/Public-Safety-Press-Release-Archive\n",
            "  [2] Public Safety - Pittsburgh, PA — https://www.pittsburghpa.gov/Safety/Alerts/Public-Safety-Press-Release-Archive\n",
            "  [3] Public Safety - Pittsburgh, PA — https://www.pittsburghpa.gov/Safety/Alerts/Public-Safety-Press-Release-Archive\n",
            "  [4] Public Safety - Pittsburgh, PA — https://www.pittsburghpa.gov/Safety/Alerts/Public-Safety-Press-Release-Archive\n",
            "  [5] Public Safety - Pittsburgh, PA — https://www.pittsburghpa.gov/Safety/Alerts/Public-Safety-Press-Release-Archive\n"
          ]
        },
        {
          "name": "stderr",
          "output_type": "stream",
          "text": [
            "\rAnswering:  74%|███████▍  | 298/400 [01:11<00:26,  3.87it/s]"
          ]
        },
        {
          "name": "stdout",
          "output_type": "stream",
          "text": [
            "Q299 sources:\n",
            "  [1] Panel Discussion: Preserving Gilded Age Pittsburgh — https://www.thefrickpittsburgh.org/Event-Panel-Discussion-Preserving-Gilded-Age-Pittsburgh\n",
            "  [2] Public Safety - Pittsburgh, PA — https://www.pittsburghpa.gov/Safety/Alerts/Public-Safety-Press-Release-Archive\n",
            "  [3] The Frick Pittsburgh Museums & Gardens — https://www.thefrickpittsburgh.org/familyandlegacy\n",
            "  [4] What's Happening - Downtown Pittsburgh — https://downtownpittsburgh.com/events/?n=11&y=2025\n",
            "  [5] Pittsburgh ranks in Lonely Planet's 2025 Global Best in Travel 2025 list — https://www.visitpittsburgh.com/blog/particular-brand-of-magic-pittsburgh-ranks-in-lonely-planets-top-10-global-best-in-travel-2025-list/\n"
          ]
        },
        {
          "name": "stderr",
          "output_type": "stream",
          "text": [
            "Answering:  75%|███████▌  | 300/400 [01:12<00:26,  3.84it/s]"
          ]
        },
        {
          "name": "stdout",
          "output_type": "stream",
          "text": [
            "Q300 sources:\n",
            "  [1] Event - Downtown Pittsburgh — https://downtownpittsburgh.com/events/event/?id=63967\n",
            "  [2] What's Happening - Downtown Pittsburgh — https://downtownpittsburgh.com/events/\n",
            "  [3] What's Happening - Downtown Pittsburgh — https://downtownpittsburgh.com/events/\n",
            "  [4] Public Safety - Pittsburgh, PA — https://www.pittsburghpa.gov/Safety/Alerts/Public-Safety-Press-Release-Archive\n",
            "  [5] Public Safety - Pittsburgh, PA — https://www.pittsburghpa.gov/Safety/Alerts/Public-Safety-Press-Release-Archive\n",
            "Q301 sources:\n",
            "  [1] Show Your Badge | Visit Pittsburgh — https://www.visitpittsburgh.com/meetings-and-events/show-your-badge/\n",
            "  [2] Public Safety - Pittsburgh, PA — https://www.pittsburghpa.gov/Safety/Alerts/Public-Safety-Press-Release-Archive\n",
            "  [3] Public Safety - Pittsburgh, PA — https://www.pittsburghpa.gov/Safety/Alerts/Public-Safety-Press-Release-Archive\n",
            "  [4] Event - Downtown Pittsburgh — https://downtownpittsburgh.com/events/event/?id=62715\n",
            "  [5] What's Happening - Downtown Pittsburgh — https://downtownpittsburgh.com/events/?n=11&y=2025\n"
          ]
        },
        {
          "name": "stderr",
          "output_type": "stream",
          "text": [
            "\rAnswering:  75%|███████▌  | 301/400 [01:12<00:22,  4.37it/s]"
          ]
        },
        {
          "name": "stdout",
          "output_type": "stream",
          "text": [
            "Q302 sources:\n",
            "  [1] Past Exhibitions — https://www.thefrickpittsburgh.org/past-exhibitions\n",
            "  [2] Blog — https://trustarts.org/blog\n",
            "  [3] Past Exhibitions — https://www.thefrickpittsburgh.org/past-exhibitions\n",
            "  [4] CMU Celebrates 2025 Fulbright Recipients — https://www.cmu.edu/news/stories/archives/2025/august/cmu-celebrates-2025-fulbright-recipients\n",
            "  [5] What's Happening - Downtown Pittsburgh — https://downtownpittsburgh.com/events/\n"
          ]
        },
        {
          "name": "stderr",
          "output_type": "stream",
          "text": [
            "\rAnswering:  76%|███████▌  | 302/400 [01:13<00:27,  3.52it/s]"
          ]
        },
        {
          "name": "stdout",
          "output_type": "stream",
          "text": [
            "Q303 sources:\n",
            "  [1] Event - Downtown Pittsburgh — https://downtownpittsburgh.com/events/event/?id=63768\n",
            "  [2] Public Safety - Pittsburgh, PA — https://www.pittsburghpa.gov/Safety/Alerts/Public-Safety-Press-Release-Archive\n",
            "  [3] What's Happening - Downtown Pittsburgh — https://downtownpittsburgh.com/events/\n",
            "  [4] What's Happening - Downtown Pittsburgh — https://downtownpittsburgh.com/events/\n",
            "  [5] Official Tourism Site for Pittsburgh, PA — https://www.visitpittsburgh.com/\n"
          ]
        },
        {
          "name": "stderr",
          "output_type": "stream",
          "text": [
            "\rAnswering:  76%|███████▌  | 303/400 [01:13<00:28,  3.42it/s]"
          ]
        },
        {
          "name": "stdout",
          "output_type": "stream",
          "text": [
            "Q304 sources:\n",
            "  [1] What's Happening - Downtown Pittsburgh — https://downtownpittsburgh.com/events/\n",
            "  [2] Event - Downtown Pittsburgh — https://downtownpittsburgh.com/events/event/?id=63763\n",
            "  [3] What's Happening - Downtown Pittsburgh — https://downtownpittsburgh.com/events/?n=10&d=10&y=2025\n",
            "  [4] What's Happening - Downtown Pittsburgh — https://downtownpittsburgh.com/events/\n",
            "  [5] What's Happening - Downtown Pittsburgh — https://downtownpittsburgh.com/events/?n=10&d=24&y=2025\n"
          ]
        },
        {
          "name": "stderr",
          "output_type": "stream",
          "text": [
            "\rAnswering:  76%|███████▌  | 304/400 [01:13<00:31,  3.09it/s]"
          ]
        },
        {
          "name": "stdout",
          "output_type": "stream",
          "text": [
            "Q305 sources:\n",
            "  [1] Event - Downtown Pittsburgh — https://downtownpittsburgh.com/events/event/?id=63878\n",
            "  [2] What's Happening - Downtown Pittsburgh — https://downtownpittsburgh.com/events/?n=10&d=31&y=2025\n",
            "  [3] What's Happening - Downtown Pittsburgh — https://downtownpittsburgh.com/events/?n=11&d=1&y=2025\n",
            "  [4] What's Happening - Downtown Pittsburgh — https://downtownpittsburgh.com/events/?n=11&d=2&y=2025\n",
            "  [5] What's Happening - Downtown Pittsburgh — https://downtownpittsburgh.com/events/?n=11&y=2025\n"
          ]
        },
        {
          "name": "stderr",
          "output_type": "stream",
          "text": [
            "Answering:  76%|███████▋  | 306/400 [01:14<00:27,  3.44it/s]"
          ]
        },
        {
          "name": "stdout",
          "output_type": "stream",
          "text": [
            "Q306 sources:\n",
            "  [1] Footraces - Pittsburgh, PA — https://www.pittsburghpa.gov/Recreation-Events/Events/Footraces\n",
            "  [2] Pittsburgh Marathons, Runs, and Walks — https://www.visitpittsburgh.com/events-festivals/marathons-runs-walks/\n",
            "  [3] Public Safety - Pittsburgh, PA — https://www.pittsburghpa.gov/Safety/Alerts/Public-Safety-Press-Release-Archive\n",
            "  [4] Public Safety - Pittsburgh, PA — https://www.pittsburghpa.gov/Safety/Alerts/Public-Safety-Press-Release-Archive\n",
            "  [5] Public Safety - Pittsburgh, PA — https://www.pittsburghpa.gov/Safety/Alerts/Public-Safety-Press-Release-Archive\n",
            "Q307 sources:\n",
            "  [1] Event - Downtown Pittsburgh — https://downtownpittsburgh.com/events/event/?id=63773\n",
            "  [2] What's Happening - Downtown Pittsburgh — https://downtownpittsburgh.com/events/\n",
            "  [3] What's Happening - Downtown Pittsburgh — https://downtownpittsburgh.com/events/\n",
            "  [4] What's Happening - Downtown Pittsburgh — https://downtownpittsburgh.com/events/\n",
            "  [5] What's Happening - Downtown Pittsburgh — https://downtownpittsburgh.com/events/?n=10&d=10&y=2025\n"
          ]
        },
        {
          "name": "stderr",
          "output_type": "stream",
          "text": [
            "Answering:  77%|███████▋  | 308/400 [01:14<00:22,  4.08it/s]"
          ]
        },
        {
          "name": "stdout",
          "output_type": "stream",
          "text": [
            "Q308 sources:\n",
            "  [1] Meet in Pittsburgh | Pittsburgh's Business Events Team | Visit Pittsburgh — https://www.visitpittsburgh.com/meetings-and-events/\n",
            "  [2] Broadway Subscribe — https://trustarts.org/events/series/pnc-broadway-in-pittsburgh/broadway-subscribe\n",
            "  [3] Event - Downtown Pittsburgh — https://downtownpittsburgh.com/events/event/?id=63838\n",
            "  [4] Event - Downtown Pittsburgh — https://downtownpittsburgh.com/events/event/?id=63834\n",
            "  [5] Broadway Subscribe — https://trustarts.org/events/series/pnc-broadway-in-pittsburgh/broadway-subscribe\n"
          ]
        },
        {
          "name": "stderr",
          "output_type": "stream",
          "text": [
            "\rAnswering:  77%|███████▋  | 309/400 [01:14<00:20,  4.47it/s]"
          ]
        },
        {
          "name": "stdout",
          "output_type": "stream",
          "text": [
            "Q309 sources:\n",
            "  [1] Volunteer — https://trustarts.org/pct_home/about/volunteering\n",
            "  [2] Harris Theater — https://trustarts.org/pct_home/visit/facilities/harris-theater\n",
            "  [3] What's Happening - Downtown Pittsburgh — https://downtownpittsburgh.com/events/\n",
            "  [4] Event - Downtown Pittsburgh — https://downtownpittsburgh.com/events/event/?id=63718\n",
            "  [5] What's Happening - Downtown Pittsburgh — https://downtownpittsburgh.com/events/?n=10&d=12&y=2025\n",
            "Q310 sources:\n",
            "  [1] CMU125 - CMU125 - Carnegie Mellon University — https://www.cmu.edu/125/index.html\n",
            "  [2] Home - Commencement - Carnegie Mellon University — https://www.cmu.edu/commencement/\n",
            "  [3] What's Happening - Downtown Pittsburgh — https://downtownpittsburgh.com/events/?n=11&d=2&y=2025\n",
            "  [4] What's Happening - Downtown Pittsburgh — https://downtownpittsburgh.com/events/?n=10&d=22&y=2025\n",
            "  [5] Family Weekend - Family Engagement - Carnegie Mellon University — https://www.cmu.edu/family/events/family-weekend/\n"
          ]
        },
        {
          "name": "stderr",
          "output_type": "stream",
          "text": [
            "Answering:  78%|███████▊  | 311/400 [01:15<00:22,  4.03it/s]"
          ]
        },
        {
          "name": "stdout",
          "output_type": "stream",
          "text": [
            "Q311 sources:\n",
            "  [1] Event - Downtown Pittsburgh — https://downtownpittsburgh.com/events/event/?id=63793\n",
            "  [2] What's Happening - Downtown Pittsburgh — https://downtownpittsburgh.com/events/\n",
            "  [3] Harris Theater — https://trustarts.org/pct_home/visit/facilities/harris-theater\n",
            "  [4] What's Happening - Downtown Pittsburgh — https://downtownpittsburgh.com/events/?n=10&d=4&y=2025\n",
            "  [5] Footraces - Pittsburgh, PA — https://www.pittsburghpa.gov/Recreation-Events/Events/Footraces\n"
          ]
        },
        {
          "name": "stderr",
          "output_type": "stream",
          "text": [
            "\rAnswering:  78%|███████▊  | 312/400 [01:15<00:20,  4.37it/s]"
          ]
        },
        {
          "name": "stdout",
          "output_type": "stream",
          "text": [
            "Q312 sources:\n",
            "  [1] Outdoor Activities — https://www.pittsburghpa.gov/Recreation-Events/Parks/Outdoor-Activities\n",
            "  [2] Park Rangers - Pittsburgh, PA — https://www.pittsburghpa.gov/Safety/Public-Safety/Park-Rangers\n",
            "  [3] Footraces - Pittsburgh, PA — https://www.pittsburghpa.gov/Recreation-Events/Events/Footraces\n",
            "  [4] Park Rangers - Pittsburgh, PA — https://www.pittsburghpa.gov/Safety/Public-Safety/Park-Rangers\n",
            "  [5] Dollar Bank Cinema In The Park — https://www.pittsburghpa.gov/Recreation-Events/Events/Dollar-Bank-Cinema-In-The-Park\n",
            "Q313 sources:\n",
            "  [1] Pittsburgh Christmas Events 2025 — https://www.visitpittsburgh.com/events-festivals/holidays/\n",
            "  [2] What's Happening - Downtown Pittsburgh — https://downtownpittsburgh.com/events/\n",
            "  [3] What's Happening - Downtown Pittsburgh — https://downtownpittsburgh.com/events/\n",
            "  [4] What's Happening - Downtown Pittsburgh — https://downtownpittsburgh.com/events/?n=10&d=17&y=2025\n",
            "  [5] What's Happening - Downtown Pittsburgh — https://downtownpittsburgh.com/events/?n=10&d=18&y=2025\n"
          ]
        },
        {
          "name": "stderr",
          "output_type": "stream",
          "text": [
            "Answering:  78%|███████▊  | 314/400 [01:16<00:20,  4.10it/s]"
          ]
        },
        {
          "name": "stdout",
          "output_type": "stream",
          "text": [
            "Q314 sources:\n",
            "  [1] What's Happening - Downtown Pittsburgh — https://downtownpittsburgh.com/events/?n=10&d=22&y=2025\n",
            "  [2] What's Happening - Downtown Pittsburgh — https://downtownpittsburgh.com/events/?n=11&d=8&y=2025\n",
            "  [3] What's Happening - Downtown Pittsburgh — https://downtownpittsburgh.com/events/?n=11&d=7&y=2025\n",
            "  [4] Blog — https://trustarts.org/blog\n",
            "  [5] What's Happening - Downtown Pittsburgh — https://downtownpittsburgh.com/events/\n",
            "Q315 sources:\n",
            "  [1] Pittsburgh Christmas Events 2025 — https://www.visitpittsburgh.com/events-festivals/holidays/\n",
            "  [2] What's Happening - Downtown Pittsburgh — https://downtownpittsburgh.com/events/?n=10&d=18&y=2025\n",
            "  [3] What's Happening - Downtown Pittsburgh — https://downtownpittsburgh.com/events/?n=10&d=24&y=2025\n",
            "  [4] What's Happening - Downtown Pittsburgh — https://downtownpittsburgh.com/events/?n=10&d=17&y=2025\n",
            "  [5] Event - Downtown Pittsburgh — https://downtownpittsburgh.com/events/event/?id=63898\n"
          ]
        },
        {
          "name": "stderr",
          "output_type": "stream",
          "text": [
            "\rAnswering:  79%|███████▉  | 315/400 [01:16<00:24,  3.43it/s]"
          ]
        },
        {
          "name": "stdout",
          "output_type": "stream",
          "text": [
            "Q316 sources:\n",
            "  [1] What's Happening - Downtown Pittsburgh — https://downtownpittsburgh.com/events/?n=11&y=2025\n",
            "  [2] Event - Downtown Pittsburgh — https://downtownpittsburgh.com/events/event/?id=63964\n",
            "  [3] What's Happening - Downtown Pittsburgh — https://downtownpittsburgh.com/events/?n=11&d=2&y=2025\n",
            "  [4] What's Happening - Downtown Pittsburgh — https://downtownpittsburgh.com/events/?n=10&d=17&y=2025\n",
            "  [5] What's Happening - Downtown Pittsburgh — https://downtownpittsburgh.com/events/?n=10&d=31&y=2025\n"
          ]
        },
        {
          "name": "stderr",
          "output_type": "stream",
          "text": [
            "Answering:  79%|███████▉  | 317/400 [01:17<00:22,  3.69it/s]"
          ]
        },
        {
          "name": "stdout",
          "output_type": "stream",
          "text": [
            "Q317 sources:\n",
            "  [1] What's Happening - Downtown Pittsburgh — https://downtownpittsburgh.com/events/\n",
            "  [2] What's Happening - Downtown Pittsburgh — https://downtownpittsburgh.com/events/\n",
            "  [3] What's Happening - Downtown Pittsburgh — https://downtownpittsburgh.com/events/\n",
            "  [4] What's Happening - Downtown Pittsburgh — https://downtownpittsburgh.com/events/?n=10&d=24&y=2025\n",
            "  [5] What's Happening - Downtown Pittsburgh — https://downtownpittsburgh.com/events/\n"
          ]
        },
        {
          "name": "stderr",
          "output_type": "stream",
          "text": [
            "\rAnswering:  80%|███████▉  | 318/400 [01:17<00:19,  4.30it/s]"
          ]
        },
        {
          "name": "stdout",
          "output_type": "stream",
          "text": [
            "Q318 sources:\n",
            "  [1] What's Happening - Downtown Pittsburgh — https://downtownpittsburgh.com/events/?n=12&d=1&y=2025\n",
            "  [2] What's Happening - Downtown Pittsburgh — https://downtownpittsburgh.com/events/?n=10&d=24&y=2025\n",
            "  [3] What's Happening - Downtown Pittsburgh — https://downtownpittsburgh.com/events/?n=10&d=25&y=2025\n",
            "  [4] What's Happening - Downtown Pittsburgh — https://downtownpittsburgh.com/events/?n=10&d=10&y=2025\n",
            "  [5] What's Happening - Downtown Pittsburgh — https://downtownpittsburgh.com/events/?n=11&d=17&y=2025\n",
            "Q319 sources:\n",
            "  [1] Event - Downtown Pittsburgh — https://downtownpittsburgh.com/events/event/?id=63964\n",
            "  [2] What's Happening - Downtown Pittsburgh — https://downtownpittsburgh.com/events/\n",
            "  [3] What's Happening - Downtown Pittsburgh — https://downtownpittsburgh.com/events/\n",
            "  [4] What's Happening - Downtown Pittsburgh — https://downtownpittsburgh.com/events/\n",
            "  [5] What's Happening - Downtown Pittsburgh — https://downtownpittsburgh.com/events/?n=10&d=10&y=2025\n"
          ]
        },
        {
          "name": "stderr",
          "output_type": "stream",
          "text": [
            "\rAnswering:  80%|███████▉  | 319/400 [01:17<00:17,  4.62it/s]"
          ]
        },
        {
          "name": "stdout",
          "output_type": "stream",
          "text": [
            "Q320 sources:\n",
            "  [1] Pistons in the Park Car Cruise — https://www.pittsburghpa.gov/Recreation-Events/Events/Pistons-in-the-Park-Car-Cruise\n",
            "  [2] Event - Downtown Pittsburgh — https://downtownpittsburgh.com/events/event/?id=63967\n",
            "  [3] Individual Giving — https://trustarts.org/pct_home/support/individual-giving\n",
            "  [4] Public Safety - Pittsburgh, PA — https://www.pittsburghpa.gov/Safety/Alerts/Public-Safety-Press-Release-Archive\n",
            "  [5] What's Happening - Downtown Pittsburgh — https://downtownpittsburgh.com/events/\n"
          ]
        },
        {
          "name": "stderr",
          "output_type": "stream",
          "text": [
            "\rAnswering:  80%|████████  | 320/400 [01:17<00:21,  3.72it/s]"
          ]
        },
        {
          "name": "stdout",
          "output_type": "stream",
          "text": [
            "Q321 sources:\n",
            "  [1] What's Happening - Downtown Pittsburgh — https://downtownpittsburgh.com/events/?n=10&d=17&y=2025\n",
            "  [2] Event - Downtown Pittsburgh — https://downtownpittsburgh.com/events/event/?id=63962\n",
            "  [3] Event - Downtown Pittsburgh — https://downtownpittsburgh.com/events/event/?id=63920\n",
            "  [4] What's Happening - Downtown Pittsburgh — https://downtownpittsburgh.com/events/\n",
            "  [5] What's Happening - Downtown Pittsburgh — https://downtownpittsburgh.com/events/\n"
          ]
        },
        {
          "name": "stderr",
          "output_type": "stream",
          "text": [
            "\rAnswering:  80%|████████  | 321/400 [01:18<00:20,  3.83it/s]"
          ]
        },
        {
          "name": "stdout",
          "output_type": "stream",
          "text": [
            "Q322 sources:\n",
            "  [1] Event - Downtown Pittsburgh — https://downtownpittsburgh.com/events/event/?id=63620\n",
            "  [2] Event - Downtown Pittsburgh — https://downtownpittsburgh.com/events/event/?id=63806\n",
            "  [3] Event - Downtown Pittsburgh — https://downtownpittsburgh.com/events/event/?id=63795\n",
            "  [4] What's Happening - Downtown Pittsburgh — https://downtownpittsburgh.com/events/?n=10&d=10&y=2025\n",
            "  [5] What's Happening - Downtown Pittsburgh — https://downtownpittsburgh.com/events/?n=10&d=12&y=2025\n"
          ]
        },
        {
          "name": "stderr",
          "output_type": "stream",
          "text": [
            "Answering:  81%|████████  | 323/400 [01:18<00:20,  3.78it/s]"
          ]
        },
        {
          "name": "stdout",
          "output_type": "stream",
          "text": [
            "Q323 sources:\n",
            "  [1] Event - Downtown Pittsburgh — https://downtownpittsburgh.com/events/event/?id=63876\n",
            "  [2] Event - Downtown Pittsburgh — https://downtownpittsburgh.com/events/event/?id=63964\n",
            "  [3] A New Theater, a Significant Sketch, and a Giant Duck: Three Big Moments in Trust History — https://trustarts.org/blog/a-new-theater-a-significant-sketch-and-a-giant-duck-three-big-moments-in-trust-history\n",
            "  [4] Blog — https://trustarts.org/blog\n",
            "  [5] Event - Downtown Pittsburgh — https://downtownpittsburgh.com/events/event/?id=62499\n",
            "Q324 sources:\n",
            "  [1] Home - Commencement - Carnegie Mellon University — https://www.cmu.edu/commencement/\n",
            "  [2] Family Weekend - Family Engagement - Carnegie Mellon University — https://www.cmu.edu/family/events/family-weekend/\n",
            "  [3] What's Happening - Downtown Pittsburgh — https://downtownpittsburgh.com/events/\n",
            "  [4] Family Weekend - Family Engagement - Carnegie Mellon University — https://www.cmu.edu/family/events/family-weekend/\n",
            "  [5] Family Weekend - Family Engagement - Carnegie Mellon University — https://www.cmu.edu/family/events/family-weekend/\n"
          ]
        },
        {
          "name": "stderr",
          "output_type": "stream",
          "text": [
            "Answering:  81%|████████▏ | 325/400 [01:19<00:20,  3.73it/s]"
          ]
        },
        {
          "name": "stdout",
          "output_type": "stream",
          "text": [
            "Q325 sources:\n",
            "  [1] Event - Downtown Pittsburgh — https://downtownpittsburgh.com/events/event/?id=63832\n",
            "  [2] What's Happening - Downtown Pittsburgh — https://downtownpittsburgh.com/events/?n=10&d=24&y=2025\n",
            "  [3] What's Happening - Downtown Pittsburgh — https://downtownpittsburgh.com/events/?n=10&d=17&y=2025\n",
            "  [4] Student Side-By-Side Program — https://www.pittsburghsymphony.org/pso_home/web/community-landing/learning-programs/student-side-by-side-program\n",
            "  [5] Master of the House Film Screening: A Cinematic and Musical Homage to Scandinavian Home and Heritage — https://www.thefrickpittsburgh.org/Event-Master-of-the-House-Film-Screening-A-Cinematic-and-Musical-Homage-to-Scandinavian-Home-and-Heritage\n",
            "Q326 sources:\n",
            "  [1] What's Happening - Downtown Pittsburgh — https://downtownpittsburgh.com/events/?n=11&y=2025\n",
            "  [2] Event - Downtown Pittsburgh — https://downtownpittsburgh.com/events/event/?id=62715\n",
            "  [3] What's Happening - Downtown Pittsburgh — https://downtownpittsburgh.com/events/?n=10&d=22&y=2025\n",
            "  [4] What's Happening - Downtown Pittsburgh — https://downtownpittsburgh.com/events/?n=10&d=17&y=2025\n",
            "  [5] What's Happening - Downtown Pittsburgh — https://downtownpittsburgh.com/events/?n=11&y=2025\n"
          ]
        },
        {
          "name": "stderr",
          "output_type": "stream",
          "text": [
            "Answering:  82%|████████▏ | 327/400 [01:19<00:19,  3.79it/s]"
          ]
        },
        {
          "name": "stdout",
          "output_type": "stream",
          "text": [
            "Q327 sources:\n",
            "  [1] CMU125 - CMU125 - Carnegie Mellon University — https://www.cmu.edu/125/index.html\n",
            "  [2] CMU Undergraduates Take on Cancer Research — https://www.cmu.edu/news/stories/archives/2025/may/cmu-undergraduates-take-on-cancer-research\n",
            "  [3] Family Weekend - Family Engagement - Carnegie Mellon University — https://www.cmu.edu/family/events/family-weekend/\n",
            "  [4] Visitor Information — https://www.cmu.edu/visit/visitor-information\n",
            "  [5] What's Happening - Downtown Pittsburgh — https://downtownpittsburgh.com/events/?n=10&d=24&y=2025\n",
            "Q328 sources:\n",
            "  [1] 2025 Fall Events & Festivals in Pittsburgh — https://www.visitpittsburgh.com/blog/fall-fairs-festivals-and-events/\n",
            "  [2] Gingerbread House Competition Accepting Entries Beginning October 1 — https://www.pittsburghpa.gov/Events-directory/Gingerbread-House-Competition-Accepting-Entries-Beginning-October-1\n",
            "  [3] Pittsburgh Christmas Events 2025 — https://www.visitpittsburgh.com/events-festivals/holidays/\n",
            "  [4] Gingerbread House Competition Accepting Entries Beginning October 1 — https://www.pittsburghpa.gov/News-articles/Homepage/The-23rd-Annual-Gingerbread-House-Competition-Accepting-Entries-Beginning-October-1\n",
            "  [5] Division of Enrollment Management — https://www.cmu.edu/hub/calendar/\n"
          ]
        },
        {
          "name": "stderr",
          "output_type": "stream",
          "text": [
            "Answering:  82%|████████▏ | 329/400 [01:20<00:18,  3.86it/s]"
          ]
        },
        {
          "name": "stdout",
          "output_type": "stream",
          "text": [
            "Q329 sources:\n",
            "  [1] What's Happening - Downtown Pittsburgh — https://downtownpittsburgh.com/events/?n=10&d=15&y=2025\n",
            "  [2] What's Happening - Downtown Pittsburgh — https://downtownpittsburgh.com/events/?n=10&d=29&y=2025\n",
            "  [3] What's Happening - Downtown Pittsburgh — https://downtownpittsburgh.com/events/?n=11&d=2&y=2025\n",
            "  [4] What's Happening - Downtown Pittsburgh — https://downtownpittsburgh.com/events/?n=10&d=30&y=2025\n",
            "  [5] What's Happening - Downtown Pittsburgh — https://downtownpittsburgh.com/events/?n=10&d=22&y=2025\n",
            "Q330 sources:\n",
            "  [1] Event - Downtown Pittsburgh — https://downtownpittsburgh.com/events/event/?id=63478\n",
            "  [2] Division of Enrollment Management — https://www.cmu.edu/hub/calendar/\n",
            "  [3] What's Happening - Downtown Pittsburgh — https://downtownpittsburgh.com/events/?n=10&d=12&y=2025\n",
            "  [4] Home - Commencement - Carnegie Mellon University — https://www.cmu.edu/commencement/\n",
            "  [5] CMU125 - CMU125 - Carnegie Mellon University — https://www.cmu.edu/125/index.html\n"
          ]
        },
        {
          "name": "stderr",
          "output_type": "stream",
          "text": [
            "\rAnswering:  82%|████████▎ | 330/400 [01:20<00:21,  3.31it/s]"
          ]
        },
        {
          "name": "stdout",
          "output_type": "stream",
          "text": [
            "Q331 sources:\n",
            "  [1] Event - Downtown Pittsburgh — https://downtownpittsburgh.com/events/event/?id=63716\n",
            "  [2] Event - Downtown Pittsburgh — https://downtownpittsburgh.com/events/event/?id=63793\n",
            "  [3] Event - Downtown Pittsburgh — https://downtownpittsburgh.com/events/event/?id=62885\n",
            "  [4] Public Safety - Pittsburgh, PA — https://www.pittsburghpa.gov/Safety/Alerts/Public-Safety-Press-Release-Archive\n",
            "  [5] Broadway Subscribe — https://trustarts.org/events/series/pnc-broadway-in-pittsburgh/broadway-subscribe\n"
          ]
        },
        {
          "name": "stderr",
          "output_type": "stream",
          "text": [
            "\rAnswering:  83%|████████▎ | 331/400 [01:21<00:23,  2.99it/s]"
          ]
        },
        {
          "name": "stdout",
          "output_type": "stream",
          "text": [
            "Q332 sources:\n",
            "  [1] What's Happening - Downtown Pittsburgh — https://downtownpittsburgh.com/events/\n",
            "  [2] What's Happening - Downtown Pittsburgh — https://downtownpittsburgh.com/events/\n",
            "  [3] What's Happening - Downtown Pittsburgh — https://downtownpittsburgh.com/events/?n=10&d=12&y=2025\n",
            "  [4] What's Happening - Downtown Pittsburgh — https://downtownpittsburgh.com/events/\n",
            "  [5] What's Happening - Downtown Pittsburgh — https://downtownpittsburgh.com/events/\n"
          ]
        },
        {
          "name": "stderr",
          "output_type": "stream",
          "text": [
            "\rAnswering:  83%|████████▎ | 332/400 [01:21<00:20,  3.30it/s]"
          ]
        },
        {
          "name": "stdout",
          "output_type": "stream",
          "text": [
            "Q333 sources:\n",
            "  [1] What's Happening - Downtown Pittsburgh — https://downtownpittsburgh.com/events/?n=10&d=10&y=2025\n",
            "  [2] What's Happening - Downtown Pittsburgh — https://downtownpittsburgh.com/events/\n",
            "  [3] What's Happening - Downtown Pittsburgh — https://downtownpittsburgh.com/events/?n=10&d=24&y=2025\n",
            "  [4] What's Happening - Downtown Pittsburgh — https://downtownpittsburgh.com/events/\n",
            "  [5] Family Weekend - Family Engagement - Carnegie Mellon University — https://www.cmu.edu/family/events/family-weekend/\n"
          ]
        },
        {
          "name": "stderr",
          "output_type": "stream",
          "text": [
            "Answering:  84%|████████▎ | 334/400 [01:21<00:17,  3.76it/s]"
          ]
        },
        {
          "name": "stdout",
          "output_type": "stream",
          "text": [
            "Q334 sources:\n",
            "  [1] What's Happening - Downtown Pittsburgh — https://downtownpittsburgh.com/events/\n",
            "  [2] Saturday Sessions — https://www.pittsburghsymphony.org/pso_home/web/saturday-sessions\n",
            "  [3] Corporate Partnerships — https://pittsburghsymphony.org/pso_home/web/give-landing/corporate-partnerships\n",
            "  [4] Event - Downtown Pittsburgh — https://downtownpittsburgh.com/events/event/?id=63866\n",
            "  [5] What's Happening - Downtown Pittsburgh — https://downtownpittsburgh.com/events/\n"
          ]
        },
        {
          "name": "stderr",
          "output_type": "stream",
          "text": [
            "\rAnswering:  84%|████████▍ | 335/400 [01:22<00:15,  4.07it/s]"
          ]
        },
        {
          "name": "stdout",
          "output_type": "stream",
          "text": [
            "Q335 sources:\n",
            "  [1] What's Happening - Downtown Pittsburgh — https://downtownpittsburgh.com/events/\n",
            "  [2] What's Happening - Downtown Pittsburgh — https://downtownpittsburgh.com/events/\n",
            "  [3] Event - Downtown Pittsburgh — https://downtownpittsburgh.com/events/event/?id=63964\n",
            "  [4] What's Happening - Downtown Pittsburgh — https://downtownpittsburgh.com/events/\n",
            "  [5] What's Happening - Downtown Pittsburgh — https://downtownpittsburgh.com/events/\n",
            "Q336 sources:\n",
            "  [1] What's Happening - Downtown Pittsburgh — https://downtownpittsburgh.com/events/\n",
            "  [2] What's Happening - Downtown Pittsburgh — https://downtownpittsburgh.com/events/?n=10&d=10&y=2025\n",
            "  [3] What's Happening - Downtown Pittsburgh — https://downtownpittsburgh.com/events/?n=10&d=15&y=2025\n",
            "  [4] What's Happening - Downtown Pittsburgh — https://downtownpittsburgh.com/events/?n=10&d=15&y=2025\n",
            "  [5] What's Happening - Downtown Pittsburgh — https://downtownpittsburgh.com/events/?n=10&d=17&y=2025\n"
          ]
        },
        {
          "name": "stderr",
          "output_type": "stream",
          "text": [
            "\rAnswering:  84%|████████▍ | 336/400 [01:22<00:18,  3.40it/s]"
          ]
        },
        {
          "name": "stdout",
          "output_type": "stream",
          "text": [
            "Q337 sources:\n",
            "  [1] Event - Downtown Pittsburgh — https://downtownpittsburgh.com/events/event/?id=63866\n",
            "  [2] Special Event Operations — https://www.pittsburghpa.gov/Safety/Emergency-Medical-Services/Special-Event-Operations\n",
            "  [3] What's Happening - Downtown Pittsburgh — https://downtownpittsburgh.com/events/\n",
            "  [4] Right to Know - Pittsburgh, PA — https://www.pittsburghpa.gov/City-Government/Legal-Services/Right-to-Know\n",
            "  [5] Potholes - Pittsburgh, PA — https://www.pittsburghpa.gov/Resident-Services/Road-Maintenance/Potholes\n"
          ]
        },
        {
          "name": "stderr",
          "output_type": "stream",
          "text": [
            "Answering:  84%|████████▍ | 338/400 [01:22<00:15,  3.91it/s]"
          ]
        },
        {
          "name": "stdout",
          "output_type": "stream",
          "text": [
            "Q338 sources:\n",
            "  [1] Event - Downtown Pittsburgh — https://downtownpittsburgh.com/events/event/?id=63793\n",
            "  [2] Event - Downtown Pittsburgh — https://downtownpittsburgh.com/events/event/?id=62499\n",
            "  [3] What's Happening - Downtown Pittsburgh — https://downtownpittsburgh.com/events/?n=10&d=18&y=2025\n",
            "  [4] Black History Month — https://www.pittsburghpa.gov/Recreation-Events/Special-Events/Black-History-Month\n",
            "  [5] What's Happening - Downtown Pittsburgh — https://downtownpittsburgh.com/events/\n",
            "Q339 sources:\n",
            "  [1] Directions, Parking & Lodging — https://pittsburghsymphony.org/pso_home/web/visit-landing/directions-parking-lodging\n",
            "  [2] Event - Downtown Pittsburgh — https://downtownpittsburgh.com/events/event/?id=63780\n",
            "  [3] Event - Downtown Pittsburgh — https://downtownpittsburgh.com/events/event/?id=62797\n",
            "  [4] Directions, Parking & Lodging — https://pittsburghsymphony.org/pso_home/web/visit-landing/directions-parking-lodging\n",
            "  [5] Public Safety - Pittsburgh, PA — https://www.pittsburghpa.gov/Safety/Alerts/Public-Safety-Press-Release-Archive\n"
          ]
        },
        {
          "name": "stderr",
          "output_type": "stream",
          "text": [
            "\rAnswering:  85%|████████▍ | 339/400 [01:23<00:18,  3.39it/s]"
          ]
        },
        {
          "name": "stdout",
          "output_type": "stream",
          "text": [
            "Q340 sources:\n",
            "  [1] Event - Downtown Pittsburgh — https://downtownpittsburgh.com/events/event/?id=63976\n",
            "  [2] Event - Downtown Pittsburgh — https://downtownpittsburgh.com/events/event/?id=63968\n",
            "  [3] What's Happening - Downtown Pittsburgh — https://downtownpittsburgh.com/events/\n",
            "  [4] What's Happening - Downtown Pittsburgh — https://downtownpittsburgh.com/events/\n",
            "  [5] What's Happening - Downtown Pittsburgh — https://downtownpittsburgh.com/events/\n"
          ]
        },
        {
          "name": "stderr",
          "output_type": "stream",
          "text": [
            "Answering:  85%|████████▌ | 341/400 [01:23<00:16,  3.67it/s]"
          ]
        },
        {
          "name": "stdout",
          "output_type": "stream",
          "text": [
            "Q341 sources:\n",
            "  [1] Event - Downtown Pittsburgh — https://downtownpittsburgh.com/events/event/?id=62551\n",
            "  [2] What's Happening - Downtown Pittsburgh — https://downtownpittsburgh.com/events/\n",
            "  [3] Event - Downtown Pittsburgh — https://downtownpittsburgh.com/events/event/?id=63879\n",
            "  [4] What's Happening - Downtown Pittsburgh — https://downtownpittsburgh.com/events/\n",
            "  [5] What's Happening - Downtown Pittsburgh — https://downtownpittsburgh.com/events/\n",
            "Q342 sources:\n",
            "  [1] Right to Know - Pittsburgh, PA — https://www.pittsburghpa.gov/City-Government/Legal-Services/Right-to-Know\n",
            "  [2] Event - Downtown Pittsburgh — https://downtownpittsburgh.com/events/event/?id=63964\n",
            "  [3] What's Happening - Downtown Pittsburgh — https://downtownpittsburgh.com/events/\n",
            "  [4] Potholes - Pittsburgh, PA — https://www.pittsburghpa.gov/Resident-Services/Road-Maintenance/Potholes\n",
            "  [5] Public Safety - Pittsburgh, PA — https://www.pittsburghpa.gov/Safety/Alerts/Public-Safety-Press-Release-Archive\n"
          ]
        },
        {
          "name": "stderr",
          "output_type": "stream",
          "text": [
            "\rAnswering:  86%|████████▌ | 342/400 [01:24<00:17,  3.26it/s]"
          ]
        },
        {
          "name": "stdout",
          "output_type": "stream",
          "text": [
            "Q343 sources:\n",
            "  [1] The 15 Best Coffee Shops in Pittsburgh — https://www.visitpittsburgh.com/blog/cozy-coffee-shops-in-pittsburgh/\n",
            "  [2] Honeck Manfred — https://pittsburghsymphony.org/pso_home/biographies/pso-conductors/honeck-manfred\n",
            "  [3] What's Happening - Downtown Pittsburgh — https://downtownpittsburgh.com/events/?n=10&d=10&y=2025\n",
            "  [4] Event - Downtown Pittsburgh — https://downtownpittsburgh.com/events/event/?id=62551\n",
            "  [5] 2025 Fall Events & Festivals in Pittsburgh — https://www.visitpittsburgh.com/blog/fall-fairs-festivals-and-events/\n"
          ]
        },
        {
          "name": "stderr",
          "output_type": "stream",
          "text": [
            "Answering:  86%|████████▌ | 344/400 [01:24<00:15,  3.72it/s]"
          ]
        },
        {
          "name": "stdout",
          "output_type": "stream",
          "text": [
            "Q344 sources:\n",
            "  [1] A New Theater, a Significant Sketch, and a Giant Duck: Three Big Moments in Trust History — https://trustarts.org/blog/a-new-theater-a-significant-sketch-and-a-giant-duck-three-big-moments-in-trust-history\n",
            "  [2] Blog — https://trustarts.org/blog\n",
            "  [3] Blog — https://trustarts.org/blog\n",
            "  [4] Pittsburgh Cultural Activities — https://www.pittsburghpa.gov/Recreation-Events/Events/Pittsburgh-Cultural-Activities\n",
            "  [5] Event - Downtown Pittsburgh — https://downtownpittsburgh.com/events/event/?id=63964\n",
            "Q345 sources:\n",
            "  [1] What's Happening - Downtown Pittsburgh — https://downtownpittsburgh.com/events/?n=10&d=3&y=2025\n",
            "  [2] Public Safety - Pittsburgh, PA — https://www.pittsburghpa.gov/Safety/Alerts/Public-Safety-Press-Release-Archive\n",
            "  [3] Public Safety - Pittsburgh, PA — https://www.pittsburghpa.gov/Safety/Alerts/Public-Safety-Press-Release-Archive\n",
            "  [4] What's Happening - Downtown Pittsburgh — https://downtownpittsburgh.com/events/?n=10&d=18&y=2025\n",
            "  [5] What's Happening - Downtown Pittsburgh — https://downtownpittsburgh.com/events/\n"
          ]
        },
        {
          "name": "stderr",
          "output_type": "stream",
          "text": [
            "\rAnswering:  86%|████████▋ | 345/400 [01:25<00:17,  3.20it/s]"
          ]
        },
        {
          "name": "stdout",
          "output_type": "stream",
          "text": [
            "Q346 sources:\n",
            "  [1] What's Happening - Downtown Pittsburgh — https://downtownpittsburgh.com/events/?n=10&d=12&y=2025\n",
            "  [2] What's Happening - Downtown Pittsburgh — https://downtownpittsburgh.com/events/\n",
            "  [3] What's Happening - Downtown Pittsburgh — https://downtownpittsburgh.com/events/\n",
            "  [4] What's Happening - Downtown Pittsburgh — https://downtownpittsburgh.com/events/?n=10&d=22&y=2025\n",
            "  [5] What's Happening - Downtown Pittsburgh — https://downtownpittsburgh.com/events/?n=10&d=4&y=2025\n"
          ]
        },
        {
          "name": "stderr",
          "output_type": "stream",
          "text": [
            "\rAnswering:  86%|████████▋ | 346/400 [01:25<00:18,  2.92it/s]"
          ]
        },
        {
          "name": "stdout",
          "output_type": "stream",
          "text": [
            "Q347 sources:\n",
            "  [1] Event - Downtown Pittsburgh — https://downtownpittsburgh.com/events/event/?id=63968\n",
            "  [2] What's Happening - Downtown Pittsburgh — https://downtownpittsburgh.com/events/\n",
            "  [3] What's Happening - Downtown Pittsburgh — https://downtownpittsburgh.com/events/\n",
            "  [4] Event - Downtown Pittsburgh — https://downtownpittsburgh.com/events/event/?id=63806\n",
            "  [5] Event - Downtown Pittsburgh — https://downtownpittsburgh.com/events/event/?id=63967\n"
          ]
        },
        {
          "name": "stderr",
          "output_type": "stream",
          "text": [
            "Answering:  87%|████████▋ | 348/400 [01:26<00:14,  3.52it/s]"
          ]
        },
        {
          "name": "stdout",
          "output_type": "stream",
          "text": [
            "Q348 sources:\n",
            "  [1] Saturday Sessions — https://www.pittsburghsymphony.org/pso_home/web/saturday-sessions\n",
            "  [2] Student Side-By-Side Program — https://www.pittsburghsymphony.org/pso_home/web/community-landing/learning-programs/student-side-by-side-program\n",
            "  [3] PNC Pops Concerts — https://www.pittsburghsymphony.org/pso_home/web/subscriptions/pnc-pops-concerts\n",
            "  [4] Pittsburgh Symphony Orchestra — https://pittsburghsymphony.org/\n",
            "  [5] Event - Downtown Pittsburgh — https://downtownpittsburgh.com/events/event/?id=63912\n",
            "Q349 sources:\n",
            "  [1] Event - Downtown Pittsburgh — https://downtownpittsburgh.com/events/event/?id=63879\n",
            "  [2] What's Happening - Downtown Pittsburgh — https://downtownpittsburgh.com/events/\n",
            "  [3] What's Happening - Downtown Pittsburgh — https://downtownpittsburgh.com/events/\n",
            "  [4] What's Happening - Downtown Pittsburgh — https://downtownpittsburgh.com/events/\n",
            "  [5] Event - Downtown Pittsburgh — https://downtownpittsburgh.com/events/event/?id=63964\n"
          ]
        },
        {
          "name": "stderr",
          "output_type": "stream",
          "text": [
            "Answering:  88%|████████▊ | 350/400 [01:26<00:14,  3.55it/s]"
          ]
        },
        {
          "name": "stdout",
          "output_type": "stream",
          "text": [
            "Q350 sources:\n",
            "  [1] Public Safety - Pittsburgh, PA — https://www.pittsburghpa.gov/Safety/Alerts/Public-Safety-Press-Release-Archive\n",
            "  [2] What's Happening - Downtown Pittsburgh — https://downtownpittsburgh.com/events/\n",
            "  [3] What's Happening - Downtown Pittsburgh — https://downtownpittsburgh.com/events/\n",
            "  [4] What's Happening - Downtown Pittsburgh — https://downtownpittsburgh.com/events/\n",
            "  [5] What's Happening - Downtown Pittsburgh — https://downtownpittsburgh.com/events/\n",
            "Q351 sources:\n",
            "  [1] Saturday Sessions — https://www.pittsburghsymphony.org/pso_home/web/saturday-sessions\n",
            "  [2] Pittsburgh Symphony Orchestra — https://pittsburghsymphony.org/\n",
            "  [3] Honeck Manfred — https://pittsburghsymphony.org/pso_home/biographies/pso-conductors/honeck-manfred\n",
            "  [4] Learning Programs — https://pittsburghsymphony.org/pso_home/web/community-landing/learning-programs\n",
            "  [5] Movies with the PSO — https://www.pittsburghsymphony.org/pso_home/web/movies-with-the-pso\n"
          ]
        },
        {
          "name": "stderr",
          "output_type": "stream",
          "text": [
            "Answering:  88%|████████▊ | 352/400 [01:27<00:11,  4.14it/s]"
          ]
        },
        {
          "name": "stdout",
          "output_type": "stream",
          "text": [
            "Q352 sources:\n",
            "  [1] Event - Downtown Pittsburgh — https://downtownpittsburgh.com/events/event/?id=63964\n",
            "  [2] What's Happening - Downtown Pittsburgh — https://downtownpittsburgh.com/events/?n=10&d=17&y=2025\n",
            "  [3] Event - Downtown Pittsburgh — https://downtownpittsburgh.com/events/event/?id=63965\n",
            "  [4] What's Happening - Downtown Pittsburgh — https://downtownpittsburgh.com/events/\n",
            "  [5] What's Happening - Downtown Pittsburgh — https://downtownpittsburgh.com/events/?n=10&d=22&y=2025\n",
            "Q353 sources:\n",
            "  [1] Public Safety - Pittsburgh, PA — https://www.pittsburghpa.gov/Safety/Alerts/Public-Safety-Press-Release-Archive\n",
            "  [2] What's Happening - Downtown Pittsburgh — https://downtownpittsburgh.com/events/\n",
            "  [3] Public Safety - Pittsburgh, PA — https://www.pittsburghpa.gov/Safety/Alerts/Public-Safety-Press-Release-Archive\n",
            "  [4] What's Happening - Downtown Pittsburgh — https://downtownpittsburgh.com/events/\n",
            "  [5] Event - Downtown Pittsburgh — https://downtownpittsburgh.com/events/event/?id=63964\n"
          ]
        },
        {
          "name": "stderr",
          "output_type": "stream",
          "text": [
            "\rAnswering:  88%|████████▊ | 353/400 [01:27<00:11,  4.21it/s]"
          ]
        },
        {
          "name": "stdout",
          "output_type": "stream",
          "text": [
            "Q354 sources:\n",
            "  [1] Family Weekend - Family Engagement - Carnegie Mellon University — https://www.cmu.edu/family/events/family-weekend/\n",
            "  [2] Family Weekend - Family Engagement - Carnegie Mellon University — https://www.cmu.edu/family/events/family-weekend/\n",
            "  [3] What's Happening - Downtown Pittsburgh — https://downtownpittsburgh.com/events/?n=10&d=12&y=2025\n",
            "  [4] What's Happening - Downtown Pittsburgh — https://downtownpittsburgh.com/events/?n=10&d=17&y=2025\n",
            "  [5] Event - Downtown Pittsburgh — https://downtownpittsburgh.com/events/event/?id=63964\n"
          ]
        },
        {
          "name": "stderr",
          "output_type": "stream",
          "text": [
            "\rAnswering:  88%|████████▊ | 354/400 [01:27<00:12,  3.61it/s]"
          ]
        },
        {
          "name": "stdout",
          "output_type": "stream",
          "text": [
            "Q355 sources:\n",
            "  [1] What's Happening - Downtown Pittsburgh — https://downtownpittsburgh.com/events/\n",
            "  [2] What's Happening - Downtown Pittsburgh — https://downtownpittsburgh.com/events/?n=10&d=15&y=2025\n",
            "  [3] What's Happening - Downtown Pittsburgh — https://downtownpittsburgh.com/events/?n=10&d=15&y=2025\n",
            "  [4] What's Happening - Downtown Pittsburgh — https://downtownpittsburgh.com/events/?n=10&d=22&y=2025\n",
            "  [5] What's Happening - Downtown Pittsburgh — https://downtownpittsburgh.com/events/?n=10&d=24&y=2025\n"
          ]
        },
        {
          "name": "stderr",
          "output_type": "stream",
          "text": [
            "\rAnswering:  89%|████████▉ | 355/400 [01:28<00:14,  3.14it/s]"
          ]
        },
        {
          "name": "stdout",
          "output_type": "stream",
          "text": [
            "Q356 sources:\n",
            "  [1] The Cafe at the Frick — https://www.thefrickpittsburgh.org/cafe\n",
            "  [2] Event - Downtown Pittsburgh — https://downtownpittsburgh.com/events/event/?id=63776\n",
            "  [3] Family Weekend - Family Engagement - Carnegie Mellon University — https://www.cmu.edu/family/events/family-weekend/\n",
            "  [4] Gingerbread House Competition Accepting Entries Beginning October 1 — https://www.pittsburghpa.gov/News-articles/Homepage/The-23rd-Annual-Gingerbread-House-Competition-Accepting-Entries-Beginning-October-1\n",
            "  [5] Gingerbread House Competition Accepting Entries Beginning October 1 — https://www.pittsburghpa.gov/Events-directory/Gingerbread-House-Competition-Accepting-Entries-Beginning-October-1\n"
          ]
        },
        {
          "name": "stderr",
          "output_type": "stream",
          "text": [
            "\rAnswering:  89%|████████▉ | 356/400 [01:28<00:12,  3.42it/s]"
          ]
        },
        {
          "name": "stdout",
          "output_type": "stream",
          "text": [
            "Q357 sources:\n",
            "  [1] Event - Downtown Pittsburgh — https://downtownpittsburgh.com/events/event/?id=63718\n",
            "  [2] Event - Downtown Pittsburgh — https://downtownpittsburgh.com/events/event/?id=63964\n",
            "  [3] Event - Downtown Pittsburgh — https://downtownpittsburgh.com/events/event/?id=63915\n",
            "  [4] Event - Downtown Pittsburgh — https://downtownpittsburgh.com/events/event/?id=63762\n",
            "  [5] What's Happening - Downtown Pittsburgh — https://downtownpittsburgh.com/events/\n"
          ]
        },
        {
          "name": "stderr",
          "output_type": "stream",
          "text": [
            "\rAnswering:  89%|████████▉ | 357/400 [01:28<00:13,  3.22it/s]"
          ]
        },
        {
          "name": "stdout",
          "output_type": "stream",
          "text": [
            "Q358 sources:\n",
            "  [1] What's Happening - Downtown Pittsburgh — https://downtownpittsburgh.com/events/\n",
            "  [2] What's Happening - Downtown Pittsburgh — https://downtownpittsburgh.com/events/?n=10&d=15&y=2025\n",
            "  [3] Event - Downtown Pittsburgh — https://downtownpittsburgh.com/events/event/?id=63718\n",
            "  [4] Event - Downtown Pittsburgh — https://downtownpittsburgh.com/events/event/?id=62551\n",
            "  [5] What's Happening - Downtown Pittsburgh — https://downtownpittsburgh.com/events/?n=10&d=15&y=2025\n"
          ]
        },
        {
          "name": "stderr",
          "output_type": "stream",
          "text": [
            "Answering:  90%|████████▉ | 359/400 [01:29<00:10,  4.03it/s]"
          ]
        },
        {
          "name": "stdout",
          "output_type": "stream",
          "text": [
            "Q359 sources:\n",
            "  [1] Division of Enrollment Management — https://www.cmu.edu/hub/calendar/\n",
            "  [2] Family Weekend - Family Engagement - Carnegie Mellon University — https://www.cmu.edu/family/events/family-weekend/\n",
            "  [3] OneStopPGH - Pittsburgh, PA — https://www.pittsburghpa.gov/Business-Development/Permits-Licenses-and-Inspections/OneStopPGH\n",
            "  [4] CMU Undergraduates Take on Cancer Research — https://www.cmu.edu/news/stories/archives/2025/may/cmu-undergraduates-take-on-cancer-research\n",
            "  [5] Division of Enrollment Management — https://www.cmu.edu/hub/\n",
            "Q360 sources:\n",
            "  [1] Event - Downtown Pittsburgh — https://downtownpittsburgh.com/events/event/?id=63795\n",
            "  [2] Event - Downtown Pittsburgh — https://downtownpittsburgh.com/events/event/?id=63806\n",
            "  [3] Event - Downtown Pittsburgh — https://downtownpittsburgh.com/events/event/?id=63620\n",
            "  [4] What's Happening - Downtown Pittsburgh — https://downtownpittsburgh.com/events/\n",
            "  [5] Event - Downtown Pittsburgh — https://downtownpittsburgh.com/events/event/?id=63834\n"
          ]
        },
        {
          "name": "stderr",
          "output_type": "stream",
          "text": [
            "\rAnswering:  90%|█████████ | 360/400 [01:29<00:10,  3.88it/s]"
          ]
        },
        {
          "name": "stdout",
          "output_type": "stream",
          "text": [
            "Q361 sources:\n",
            "  [1] Public Safety - Pittsburgh, PA — https://www.pittsburghpa.gov/Safety/Alerts/Public-Safety-Press-Release-Archive\n",
            "  [2] Public Safety - Pittsburgh, PA — https://www.pittsburghpa.gov/Safety/Alerts/Public-Safety-Press-Release-Archive\n",
            "  [3] Public Safety - Pittsburgh, PA — https://www.pittsburghpa.gov/Safety/Alerts/Public-Safety-Press-Release-Archive\n",
            "  [4] Public Safety - Pittsburgh, PA — https://www.pittsburghpa.gov/Safety/Alerts/Public-Safety-Press-Release-Archive\n",
            "  [5] Public Safety - Pittsburgh, PA — https://www.pittsburghpa.gov/Safety/Alerts/Public-Safety-Press-Release-Archive\n"
          ]
        },
        {
          "name": "stderr",
          "output_type": "stream",
          "text": [
            "\rAnswering:  90%|█████████ | 361/400 [01:29<00:11,  3.35it/s]"
          ]
        },
        {
          "name": "stdout",
          "output_type": "stream",
          "text": [
            "Q362 sources:\n",
            "  [1] What's Happening - Downtown Pittsburgh — https://downtownpittsburgh.com/events/?n=10&d=12&y=2025\n",
            "  [2] What's Happening - Downtown Pittsburgh — https://downtownpittsburgh.com/events/\n",
            "  [3] What's Happening - Downtown Pittsburgh — https://downtownpittsburgh.com/events/?n=10&d=10&y=2025\n",
            "  [4] What's Happening - Downtown Pittsburgh — https://downtownpittsburgh.com/events/?n=10&d=4&y=2025\n",
            "  [5] What's Happening - Downtown Pittsburgh — https://downtownpittsburgh.com/events/?n=10&d=18&y=2025\n"
          ]
        },
        {
          "name": "stderr",
          "output_type": "stream",
          "text": [
            "\rAnswering:  90%|█████████ | 362/400 [01:30<00:12,  3.00it/s]"
          ]
        },
        {
          "name": "stdout",
          "output_type": "stream",
          "text": [
            "Q363 sources:\n",
            "  [1] What's Happening - Downtown Pittsburgh — https://downtownpittsburgh.com/events/\n",
            "  [2] Official Tourism Site for Pittsburgh, PA — https://www.visitpittsburgh.com/\n",
            "  [3] Pittsburgh Steelers — https://www.visitpittsburgh.com/directory/pittsburgh-steelers/\n",
            "  [4] Family Weekend - Family Engagement - Carnegie Mellon University — https://www.cmu.edu/family/events/family-weekend/\n",
            "  [5] Event - Downtown Pittsburgh — https://downtownpittsburgh.com/events/event/?id=63964\n"
          ]
        },
        {
          "name": "stderr",
          "output_type": "stream",
          "text": [
            "Answering:  91%|█████████ | 364/400 [01:30<00:10,  3.36it/s]"
          ]
        },
        {
          "name": "stdout",
          "output_type": "stream",
          "text": [
            "Q364 sources:\n",
            "  [1] What's Happening - Downtown Pittsburgh — https://downtownpittsburgh.com/events/?n=10&d=4&y=2025\n",
            "  [2] What's Happening - Downtown Pittsburgh — https://downtownpittsburgh.com/events/?n=10&d=22&y=2025\n",
            "  [3] What's Happening - Downtown Pittsburgh — https://downtownpittsburgh.com/events/?n=9&d=30&y=2025\n",
            "  [4] What's Happening - Downtown Pittsburgh — https://downtownpittsburgh.com/events/?n=10&d=4&y=2025\n",
            "  [5] What's Happening - Downtown Pittsburgh — https://downtownpittsburgh.com/events/?n=11&d=2&y=2025\n",
            "Q365 sources:\n",
            "  [1] Event - Downtown Pittsburgh — https://downtownpittsburgh.com/events/event/?id=63762\n",
            "  [2] Event - Downtown Pittsburgh — https://downtownpittsburgh.com/events/event/?id=63763\n",
            "  [3] Event - Downtown Pittsburgh — https://downtownpittsburgh.com/events/event/?id=63084\n",
            "  [4] What's Happening - Downtown Pittsburgh — https://downtownpittsburgh.com/events/?n=10&d=18&y=2025\n",
            "  [5] Family Weekend - Family Engagement - Carnegie Mellon University — https://www.cmu.edu/family/events/family-weekend/\n"
          ]
        },
        {
          "name": "stderr",
          "output_type": "stream",
          "text": [
            "\rAnswering:  91%|█████████▏| 365/400 [01:30<00:09,  3.89it/s]"
          ]
        },
        {
          "name": "stdout",
          "output_type": "stream",
          "text": [
            "Q366 sources:\n",
            "  [1] CMU Undergraduates Take on Cancer Research — https://www.cmu.edu/news/stories/archives/2025/may/cmu-undergraduates-take-on-cancer-research\n",
            "  [2] Campus Tours | CMU Visit — https://www.cmu.edu/admission/visit\n",
            "  [3] Public Safety - Pittsburgh, PA — https://www.pittsburghpa.gov/Safety/Alerts/Public-Safety-Press-Release-Archive\n",
            "  [4] Home - Online Education - Carnegie Mellon University — https://www.cmu.edu/online/\n",
            "  [5] Family Weekend - Family Engagement - Carnegie Mellon University — https://www.cmu.edu/family/events/family-weekend/\n"
          ]
        },
        {
          "name": "stderr",
          "output_type": "stream",
          "text": [
            "Answering:  92%|█████████▏| 367/400 [01:31<00:08,  3.73it/s]"
          ]
        },
        {
          "name": "stdout",
          "output_type": "stream",
          "text": [
            "Q367 sources:\n",
            "  [1] Building Benchmarking Compliance — https://www.pittsburghpa.gov/Business-Development/Sustainability/Building-Benchmarking-Compliance\n",
            "  [2] Climate Action Plan — https://www.pittsburghpa.gov/Business-Development/Sustainability/Climate-Action-Plan\n",
            "  [3] Nighttime Economy — https://www.pittsburghpa.gov/Safety/Public-Safety/Nighttime-Economy\n",
            "  [4] Show Your Badge | Visit Pittsburgh — https://www.visitpittsburgh.com/meetings-and-events/show-your-badge/\n",
            "  [5] The Frick Pittsburgh Museums & Gardens — https://www.thefrickpittsburgh.org/Event-Signature-Clayton-Tour-Experience-Gilded-Not-Golden\n",
            "Q368 sources:\n",
            "  [1] Special Event & Block Party Permitting — https://www.pittsburghpa.gov/Recreation-Events/Film-Event-Management/Special-Event-Block-Party-Permitting\n",
            "  [2] What's Happening - Downtown Pittsburgh — https://downtownpittsburgh.com/events/?n=11&y=2025\n",
            "  [3] Community Festivals — https://www.pittsburghpa.gov/Recreation-Events/Special-Events/Community-Festivals\n",
            "  [4] City Planning Meeting Calendar — https://www.pittsburghpa.gov/Business-Development/City-Planning/City-Planning-Meetings\n",
            "  [5] Pittsburgh ranks in Lonely Planet's 2025 Global Best in Travel 2025 list — https://www.visitpittsburgh.com/blog/particular-brand-of-magic-pittsburgh-ranks-in-lonely-planets-top-10-global-best-in-travel-2025-list/\n"
          ]
        },
        {
          "name": "stderr",
          "output_type": "stream",
          "text": [
            "\rAnswering:  92%|█████████▏| 368/400 [01:31<00:07,  4.47it/s]"
          ]
        },
        {
          "name": "stdout",
          "output_type": "stream",
          "text": [
            "Q369 sources:\n",
            "  [1] Event - Downtown Pittsburgh — https://downtownpittsburgh.com/events/event/?id=62499\n",
            "  [2] What's Happening - Downtown Pittsburgh — https://downtownpittsburgh.com/events/?n=10&d=22&y=2025\n",
            "  [3] What's Happening - Downtown Pittsburgh — https://downtownpittsburgh.com/events/?n=10&d=4&y=2025\n",
            "  [4] What's Happening - Downtown Pittsburgh — https://downtownpittsburgh.com/events/\n",
            "  [5] What's Happening - Downtown Pittsburgh — https://downtownpittsburgh.com/events/?n=9&d=30&y=2025\n"
          ]
        },
        {
          "name": "stderr",
          "output_type": "stream",
          "text": [
            "Answering:  92%|█████████▎| 370/400 [01:32<00:07,  4.03it/s]"
          ]
        },
        {
          "name": "stdout",
          "output_type": "stream",
          "text": [
            "Q370 sources:\n",
            "  [1] Event - Downtown Pittsburgh — https://downtownpittsburgh.com/events/event/?id=63968\n",
            "  [2] Event - Downtown Pittsburgh — https://downtownpittsburgh.com/events/event/?id=63967\n",
            "  [3] Public Safety - Pittsburgh, PA — https://www.pittsburghpa.gov/Safety/Alerts/Public-Safety-Press-Release-Archive\n",
            "  [4] What's Happening - Downtown Pittsburgh — https://downtownpittsburgh.com/events/\n",
            "  [5] What's Happening - Downtown Pittsburgh — https://downtownpittsburgh.com/events/\n",
            "Q371 sources:\n",
            "  [1] Park Rangers - Pittsburgh, PA — https://www.pittsburghpa.gov/Safety/Public-Safety/Park-Rangers\n",
            "  [2] Schenley Skating Rink — https://www.pittsburghpa.gov/Recreation-Events/Park-Facilities/Schenley-Skating-Rink\n",
            "  [3] Dollar Bank Cinema In The Park — https://www.pittsburghpa.gov/Recreation-Events/Events/Dollar-Bank-Cinema-In-The-Park\n",
            "  [4] City Planning Public Notices — https://www.pittsburghpa.gov/Business-Development/City-Planning/Public-Notices\n",
            "  [5] Public Safety - Pittsburgh, PA — https://www.pittsburghpa.gov/Safety/Alerts/Public-Safety-Press-Release-Archive\n"
          ]
        },
        {
          "name": "stderr",
          "output_type": "stream",
          "text": [
            "Answering:  93%|█████████▎| 372/400 [01:32<00:07,  3.86it/s]"
          ]
        },
        {
          "name": "stdout",
          "output_type": "stream",
          "text": [
            "Q372 sources:\n",
            "  [1] Family Weekend - Family Engagement - Carnegie Mellon University — https://www.cmu.edu/family/events/family-weekend/\n",
            "  [2] Family Weekend - Family Engagement - Carnegie Mellon University — https://www.cmu.edu/family/events/family-weekend/\n",
            "  [3] Family Weekend - Family Engagement - Carnegie Mellon University — https://www.cmu.edu/family/events/family-weekend/\n",
            "  [4] Home - Commencement - Carnegie Mellon University — https://www.cmu.edu/commencement/\n",
            "  [5] CMU125 - CMU125 - Carnegie Mellon University — https://www.cmu.edu/125/index.html\n",
            "Q373 sources:\n",
            "  [1] Pittsburgh Marathons, Runs, and Walks — https://www.visitpittsburgh.com/events-festivals/marathons-runs-walks/\n",
            "  [2] Footraces - Pittsburgh, PA — https://www.pittsburghpa.gov/Recreation-Events/Events/Footraces\n",
            "  [3] Esports Tournaments — https://www.pittsburghpa.gov/Recreation-Events/Special-Events/Pittsburgh-E-Arena-Tournament\n",
            "  [4] Public Safety - Pittsburgh, PA — https://www.pittsburghpa.gov/Safety/Alerts/Public-Safety-Press-Release-Archive\n",
            "  [5] Public Safety - Pittsburgh, PA — https://www.pittsburghpa.gov/Safety/Alerts/Public-Safety-Press-Release-Archive\n"
          ]
        },
        {
          "name": "stderr",
          "output_type": "stream",
          "text": [
            "\rAnswering:  93%|█████████▎| 373/400 [01:32<00:06,  4.47it/s]"
          ]
        },
        {
          "name": "stdout",
          "output_type": "stream",
          "text": [
            "Q374 sources:\n",
            "  [1] What's Happening - Downtown Pittsburgh — https://downtownpittsburgh.com/events/?n=10&d=3&y=2025\n",
            "  [2] What's Happening - Downtown Pittsburgh — https://downtownpittsburgh.com/events/\n",
            "  [3] Event - Downtown Pittsburgh — https://downtownpittsburgh.com/events/event/?id=63910\n",
            "  [4] What's Happening - Downtown Pittsburgh — https://downtownpittsburgh.com/events/?n=10&d=4&y=2025\n",
            "  [5] What's Happening - Downtown Pittsburgh — https://downtownpittsburgh.com/events/?n=10&d=18&y=2025\n"
          ]
        },
        {
          "name": "stderr",
          "output_type": "stream",
          "text": [
            "Answering:  94%|█████████▍| 375/400 [01:33<00:06,  3.93it/s]"
          ]
        },
        {
          "name": "stdout",
          "output_type": "stream",
          "text": [
            "Q375 sources:\n",
            "  [1] Event - Downtown Pittsburgh — https://downtownpittsburgh.com/events/event/?id=63806\n",
            "  [2] Event - Downtown Pittsburgh — https://downtownpittsburgh.com/events/event/?id=63794\n",
            "  [3] Event - Downtown Pittsburgh — https://downtownpittsburgh.com/events/event/?id=63808\n",
            "  [4] Event - Downtown Pittsburgh — https://downtownpittsburgh.com/events/event/?id=63620\n",
            "  [5] Event - Downtown Pittsburgh — https://downtownpittsburgh.com/events/event/?id=63809\n",
            "Q376 sources:\n",
            "  [1] PNC Pops Concerts — https://www.pittsburghsymphony.org/pso_home/web/subscriptions/pnc-pops-concerts\n",
            "  [2] Pittsburgh Symphony Orchestra — https://pittsburghsymphony.org/\n",
            "  [3] Special Events News — https://www.pittsburghpa.gov/Recreation-Events/Special-Events/Special-Events-News\n",
            "  [4] Saturday Sessions — https://www.pittsburghsymphony.org/pso_home/web/saturday-sessions\n",
            "  [5] Public Safety - Pittsburgh, PA — https://www.pittsburghpa.gov/Safety/Alerts/Public-Safety-Press-Release-Archive\n"
          ]
        },
        {
          "name": "stderr",
          "output_type": "stream",
          "text": [
            "Answering:  94%|█████████▍| 377/400 [01:34<00:05,  3.93it/s]"
          ]
        },
        {
          "name": "stdout",
          "output_type": "stream",
          "text": [
            "Q377 sources:\n",
            "  [1] Public Safety - Pittsburgh, PA — https://www.pittsburghpa.gov/Safety/Alerts/Public-Safety-Press-Release-Archive\n",
            "  [2] What's Happening - Downtown Pittsburgh — https://downtownpittsburgh.com/events/\n",
            "  [3] Event - Downtown Pittsburgh — https://downtownpittsburgh.com/events/event/?id=63933\n",
            "  [4] Community Festivals — https://www.pittsburghpa.gov/Recreation-Events/Special-Events/Community-Festivals\n",
            "  [5] Event - Downtown Pittsburgh — https://downtownpittsburgh.com/events/event/?id=63806\n",
            "Q378 sources:\n",
            "  [1] Family Weekend - Family Engagement - Carnegie Mellon University — https://www.cmu.edu/family/events/family-weekend/\n",
            "  [2] Family Weekend - Family Engagement - Carnegie Mellon University — https://www.cmu.edu/family/events/family-weekend/\n",
            "  [3] Family Weekend - Family Engagement - Carnegie Mellon University — https://www.cmu.edu/family/events/family-weekend/\n",
            "  [4] Community Festivals — https://www.pittsburghpa.gov/Recreation-Events/Special-Events/Community-Festivals\n",
            "  [5] Public Safety - Pittsburgh, PA — https://www.pittsburghpa.gov/Safety/Alerts/Public-Safety-Press-Release-Archive\n"
          ]
        },
        {
          "name": "stderr",
          "output_type": "stream",
          "text": [
            "\rAnswering:  94%|█████████▍| 378/400 [01:34<00:05,  4.40it/s]"
          ]
        },
        {
          "name": "stdout",
          "output_type": "stream",
          "text": [
            "Q379 sources:\n",
            "  [1] Volunteer — https://trustarts.org/pct_home/about/volunteering\n",
            "  [2] Event - Downtown Pittsburgh — https://downtownpittsburgh.com/events/event/?id=63718\n",
            "  [3] Volunteer — https://trustarts.org/pct_home/about/volunteering\n",
            "  [4] Rankings & Awards — https://www.cmu.edu/about/awards.html\n",
            "  [5] Blog — https://trustarts.org/blog\n"
          ]
        },
        {
          "name": "stderr",
          "output_type": "stream",
          "text": [
            "\rAnswering:  95%|█████████▍| 379/400 [01:34<00:05,  3.51it/s]"
          ]
        },
        {
          "name": "stdout",
          "output_type": "stream",
          "text": [
            "Q380 sources:\n",
            "  [1] Event - Downtown Pittsburgh — https://downtownpittsburgh.com/events/event/?id=63941\n",
            "  [2] Event - Downtown Pittsburgh — https://downtownpittsburgh.com/events/event/?id=63955\n",
            "  [3] Event - Downtown Pittsburgh — https://downtownpittsburgh.com/events/event/?id=63944\n",
            "  [4] What's Happening - Downtown Pittsburgh — https://downtownpittsburgh.com/events/\n",
            "  [5] Volunteer — https://trustarts.org/pct_home/about/volunteering\n"
          ]
        },
        {
          "name": "stderr",
          "output_type": "stream",
          "text": [
            "\rAnswering:  95%|█████████▌| 380/400 [01:35<00:06,  3.12it/s]"
          ]
        },
        {
          "name": "stdout",
          "output_type": "stream",
          "text": [
            "Q381 sources:\n",
            "  [1] Pistons in the Park Car Cruise — https://www.pittsburghpa.gov/Recreation-Events/Events/Pistons-in-the-Park-Car-Cruise\n",
            "  [2] Schenley Skating Rink — https://www.pittsburghpa.gov/Recreation-Events/Park-Facilities/Schenley-Skating-Rink\n",
            "  [3] Volunteer — https://trustarts.org/pct_home/about/volunteering\n",
            "  [4] Park Rangers - Pittsburgh, PA — https://www.pittsburghpa.gov/Safety/Public-Safety/Park-Rangers\n",
            "  [5] Dollar Bank Cinema In The Park — https://www.pittsburghpa.gov/Recreation-Events/Events/Dollar-Bank-Cinema-In-The-Park\n"
          ]
        },
        {
          "name": "stderr",
          "output_type": "stream",
          "text": [
            "Answering:  96%|█████████▌| 382/400 [01:35<00:05,  3.25it/s]"
          ]
        },
        {
          "name": "stdout",
          "output_type": "stream",
          "text": [
            "Q382 sources:\n",
            "  [1] Blog — https://trustarts.org/blog\n",
            "  [2] Blog — https://trustarts.org/blog\n",
            "  [3] What's Happening - Downtown Pittsburgh — https://downtownpittsburgh.com/events/\n",
            "  [4] A New Theater, a Significant Sketch, and a Giant Duck: Three Big Moments in Trust History — https://trustarts.org/blog/a-new-theater-a-significant-sketch-and-a-giant-duck-three-big-moments-in-trust-history\n",
            "  [5] Event - Downtown Pittsburgh — https://downtownpittsburgh.com/events/event/?id=62499\n",
            "Q383 sources:\n",
            "  [1] Event - Downtown Pittsburgh — https://downtownpittsburgh.com/events/event/?id=63910\n",
            "  [2] The Cafe at the Frick — https://www.thefrickpittsburgh.org/cafe\n",
            "  [3] What's Happening - Downtown Pittsburgh — https://downtownpittsburgh.com/events/\n",
            "  [4] What's Happening - Downtown Pittsburgh — https://downtownpittsburgh.com/events/?n=10&d=15&y=2025\n",
            "  [5] After School Feeding Program — https://www.pittsburghpa.gov/Resident-Services/Food-Programs/After-School-Feeding-Program\n"
          ]
        },
        {
          "name": "stderr",
          "output_type": "stream",
          "text": [
            "\rAnswering:  96%|█████████▌| 383/400 [01:36<00:05,  2.94it/s]"
          ]
        },
        {
          "name": "stdout",
          "output_type": "stream",
          "text": [
            "Q384 sources:\n",
            "  [1] Gingerbread House Competition Accepting Entries Beginning October 1 — https://www.pittsburghpa.gov/Events-directory/Gingerbread-House-Competition-Accepting-Entries-Beginning-October-1\n",
            "  [2] Gingerbread House Competition Accepting Entries Beginning October 1 — https://www.pittsburghpa.gov/News-articles/Homepage/The-23rd-Annual-Gingerbread-House-Competition-Accepting-Entries-Beginning-October-1\n",
            "  [3] Farmers Markets - Pittsburgh, PA — https://www.pittsburghpa.gov/Recreation-Events/Events/Farmers-Markets\n",
            "  [4] Farmers Markets - Pittsburgh, PA — https://www.pittsburghpa.gov/Recreation-Events/Events/Farmers-Markets\n",
            "  [5] Food Systems - Pittsburgh, PA — https://www.pittsburghpa.gov/Business-Development/Sustainability/Food-Systems\n"
          ]
        },
        {
          "name": "stderr",
          "output_type": "stream",
          "text": [
            "\rAnswering:  96%|█████████▌| 384/400 [01:36<00:05,  3.00it/s]"
          ]
        },
        {
          "name": "stdout",
          "output_type": "stream",
          "text": [
            "Q385 sources:\n",
            "  [1] What's Happening - Downtown Pittsburgh — https://downtownpittsburgh.com/events/\n",
            "  [2] What's Happening - Downtown Pittsburgh — https://downtownpittsburgh.com/events/?n=10&d=17&y=2025\n",
            "  [3] What's Happening - Downtown Pittsburgh — https://downtownpittsburgh.com/events/?n=10&d=25&y=2025\n",
            "  [4] What's Happening - Downtown Pittsburgh — https://downtownpittsburgh.com/events/?n=10&d=24&y=2025\n",
            "  [5] What's Happening - Downtown Pittsburgh — https://downtownpittsburgh.com/events/\n"
          ]
        },
        {
          "name": "stderr",
          "output_type": "stream",
          "text": [
            "\rAnswering:  96%|█████████▋| 385/400 [01:36<00:04,  3.29it/s]"
          ]
        },
        {
          "name": "stdout",
          "output_type": "stream",
          "text": [
            "Q386 sources:\n",
            "  [1] Event - Downtown Pittsburgh — https://downtownpittsburgh.com/events/event/?id=63776\n",
            "  [2] Event - Downtown Pittsburgh — https://downtownpittsburgh.com/events/event/?id=63910\n",
            "  [3] What's Happening - Downtown Pittsburgh — https://downtownpittsburgh.com/events/\n",
            "  [4] What's Happening - Downtown Pittsburgh — https://downtownpittsburgh.com/events/?n=10&d=15&y=2025\n",
            "  [5] Event - Downtown Pittsburgh — https://downtownpittsburgh.com/events/event/?id=63924\n"
          ]
        },
        {
          "name": "stderr",
          "output_type": "stream",
          "text": [
            "Answering:  97%|█████████▋| 387/400 [01:36<00:03,  4.05it/s]"
          ]
        },
        {
          "name": "stdout",
          "output_type": "stream",
          "text": [
            "Q387 sources:\n",
            "  [1] Pistons in the Park Car Cruise — https://www.pittsburghpa.gov/Recreation-Events/Events/Pistons-in-the-Park-Car-Cruise\n",
            "  [2] City of Pittsburgh Charity Challenges: FAQs — https://www.pittsburghpa.gov/City-Government/Mayor/City-of-Pittsburgh-Charity-Challenges-FAQs\n",
            "  [3] City of Pittsburgh Charity Challenges: FAQs — https://www.pittsburghpa.gov/City-Government/Mayor/City-of-Pittsburgh-Charity-Challenges-FAQs\n",
            "  [4] Taxes - Pittsburgh, PA — https://www.pittsburghpa.gov/City-Government/Finance-Budget/Taxes\n",
            "  [5] Public Safety - Pittsburgh, PA — https://www.pittsburghpa.gov/Safety/Alerts/Public-Safety-Press-Release-Archive\n",
            "Q388 sources:\n",
            "  [1] What's Happening - Downtown Pittsburgh — https://downtownpittsburgh.com/events/?n=10&d=22&y=2025\n",
            "  [2] Event - Downtown Pittsburgh — https://downtownpittsburgh.com/events/event/?id=63920\n",
            "  [3] What's Happening - Downtown Pittsburgh — https://downtownpittsburgh.com/events/?n=10&d=25&y=2025\n",
            "  [4] What's Happening - Downtown Pittsburgh — https://downtownpittsburgh.com/events/?n=10&d=3&y=2025\n",
            "  [5] What's Happening - Downtown Pittsburgh — https://downtownpittsburgh.com/events/?n=10&d=18&y=2025\n"
          ]
        },
        {
          "name": "stderr",
          "output_type": "stream",
          "text": [
            "Answering:  97%|█████████▋| 389/400 [01:37<00:02,  4.87it/s]"
          ]
        },
        {
          "name": "stdout",
          "output_type": "stream",
          "text": [
            "Q389 sources:\n",
            "  [1] Volunteer — https://trustarts.org/pct_home/about/volunteering\n",
            "  [2] Event - Downtown Pittsburgh — https://downtownpittsburgh.com/events/event/?id=63976\n",
            "  [3] Public Safety - Pittsburgh, PA — https://www.pittsburghpa.gov/Safety/Alerts/Public-Safety-Press-Release-Archive\n",
            "  [4] What's Happening - Downtown Pittsburgh — https://downtownpittsburgh.com/events/\n",
            "  [5] Event - Downtown Pittsburgh — https://downtownpittsburgh.com/events/event/?id=63794\n",
            "Q390 sources:\n",
            "  [1] CMU Celebrates 2025 Fulbright Recipients — https://www.cmu.edu/news/stories/archives/2025/august/cmu-celebrates-2025-fulbright-recipients\n",
            "  [2] CMU Celebrates 2025 Fulbright Recipients — https://www.cmu.edu/news/stories/archives/2025/august/cmu-celebrates-2025-fulbright-recipients\n",
            "  [3] Carnegie Mellon Named a Top 20 US University — https://www.cmu.edu/news/stories/archives/2025/september/carnegie-mellon-named-a-top-20-us-university\n",
            "  [4] Visitor Information — https://www.cmu.edu/visit/visitor-information\n",
            "  [5] CMU Undergraduates Take on Cancer Research — https://www.cmu.edu/news/stories/archives/2025/may/cmu-undergraduates-take-on-cancer-research\n"
          ]
        },
        {
          "name": "stderr",
          "output_type": "stream",
          "text": [
            "\rAnswering:  98%|█████████▊| 390/400 [01:37<00:02,  4.37it/s]"
          ]
        },
        {
          "name": "stdout",
          "output_type": "stream",
          "text": [
            "Q391 sources:\n",
            "  [1] Schenley Skating Rink — https://www.pittsburghpa.gov/Recreation-Events/Park-Facilities/Schenley-Skating-Rink\n",
            "  [2] Event - Downtown Pittsburgh — https://downtownpittsburgh.com/events/event/?id=63964\n",
            "  [3] Event - Downtown Pittsburgh — https://downtownpittsburgh.com/events/event/?id=63806\n",
            "  [4] Event - Downtown Pittsburgh — https://downtownpittsburgh.com/events/event/?id=63968\n",
            "  [5] What's Happening - Downtown Pittsburgh — https://downtownpittsburgh.com/events/?n=10&d=10&y=2025\n"
          ]
        },
        {
          "name": "stderr",
          "output_type": "stream",
          "text": [
            "\rAnswering:  98%|█████████▊| 391/400 [01:37<00:02,  4.21it/s]"
          ]
        },
        {
          "name": "stdout",
          "output_type": "stream",
          "text": [
            "Q392 sources:\n",
            "  [1] Footraces - Pittsburgh, PA — https://www.pittsburghpa.gov/Recreation-Events/Events/Footraces\n",
            "  [2] Park Rangers - Pittsburgh, PA — https://www.pittsburghpa.gov/Safety/Public-Safety/Park-Rangers\n",
            "  [3] Outdoor Activities — https://www.pittsburghpa.gov/Recreation-Events/Parks/Outdoor-Activities\n",
            "  [4] Our Parks - Pittsburgh, PA — https://www.pittsburghpa.gov/Recreation-Events/Parks/Our-Parks\n",
            "  [5] Public Safety - Pittsburgh, PA — https://www.pittsburghpa.gov/Safety/Alerts/Public-Safety-Press-Release-Archive\n"
          ]
        },
        {
          "name": "stderr",
          "output_type": "stream",
          "text": [
            "Answering:  98%|█████████▊| 393/400 [01:38<00:01,  4.50it/s]"
          ]
        },
        {
          "name": "stdout",
          "output_type": "stream",
          "text": [
            "Q393 sources:\n",
            "  [1] Public Safety - Pittsburgh, PA — https://www.pittsburghpa.gov/Safety/Alerts/Public-Safety-Press-Release-Archive\n",
            "  [2] Public Safety - Pittsburgh, PA — https://www.pittsburghpa.gov/Safety/Alerts/Public-Safety-Press-Release-Archive\n",
            "  [3] Holidays At City-County Building — https://www.pittsburghpa.gov/Recreation-Events/Events/Holidays-At-City-County-Building\n",
            "  [4] Public Safety - Pittsburgh, PA — https://www.pittsburghpa.gov/Safety/Alerts/Public-Safety-Press-Release-Archive\n",
            "  [5] Public Safety - Pittsburgh, PA — https://www.pittsburghpa.gov/Safety/Alerts/Public-Safety-Press-Release-Archive\n",
            "Q394 sources:\n",
            "  [1] Event - Downtown Pittsburgh — https://downtownpittsburgh.com/events/event/?id=63832\n",
            "  [2] What's Happening - Downtown Pittsburgh — https://downtownpittsburgh.com/events/\n",
            "  [3] What's Happening - Downtown Pittsburgh — https://downtownpittsburgh.com/events/?n=10&d=17&y=2025\n",
            "  [4] What's Happening - Downtown Pittsburgh — https://downtownpittsburgh.com/events/?n=10&d=10&y=2025\n",
            "  [5] Public Safety - Pittsburgh, PA — https://www.pittsburghpa.gov/Safety/Alerts/Public-Safety-Press-Release-Archive\n"
          ]
        },
        {
          "name": "stderr",
          "output_type": "stream",
          "text": [
            "\rAnswering:  98%|█████████▊| 394/400 [01:38<00:01,  4.22it/s]"
          ]
        },
        {
          "name": "stdout",
          "output_type": "stream",
          "text": [
            "Q395 sources:\n",
            "  [1] Event - Downtown Pittsburgh — https://downtownpittsburgh.com/events/event/?id=63084\n",
            "  [2] Event - Downtown Pittsburgh — https://downtownpittsburgh.com/events/event/?id=63762\n",
            "  [3] Event - Downtown Pittsburgh — https://downtownpittsburgh.com/events/event/?id=63763\n",
            "  [4] What's Happening - Downtown Pittsburgh — https://downtownpittsburgh.com/events/?n=10&d=15&y=2025\n",
            "  [5] What's Happening - Downtown Pittsburgh — https://downtownpittsburgh.com/events/\n"
          ]
        },
        {
          "name": "stderr",
          "output_type": "stream",
          "text": [
            "\rAnswering:  99%|█████████▉| 395/400 [01:38<00:01,  3.44it/s]"
          ]
        },
        {
          "name": "stdout",
          "output_type": "stream",
          "text": [
            "Q396 sources:\n",
            "  [1] Event - Downtown Pittsburgh — https://downtownpittsburgh.com/events/event/?id=63797\n",
            "  [2] What's Happening - Downtown Pittsburgh — https://downtownpittsburgh.com/events/\n",
            "  [3] What's Happening - Downtown Pittsburgh — https://downtownpittsburgh.com/events/?n=10&d=18&y=2025\n",
            "  [4] What's Happening - Downtown Pittsburgh — https://downtownpittsburgh.com/events/\n",
            "  [5] What's Happening - Downtown Pittsburgh — https://downtownpittsburgh.com/events/?n=11&d=2&y=2025\n"
          ]
        },
        {
          "name": "stderr",
          "output_type": "stream",
          "text": [
            "Answering:  99%|█████████▉| 397/400 [01:39<00:00,  3.47it/s]"
          ]
        },
        {
          "name": "stdout",
          "output_type": "stream",
          "text": [
            "Q397 sources:\n",
            "  [1] What's Happening - Downtown Pittsburgh — https://downtownpittsburgh.com/events/?n=10&d=22&y=2025\n",
            "  [2] What's Happening - Downtown Pittsburgh — https://downtownpittsburgh.com/events/?n=10&d=29&y=2025\n",
            "  [3] What's Happening - Downtown Pittsburgh — https://downtownpittsburgh.com/events/?n=11&d=2&y=2025\n",
            "  [4] What's Happening - Downtown Pittsburgh — https://downtownpittsburgh.com/events/?n=10&d=4&y=2025\n",
            "  [5] What's Happening - Downtown Pittsburgh — https://downtownpittsburgh.com/events/?n=11&y=2025\n",
            "Q398 sources:\n",
            "  [1] Event - Downtown Pittsburgh — https://downtownpittsburgh.com/events/event/?id=63876\n",
            "  [2] A New Theater, a Significant Sketch, and a Giant Duck: Three Big Moments in Trust History — https://trustarts.org/blog/a-new-theater-a-significant-sketch-and-a-giant-duck-three-big-moments-in-trust-history\n",
            "  [3] Blog — https://trustarts.org/blog\n",
            "  [4] Event - Downtown Pittsburgh — https://downtownpittsburgh.com/events/event/?id=62499\n",
            "  [5] What's Happening - Downtown Pittsburgh — https://downtownpittsburgh.com/events/\n"
          ]
        },
        {
          "name": "stderr",
          "output_type": "stream",
          "text": [
            "Answering: 100%|█████████▉| 399/400 [01:40<00:00,  3.55it/s]"
          ]
        },
        {
          "name": "stdout",
          "output_type": "stream",
          "text": [
            "Q399 sources:\n",
            "  [1] Family Weekend - Family Engagement - Carnegie Mellon University — https://www.cmu.edu/family/events/family-weekend/\n",
            "  [2] Family Weekend - Family Engagement - Carnegie Mellon University — https://www.cmu.edu/family/events/family-weekend/\n",
            "  [3] What's Happening - Downtown Pittsburgh — https://downtownpittsburgh.com/events/?n=10&d=22&y=2025\n",
            "  [4] Event - Downtown Pittsburgh — https://downtownpittsburgh.com/events/event/?id=63965\n",
            "  [5] What's Happening - Downtown Pittsburgh — https://downtownpittsburgh.com/events/?n=10&d=12&y=2025\n",
            "Q400 sources:\n",
            "  [1] Event - Downtown Pittsburgh — https://downtownpittsburgh.com/events/event/?id=63881\n",
            "  [2] Event - Downtown Pittsburgh — https://downtownpittsburgh.com/events/event/?id=63879\n",
            "  [3] What's Happening - Downtown Pittsburgh — https://downtownpittsburgh.com/events/?n=10&d=10&y=2025\n",
            "  [4] What's Happening - Downtown Pittsburgh — https://downtownpittsburgh.com/events/?n=12&d=1&y=2025\n",
            "  [5] Blog — https://trustarts.org/blog\n"
          ]
        },
        {
          "name": "stderr",
          "output_type": "stream",
          "text": [
            "Answering: 100%|██████████| 400/400 [01:40<00:00,  3.98it/s]"
          ]
        },
        {
          "name": "stdout",
          "output_type": "stream",
          "text": [
            "Wrote /content/drive/MyDrive/rag-pgh/system_outputs/system_output_1.json\n",
            " Answers written to system_outputs/system_output_1.json\n"
          ]
        },
        {
          "name": "stderr",
          "output_type": "stream",
          "text": [
            "\n"
          ]
        }
      ],
      "source": [
        "answers = nb_answer(\n",
        "    questions=str(out_q_path.relative_to(root)),\n",
        "    indexdir=\"index\",\n",
        "    reader=\"google/flan-t5-base\",\n",
        "    mode=\"hybrid\",\n",
        "    fusion=\"rrf\",\n",
        "    k=5, pool=40,\n",
        "    max_new_tokens=16, temp=0.0,\n",
        "    system_out=\"system_outputs/system_output_1.json\",\n",
        "    include_sources=False,\n",
        ")\n",
        "print(\" Answers written to system_outputs/system_output_1.json\")\n"
      ]
    },
    {
      "cell_type": "code",
      "execution_count": 16,
      "metadata": {
        "colab": {
          "base_uri": "https://localhost:8080/"
        },
        "id": "x04foC_3Xi1p",
        "outputId": "0a40ce24-3997-431c-ad41-c7f1d0ebc3a7"
      },
      "outputs": [
        {
          "name": "stdout",
          "output_type": "stream",
          "text": [
            "\n",
            "--- Preview ---\n",
            "  1. Q: What year did Pittsburgh suffer its worst flood?\n",
            "     A: 2011\n",
            "\n",
            "  2. Q: When did the Carnegie-Mellon merger occur?\n",
            "     A: unknown\n",
            "\n",
            "  3. Q: What Kennywood food is most iconic?\n",
            "     A: apple, maple and whiskey\n",
            "\n",
            "  4. Q: How many schools and colleges does CMU have?\n",
            "     A: seven\n",
            "\n",
            "  5. Q: What former church is a music venue?\n",
            "     A: unanswerable\n",
            "\n",
            "  6. Q: What year does Pittsburgh host NFL Draft?\n",
            "     A: 2026\n",
            "\n",
            "  7. Q: What is the area in square miles of Squirrel Hill as stated by the Squirrel Hill Historical Society?\n",
            "     A: unknown\n",
            "\n",
            "  8. Q: In what year did Carnegie Institute of Technology merge with the Mellon Institute to form Carnegie Mellon University?\n",
            "     A: unanswerable\n",
            "\n",
            "  9. Q: What year was the Whiskey Rebellion?\n",
            "     A: unanswerable\n",
            "\n",
            " 10. Q: In what year was the Frick Environmental Center opened to the public?\n",
            "     A: 1989\n",
            "\n",
            " 11. Q: When is fourth quarter Payroll Tax due in Pittsburgh?\n",
            "     A: February 28th\n",
            "\n",
            " 12. Q: What is Pittsburgh's business district called?\n",
            "     A: Strip District\n",
            "\n",
            " 13. Q: What street is the City-County Building on?\n",
            "     A: Allegheny\n",
            "\n",
            " 14. Q: Who founded Carnegie Technical Schools?\n",
            "     A: unanswerable\n",
            "\n",
            " 15. Q: What is Pittsburgh's Earned Income Tax revenue?\n",
            "     A: payroll expense generated as a\n",
            "\n",
            " 16. Q: What county is Pittsburgh the seat of?\n",
            "     A: Allegheny County\n",
            "\n",
            " 17. Q: On what date was the Sixth Street Bridge formally renamed the Roberto Clemente Bridge?\n",
            "     A: unknown\n",
            "\n",
            " 18. Q: What is Pittsburgh's Payroll Expense Tax rate?\n",
            "     A: fifty-five hundredths of a percent\n",
            "\n",
            " 19. Q: How many wholesale produce dealers were in the Strip District in the 1950s?\n",
            "     A: unanswerable\n",
            "\n",
            " 20. Q: How many people died in the Allegheny Arsenal explosion during the Civil War?\n",
            "     A: unknown\n",
            "\n",
            " 21. Q: What is Pittsburgh's Real Estate Tax revenue?\n",
            "     A: unknown\n",
            "\n",
            " 22. Q: What year did CMU's Computer Science Department receive a $5 million grant from the Richard K. Mellon Foundation to formally establish the department?\n",
            "     A: unanswerable\n",
            "\n",
            " 23. Q: On what date did Frick Park officially open to the public?\n",
            "     A: unknown\n",
            "\n",
            " 24. Q: How many members serve on Pittsburgh City Council?\n",
            "     A: unknown\n",
            "\n",
            " 25. Q: When was Carnegie Mellon founded?\n",
            "     A: spring of 2006\n",
            "\n",
            " 26. Q: When was Andrew Mellon's birth year?\n",
            "     A: unknown\n",
            "\n",
            " 27. Q: What company built the current Roberto Clemente Bridge?\n",
            "     A: unknown\n",
            "\n",
            " 28. Q: What park is Downtown Pittsburgh's state park?\n",
            "     A: Allegheny and Monongahela Rivers\n",
            "\n",
            " 29. Q: How long is the Ohio River from Pittsburgh to where it meets the Mississippi River?\n",
            "     A: 45 miles\n",
            "\n",
            " 30. Q: When was the School of Computer Science opened?\n",
            "     A: spring of 2006\n",
            "\n",
            " 31. Q: What is the address of Randyland in Pittsburgh?\n",
            "     A: 412-323-7141\n",
            "\n",
            " 32. Q: What are Pittsburgh's team colors?\n",
            "     A: black and gold\n",
            "\n",
            " 33. Q: What is the income threshold below which employees are exempt from Pittsburgh's Local Services Tax in 2025?\n",
            "     A: unknown\n",
            "\n",
            " 34. Q: When did the Senator John Heinz History Center open in the Strip District?\n",
            "     A: unanswerable\n",
            "\n",
            " 35. Q: How many firefighters are budgeted in Pittsburgh?\n",
            "     A: unknown\n",
            "\n",
            " 36. Q: Who founded the Pittsburgh Steelers?\n",
            "     A: Markice Pouncey\n",
            "\n",
            " 37. Q: What year was the Pittsburgh Academy founded?\n",
            "     A: unknown\n",
            "\n",
            " 38. Q: When did the first IBM computer arrive on campus?\n",
            "     A: unanswerable\n",
            "\n",
            " 39. Q: In what year was the Strip Historic District designated by the National Park Service?\n",
            "     A: unanswerable\n",
            "\n",
            " 40. Q: When did Carnegie Tech begin granting bachelor's degrees?\n",
            "     A: fall 2018\n",
            "\n",
            " 41. Q: How many square miles is Pittsburgh?\n",
            "     A: about 300 miles west of\n",
            "\n",
            " 42. Q: What is Pittsburgh's nickname related to steel?\n",
            "     A: Steel City\n",
            "\n",
            " 43. Q: What is the exact length of the CMU Buggy race course in miles?\n",
            "     A: unanswerable\n",
            "\n",
            " 44. Q: When is third quarter LST due in Pittsburgh?\n",
            "     A: November 30th\n",
            "\n",
            " 45. Q: What is Pittsburgh's Payroll Preparation Tax rate?\n",
            "     A: fifty-five hundredths of a percent\n",
            "\n",
            " 46. Q: In what year were railroad tracks removed from Liberty Avenue downtown, causing produce merchants to relocate to the Strip District?\n",
            "     A: unanswerable\n",
            "\n",
            " 47. Q: What neighborhood does Mayor Gainey live in?\n",
            "     A: Lincoln-Lemington\n",
            "\n",
            " 48. Q: What Pittsburgh stadium has capacity 68,400?\n",
            "     A: Acrisure Stadium\n",
            "\n",
            " 49. Q: What year did the Steelers change their name?\n",
            "     A: 1972\n",
            "\n",
            " 50. Q: How many theater performances occur annually?\n",
            "     A: unknown\n",
            "\n",
            " 51. Q: What is America's number one history museum?\n",
            "     A: The Andy Warhol Museum\n",
            "\n",
            " 52. Q: How many neighborhoods does Pittsburgh have?\n",
            "     A: unanswerable\n",
            "\n",
            " 53. Q: How many Downtown Pittsburgh restaurants exist?\n",
            "     A: unknown\n",
            "\n",
            " 54. Q: When is fourth quarter LST due in Pittsburgh?\n",
            "     A: February 28th\n",
            "\n",
            " 55. Q: What is the current total acreage of Frick Park?\n",
            "     A: unknown\n",
            "\n",
            " 56. Q: On what date did UPMC Children's Hospital of Pittsburgh open its new facility in Lawrenceville?\n",
            "     A: unknown\n",
            "\n",
            " 57. Q: What is Pittsburgh's real estate tax rate?\n",
            "     A: 25\n",
            "\n",
            " 58. Q: What institution merged with Carnegie Tech?\n",
            "     A: unknown\n",
            "\n",
            " 59. Q: In what year was the School of Computer Science established at Carnegie Mellon University?\n",
            "     A: unanswerable\n",
            "\n",
            " 60. Q: What merged with Carnegie Tech in 1967?\n",
            "     A: Carnegie Mellon University\n",
            "\n",
            " 61. Q: What Eastern European food is Pittsburgh famous for?\n",
            "     A: Oktoberfest\n",
            "\n",
            " 62. Q: On what date did Phipps Conservatory open to the public?\n",
            "     A: 1893\n",
            "\n",
            " 63. Q: How many City Council members are in Pittsburgh?\n",
            "     A: unknown\n",
            "\n",
            " 64. Q: When was Pittsburgh laid out?\n",
            "     A: 1795\n",
            "\n",
            " 65. Q: When is third quarter Payroll Tax due in Pittsburgh?\n",
            "     A: November 30th\n",
            "\n",
            " 66. Q: How many acres is Carnegie Mellon's main campus?\n",
            "     A: unknown\n",
            "\n",
            " 67. Q: What Grammy-winning orchestra performs in Pittsburgh?\n",
            "     A: Heinz Hall Pittsburgh Symphony Orchestra\n",
            "\n",
            " 68. Q: What is the length of the Duquesne Incline in feet?\n",
            "     A: unknown\n",
            "\n",
            " 69. Q: In what year did the Boulevard of the Allies open, providing a direct link from Squirrel Hill to downtown Pittsburgh?\n",
            "     A: unanswerable\n",
            "\n",
            " 70. Q: Who laid out Pittsburgh in 1764?\n",
            "     A: Fort Pitt Block House\n",
            "\n",
            " 71. Q: How many independently elected citywide offices exist in Pittsburgh?\n",
            "     A: two\n",
            "\n",
            " 72. Q: When was Pittsburgh incorporated as a city?\n",
            "     A: unanswerable\n",
            "\n",
            " 73. Q: When did the Great Fire of Pittsburgh occur?\n",
            "     A: unknown\n",
            "\n",
            " 74. Q: How many stories is Cathedral of Learning?\n",
            "     A: unknown\n",
            "\n",
            " 75. Q: Who was Pittsburgh named for?\n",
            "     A: William Pitt\n",
            "\n",
            " 76. Q: In what year was the current Roberto Clemente Bridge built?\n",
            "     A: unanswerable\n",
            "\n",
            " 77. Q: What museum has the largest Warhol collection?\n",
            "     A: Carnegie Museum of Natural History\n",
            "\n",
            " 78. Q: What was the original name in 1900?\n",
            "     A: unanswerable\n",
            "\n",
            " 79. Q: What year was Pittsburgh incorporated as a city?\n",
            "     A: unanswerable\n",
            "\n",
            " 80. Q: Who expelled the French in 1758?\n",
            "     A: unanswerable\n",
            "\n",
            " 81. Q: What year was glass manufacture begun in Pittsburgh?\n",
            "     A: 1849\n",
            "\n",
            " 82. Q: What festival is named number one in Pittsburgh?\n",
            "     A: Breakaway Music Festival\n",
            "\n",
            " 83. Q: What museum features Roberto Clemente memorabilia?\n",
            "     A: The Carnegie Museum of Natural\n",
            "\n",
            " 84. Q: When is first quarter Payroll Tax due in Pittsburgh?\n",
            "     A: May 31st, 2nd Quarter; taxes\n",
            "\n",
            " 85. Q: When is first quarter LST due in Pittsburgh?\n",
            "     A: May 31st\n",
            "\n",
            " 86. Q: What year did Randyland's creator Randy Gilson purchase the property at 1501 Arch Street?\n",
            "     A: unknown\n",
            "\n",
            " 87. Q: On what date did the Duquesne Incline open to the public?\n",
            "     A: 7:00 a.m. – 12:45 a.m\n",
            "\n",
            " 88. Q: What's the minimum income for Pittsburgh's LST exemption?\n",
            "     A: no more than 80% of\n",
            "\n",
            " 89. Q: Who is Pittsburgh's current mayor?\n",
            "     A: William Peduto\n",
            "\n",
            " 90. Q: When was Fort Pitt built?\n",
            "     A: 1764\n",
            "\n",
            " 91. Q: What year did steel production begin in Pittsburgh?\n",
            "     A: 1892\n",
            "\n",
            " 92. Q: What is Pitt's most notable building?\n",
            "     A: Fort Pitt Block House\n",
            "\n",
            " 93. Q: What is Pittsburgh's 2025 operating budget?\n",
            "     A: unanswerable\n",
            "\n",
            " 94. Q: What Pittsburgh condiment is most famous?\n",
            "     A: unanswerable\n",
            "\n",
            " 95. Q: How many departments are in Pittsburgh's budget?\n",
            "     A: unanswerable\n",
            "\n",
            " 96. Q: What were the Steelers originally called?\n",
            "     A: Pittsburgh Steelers\n",
            "\n",
            " 97. Q: What is Kennywood's oldest surviving ride and when did it open?\n",
            "     A: unknown\n",
            "\n",
            " 98. Q: When did Pittsburgh's population reach 321,616?\n",
            "     A: unknown\n",
            "\n",
            " 99. Q: What North Shore venue hosts concerts?\n",
            "     A: Acrisure Stadium\n",
            "\n",
            "100. Q: When was the Pennsylvania Railroad Fruit Auction & Sales Building in the Strip District constructed?\n",
            "     A: unanswerable\n",
            "\n",
            "101. Q: Where are artists in residence at Mattress Factory likely to live?\n",
            "     A: on the windows of currently\n",
            "\n",
            "102. Q: Who opened the 'palace of culture' in 1895\n",
            "     A: Henry W. Phipps\n",
            "\n",
            "103. Q: What organization did the Pittsburgh Post Gazette laud as \"the single greatest creative force in Pittsburgh because of its spirit of reinvention\"?\n",
            "     A: Pittsburgh Cultural Trust\n",
            "\n",
            "104. Q: Are photos allowed during Pittsburgh symphony orchestra performances?\n",
            "     A: no\n",
            "\n",
            "105. Q: Which submarine is in the Ohio river beside downtown Pittsburgh?\n",
            "     A: unanswerable\n",
            "\n",
            "106. Q: Which is the most comprehensive single-artist museum in the world?\n",
            "     A: Carnegie Museum of Art\n",
            "\n",
            "107. Q: In which neighborhood is the History Center in Pittsburgh currently located?\n",
            "     A: Pittsburgh\n",
            "\n",
            "108. Q: How to find the Carnegie Museum of Art on youtube (username)?\n",
            "     A: unknown\n",
            "\n",
            "109. Q: Which organization is hosting \"The Magic of Motown\" concert on Oct 19?\n",
            "     A: Pittsburgh Playhouse\n",
            "\n",
            "110. Q: The famous pop art painting, \"Campbell's Soup Cans\", is on display in what Pittsburgh museum?\n",
            "     A: Andy Warhol Museum\n",
            "\n",
            "111. Q: What is Pittsburgh's most visted museum?\n",
            "     A: The Andy Warhol Museum\n",
            "\n",
            "112. Q: Who should I contact to ask about auditions to join the Chorus for the 2026-27 season of the Pittsburgh Opera?\n",
            "     A: Jordyn Smith\n",
            "\n",
            "113. Q: What id the Heinz history Center open in 2014?\n",
            "     A: unanswerable\n",
            "\n",
            "114. Q: In which PSO corporate partnership tier is Lighthouse Electric?\n",
            "     A: unanswerable\n",
            "\n",
            "115. Q: How much does it cost to attend the Heinz History Center with a student ID?\n",
            "     A: unanswerable\n",
            "\n",
            "116. Q: Who is the associate conductor leading the Pittsburgh Symphony Orchestra concerts at Heinz Hall during Light Up Night 2025?\n",
            "     A: Moon Doh\n",
            "\n",
            "117. Q: Who is the lead concertmaster for the pittsburgh symphony orchestra?\n",
            "     A: Jacob Joyce\n",
            "\n",
            "118. Q: Which Pittsburgh museum displays contemporary Jewish art?\n",
            "     A: the Franklin Furnace Archive\n",
            "\n",
            "119. Q: Where is Charles \"Teenie\" Harris' Archive currently on exhibit?\n",
            "     A: Pittsburgh Cultural Trust\n",
            "\n",
            "120. Q: Polar World is the largest exhibit on what society?\n",
            "     A: Carnegie Museums of Pittsburgh\n",
            "\n",
            "121. Q: What's the Heinz history center's Instragram handle?\n",
            "     A: unknown\n",
            "\n",
            "122. Q: Who is the Presient and CEO of the August Wilson African American Cultural Center?\n",
            "     A: Jessica Lanay\n",
            "\n",
            "123. Q: On how many days of the week is the Detre Library & Archives open?\n",
            "     A: unknown\n",
            "\n",
            "124. Q: Does the pittsburgh symphony orchestrator have more first or second chair violinists?\n",
            "     A: first\n",
            "\n",
            "125. Q: Is there a strict dress code at the Pittsburgh Opera?\n",
            "     A: unanswerable\n",
            "\n",
            "126. Q: Which sports exhibit is coming to Kamin Science Center in December 2025?\n",
            "     A: Penguins 6.6K Run and Family\n",
            "\n",
            "127. Q: On a typical day at the Frick, when are the Clayton Tours available?\n",
            "     A: Tuesdays through Sundays\n",
            "\n",
            "128. Q: How many architecture related objects are in the Heinz Architectural center's collection?\n",
            "     A: unknown\n",
            "\n",
            "129. Q: In what neighborhood is the Clemenete museum located?\n",
            "     A: The Strip\n",
            "\n",
            "130. Q: In which year did the Powdermill Nature Reserve open?\n",
            "     A: unknown\n",
            "\n",
            "131. Q: What is the title of the individual who wins Picklesburgh's pickle juice drinking competition?\n",
            "     A: Curator\n",
            "\n",
            "132. Q: On what ancestral lands does the Frick Pittsburgh occupy?\n",
            "     A: Haudenosaunee, Lenape, Os\n",
            "\n",
            "133. Q: How many contrabassoonists are in the pittsburgh orchestra?\n",
            "     A: unknown\n",
            "\n",
            "134. Q: How may books, pamphlets, and monographs does the Detre Library & Archives have in its collection?\n",
            "     A: unanswerable\n",
            "\n",
            "135. Q: What nickname was given to the first dinosaur fossil addd to the Carnegie Museum's collection?\n",
            "     A: Frick\n",
            "\n",
            "136. Q: What is a supernumerary?\n",
            "     A: unanswerable\n",
            "\n",
            "137. Q: In what year did old residents of Pittsburgh and Western PA establish a society to help preserve local history?\n",
            "     A: unknown\n",
            "\n",
            "138. Q: Which of the following is not a real learning program associated witht he Pittsburgh symphony orchestra? Side-by-Side, Schooltime, Play Your Heart Out, Fiddlesticks Musical Exploration\n",
            "     A: Play Your Heart Out\n",
            "\n",
            "139. Q: What is the phone number for the Kamin Science Center's special events team?\n",
            "     A: unknown\n",
            "\n",
            "140. Q: How tall was dinosaur fossil was the first added to the Carnegie Museum's collection?\n",
            "     A: unknown\n",
            "\n",
            "141. Q: Who is the secretary officer on the Pittsburgh Cultural Trust Board of Trustees\n",
            "     A: Kevin C. Wilkes\n",
            "\n",
            "142. Q: When was the Heinz Architectural Center created?\n",
            "     A: unanswerable\n",
            "\n",
            "143. Q: Who founded the Mattress Factory?\n",
            "     A: Andrew Carnegie\n",
            "\n",
            "144. Q: Who is the President of the Carnegie Museums?\n",
            "     A: unknown\n",
            "\n",
            "145. Q: In what year did Carnegie Museum's most ambitious period of growth begin?\n",
            "     A: unanswerable\n",
            "\n",
            "146. Q: What is the street address of Pittsburgh's \"People Museum\"?\n",
            "     A: unanswerable\n",
            "\n",
            "147. Q: Artists from which country exhibited their work at Mattress Factory despite denial of the artists' entry into the  U.S?\n",
            "     A: Dutch\n",
            "\n",
            "148. Q: What Drop-in Session at Carnegie Museum of Art is happening on Fri, Oct 10, in the morning?\n",
            "     A: What's Happening - Downtown Pittsburgh\n",
            "\n",
            "149. Q: Who do I contact to discuss accessibility accomodations for volunteers at the PSO?\n",
            "     A: the ADA Coordinator\n",
            "\n",
            "150. Q: Which Pittsburgh museum is dedicated to model trains?\n",
            "     A: Car and Carriage Museum\n",
            "\n",
            "151. Q: When was Carnegie Museums' centennial?\n",
            "     A: unknown\n",
            "\n",
            "152. Q: In what year was Dinosaur Hall unveiled?\n",
            "     A: unknown\n",
            "\n",
            "153. Q: Which biblically-related production does Pittsburgh Opera rent out?\n",
            "     A: La Bohème\n",
            "\n",
            "154. Q: Who is the chair of the board for the Frick?\n",
            "     A: unknown\n",
            "\n",
            "155. Q: How much money did the Carnegie Museum's raise in the Building the Future Campaign\n",
            "     A: unknown\n",
            "\n",
            "156. Q: What is Powdermill Nature reserve named after?\n",
            "     A: Frick\n",
            "\n",
            "157. Q: What is Amanda Dunyak Gillen's role at The Frick?\n",
            "     A: Executive Director\n",
            "\n",
            "158. Q: The Heinz History Center is affiliated with which federal institution?\n",
            "     A: Pennsylvania State Police\n",
            "\n",
            "159. Q: When did Roberto Clemente join the Pittsburgh Pirates?\n",
            "     A: unknown\n",
            "\n",
            "160. Q: What is the square footage of the George R. White opera studio?\n",
            "     A: unknown\n",
            "\n",
            "161. Q: \"The Writer's Landscape\" is a perminent exhibition in downtown Pittsburgh about whom?\n",
            "     A: her students’ work\n",
            "\n",
            "162. Q: Who financed the Heinz Architectural Center at its launch?\n",
            "     A: unanswerable\n",
            "\n",
            "163. Q: What major architectural center opened in Pittsburgh in 1993?\n",
            "     A: unanswerable\n",
            "\n",
            "164. Q: Which Pittsburgh concert venue is located next to Acrisure Stadium?\n",
            "     A: Steelers Pro Shop\n",
            "\n",
            "165. Q: What type of dinosaur fossil was the first added to the Carnegie Museum's collection?\n",
            "     A: unanswerable\n",
            "\n",
            "166. Q: Where is the Orwell film playing in October?\n",
            "     A: Pittsburgh\n",
            "\n",
            "167. Q: Who is the music director of the Pittsburgh orchestra?\n",
            "     A: Manfred Honeck\n",
            "\n",
            "168. Q: What is the age cutoff for free tickets at the Heinz History Center?\n",
            "     A: 10\n",
            "\n",
            "169. Q: How many guests does PointView Hall fit in theater seating?\n",
            "     A: unanswerable\n",
            "\n",
            "170. Q: How many city blocks does Pittsburgh's Cultural District span?\n",
            "     A: 14\n",
            "\n",
            "171. Q: What is the theme of Pittsburgh Ballet Theatre's 2025-2026 season?\n",
            "     A: the thrilling count Dracula returns\n",
            "\n",
            "172. Q: What was the name of the mattress warehouse that becamse Mattress Factory's first site in 1975?\n",
            "     A: 429 First Avenue\n",
            "\n",
            "173. Q: Artifacts from what famous TV set are displayed at Pittsburgh's \"People Museum\"?\n",
            "     A: unknown\n",
            "\n",
            "174. Q: Which planet is featured in a current exhibit at Kamin Science Center?\n",
            "     A: unanswerable\n",
            "\n",
            "175. Q: How may photographs, prints, and negatives does the Detre Library & Archives have in its collection?\n",
            "     A: unknown\n",
            "\n",
            "176. Q: In what month will Chorus auditions take place for the Pittsburgh Opera's 2026-27 season?\n",
            "     A: February\n",
            "\n",
            "177. Q: In what year was the pop district in Pittsburgh launched?\n",
            "     A: unknown\n",
            "\n",
            "178. Q: Who is the current General Director of the Pittsburgh Opera?\n",
            "     A: Ki Ki B\n",
            "\n",
            "179. Q: Who became Co-Director of Mattress Factory in 2008?\n",
            "     A: unanswerable\n",
            "\n",
            "180. Q: Does the PSO offer any discounts for program handbook advertisers?\n",
            "     A: yes\n",
            "\n",
            "181. Q: At which venue does the Pittsburgh Opera present its largest productions?\n",
            "     A: Downtown Pittsburgh\n",
            "\n",
            "182. Q: What hip-hop related event is happening at awaacc on October 25?\n",
            "     A: Fall Dance Concert\n",
            "\n",
            "183. Q: What does 'Acupuncture' refer to in the context of the Pittsburgh skyline\n",
            "     A: a facial, mani-pedi, therapeutic massage\n",
            "\n",
            "184. Q: What are the two types of space rentals available through the Pittsburgh Cultural Trust\n",
            "     A: galleries\n",
            "\n",
            "185. Q: What is the starting price for a children's ticket to one of the Pittsburgh Opera's mainstage shows?\n",
            "     A: unknown\n",
            "\n",
            "186. Q: The Frick Pittsburgh is located in which neighborhood?\n",
            "     A: Pittsburgh\n",
            "\n",
            "187. Q: What is Pennsylvania's largest history museum?\n",
            "     A: The Senator John Heinz Pittsburgh\n",
            "\n",
            "188. Q: When was Mattress Factory founded?\n",
            "     A: unanswerable\n",
            "\n",
            "189. Q: What is the first step for renting the AWAACC?\n",
            "     A: completing and submitting the Reservation\n",
            "\n",
            "190. Q: What is the Clemente Museum's instagram handle?\n",
            "     A: unanswerable\n",
            "\n",
            "191. Q: What is the street address of Pittsburgh's Mattress Factory?\n",
            "     A: unknown\n",
            "\n",
            "192. Q: Does Pittsburgh's Detre Library & Archives hold more periodicals or maps?\n",
            "     A: periodicals\n",
            "\n",
            "193. Q: In what year did Warhol obtain his first film camera?\n",
            "     A: unanswerable\n",
            "\n",
            "194. Q: How many photographs are in the Warhol museum?\n",
            "     A: unknown\n",
            "\n",
            "195. Q: What is Guidestar's rating for the Pittsburgh Opera?\n",
            "     A: unknown\n",
            "\n",
            "196. Q: What did the Historical Society of Pittsburgh celebrate in 1908?\n",
            "     A: unanswerable\n",
            "\n",
            "197. Q: How does the Mattress Factory define artistic quality?\n",
            "     A: vibrant hubs for artistic expression\n",
            "\n",
            "198. Q: How many seats are in the Buhl Planetarium?\n",
            "     A: unanswerable\n",
            "\n",
            "199. Q: The oldest car of what make (brand) is located at Pittsburgh's \"People Museum\"?\n",
            "     A: Frick\n",
            "\n",
            "200. Q: In which neighborhood is the Pittsburgh Opera currently located?\n",
            "     A: unanswerable\n",
            "\n",
            "201. Q: When do the Penguins play their home opener for the 2025-26 season?\n",
            "     A: Sunday, October 5\n",
            "\n",
            "202. Q: When is the Steelers game against the Buffalo Bills in 2025?\n",
            "     A: unknown\n",
            "\n",
            "203. Q: Name three NCAA Division 1 universities in Pittsburgh.\n",
            "     A: University of Pittsburgh, Duquesne University\n",
            "\n",
            "204. Q: Where is the game between the Miami Dolphins and Pittsburgh Steelers on December 15, 2025, being played?\n",
            "     A: Acrisure Stadium\n",
            "\n",
            "205. Q: What is the seating capacity of Acrisure Stadium?\n",
            "     A: 100 thousand\n",
            "\n",
            "206. Q: What are the co-captains for Steelers Style?\n",
            "     A: Steelers’ All-Pro Center Maurkice Pouncey\n",
            "\n",
            "207. Q: Who served as the Pittsburgh Steelers radio color commentator for 35 seasons from 1970 to 2004?\n",
            "     A: Markice Pouncey\n",
            "\n",
            "208. Q: When was the inaugural Hall of Honor class for the Pittsburgh Steelers announced?\n",
            "     A: Dec. 12, 2018\n",
            "\n",
            "209. Q: What is the nickname of the Pittsburgh Steelers?\n",
            "     A: Steelers\n",
            "\n",
            "210. Q: How many preseason games do the Penguins play in 2025?\n",
            "     A: unknown\n",
            "\n",
            "211. Q: When did the Pittsburgh Steelers play their first playoff game in franchise history?\n",
            "     A: 1972\n",
            "\n",
            "212. Q: How many miles will the Steelers travel in the 2025 season?\n",
            "     A: 36-mile endurance hike that goes\n",
            "\n",
            "213. Q: Who is the head coach of the Pittsburgh Steelers?\n",
            "     A: Scott Schubert\n",
            "\n",
            "214. Q: Who holds the Pittsburgh Penguins franchise record for most points scored by a defenseman?\n",
            "     A: unanswerable\n",
            "\n",
            "215. Q: When does Pitt play West Virginia in the Backyard Brawl for basketball in 2025-26?\n",
            "     A: unknown\n",
            "\n",
            "216. Q: When was The Pirate Parrot mascot introduced for the Pittsburgh Pirates?\n",
            "     A: unknown\n",
            "\n",
            "217. Q: What is the name of Pittsburgh’s professional soccer team?\n",
            "     A: Steelers\n",
            "\n",
            "218. Q: When is the game between the Columbus Blue Jackets and Pittsburgh Penguins scheduled?\n",
            "     A: Oct 25, 2025\n",
            "\n",
            "219. Q: When is the Penguins' traditional Thanksgiving Eve game in 2025?\n",
            "     A: Sunday, October 5\n",
            "\n",
            "220. Q: When did the Steelers Hall of Honor Museum open?\n",
            "     A: unanswerable\n",
            "\n",
            "221. Q: When was the nickname \"Pirates\" first acknowledged on the Pittsburgh baseball team's uniforms?\n",
            "     A: unknown\n",
            "\n",
            "222. Q: What are the official colors of the Pittsburgh Steelers?\n",
            "     A: unknown\n",
            "\n",
            "223. Q: When do the Penguins host the Anaheim Ducks in December 2025?\n",
            "     A: unknown\n",
            "\n",
            "224. Q: When does Pitt host Longwood for men's basketball in 2025-26?\n",
            "     A: unknown\n",
            "\n",
            "225. Q: When and where is the Toronto Maple Leafs vs. Pittsburgh Penguins game scheduled?\n",
            "     A: PPG Paints Arena 1001 Fifth\n",
            "\n",
            "226. Q: Which Major League Baseball team built a screen at Forbes Field in 1930?\n",
            "     A: unknown\n",
            "\n",
            "227. Q: Where is the Pittsburgh Penguins vs Philadelphia Flyers game on October 28, 2025, being held?\n",
            "     A: PPG Paints Arena\n",
            "\n",
            "228. Q: When will the Pittsburgh Steelers wear their 1933 Throwback Uniforms against the Green Bay Packers?\n",
            "     A: 1:00 pm - 4:00 pm\n",
            "\n",
            "229. Q: On what dates will the Penguins play in the NHL Global Series in Stockholm?\n",
            "     A: unknown\n",
            "\n",
            "230. Q: When did the Pittsburgh Steelers move into Heinz Field?\n",
            "     A: unanswerable\n",
            "\n",
            "231. Q: When is the game between the Buffalo Bills and Pittsburgh Steelers scheduled?\n",
            "     A: Thursday, September 1, 2022\n",
            "\n",
            "232. Q: Who succeeded Chuck Noll as head coach of the Pittsburgh Steelers in 1992?\n",
            "     A: unanswerable\n",
            "\n",
            "233. Q: When does Pitt host Bucknell for men's basketball in 2025-26?\n",
            "     A: unanswerable\n",
            "\n",
            "234. Q: What is the name of the baseball park in Pittsburgh known for its spectacular view of the Downtown skyline?\n",
            "     A: Park Rangers\n",
            "\n",
            "235. Q: Where will the Pittsburgh Penguins play on October 14, 2025?\n",
            "     A: PPG Paints Arena\n",
            "\n",
            "236. Q: What is the address of the Pittsburgh Steelers' Acrisure Stadium?\n",
            "     A: 412-697-7150\n",
            "\n",
            "237. Q: Which golf course in the Pittsburgh area has hosted the most U.S. Open championships?\n",
            "     A: Bob O'Connor Golf Course\n",
            "\n",
            "238. Q: Who replaced Steve Mears on the Pittsburgh Penguins radio booth in 2024?\n",
            "     A: unanswerable\n",
            "\n",
            "239. Q: When did the Pittsburgh Penguins win back-to-back Stanley Cup championships?\n",
            "     A: unknown\n",
            "\n",
            "240. Q: Who is the manager of the Pittsburgh Pirates?\n",
            "     A: unknown\n",
            "\n",
            "241. Q: What is the capacity of Highmark Stadium?\n",
            "     A: unanswerable\n",
            "\n",
            "242. Q: What do the colors in the Pittsburgh Steelers logo represent?\n",
            "     A: temperature, humidity, precipitation and wind\n",
            "\n",
            "243. Q: In what year were the Pittsburgh Penguins ice hockey club established?\n",
            "     A: unknown\n",
            "\n",
            "244. Q: How many World Series championships have the Pittsburgh Pirates won?\n",
            "     A: unknown\n",
            "\n",
            "245. Q: When was the Pittsburgh Passion women's full-contact football team formed?\n",
            "     A: unknown\n",
            "\n",
            "246. Q: When is the Steelers bye week in 2025?\n",
            "     A: unknown\n",
            "\n",
            "247. Q: When will the Riverhounds ownership group start a USL W League team?\n",
            "     A: unknown\n",
            "\n",
            "248. Q: What is the Steelers' strength of schedule ranking for 2025?\n",
            "     A: unknown\n",
            "\n",
            "249. Q: In which years did the Pittsburgh Penguins win the Stanley Cup championships?\n",
            "     A: unknown\n",
            "\n",
            "250. Q: Who created the Terrible Towel for the Pittsburgh Steelers?\n",
            "     A: Markice Pouncey\n",
            "\n",
            "251. Q: When is the Steelers vs Colts game scheduled?\n",
            "     A: December 14, 2017, at approximately\n",
            "\n",
            "252. Q: In what year were the Pittsburgh Pirates established?\n",
            "     A: unknown\n",
            "\n",
            "253. Q: When did the Pittsburgh Steelers win their sixth Super Bowl Championship?\n",
            "     A: 1972\n",
            "\n",
            "254. Q: Who has been the Pittsburgh Penguins' public address announcer since 2009?\n",
            "     A: unanswerable\n",
            "\n",
            "255. Q: When will the Pittsburgh Penguins relaunch their Hall of Fame?\n",
            "     A: October 5, 2025\n",
            "\n",
            "256. Q: Name one NCAA Division 1 university located in Pittsburgh.\n",
            "     A: University of Pittsburgh, Duquesne University\n",
            "\n",
            "257. Q: What is the name of the 24-hour digital radio station that provides non-stop coverage of the Pittsburgh Steelers?\n",
            "     A: unknown\n",
            "\n",
            "258. Q: Which university in Pittsburgh is a member of the Atlantic Coast Conference in college football?\n",
            "     A: Duquesne University\n",
            "\n",
            "259. Q: When do the Steelers host the Cincinnati Bengals for the second time in 2025?\n",
            "     A: September 1, 2022\n",
            "\n",
            "260. Q: What are the traditional colors for Pittsburgh sports teams?\n",
            "     A: unanswerable\n",
            "\n",
            "261. Q: Where will the Pittsburgh Penguins play against the Toronto Maple Leafs on December 23, 2025?\n",
            "     A: PPG Paints Arena\n",
            "\n",
            "262. Q: When is the game between the Pittsburgh Steelers and the Green Bay Packers scheduled?\n",
            "     A: Thursday, September 1, 2022\n",
            "\n",
            "263. Q: How can college students get discounted tickets for Pittsburgh Penguins games?\n",
            "     A: Craigslist\n",
            "\n",
            "264. Q: What song is played during the fourth quarter when the Steelers need a big stop?\n",
            "     A: unanswerable\n",
            "\n",
            "265. Q: When did the Three Rivers Stadium open?\n",
            "     A: unknown\n",
            "\n",
            "266. Q: When is the game between the Cincinnati Bengals and the Pittsburgh Steelers scheduled?\n",
            "     A: Thursday, September 1, 2022\n",
            "\n",
            "267. Q: How many Super Bowl championships have the Pittsburgh Steelers won?\n",
            "     A: six\n",
            "\n",
            "268. Q: How many times have the Pittsburgh Pirates won the World Series?\n",
            "     A: unknown\n",
            "\n",
            "269. Q: When is the game between the Cleveland Browns and Pittsburgh Steelers scheduled?\n",
            "     A: Oct 12, 2025\n",
            "\n",
            "270. Q: When did PPG Paints Arena open?\n",
            "     A: unknown\n",
            "\n",
            "271. Q: Where is the Steelers Hall of Honor Museum located?\n",
            "     A: Acrisure Stadium\n",
            "\n",
            "272. Q: When did the Pittsburgh Pirates return to the postseason after a 20-season losing record?\n",
            "     A: unanswerable\n",
            "\n",
            "273. Q: How much money have the proceeds from the Terrible Towel helped raise for the school in Coraopolis?\n",
            "     A: unknown\n",
            "\n",
            "274. Q: When is the Pittsburgh Penguins game against the Philadelphia Flyers scheduled?\n",
            "     A: Wednesday\n",
            "\n",
            "275. Q: What is the address of PNC Park where the Pittsburgh Pirates play?\n",
            "     A: between Heinz Field and PNC\n",
            "\n",
            "276. Q: When is the game between the Buffalo Sabres and Pittsburgh Penguins scheduled?\n",
            "     A: Oct 10, 2025\n",
            "\n",
            "277. Q: How many times has the U.S. Open been hosted at Oakmont Country Club in Pittsburgh as of 2025?\n",
            "     A: unknown\n",
            "\n",
            "278. Q: When does Pitt host Quinnipiac for men's basketball in 2025-26?\n",
            "     A: 1:00 pm - 4:00 pm\n",
            "\n",
            "279. Q: When do the Penguins host the Carolina Hurricanes on December 30, 2025?\n",
            "     A: unknown\n",
            "\n",
            "280. Q: What is a riverhound a nickname for?\n",
            "     A: Park Rangers\n",
            "\n",
            "281. Q: Which Pittsburgh team competes in the Ultimate Frisbee Association?\n",
            "     A: unknown\n",
            "\n",
            "282. Q: When were the Pittsburgh Steelers established?\n",
            "     A: 1972\n",
            "\n",
            "283. Q: What is the name of the bar closest to PPG Paints Arena that offers a large beer selection and welcomes away team fans?\n",
            "     A: PPG Paints Arena\n",
            "\n",
            "284. Q: When is the Pittsburgh Penguins game against the Dallas Stars scheduled?\n",
            "     A: Oct 9, 2025\n",
            "\n",
            "285. Q: Who was hired as the Pittsburgh Steelers head coach in 1969?\n",
            "     A: Anthony Lamont Hines, Jr\n",
            "\n",
            "286. Q: When does Pitt men's basketball host Texas A&M in 2025-26?\n",
            "     A: unanswerable\n",
            "\n",
            "287. Q: When did the Pittsburgh Pirates leave Forbes Field?\n",
            "     A: after the 8 p.m. kickoff\n",
            "\n",
            "288. Q: Where is the Pittsburgh Steelers' game against the Chicago Bears on November 23, 2025, being played?\n",
            "     A: Acrisure Stadium\n",
            "\n",
            "289. Q: Who is the General Manager of the Pittsburgh Pirates?\n",
            "     A: unknown\n",
            "\n",
            "290. Q: Where can you find the Immaculate Reception Monument to celebrate the Pittsburgh Steelers?\n",
            "     A: Acrisure Stadium\n",
            "\n",
            "291. Q: What team will the Penguins face in Stockholm for the Global Series?\n",
            "     A: unanswerable\n",
            "\n",
            "292. Q: When does Pitt men's basketball play UCF in a neutral site game?\n",
            "     A: unanswerable\n",
            "\n",
            "293. Q: When did the Pittsburgh Pirates play their final game at Three Rivers Stadium?\n",
            "     A: Sunday\n",
            "\n",
            "294. Q: How many Super Bowls have the Pittsburgh Steelers won?\n",
            "     A: six\n",
            "\n",
            "295. Q: When is the game between the Montreal Canadiens and Pittsburgh Penguins scheduled?\n",
            "     A: Oct 10, 2025\n",
            "\n",
            "296. Q: What position does Aaron Rodgers play on the Steelers team?\n",
            "     A: unanswerable\n",
            "\n",
            "297. Q: Where is the Steelers Alumni Weekend Dinner held?\n",
            "     A: Pittsburgh Steelers Hall of Honor\n",
            "\n",
            "298. Q: What is the bag policy at Acrisure Stadium on game days?\n",
            "     A: clear\n",
            "\n",
            "299. Q: Where are the home bouts for The Steel Hurtin‚The Steel Beamers, and the Blitzburgh Bombers held?\n",
            "     A: Pittsburgh\n",
            "\n",
            "300. Q: When and where is the game between the Anaheim Ducks and Pittsburgh Penguins scheduled?\n",
            "     A: October 5, 2025\n",
            "\n",
            "301. Q: In what year did Anthrocon first move to Pittsburgh?\n",
            "     A: unanswerable\n",
            "\n",
            "302. Q: What Costa Rican botanist is featured in an exhibition at Hunt Institute through December 17, 2025?\n",
            "     A: Nickolas Muray\n",
            "\n",
            "303. Q: Which football teams play at Joe Walton Stadium on October 11, 2025?\n",
            "     A: Pittsburgh Panthers and the West\n",
            "\n",
            "304. Q: Where can students meet with the Voter Engagement Intern on Fridays from 10:15 AM to 12:15 PM?\n",
            "     A: Con Alma\n",
            "\n",
            "305. Q: When does Pittsburgh Ballet Theatre perform Dracula in 2025?\n",
            "     A: Oct 31, 2025 - Nov\n",
            "\n",
            "306. Q: When was the Pittsburgh Great Race first established?\n",
            "     A: unknown\n",
            "\n",
            "307. Q: What celebration takes place at the Warhol and Carnegie Museums on October 11, 2025?\n",
            "     A: Hispanic Heritage Celebration\n",
            "\n",
            "308. Q: What venue has a capacity of 2676 and hosts events in Pittsburgh?\n",
            "     A: Pittsburgh's Business Events Team\n",
            "\n",
            "309. Q: What theater production is titled \"Amanda: She Didn't Mean to Die\" on October 11, 2025?\n",
            "     A: unanswerable\n",
            "\n",
            "310. Q: What hands-on event celebrates CMU's 125th birthday on November 8, 2025?\n",
            "     A: Commencement\n",
            "\n",
            "311. Q: When does Pittsburgh Opera's Fellow Travelers run in 2025?\n",
            "     A: unknown\n",
            "\n",
            "312. Q: What is the length of the UPMC Schenley Oval circuit at the PVGP?\n",
            "     A: 2 miles\n",
            "\n",
            "313. Q: What is the theme for Phipps Spring Flower Show 2025?\n",
            "     A: Enchantment\n",
            "\n",
            "314. Q: What musical celebrates the 70th anniversary on October 11, 2025?\n",
            "     A: unanswerable\n",
            "\n",
            "315. Q: What is the theme for Phipps Fall Flower Show 2025?\n",
            "     A: Enchantment\n",
            "\n",
            "316. Q: What is Mark Godden's ballet featured in Pittsburgh Ballet Theatre's Spring Mix?\n",
            "     A: Dracula\n",
            "\n",
            "317. Q: What is the name of the dance company performing on October 11, 2025 at 7:30 PM?\n",
            "     A: Seattle’s Hit Show\n",
            "\n",
            "318. Q: What open mic event happens on the first Monday of every month at 6-8 PM?\n",
            "     A: Con Alma\n",
            "\n",
            "319. Q: Which band performs at Roxian Theatre on October 10, 2025 at 8:00 PM?\n",
            "     A: Sidra Bell\n",
            "\n",
            "320. Q: What two charities does the Pittsburgh Vintage Grand Prix primarily support?\n",
            "     A: Pistons in the Park Car\n",
            "\n",
            "321. Q: What Halloween event features Tim Burton's classic at Heinz Hall on October 25-26, 2025?\n",
            "     A: Boo's Halloween House Party\n",
            "\n",
            "322. Q: On what dates will the Handmade Arcade Holiday Market take place in 2025?\n",
            "     A: Oct 11, 2025\n",
            "\n",
            "323. Q: What musical runs from October 7-12, 2025 at the Benedum Center?\n",
            "     A: SIX The Musical\n",
            "\n",
            "324. Q: What celebration takes place during CMU's Homecoming Weekend from November 6-8, 2025?\n",
            "     A: Commencement\n",
            "\n",
            "325. Q: How many stages are dedicated to performances at the Pittsburgh Irish Festival?\n",
            "     A: unknown\n",
            "\n",
            "326. Q: What spooky walking tour can you take at The Frick Pittsburgh on October 10, 2025?\n",
            "     A: Black & Ghost Tour\n",
            "\n",
            "327. Q: What is the last day of CMU Fall 2025 Semester classes?\n",
            "     A: unknown\n",
            "\n",
            "328. Q: What are the dates for the Peoples Gas Holiday Market in 2025?\n",
            "     A: October 4-5\n",
            "\n",
            "329. Q: What brewery hosts Cocktails with Kitties on October 10, 2025?\n",
            "     A: Con Alma\n",
            "\n",
            "330. Q: What major conference takes place at CMU from October 13-16, 2025?\n",
            "     A: STEM Connect\n",
            "\n",
            "331. Q: What is the price range for the First Night Friends VIP Experience at Highmark First Night Pittsburgh?\n",
            "     A: unanswerable\n",
            "\n",
            "332. Q: What club hosts Jesse Roper on October 11, 2025 at 7:00 PM?\n",
            "     A: Pittsburgh's own Helen Wildy\n",
            "\n",
            "333. Q: What time does the free Electro Swing Party start on October 10, 2025?\n",
            "     A: 0 pm - 11:30 pm\n",
            "\n",
            "334. Q: What award winner performs at Heinz Hall on October 28, 2025?\n",
            "     A: Jon Batiste\n",
            "\n",
            "335. Q: What venue hosts Jeff Daniels on October 10, 2025 at 7:30 PM?\n",
            "     A: Seattle’s Hit Show\n",
            "\n",
            "336. Q: Where can you see silhouette art being created on October 10, 2025 from 12-6 PM?\n",
            "     A: 489 Market Street, Downtown Pittsburgh\n",
            "\n",
            "337. Q: When does Paul McCartney perform in Pittsburgh in 2025?\n",
            "     A: Oct 3, 2025 - Oct\n",
            "\n",
            "338. Q: Which opera is performed at Pittsburgh Opera on October 18, 2025?\n",
            "     A: unanswerable\n",
            "\n",
            "339. Q: How much is parking at the Pittsburgh Irish Festival?\n",
            "     A: $18 per concert\n",
            "\n",
            "340. Q: When does Claire Rosinkranz perform at PPG Paints Arena?\n",
            "     A: Oct 10, 2025\n",
            "\n",
            "341. Q: Which Fleetwood Mac tribute band performs at Silver Springs on October 11, 2025?\n",
            "     A: Fleetwood Mac\n",
            "\n",
            "342. Q: When does Playboi Carti perform in Pittsburgh in 2025?\n",
            "     A: Wednesday, October 8, 2025 at\n",
            "\n",
            "343. Q: What coffee event is scheduled in New York for October 18, 2025?\n",
            "     A: jubilee concert at the Vienna\n",
            "\n",
            "344. Q: What are the dates for Les Misérables at the Benedum Center in Pittsburgh?\n",
            "     A: September 25 to October 1\n",
            "\n",
            "345. Q: What type of meditation session occurs weekly on Thursdays from 5:05-5:40 PM?\n",
            "     A: Con Alma keeps the vibes\n",
            "\n",
            "346. Q: What drama production runs from October 8-10, 2025 at the Purnell Center?\n",
            "     A: A Little Prayer\n",
            "\n",
            "347. Q: Which Pittsburgh hockey team plays the New York Islanders on October 9, 2025?\n",
            "     A: Penguins\n",
            "\n",
            "348. Q: When does the Pittsburgh Symphony Orchestra perform at Carnegie Hall in December 2025?\n",
            "     A: unanswerable\n",
            "\n",
            "349. Q: What tribute band performs at Mr. Small's Theatre on October 10, 2025?\n",
            "     A: Mumford & Sons\n",
            "\n",
            "350. Q: What rapper headlines Highmark First Night Pittsburgh 2025?\n",
            "     A: CoCo The Clown\n",
            "\n",
            "351. Q: When does the Pittsburgh Symphony Orchestra perform Elf in Concert?\n",
            "     A: May 16, 2026\n",
            "\n",
            "352. Q: What dance company performs contemporary dance on October 17, 2025?\n",
            "     A: Sidra Bell Dance New York\n",
            "\n",
            "353. Q: At what time does Frzy's performance begin at Highmark First Night Pittsburgh?\n",
            "     A: 16:00:48\n",
            "\n",
            "354. Q: What family attraction runs multiple dates and times starting October 10, 2025 at UPMC Events Center?\n",
            "     A: Family Weekend - Family Engagement\n",
            "\n",
            "355. Q: When does Tate McRae perform in Pittsburgh in 2025?\n",
            "     A: Oct 15, 2025 | 12:00\n",
            "\n",
            "356. Q: Where does the October Neighborhood Lunch take place on October 14, 2025?\n",
            "     A: Downtown Pittsburgh\n",
            "\n",
            "357. Q: What venue hosts live music every Friday from 5-8 PM through October 24, 2025?\n",
            "     A: Byham Theater\n",
            "\n",
            "358. Q: What venue hosts Tate McRae's Miss Possessive Tour on October 15, 2025?\n",
            "     A: Mellon Square\n",
            "\n",
            "359. Q: On what specific dates does CMU Thanksgiving Break occur in Fall 2025?\n",
            "     A: unanswerable\n",
            "\n",
            "360. Q: What interactive comedy game show is happening at Arcade Comedy Theater on October 9, 2025 at 7:00 PM?\n",
            "     A: Double Team'd - MQCF\n",
            "\n",
            "361. Q: At what time do the Dollar Bank Children's Fireworks take place at Highmark First Night Pittsburgh?\n",
            "     A: 6:05 - 6:10 p.m\n",
            "\n",
            "362. Q: What Gilbert and Sullivan operetta is performed by Pittsburgh Savoyards in October 2025?\n",
            "     A: Berlioz’s Symphonie fantastique\n",
            "\n",
            "363. Q: Which football team plays the Cleveland Browns on October 12, 2025?\n",
            "     A: Pittsburgh Steelers\n",
            "\n",
            "364. Q: What comedy show runs at Pittsburgh Improv starting October 10, 2025?\n",
            "     A: La Bohème\n",
            "\n",
            "365. Q: What brewery hosts the CMU alumni network happy hour on October 15, 2025?\n",
            "     A: Con Alma\n",
            "\n",
            "366. Q: What weekly meditation session takes place on Sundays at CMU?\n",
            "     A: unanswerable\n",
            "\n",
            "367. Q: How much did Anthrocon 2024 contribute to Pittsburgh's local economy?\n",
            "     A: unanswerable\n",
            "\n",
            "368. Q: What is the name of the new hillclimb event introduced at PVGP in 2025?\n",
            "     A: COCO\n",
            "\n",
            "369. Q: When does Pittsburgh Opera perform La Bohème in 2025?\n",
            "     A: Oct 21, 2025\n",
            "\n",
            "370. Q: How many Penguins home preseason games are at PPG Paints Arena in 2025?\n",
            "     A: unknown\n",
            "\n",
            "371. Q: What is the new name of the circuit used for the 2025 PVGP races at Schenley Park?\n",
            "     A: Park Rangers - Pittsburgh, PA\n",
            "\n",
            "372. Q: What football team does Carnegie Mellon play against on November 8, 2025?\n",
            "     A: unknown\n",
            "\n",
            "373. Q: What is the minimum age to participate in the Great Race 10K?\n",
            "     A: 9\n",
            "\n",
            "374. Q: What type of cruise can you enjoy on October 15, 2025 from 12:00-2:00 PM?\n",
            "     A: Haunted River Cruise\n",
            "\n",
            "375. Q: What type of festival runs from October 9-12, 2025 at Arcade Comedy Theater?\n",
            "     A: Midwest Queer Comedy Festival\n",
            "\n",
            "376. Q: At what specific times will the Pittsburgh Symphony Orchestra perform free concerts on Light Up Night 2025?\n",
            "     A: Fri, Oct 31 - Sun,\n",
            "\n",
            "377. Q: Where is the Pittsburgh Irish Festival held?\n",
            "     A: Pittsburgh, PA\n",
            "\n",
            "378. Q: What type of event is planned for CMU alumni in Brooklyn on October 11, 2025?\n",
            "     A: unanswerable\n",
            "\n",
            "379. Q: When does A Musical Christmas Carol run at the Byham Theater?\n",
            "     A: April 13, 2024\n",
            "\n",
            "380. Q: When does Yippee Ki Yay (the Die Hard parody) run at Greer Cabaret Theater?\n",
            "     A: October 29\n",
            "\n",
            "381. Q: How many show cars are typically displayed at the PVGP International Car Show at Schenley Park?\n",
            "     A: unknown\n",
            "\n",
            "382. Q: What time do Pittsburgh Opera's Benedum Center performances start in the 2025-26 season?\n",
            "     A: unknown\n",
            "\n",
            "383. Q: Where does the Cranberry Township neighborhood luncheon take place on October 17, 2025?\n",
            "     A: Gateway Clipper Fleet 350 West\n",
            "\n",
            "384. Q: What annual food drive runs from October 1 through November 8, 2025?\n",
            "     A: Gingerbread House Competition Accepting Entries\n",
            "\n",
            "385. Q: What charity benefits from the 412 Sips & Spirits Halloween party on October 10, 2025?\n",
            "     A: unanswerable\n",
            "\n",
            "386. Q: What restaurant hosts the October neighborhood luncheon in North Fayette on October 14, 2025?\n",
            "     A: Gateway Clipper Fleet\n",
            "\n",
            "387. Q: How much has the Pittsburgh Vintage Grand Prix raised for charity since 1983?\n",
            "     A: unknown\n",
            "\n",
            "388. Q: What haunted attraction at Cresson Prison runs through November 2, 2025?\n",
            "     A: unanswerable\n",
            "\n",
            "389. Q: When does Avery Anna perform at Stage AE in Pittsburgh?\n",
            "     A: October 23, 2025\n",
            "\n",
            "390. Q: Who is featured in the CMU student experience conversation on October 21, 2025?\n",
            "     A: 143 Tartans\n",
            "\n",
            "391. Q: Which hockey team plays at Covelli Centre on October 10, 2025?\n",
            "     A: Schenley Skating Rink\n",
            "\n",
            "392. Q: What is the length of the PVGP Panther Hollow Hillclimb course?\n",
            "     A: unknown\n",
            "\n",
            "393. Q: On what specific date does Highmark Light Up Night take place in 2025?\n",
            "     A: unknown\n",
            "\n",
            "394. Q: What Irish music session takes place on the first Monday of every month?\n",
            "     A: Irish Music and Dance Sensation\n",
            "\n",
            "395. Q: What type of happy hour event is planned in Austin on October 21, 2025?\n",
            "     A: Free event, Music, Outdoor, PDP\n",
            "\n",
            "396. Q: What is the venue for the Early Bird Special comedy show on October 10, 2025?\n",
            "     A: Arcade Comedy Theater\n",
            "\n",
            "397. Q: Where can you attend Monday trivia from 7-9 PM through December 29, 2025?\n",
            "     A: unanswerable\n",
            "\n",
            "398. Q: When does Six the musical run at the Benedum Center?\n",
            "     A: Oct 7, 2025 - Oct\n",
            "\n",
            "399. Q: What type of dance competition takes place at Cohon University Center on October 11, 2025?\n",
            "     A: Garba Night 2025\n",
            "\n",
            "400. Q: What No Doubt tribute show celebrates the 30th anniversary of which album on October 10, 2025?\n",
            "     A: XX: 20th Anniversary Album\n",
            "\n"
          ]
        }
      ],
      "source": [
        "questions = [ln.strip() for ln in out_q_path.read_text(encoding=\"utf-8\").splitlines() if ln.strip()]\n",
        "pred = json.loads(out_json.read_text(encoding=\"utf-8\"))\n",
        "\n",
        "print(\"\\n--- Preview ---\")\n",
        "for i, q in enumerate(questions, start=1):\n",
        "    k = str(i)\n",
        "    print(f\"{i:>3}. Q: {q}\\n     A: {pred.get(k, '')}\\n\")"
      ]
    },
    {
      "cell_type": "markdown",
      "metadata": {
        "id": "A9wS_-MuYDLW"
      },
      "source": [
        "evaluation"
      ]
    },
    {
      "cell_type": "code",
      "execution_count": 21,
      "metadata": {
        "colab": {
          "base_uri": "https://localhost:8080/"
        },
        "id": "JeXauj_wZwUB",
        "outputId": "55b1a7ff-801f-420a-b112-334e5a6dd8be"
      },
      "outputs": [
        {
          "name": "stdout",
          "output_type": "stream",
          "text": [
            "== sparse ==\n",
            "N=240  EM=0.121  F1=0.238  non-empty=1.000  non-'unknown'=0.887\n",
            "Per-bucket:\n",
            "  cmu-facts     n= 39  EM=0.231  F1=0.323\n",
            "  events        n= 19  EM=0.053  F1=0.147\n",
            "  other         n= 22  EM=0.136  F1=0.240\n",
            "  pgh-facts     n= 68  EM=0.044  F1=0.135\n",
            "  when/date     n= 31  EM=0.129  F1=0.246\n",
            "  where/venue   n= 57  EM=0.123  F1=0.295\n",
            "  who/person    n=  4  EM=0.500  F1=0.714\n",
            "\n",
            "== dense ==\n",
            "N=240  EM=0.146  F1=0.243  non-empty=1.000  non-'unknown'=0.904\n",
            "Per-bucket:\n",
            "  cmu-facts     n= 39  EM=0.231  F1=0.332\n",
            "  events        n= 19  EM=0.105  F1=0.190\n",
            "  other         n= 22  EM=0.091  F1=0.200\n",
            "  pgh-facts     n= 68  EM=0.074  F1=0.141\n",
            "  when/date     n= 31  EM=0.129  F1=0.250\n",
            "  where/venue   n= 57  EM=0.175  F1=0.285\n",
            "  who/person    n=  4  EM=0.750  F1=0.964\n",
            "\n",
            "== hybrid ==\n",
            "N=240  EM=0.146  F1=0.259  non-empty=1.000  non-'unknown'=0.908\n",
            "Per-bucket:\n",
            "  cmu-facts     n= 39  EM=0.205  F1=0.336\n",
            "  events        n= 19  EM=0.053  F1=0.153\n",
            "  other         n= 22  EM=0.136  F1=0.249\n",
            "  pgh-facts     n= 68  EM=0.103  F1=0.163\n",
            "  when/date     n= 31  EM=0.194  F1=0.340\n",
            "  where/venue   n= 57  EM=0.140  F1=0.282\n",
            "  who/person    n=  4  EM=0.500  F1=0.714\n",
            "\n",
            "Ablation (EM/F1):\n",
            "  sparse  EM=0.121   F1=0.238\n",
            "  dense   EM=0.146   F1=0.243\n",
            "  hybrid  EM=0.146   F1=0.259\n"
          ]
        }
      ],
      "source": [
        "# =========================\n",
        "# RAG Evaluation\n",
        "# =========================\n",
        "\n",
        "import re, string, collections, math\n",
        "\n",
        "# --- Paths ---\n",
        "root = Path(\"/content/drive/MyDrive/rag-pgh\")\n",
        "q_path   = root/\"data/test/questions.txt\"\n",
        "ref_path = root/\"data/test/reference_answers.json\"\n",
        "paths = {\n",
        "    \"sparse\": root/\"data/test/system_output_sparse.json\",\n",
        "    \"dense\":  root/\"data/test/system_output_dense.json\",\n",
        "    \"hybrid\": root/\"data/test/system_output_test.json\",\n",
        "}\n",
        "\n",
        "# --- Normalization + F1 helpers ---\n",
        "def _normalize_text(s: str) -> str:\n",
        "    s = s.lower().strip()\n",
        "    s = s.translate(str.maketrans(\"\", \"\", string.punctuation))\n",
        "    return \" \".join(s.split())\n",
        "\n",
        "def _f1_single(pred: str, gold: str) -> float:\n",
        "    ptoks = _normalize_text(pred).split()\n",
        "    gtoks = _normalize_text(gold).split()\n",
        "    if not ptoks and not gtoks: return 1.0\n",
        "    if not ptoks or not gtoks:  return 0.0\n",
        "    common = collections.Counter(ptoks) & collections.Counter(gtoks)\n",
        "    num_same = sum(common.values())\n",
        "    if num_same == 0: return 0.0\n",
        "    precision = num_same / len(ptoks)\n",
        "    recall    = num_same / len(gtoks)\n",
        "    return 2 * precision * recall / (precision + recall)\n",
        "\n",
        "def _best_em_f1(pred: str, gold_variants: str):\n",
        "    variants = [g.strip() for g in gold_variants.split(\";\") if g.strip()]\n",
        "    if not variants: return 0, 0.0\n",
        "    pnorm = _normalize_text(pred)\n",
        "    best_em, best_f1 = 0, 0.0\n",
        "    for g in variants:\n",
        "        gnorm = _normalize_text(g)\n",
        "        em = int(pnorm == gnorm)\n",
        "        f1 = _f1_single(pred, g)\n",
        "        best_em = max(best_em, em)\n",
        "        best_f1 = max(best_f1, f1)\n",
        "    return best_em, best_f1\n",
        "\n",
        "# --- Buckets ---\n",
        "_MONTH = r\"(jan|feb|mar|apr|may|jun|jul|aug|sep|oct|nov|dec)\"\n",
        "_DATE  = rf\"(\\b{_MONTH}\\b|\\b{_MONTH}[a-z]*\\b|\\b\\d{{1,2}}/\\d{{1,2}}\\b|\\b\\d{{4}}\\b)\"\n",
        "_BUCKETS = {\n",
        "    \"when/date\":   re.compile(rf\"\\b(when|date|year|on)\\b|{_DATE}\", re.I),\n",
        "    \"who/person\":  re.compile(r\"\\b(who|artist|singer|performer|mayor)\\b\", re.I),\n",
        "    \"where/venue\": re.compile(r\"\\b(where|located|venue)\\b|\\b(Hall|Center|Park|Museum|Arena|Theater|Theatre|Stadium)\\b\", re.I),\n",
        "    \"events\":      re.compile(r\"\\b(event|concert|festival|show)\\b|\\bPPG\\b\", re.I),\n",
        "    \"cmu-facts\":   re.compile(r\"\\b(cmu|carnegie mellon)\\b\", re.I),\n",
        "    \"pgh-facts\":   re.compile(r\"\\b(pittsburgh)\\b\", re.I),\n",
        "}\n",
        "_BUCKET_ORDER = [\"when/date\", \"who/person\", \"where/venue\", \"events\", \"cmu-facts\", \"pgh-facts\"]\n",
        "\n",
        "def _bucket(q: str) -> str:\n",
        "    for name in _BUCKET_ORDER:\n",
        "        if _BUCKETS[name].search(q):\n",
        "            return name\n",
        "    return \"other\"\n",
        "\n",
        "# --- Evaluation function ---\n",
        "def evaluate_one(sys_path: Path):\n",
        "    questions = [ln.strip() for ln in q_path.read_text(encoding=\"utf-8\").splitlines() if ln.strip()]\n",
        "    gold = json.loads(ref_path.read_text(encoding=\"utf-8\"))\n",
        "    pred = json.loads(sys_path.read_text(encoding=\"utf-8\"))\n",
        "\n",
        "    exp = [str(i+1) for i in range(len(questions))]\n",
        "    assert list(gold.keys()) == exp, \"reference_answers.json keys must be '1'..'N'\"\n",
        "    assert list(pred.keys()) == exp, f\"{sys_path.name} keys must be '1'..'N'\"\n",
        "\n",
        "    perq = []\n",
        "    ems, f1s = [], []\n",
        "    nonempty = nonunknown = 0\n",
        "\n",
        "    for i, q in enumerate(questions, start=1):\n",
        "        k = str(i)\n",
        "        p = pred.get(k, \"\")\n",
        "        g = gold.get(k, \"\")\n",
        "        em, f1 = _best_em_f1(p, g)\n",
        "        ems.append(em); f1s.append(f1)\n",
        "        nonempty   += int(bool(p.strip()))\n",
        "        nonunknown += int(p.strip().lower() not in (\"unknown\", \"\"))\n",
        "\n",
        "        perq.append({\n",
        "            \"id\": i,\n",
        "            \"bucket\": _bucket(q),\n",
        "            \"question\": q,\n",
        "            \"pred\": p,\n",
        "            \"gold\": g,\n",
        "            \"EM\": em,\n",
        "            \"F1\": f1\n",
        "        })\n",
        "\n",
        "    EM = sum(ems)/len(ems)\n",
        "    F1 = sum(f1s)/len(f1s)\n",
        "\n",
        "    # per-bucket breakdown\n",
        "    agg = collections.defaultdict(lambda: {\"n\":0,\"EM\":0.0,\"F1\":0.0})\n",
        "    for r in perq:\n",
        "        b = r[\"bucket\"]; agg[b][\"n\"] += 1; agg[b][\"EM\"] += r[\"EM\"]; agg[b][\"F1\"] += r[\"F1\"]\n",
        "    buckets = {b: {\"n\":v[\"n\"], \"EM\": v[\"EM\"]/v[\"n\"] if v[\"n\"] else 0.0,\n",
        "                        \"F1\": v[\"F1\"]/v[\"n\"] if v[\"n\"] else 0.0}\n",
        "               for b,v in agg.items()}\n",
        "\n",
        "    return {\n",
        "        \"N\": len(questions),\n",
        "        \"EM\": EM, \"F1\": F1,\n",
        "        \"nonempty_rate\": nonempty/len(questions),\n",
        "        \"nonunknown_rate\": nonunknown/len(questions),\n",
        "        \"per_question\": perq,\n",
        "        \"per_bucket\": buckets\n",
        "    }\n",
        "\n",
        "def print_summary(name: str, r: dict):\n",
        "    print(f\"== {name} ==\")\n",
        "    print(f\"N={r['N']}  EM={r['EM']:.3f}  F1={r['F1']:.3f}  non-empty={r['nonempty_rate']:.3f}  non-'unknown'={r['nonunknown_rate']:.3f}\")\n",
        "    if r[\"per_bucket\"]:\n",
        "        print(\"Per-bucket:\")\n",
        "        for b, v in sorted(r[\"per_bucket\"].items()):\n",
        "            print(f\"  {b:12s}  n={v['n']:>3}  EM={v['EM']:.3f}  F1={v['F1']:.3f}\")\n",
        "    print()\n",
        "\n",
        "# --- Run for all retrieval types ---\n",
        "results = {}\n",
        "for name, p in paths.items():\n",
        "    if p.exists():\n",
        "        results[name] = evaluate_one(p)\n",
        "        print_summary(name, results[name])\n",
        "    else:\n",
        "        print(f\"[warn] Missing file for {name}: {p}\")\n",
        "\n",
        "# --- Simple ablation summary ---\n",
        "print(\"Ablation (EM/F1):\")\n",
        "for name in [\"sparse\", \"dense\", \"hybrid\"]:\n",
        "    if name in results:\n",
        "        print(f\"  {name:6s}  EM={results[name]['EM']:.3f}   F1={results[name]['F1']:.3f}\")\n"
      ]
    },
    {
      "cell_type": "code",
      "execution_count": 22,
      "metadata": {
        "colab": {
          "base_uri": "https://localhost:8080/"
        },
        "id": "xMLHets3aKQh",
        "outputId": "212efa34-3c4a-42d7-89aa-47dfccbec01f"
      },
      "outputs": [
        {
          "name": "stdout",
          "output_type": "stream",
          "text": [
            "\n",
            "Hybrid vs Sparse:\n",
            "  paired t-test on F1: t=0.964, p≈0.3350\n",
            "  McNemar on EM: b01=7, b10=13, chi2=1.250, p≈0.2636\n",
            "\n",
            "Hybrid vs Dense:\n",
            "  paired t-test on F1: t=0.873, p≈0.3829\n",
            "  McNemar on EM: b01=8, b10=8, chi2=0.062, p≈0.8026\n"
          ]
        }
      ],
      "source": [
        "def paired_t_test_F1(resA, resB):\n",
        "    A = [r[\"F1\"] for r in resA[\"per_question\"]]\n",
        "    B = [r[\"F1\"] for r in resB[\"per_question\"]]\n",
        "    assert len(A)==len(B)\n",
        "    diffs = [a-b for a,b in zip(A,B)]\n",
        "    n = len(diffs)\n",
        "    mean_d = sum(diffs)/n\n",
        "    var_d  = sum((d-mean_d)**2 for d in diffs)/(n-1) if n>1 else 0.0\n",
        "    se     = (var_d/n)**0.5 if n>0 else 1.0\n",
        "    t = mean_d/se if se>0 else 0.0\n",
        "    # Normal approx to p-value (fine at N>=30)\n",
        "    from math import erf, sqrt\n",
        "    p = 2*(1 - 0.5*(1+erf(abs(t)/sqrt(2))))\n",
        "    return t, p\n",
        "\n",
        "def mcnemar_EM(resA, resB):\n",
        "    A = [r[\"EM\"] for r in resA[\"per_question\"]]\n",
        "    B = [r[\"EM\"] for r in resB[\"per_question\"]]\n",
        "    b01 = sum(1 for a,b in zip(A,B) if a==0 and b==1)  # B correct, A wrong\n",
        "    b10 = sum(1 for a,b in zip(A,B) if a==1 and b==0)  # A correct, B wrong\n",
        "    # Continuity-corrected chi^2\n",
        "    chi2 = ((abs(b01-b10)-1)**2) / (b01+b10) if (b01+b10)>0 else 0.0\n",
        "    from math import erf, sqrt\n",
        "    p = 1 - erf((chi2/2)**0.5)   # chi^2(1) approx\n",
        "    return b01, b10, chi2, p\n",
        "\n",
        "if \"hybrid\" in results and \"sparse\" in results:\n",
        "    t,p = paired_t_test_F1(results[\"hybrid\"], results[\"sparse\"])\n",
        "    b01,b10,chi2,pm = mcnemar_EM(results[\"hybrid\"], results[\"sparse\"])\n",
        "    print(\"\\nHybrid vs Sparse:\")\n",
        "    print(f\"  paired t-test on F1: t={t:.3f}, p≈{p:.4f}\")\n",
        "    print(f\"  McNemar on EM: b01={b01}, b10={b10}, chi2={chi2:.3f}, p≈{pm:.4f}\")\n",
        "\n",
        "if \"hybrid\" in results and \"dense\" in results:\n",
        "    t,p = paired_t_test_F1(results[\"hybrid\"], results[\"dense\"])\n",
        "    b01,b10,chi2,pm = mcnemar_EM(results[\"hybrid\"], results[\"dense\"])\n",
        "    print(\"\\nHybrid vs Dense:\")\n",
        "    print(f\"  paired t-test on F1: t={t:.3f}, p≈{p:.4f}\")\n",
        "    print(f\"  McNemar on EM: b01={b01}, b10={b10}, chi2={chi2:.3f}, p≈{pm:.4f}\")\n"
      ]
    }
  ],
  "metadata": {
    "accelerator": "GPU",
    "colab": {
      "gpuType": "L4",
      "machine_shape": "hm",
      "provenance": []
    },
    "kernelspec": {
      "display_name": "base",
      "language": "python",
      "name": "python3"
    },
    "language_info": {
      "codemirror_mode": {
        "name": "ipython",
        "version": 3
      },
      "file_extension": ".py",
      "mimetype": "text/x-python",
      "name": "python",
      "nbconvert_exporter": "python",
      "pygments_lexer": "ipython3",
      "version": "3.12.7"
    },
    "widgets": {
      "application/vnd.jupyter.widget-state+json": {
        "01905d8806754e6f953a5094dd9c7781": {
          "model_module": "@jupyter-widgets/controls",
          "model_module_version": "1.5.0",
          "model_name": "DescriptionStyleModel",
          "state": {
            "_model_module": "@jupyter-widgets/controls",
            "_model_module_version": "1.5.0",
            "_model_name": "DescriptionStyleModel",
            "_view_count": null,
            "_view_module": "@jupyter-widgets/base",
            "_view_module_version": "1.2.0",
            "_view_name": "StyleView",
            "description_width": ""
          }
        },
        "0466f0a751d64634b917b4419006db65": {
          "model_module": "@jupyter-widgets/base",
          "model_module_version": "1.2.0",
          "model_name": "LayoutModel",
          "state": {
            "_model_module": "@jupyter-widgets/base",
            "_model_module_version": "1.2.0",
            "_model_name": "LayoutModel",
            "_view_count": null,
            "_view_module": "@jupyter-widgets/base",
            "_view_module_version": "1.2.0",
            "_view_name": "LayoutView",
            "align_content": null,
            "align_items": null,
            "align_self": null,
            "border": null,
            "bottom": null,
            "display": null,
            "flex": null,
            "flex_flow": null,
            "grid_area": null,
            "grid_auto_columns": null,
            "grid_auto_flow": null,
            "grid_auto_rows": null,
            "grid_column": null,
            "grid_gap": null,
            "grid_row": null,
            "grid_template_areas": null,
            "grid_template_columns": null,
            "grid_template_rows": null,
            "height": null,
            "justify_content": null,
            "justify_items": null,
            "left": null,
            "margin": null,
            "max_height": null,
            "max_width": null,
            "min_height": null,
            "min_width": null,
            "object_fit": null,
            "object_position": null,
            "order": null,
            "overflow": null,
            "overflow_x": null,
            "overflow_y": null,
            "padding": null,
            "right": null,
            "top": null,
            "visibility": null,
            "width": null
          }
        },
        "04ecbd5a1f9445aea41bbc409eb32379": {
          "model_module": "@jupyter-widgets/base",
          "model_module_version": "1.2.0",
          "model_name": "LayoutModel",
          "state": {
            "_model_module": "@jupyter-widgets/base",
            "_model_module_version": "1.2.0",
            "_model_name": "LayoutModel",
            "_view_count": null,
            "_view_module": "@jupyter-widgets/base",
            "_view_module_version": "1.2.0",
            "_view_name": "LayoutView",
            "align_content": null,
            "align_items": null,
            "align_self": null,
            "border": null,
            "bottom": null,
            "display": null,
            "flex": null,
            "flex_flow": null,
            "grid_area": null,
            "grid_auto_columns": null,
            "grid_auto_flow": null,
            "grid_auto_rows": null,
            "grid_column": null,
            "grid_gap": null,
            "grid_row": null,
            "grid_template_areas": null,
            "grid_template_columns": null,
            "grid_template_rows": null,
            "height": null,
            "justify_content": null,
            "justify_items": null,
            "left": null,
            "margin": null,
            "max_height": null,
            "max_width": null,
            "min_height": null,
            "min_width": null,
            "object_fit": null,
            "object_position": null,
            "order": null,
            "overflow": null,
            "overflow_x": null,
            "overflow_y": null,
            "padding": null,
            "right": null,
            "top": null,
            "visibility": null,
            "width": null
          }
        },
        "059ead11de8b4c33a3b21745f0c3dc4b": {
          "model_module": "@jupyter-widgets/controls",
          "model_module_version": "1.5.0",
          "model_name": "ProgressStyleModel",
          "state": {
            "_model_module": "@jupyter-widgets/controls",
            "_model_module_version": "1.5.0",
            "_model_name": "ProgressStyleModel",
            "_view_count": null,
            "_view_module": "@jupyter-widgets/base",
            "_view_module_version": "1.2.0",
            "_view_name": "StyleView",
            "bar_color": null,
            "description_width": ""
          }
        },
        "05cb2e277ebb411bb16117cb18423302": {
          "model_module": "@jupyter-widgets/controls",
          "model_module_version": "1.5.0",
          "model_name": "DescriptionStyleModel",
          "state": {
            "_model_module": "@jupyter-widgets/controls",
            "_model_module_version": "1.5.0",
            "_model_name": "DescriptionStyleModel",
            "_view_count": null,
            "_view_module": "@jupyter-widgets/base",
            "_view_module_version": "1.2.0",
            "_view_name": "StyleView",
            "description_width": ""
          }
        },
        "06005a7b6a614174857909c1d5efffc7": {
          "model_module": "@jupyter-widgets/controls",
          "model_module_version": "1.5.0",
          "model_name": "ProgressStyleModel",
          "state": {
            "_model_module": "@jupyter-widgets/controls",
            "_model_module_version": "1.5.0",
            "_model_name": "ProgressStyleModel",
            "_view_count": null,
            "_view_module": "@jupyter-widgets/base",
            "_view_module_version": "1.2.0",
            "_view_name": "StyleView",
            "bar_color": null,
            "description_width": ""
          }
        },
        "068a2e565da14fd98d3d8234f8a838e1": {
          "model_module": "@jupyter-widgets/controls",
          "model_module_version": "1.5.0",
          "model_name": "HTMLModel",
          "state": {
            "_dom_classes": [],
            "_model_module": "@jupyter-widgets/controls",
            "_model_module_version": "1.5.0",
            "_model_name": "HTMLModel",
            "_view_count": null,
            "_view_module": "@jupyter-widgets/controls",
            "_view_module_version": "1.5.0",
            "_view_name": "HTMLView",
            "description": "",
            "description_tooltip": null,
            "layout": "IPY_MODEL_b230b01ebaec4292b7b5e600d40762b2",
            "placeholder": "​",
            "style": "IPY_MODEL_71170f055fa6474ca8db5177c6bacd71",
            "value": " 350/350 [00:00&lt;00:00, 48.5kB/s]"
          }
        },
        "07c1469557f14a92b4bf36f913e7c384": {
          "model_module": "@jupyter-widgets/controls",
          "model_module_version": "1.5.0",
          "model_name": "HTMLModel",
          "state": {
            "_dom_classes": [],
            "_model_module": "@jupyter-widgets/controls",
            "_model_module_version": "1.5.0",
            "_model_name": "HTMLModel",
            "_view_count": null,
            "_view_module": "@jupyter-widgets/controls",
            "_view_module_version": "1.5.0",
            "_view_name": "HTMLView",
            "description": "",
            "description_tooltip": null,
            "layout": "IPY_MODEL_4b74fa6f2c434136bcdef66c25f33405",
            "placeholder": "​",
            "style": "IPY_MODEL_6ccf1e58c72f4c7a85337b58f6fb00f5",
            "value": "tokenizer.json: "
          }
        },
        "080f78f446d64769bf676560fce36ad2": {
          "model_module": "@jupyter-widgets/base",
          "model_module_version": "1.2.0",
          "model_name": "LayoutModel",
          "state": {
            "_model_module": "@jupyter-widgets/base",
            "_model_module_version": "1.2.0",
            "_model_name": "LayoutModel",
            "_view_count": null,
            "_view_module": "@jupyter-widgets/base",
            "_view_module_version": "1.2.0",
            "_view_name": "LayoutView",
            "align_content": null,
            "align_items": null,
            "align_self": null,
            "border": null,
            "bottom": null,
            "display": null,
            "flex": null,
            "flex_flow": null,
            "grid_area": null,
            "grid_auto_columns": null,
            "grid_auto_flow": null,
            "grid_auto_rows": null,
            "grid_column": null,
            "grid_gap": null,
            "grid_row": null,
            "grid_template_areas": null,
            "grid_template_columns": null,
            "grid_template_rows": null,
            "height": null,
            "justify_content": null,
            "justify_items": null,
            "left": null,
            "margin": null,
            "max_height": null,
            "max_width": null,
            "min_height": null,
            "min_width": null,
            "object_fit": null,
            "object_position": null,
            "order": null,
            "overflow": null,
            "overflow_x": null,
            "overflow_y": null,
            "padding": null,
            "right": null,
            "top": null,
            "visibility": null,
            "width": null
          }
        },
        "0837ebbaf7954b63b2318070f8da557b": {
          "model_module": "@jupyter-widgets/controls",
          "model_module_version": "1.5.0",
          "model_name": "HBoxModel",
          "state": {
            "_dom_classes": [],
            "_model_module": "@jupyter-widgets/controls",
            "_model_module_version": "1.5.0",
            "_model_name": "HBoxModel",
            "_view_count": null,
            "_view_module": "@jupyter-widgets/controls",
            "_view_module_version": "1.5.0",
            "_view_name": "HBoxView",
            "box_style": "",
            "children": [
              "IPY_MODEL_8947a5ec91514ac2b67cfabb9ec82c1b",
              "IPY_MODEL_8bb3fa205f52427c921b0096d9be5cad",
              "IPY_MODEL_ed2933195c7f4336a2692440bcbb5038"
            ],
            "layout": "IPY_MODEL_4064da1bd9934cb3ac6851a4e9020cce"
          }
        },
        "0840cd9c74ac4eba9e0ae6ecf13800ba": {
          "model_module": "@jupyter-widgets/controls",
          "model_module_version": "1.5.0",
          "model_name": "DescriptionStyleModel",
          "state": {
            "_model_module": "@jupyter-widgets/controls",
            "_model_module_version": "1.5.0",
            "_model_name": "DescriptionStyleModel",
            "_view_count": null,
            "_view_module": "@jupyter-widgets/base",
            "_view_module_version": "1.2.0",
            "_view_name": "StyleView",
            "description_width": ""
          }
        },
        "08bc769705cb4a6c94f0b88cf70b8d3d": {
          "model_module": "@jupyter-widgets/controls",
          "model_module_version": "1.5.0",
          "model_name": "DescriptionStyleModel",
          "state": {
            "_model_module": "@jupyter-widgets/controls",
            "_model_module_version": "1.5.0",
            "_model_name": "DescriptionStyleModel",
            "_view_count": null,
            "_view_module": "@jupyter-widgets/base",
            "_view_module_version": "1.2.0",
            "_view_name": "StyleView",
            "description_width": ""
          }
        },
        "0cf63b1f53834782aff820ed0d5bb4fe": {
          "model_module": "@jupyter-widgets/controls",
          "model_module_version": "1.5.0",
          "model_name": "HBoxModel",
          "state": {
            "_dom_classes": [],
            "_model_module": "@jupyter-widgets/controls",
            "_model_module_version": "1.5.0",
            "_model_name": "HBoxModel",
            "_view_count": null,
            "_view_module": "@jupyter-widgets/controls",
            "_view_module_version": "1.5.0",
            "_view_name": "HBoxView",
            "box_style": "",
            "children": [
              "IPY_MODEL_33e845dde37547e3914175483ddfa201",
              "IPY_MODEL_5995e57b254e4f88879e6d7f6cf75863",
              "IPY_MODEL_a7541caf08d541f1b76e30b049c87cb8"
            ],
            "layout": "IPY_MODEL_55a266e84ebe4d39b467999d9d0e191b"
          }
        },
        "0d34fd28d92744ed814fa6b7b8860452": {
          "model_module": "@jupyter-widgets/controls",
          "model_module_version": "1.5.0",
          "model_name": "ProgressStyleModel",
          "state": {
            "_model_module": "@jupyter-widgets/controls",
            "_model_module_version": "1.5.0",
            "_model_name": "ProgressStyleModel",
            "_view_count": null,
            "_view_module": "@jupyter-widgets/base",
            "_view_module_version": "1.2.0",
            "_view_name": "StyleView",
            "bar_color": null,
            "description_width": ""
          }
        },
        "0f9fb69e954e4b748a5292d768a8b8d8": {
          "model_module": "@jupyter-widgets/base",
          "model_module_version": "1.2.0",
          "model_name": "LayoutModel",
          "state": {
            "_model_module": "@jupyter-widgets/base",
            "_model_module_version": "1.2.0",
            "_model_name": "LayoutModel",
            "_view_count": null,
            "_view_module": "@jupyter-widgets/base",
            "_view_module_version": "1.2.0",
            "_view_name": "LayoutView",
            "align_content": null,
            "align_items": null,
            "align_self": null,
            "border": null,
            "bottom": null,
            "display": null,
            "flex": null,
            "flex_flow": null,
            "grid_area": null,
            "grid_auto_columns": null,
            "grid_auto_flow": null,
            "grid_auto_rows": null,
            "grid_column": null,
            "grid_gap": null,
            "grid_row": null,
            "grid_template_areas": null,
            "grid_template_columns": null,
            "grid_template_rows": null,
            "height": null,
            "justify_content": null,
            "justify_items": null,
            "left": null,
            "margin": null,
            "max_height": null,
            "max_width": null,
            "min_height": null,
            "min_width": null,
            "object_fit": null,
            "object_position": null,
            "order": null,
            "overflow": null,
            "overflow_x": null,
            "overflow_y": null,
            "padding": null,
            "right": null,
            "top": null,
            "visibility": null,
            "width": null
          }
        },
        "103f8c70f8d246d4b3b9509d83817a0f": {
          "model_module": "@jupyter-widgets/base",
          "model_module_version": "1.2.0",
          "model_name": "LayoutModel",
          "state": {
            "_model_module": "@jupyter-widgets/base",
            "_model_module_version": "1.2.0",
            "_model_name": "LayoutModel",
            "_view_count": null,
            "_view_module": "@jupyter-widgets/base",
            "_view_module_version": "1.2.0",
            "_view_name": "LayoutView",
            "align_content": null,
            "align_items": null,
            "align_self": null,
            "border": null,
            "bottom": null,
            "display": null,
            "flex": null,
            "flex_flow": null,
            "grid_area": null,
            "grid_auto_columns": null,
            "grid_auto_flow": null,
            "grid_auto_rows": null,
            "grid_column": null,
            "grid_gap": null,
            "grid_row": null,
            "grid_template_areas": null,
            "grid_template_columns": null,
            "grid_template_rows": null,
            "height": null,
            "justify_content": null,
            "justify_items": null,
            "left": null,
            "margin": null,
            "max_height": null,
            "max_width": null,
            "min_height": null,
            "min_width": null,
            "object_fit": null,
            "object_position": null,
            "order": null,
            "overflow": null,
            "overflow_x": null,
            "overflow_y": null,
            "padding": null,
            "right": null,
            "top": null,
            "visibility": null,
            "width": null
          }
        },
        "10689611e3dd47eaae7f9d5dbba859b8": {
          "model_module": "@jupyter-widgets/controls",
          "model_module_version": "1.5.0",
          "model_name": "DescriptionStyleModel",
          "state": {
            "_model_module": "@jupyter-widgets/controls",
            "_model_module_version": "1.5.0",
            "_model_name": "DescriptionStyleModel",
            "_view_count": null,
            "_view_module": "@jupyter-widgets/base",
            "_view_module_version": "1.2.0",
            "_view_name": "StyleView",
            "description_width": ""
          }
        },
        "11f6897129b74c509b6000528b73d40d": {
          "model_module": "@jupyter-widgets/controls",
          "model_module_version": "1.5.0",
          "model_name": "DescriptionStyleModel",
          "state": {
            "_model_module": "@jupyter-widgets/controls",
            "_model_module_version": "1.5.0",
            "_model_name": "DescriptionStyleModel",
            "_view_count": null,
            "_view_module": "@jupyter-widgets/base",
            "_view_module_version": "1.2.0",
            "_view_name": "StyleView",
            "description_width": ""
          }
        },
        "121655b9b7804d64b3a618941d11a668": {
          "model_module": "@jupyter-widgets/controls",
          "model_module_version": "1.5.0",
          "model_name": "DescriptionStyleModel",
          "state": {
            "_model_module": "@jupyter-widgets/controls",
            "_model_module_version": "1.5.0",
            "_model_name": "DescriptionStyleModel",
            "_view_count": null,
            "_view_module": "@jupyter-widgets/base",
            "_view_module_version": "1.2.0",
            "_view_name": "StyleView",
            "description_width": ""
          }
        },
        "14ed3f089e3244e78de05b780fe14fce": {
          "model_module": "@jupyter-widgets/controls",
          "model_module_version": "1.5.0",
          "model_name": "HTMLModel",
          "state": {
            "_dom_classes": [],
            "_model_module": "@jupyter-widgets/controls",
            "_model_module_version": "1.5.0",
            "_model_name": "HTMLModel",
            "_view_count": null,
            "_view_module": "@jupyter-widgets/controls",
            "_view_module_version": "1.5.0",
            "_view_name": "HTMLView",
            "description": "",
            "description_tooltip": null,
            "layout": "IPY_MODEL_2ad325374631403aba9334d9a0c03e2c",
            "placeholder": "​",
            "style": "IPY_MODEL_08bc769705cb4a6c94f0b88cf70b8d3d",
            "value": " 232k/? [00:00&lt;00:00, 11.9MB/s]"
          }
        },
        "15b458c8b9f84769ac4262ae8ea26875": {
          "model_module": "@jupyter-widgets/base",
          "model_module_version": "1.2.0",
          "model_name": "LayoutModel",
          "state": {
            "_model_module": "@jupyter-widgets/base",
            "_model_module_version": "1.2.0",
            "_model_name": "LayoutModel",
            "_view_count": null,
            "_view_module": "@jupyter-widgets/base",
            "_view_module_version": "1.2.0",
            "_view_name": "LayoutView",
            "align_content": null,
            "align_items": null,
            "align_self": null,
            "border": null,
            "bottom": null,
            "display": null,
            "flex": null,
            "flex_flow": null,
            "grid_area": null,
            "grid_auto_columns": null,
            "grid_auto_flow": null,
            "grid_auto_rows": null,
            "grid_column": null,
            "grid_gap": null,
            "grid_row": null,
            "grid_template_areas": null,
            "grid_template_columns": null,
            "grid_template_rows": null,
            "height": null,
            "justify_content": null,
            "justify_items": null,
            "left": null,
            "margin": null,
            "max_height": null,
            "max_width": null,
            "min_height": null,
            "min_width": null,
            "object_fit": null,
            "object_position": null,
            "order": null,
            "overflow": null,
            "overflow_x": null,
            "overflow_y": null,
            "padding": null,
            "right": null,
            "top": null,
            "visibility": null,
            "width": null
          }
        },
        "16d3216fdfe746f7a1675d0828c2353d": {
          "model_module": "@jupyter-widgets/base",
          "model_module_version": "1.2.0",
          "model_name": "LayoutModel",
          "state": {
            "_model_module": "@jupyter-widgets/base",
            "_model_module_version": "1.2.0",
            "_model_name": "LayoutModel",
            "_view_count": null,
            "_view_module": "@jupyter-widgets/base",
            "_view_module_version": "1.2.0",
            "_view_name": "LayoutView",
            "align_content": null,
            "align_items": null,
            "align_self": null,
            "border": null,
            "bottom": null,
            "display": null,
            "flex": null,
            "flex_flow": null,
            "grid_area": null,
            "grid_auto_columns": null,
            "grid_auto_flow": null,
            "grid_auto_rows": null,
            "grid_column": null,
            "grid_gap": null,
            "grid_row": null,
            "grid_template_areas": null,
            "grid_template_columns": null,
            "grid_template_rows": null,
            "height": null,
            "justify_content": null,
            "justify_items": null,
            "left": null,
            "margin": null,
            "max_height": null,
            "max_width": null,
            "min_height": null,
            "min_width": null,
            "object_fit": null,
            "object_position": null,
            "order": null,
            "overflow": null,
            "overflow_x": null,
            "overflow_y": null,
            "padding": null,
            "right": null,
            "top": null,
            "visibility": null,
            "width": null
          }
        },
        "16dbb3dcab6c4e8e98f791d81b523888": {
          "model_module": "@jupyter-widgets/controls",
          "model_module_version": "1.5.0",
          "model_name": "HBoxModel",
          "state": {
            "_dom_classes": [],
            "_model_module": "@jupyter-widgets/controls",
            "_model_module_version": "1.5.0",
            "_model_name": "HBoxModel",
            "_view_count": null,
            "_view_module": "@jupyter-widgets/controls",
            "_view_module_version": "1.5.0",
            "_view_name": "HBoxView",
            "box_style": "",
            "children": [
              "IPY_MODEL_56b5990c03f5456f9719fed1218a1da8",
              "IPY_MODEL_cf286c1602bd4245a1cb5693fc5c8093",
              "IPY_MODEL_14ed3f089e3244e78de05b780fe14fce"
            ],
            "layout": "IPY_MODEL_424ce06fcb1b4327a76c2346052981e8"
          }
        },
        "181ccd2342e44029a164c8e299599248": {
          "model_module": "@jupyter-widgets/controls",
          "model_module_version": "1.5.0",
          "model_name": "HBoxModel",
          "state": {
            "_dom_classes": [],
            "_model_module": "@jupyter-widgets/controls",
            "_model_module_version": "1.5.0",
            "_model_name": "HBoxModel",
            "_view_count": null,
            "_view_module": "@jupyter-widgets/controls",
            "_view_module_version": "1.5.0",
            "_view_name": "HBoxView",
            "box_style": "",
            "children": [
              "IPY_MODEL_bb6d4b345386427795e8120bf9a3208f",
              "IPY_MODEL_84962797fbbc46cdbff8d495f69b1233",
              "IPY_MODEL_068a2e565da14fd98d3d8234f8a838e1"
            ],
            "layout": "IPY_MODEL_e3272793f0c442afa7159d520bc46a28"
          }
        },
        "187ea1c43ef242289bbcb2c1a40014fb": {
          "model_module": "@jupyter-widgets/controls",
          "model_module_version": "1.5.0",
          "model_name": "ProgressStyleModel",
          "state": {
            "_model_module": "@jupyter-widgets/controls",
            "_model_module_version": "1.5.0",
            "_model_name": "ProgressStyleModel",
            "_view_count": null,
            "_view_module": "@jupyter-widgets/base",
            "_view_module_version": "1.2.0",
            "_view_name": "StyleView",
            "bar_color": null,
            "description_width": ""
          }
        },
        "19c18f658c2d4d89afc9ea9e89d2cc93": {
          "model_module": "@jupyter-widgets/controls",
          "model_module_version": "1.5.0",
          "model_name": "HBoxModel",
          "state": {
            "_dom_classes": [],
            "_model_module": "@jupyter-widgets/controls",
            "_model_module_version": "1.5.0",
            "_model_name": "HBoxModel",
            "_view_count": null,
            "_view_module": "@jupyter-widgets/controls",
            "_view_module_version": "1.5.0",
            "_view_name": "HBoxView",
            "box_style": "",
            "children": [
              "IPY_MODEL_232bd20e278b4de49c2103d1d223a873",
              "IPY_MODEL_f29da959484844bc9d6dcb761afdf27a",
              "IPY_MODEL_f0276dc2fd504893bcc00ba4f4f2fb39"
            ],
            "layout": "IPY_MODEL_ce29e018bb884d3fa4ac33025ee5e56b"
          }
        },
        "1b5eb765e7e243cdb6f6ec4ba308b363": {
          "model_module": "@jupyter-widgets/controls",
          "model_module_version": "1.5.0",
          "model_name": "DescriptionStyleModel",
          "state": {
            "_model_module": "@jupyter-widgets/controls",
            "_model_module_version": "1.5.0",
            "_model_name": "DescriptionStyleModel",
            "_view_count": null,
            "_view_module": "@jupyter-widgets/base",
            "_view_module_version": "1.2.0",
            "_view_name": "StyleView",
            "description_width": ""
          }
        },
        "1efb141b312c40dba63912d723b67f64": {
          "model_module": "@jupyter-widgets/base",
          "model_module_version": "1.2.0",
          "model_name": "LayoutModel",
          "state": {
            "_model_module": "@jupyter-widgets/base",
            "_model_module_version": "1.2.0",
            "_model_name": "LayoutModel",
            "_view_count": null,
            "_view_module": "@jupyter-widgets/base",
            "_view_module_version": "1.2.0",
            "_view_name": "LayoutView",
            "align_content": null,
            "align_items": null,
            "align_self": null,
            "border": null,
            "bottom": null,
            "display": null,
            "flex": null,
            "flex_flow": null,
            "grid_area": null,
            "grid_auto_columns": null,
            "grid_auto_flow": null,
            "grid_auto_rows": null,
            "grid_column": null,
            "grid_gap": null,
            "grid_row": null,
            "grid_template_areas": null,
            "grid_template_columns": null,
            "grid_template_rows": null,
            "height": null,
            "justify_content": null,
            "justify_items": null,
            "left": null,
            "margin": null,
            "max_height": null,
            "max_width": null,
            "min_height": null,
            "min_width": null,
            "object_fit": null,
            "object_position": null,
            "order": null,
            "overflow": null,
            "overflow_x": null,
            "overflow_y": null,
            "padding": null,
            "right": null,
            "top": null,
            "visibility": null,
            "width": null
          }
        },
        "22d7520b3a9e4a3e8afaeb8b7cca7c9f": {
          "model_module": "@jupyter-widgets/base",
          "model_module_version": "1.2.0",
          "model_name": "LayoutModel",
          "state": {
            "_model_module": "@jupyter-widgets/base",
            "_model_module_version": "1.2.0",
            "_model_name": "LayoutModel",
            "_view_count": null,
            "_view_module": "@jupyter-widgets/base",
            "_view_module_version": "1.2.0",
            "_view_name": "LayoutView",
            "align_content": null,
            "align_items": null,
            "align_self": null,
            "border": null,
            "bottom": null,
            "display": null,
            "flex": null,
            "flex_flow": null,
            "grid_area": null,
            "grid_auto_columns": null,
            "grid_auto_flow": null,
            "grid_auto_rows": null,
            "grid_column": null,
            "grid_gap": null,
            "grid_row": null,
            "grid_template_areas": null,
            "grid_template_columns": null,
            "grid_template_rows": null,
            "height": null,
            "justify_content": null,
            "justify_items": null,
            "left": null,
            "margin": null,
            "max_height": null,
            "max_width": null,
            "min_height": null,
            "min_width": null,
            "object_fit": null,
            "object_position": null,
            "order": null,
            "overflow": null,
            "overflow_x": null,
            "overflow_y": null,
            "padding": null,
            "right": null,
            "top": null,
            "visibility": null,
            "width": null
          }
        },
        "232bd20e278b4de49c2103d1d223a873": {
          "model_module": "@jupyter-widgets/controls",
          "model_module_version": "1.5.0",
          "model_name": "HTMLModel",
          "state": {
            "_dom_classes": [],
            "_model_module": "@jupyter-widgets/controls",
            "_model_module_version": "1.5.0",
            "_model_name": "HTMLModel",
            "_view_count": null,
            "_view_module": "@jupyter-widgets/controls",
            "_view_module_version": "1.5.0",
            "_view_name": "HTMLView",
            "description": "",
            "description_tooltip": null,
            "layout": "IPY_MODEL_278a5d6a42cd4ddc8d559076bd37a779",
            "placeholder": "​",
            "style": "IPY_MODEL_05cb2e277ebb411bb16117cb18423302",
            "value": "model.safetensors: 100%"
          }
        },
        "24eae5671a284479aaef233b3bdba293": {
          "model_module": "@jupyter-widgets/base",
          "model_module_version": "1.2.0",
          "model_name": "LayoutModel",
          "state": {
            "_model_module": "@jupyter-widgets/base",
            "_model_module_version": "1.2.0",
            "_model_name": "LayoutModel",
            "_view_count": null,
            "_view_module": "@jupyter-widgets/base",
            "_view_module_version": "1.2.0",
            "_view_name": "LayoutView",
            "align_content": null,
            "align_items": null,
            "align_self": null,
            "border": null,
            "bottom": null,
            "display": null,
            "flex": null,
            "flex_flow": null,
            "grid_area": null,
            "grid_auto_columns": null,
            "grid_auto_flow": null,
            "grid_auto_rows": null,
            "grid_column": null,
            "grid_gap": null,
            "grid_row": null,
            "grid_template_areas": null,
            "grid_template_columns": null,
            "grid_template_rows": null,
            "height": null,
            "justify_content": null,
            "justify_items": null,
            "left": null,
            "margin": null,
            "max_height": null,
            "max_width": null,
            "min_height": null,
            "min_width": null,
            "object_fit": null,
            "object_position": null,
            "order": null,
            "overflow": null,
            "overflow_x": null,
            "overflow_y": null,
            "padding": null,
            "right": null,
            "top": null,
            "visibility": null,
            "width": "20px"
          }
        },
        "2563636448364378b1a58a4f99dbddb0": {
          "model_module": "@jupyter-widgets/controls",
          "model_module_version": "1.5.0",
          "model_name": "HTMLModel",
          "state": {
            "_dom_classes": [],
            "_model_module": "@jupyter-widgets/controls",
            "_model_module_version": "1.5.0",
            "_model_name": "HTMLModel",
            "_view_count": null,
            "_view_module": "@jupyter-widgets/controls",
            "_view_module_version": "1.5.0",
            "_view_name": "HTMLView",
            "description": "",
            "description_tooltip": null,
            "layout": "IPY_MODEL_eb54c8df9290490cae904dd4574c9622",
            "placeholder": "​",
            "style": "IPY_MODEL_34772812fedf4c22934835194f7ce8a0",
            "value": "spiece.model: 100%"
          }
        },
        "278a5d6a42cd4ddc8d559076bd37a779": {
          "model_module": "@jupyter-widgets/base",
          "model_module_version": "1.2.0",
          "model_name": "LayoutModel",
          "state": {
            "_model_module": "@jupyter-widgets/base",
            "_model_module_version": "1.2.0",
            "_model_name": "LayoutModel",
            "_view_count": null,
            "_view_module": "@jupyter-widgets/base",
            "_view_module_version": "1.2.0",
            "_view_name": "LayoutView",
            "align_content": null,
            "align_items": null,
            "align_self": null,
            "border": null,
            "bottom": null,
            "display": null,
            "flex": null,
            "flex_flow": null,
            "grid_area": null,
            "grid_auto_columns": null,
            "grid_auto_flow": null,
            "grid_auto_rows": null,
            "grid_column": null,
            "grid_gap": null,
            "grid_row": null,
            "grid_template_areas": null,
            "grid_template_columns": null,
            "grid_template_rows": null,
            "height": null,
            "justify_content": null,
            "justify_items": null,
            "left": null,
            "margin": null,
            "max_height": null,
            "max_width": null,
            "min_height": null,
            "min_width": null,
            "object_fit": null,
            "object_position": null,
            "order": null,
            "overflow": null,
            "overflow_x": null,
            "overflow_y": null,
            "padding": null,
            "right": null,
            "top": null,
            "visibility": null,
            "width": null
          }
        },
        "28815b608d2d43c39f183870775ec96a": {
          "model_module": "@jupyter-widgets/controls",
          "model_module_version": "1.5.0",
          "model_name": "HBoxModel",
          "state": {
            "_dom_classes": [],
            "_model_module": "@jupyter-widgets/controls",
            "_model_module_version": "1.5.0",
            "_model_name": "HBoxModel",
            "_view_count": null,
            "_view_module": "@jupyter-widgets/controls",
            "_view_module_version": "1.5.0",
            "_view_name": "HBoxView",
            "box_style": "",
            "children": [
              "IPY_MODEL_2dc7afc3e1094d308e0973a82c9cd030",
              "IPY_MODEL_b31380d5ad3a4b639b849c3f795397e0",
              "IPY_MODEL_bfb2a64e8ab3482db003a43e94d8f62f"
            ],
            "layout": "IPY_MODEL_d78101abfce143918fee8fea7137f00e"
          }
        },
        "2966c74e68ec4db28a5e3a9104051d32": {
          "model_module": "@jupyter-widgets/controls",
          "model_module_version": "1.5.0",
          "model_name": "FloatProgressModel",
          "state": {
            "_dom_classes": [],
            "_model_module": "@jupyter-widgets/controls",
            "_model_module_version": "1.5.0",
            "_model_name": "FloatProgressModel",
            "_view_count": null,
            "_view_module": "@jupyter-widgets/controls",
            "_view_module_version": "1.5.0",
            "_view_name": "ProgressView",
            "bar_style": "success",
            "description": "",
            "description_tooltip": null,
            "layout": "IPY_MODEL_7825d92d937e4b458fc92ce50c276af2",
            "max": 147,
            "min": 0,
            "orientation": "horizontal",
            "style": "IPY_MODEL_546b27f78ed44dce9feb8298a23fee60",
            "value": 147
          }
        },
        "2acac88d9b7a47358f46960f37d5d2eb": {
          "model_module": "@jupyter-widgets/base",
          "model_module_version": "1.2.0",
          "model_name": "LayoutModel",
          "state": {
            "_model_module": "@jupyter-widgets/base",
            "_model_module_version": "1.2.0",
            "_model_name": "LayoutModel",
            "_view_count": null,
            "_view_module": "@jupyter-widgets/base",
            "_view_module_version": "1.2.0",
            "_view_name": "LayoutView",
            "align_content": null,
            "align_items": null,
            "align_self": null,
            "border": null,
            "bottom": null,
            "display": null,
            "flex": null,
            "flex_flow": null,
            "grid_area": null,
            "grid_auto_columns": null,
            "grid_auto_flow": null,
            "grid_auto_rows": null,
            "grid_column": null,
            "grid_gap": null,
            "grid_row": null,
            "grid_template_areas": null,
            "grid_template_columns": null,
            "grid_template_rows": null,
            "height": null,
            "justify_content": null,
            "justify_items": null,
            "left": null,
            "margin": null,
            "max_height": null,
            "max_width": null,
            "min_height": null,
            "min_width": null,
            "object_fit": null,
            "object_position": null,
            "order": null,
            "overflow": null,
            "overflow_x": null,
            "overflow_y": null,
            "padding": null,
            "right": null,
            "top": null,
            "visibility": null,
            "width": null
          }
        },
        "2ad325374631403aba9334d9a0c03e2c": {
          "model_module": "@jupyter-widgets/base",
          "model_module_version": "1.2.0",
          "model_name": "LayoutModel",
          "state": {
            "_model_module": "@jupyter-widgets/base",
            "_model_module_version": "1.2.0",
            "_model_name": "LayoutModel",
            "_view_count": null,
            "_view_module": "@jupyter-widgets/base",
            "_view_module_version": "1.2.0",
            "_view_name": "LayoutView",
            "align_content": null,
            "align_items": null,
            "align_self": null,
            "border": null,
            "bottom": null,
            "display": null,
            "flex": null,
            "flex_flow": null,
            "grid_area": null,
            "grid_auto_columns": null,
            "grid_auto_flow": null,
            "grid_auto_rows": null,
            "grid_column": null,
            "grid_gap": null,
            "grid_row": null,
            "grid_template_areas": null,
            "grid_template_columns": null,
            "grid_template_rows": null,
            "height": null,
            "justify_content": null,
            "justify_items": null,
            "left": null,
            "margin": null,
            "max_height": null,
            "max_width": null,
            "min_height": null,
            "min_width": null,
            "object_fit": null,
            "object_position": null,
            "order": null,
            "overflow": null,
            "overflow_x": null,
            "overflow_y": null,
            "padding": null,
            "right": null,
            "top": null,
            "visibility": null,
            "width": null
          }
        },
        "2ad72911a5784415bc707de099b9348d": {
          "model_module": "@jupyter-widgets/controls",
          "model_module_version": "1.5.0",
          "model_name": "HTMLModel",
          "state": {
            "_dom_classes": [],
            "_model_module": "@jupyter-widgets/controls",
            "_model_module_version": "1.5.0",
            "_model_name": "HTMLModel",
            "_view_count": null,
            "_view_module": "@jupyter-widgets/controls",
            "_view_module_version": "1.5.0",
            "_view_name": "HTMLView",
            "description": "",
            "description_tooltip": null,
            "layout": "IPY_MODEL_a1d2f05aa0314725abce3d71d6260255",
            "placeholder": "​",
            "style": "IPY_MODEL_6b68fcb5bbaf4c6ca34553ffeac8cf3e",
            "value": " 10.5k/? [00:00&lt;00:00, 1.35MB/s]"
          }
        },
        "2dc7afc3e1094d308e0973a82c9cd030": {
          "model_module": "@jupyter-widgets/controls",
          "model_module_version": "1.5.0",
          "model_name": "HTMLModel",
          "state": {
            "_dom_classes": [],
            "_model_module": "@jupyter-widgets/controls",
            "_model_module_version": "1.5.0",
            "_model_name": "HTMLModel",
            "_view_count": null,
            "_view_module": "@jupyter-widgets/controls",
            "_view_module_version": "1.5.0",
            "_view_name": "HTMLView",
            "description": "",
            "description_tooltip": null,
            "layout": "IPY_MODEL_af449b969ceb4bb1822a365a2085203a",
            "placeholder": "​",
            "style": "IPY_MODEL_900690eaa7a2412c80f35aa80e9f4265",
            "value": "model.safetensors: 100%"
          }
        },
        "2f1825da191d4350a39fefc0effcedc0": {
          "model_module": "@jupyter-widgets/controls",
          "model_module_version": "1.5.0",
          "model_name": "DescriptionStyleModel",
          "state": {
            "_model_module": "@jupyter-widgets/controls",
            "_model_module_version": "1.5.0",
            "_model_name": "DescriptionStyleModel",
            "_view_count": null,
            "_view_module": "@jupyter-widgets/base",
            "_view_module_version": "1.2.0",
            "_view_name": "StyleView",
            "description_width": ""
          }
        },
        "2fb4092ad2f341d5a0e377cb298c2c57": {
          "model_module": "@jupyter-widgets/base",
          "model_module_version": "1.2.0",
          "model_name": "LayoutModel",
          "state": {
            "_model_module": "@jupyter-widgets/base",
            "_model_module_version": "1.2.0",
            "_model_name": "LayoutModel",
            "_view_count": null,
            "_view_module": "@jupyter-widgets/base",
            "_view_module_version": "1.2.0",
            "_view_name": "LayoutView",
            "align_content": null,
            "align_items": null,
            "align_self": null,
            "border": null,
            "bottom": null,
            "display": null,
            "flex": null,
            "flex_flow": null,
            "grid_area": null,
            "grid_auto_columns": null,
            "grid_auto_flow": null,
            "grid_auto_rows": null,
            "grid_column": null,
            "grid_gap": null,
            "grid_row": null,
            "grid_template_areas": null,
            "grid_template_columns": null,
            "grid_template_rows": null,
            "height": null,
            "justify_content": null,
            "justify_items": null,
            "left": null,
            "margin": null,
            "max_height": null,
            "max_width": null,
            "min_height": null,
            "min_width": null,
            "object_fit": null,
            "object_position": null,
            "order": null,
            "overflow": null,
            "overflow_x": null,
            "overflow_y": null,
            "padding": null,
            "right": null,
            "top": null,
            "visibility": null,
            "width": null
          }
        },
        "308896670f014bdb8fc2c71fab0957d3": {
          "model_module": "@jupyter-widgets/controls",
          "model_module_version": "1.5.0",
          "model_name": "FloatProgressModel",
          "state": {
            "_dom_classes": [],
            "_model_module": "@jupyter-widgets/controls",
            "_model_module_version": "1.5.0",
            "_model_name": "FloatProgressModel",
            "_view_count": null,
            "_view_module": "@jupyter-widgets/controls",
            "_view_module_version": "1.5.0",
            "_view_name": "ProgressView",
            "bar_style": "success",
            "description": "",
            "description_tooltip": null,
            "layout": "IPY_MODEL_6559435eb0a743158204cb137a43a2d1",
            "max": 1,
            "min": 0,
            "orientation": "horizontal",
            "style": "IPY_MODEL_9365a2ca0b7d4479a6feb5fb06dc9bb3",
            "value": 1
          }
        },
        "30deaa28a3d14bb885b1559968d81e4f": {
          "model_module": "@jupyter-widgets/controls",
          "model_module_version": "1.5.0",
          "model_name": "HBoxModel",
          "state": {
            "_dom_classes": [],
            "_model_module": "@jupyter-widgets/controls",
            "_model_module_version": "1.5.0",
            "_model_name": "HBoxModel",
            "_view_count": null,
            "_view_module": "@jupyter-widgets/controls",
            "_view_module_version": "1.5.0",
            "_view_name": "HBoxView",
            "box_style": "",
            "children": [
              "IPY_MODEL_84bdd8e2684047608277e59ef1e53f08",
              "IPY_MODEL_4479972678344badb3af55b2c4da0e2f",
              "IPY_MODEL_fb52983ea2754f978225be48909a08e1"
            ],
            "layout": "IPY_MODEL_e5bf95ee01654549924bd323c30f482b"
          }
        },
        "3173617e3eb84b099c20bf97d1c34941": {
          "model_module": "@jupyter-widgets/controls",
          "model_module_version": "1.5.0",
          "model_name": "HTMLModel",
          "state": {
            "_dom_classes": [],
            "_model_module": "@jupyter-widgets/controls",
            "_model_module_version": "1.5.0",
            "_model_name": "HTMLModel",
            "_view_count": null,
            "_view_module": "@jupyter-widgets/controls",
            "_view_module_version": "1.5.0",
            "_view_name": "HTMLView",
            "description": "",
            "description_tooltip": null,
            "layout": "IPY_MODEL_04ecbd5a1f9445aea41bbc409eb32379",
            "placeholder": "​",
            "style": "IPY_MODEL_cf4c79ccbde942559aa12d8cbc0d1998",
            "value": "sentence_bert_config.json: 100%"
          }
        },
        "33e845dde37547e3914175483ddfa201": {
          "model_module": "@jupyter-widgets/controls",
          "model_module_version": "1.5.0",
          "model_name": "HTMLModel",
          "state": {
            "_dom_classes": [],
            "_model_module": "@jupyter-widgets/controls",
            "_model_module_version": "1.5.0",
            "_model_name": "HTMLModel",
            "_view_count": null,
            "_view_module": "@jupyter-widgets/controls",
            "_view_module_version": "1.5.0",
            "_view_name": "HTMLView",
            "description": "",
            "description_tooltip": null,
            "layout": "IPY_MODEL_74b093607a7640bab5ec623082ee1d5d",
            "placeholder": "​",
            "style": "IPY_MODEL_40d901ae974f4c36b6bd0c8ebe612601",
            "value": "config.json: 100%"
          }
        },
        "34772812fedf4c22934835194f7ce8a0": {
          "model_module": "@jupyter-widgets/controls",
          "model_module_version": "1.5.0",
          "model_name": "DescriptionStyleModel",
          "state": {
            "_model_module": "@jupyter-widgets/controls",
            "_model_module_version": "1.5.0",
            "_model_name": "DescriptionStyleModel",
            "_view_count": null,
            "_view_module": "@jupyter-widgets/base",
            "_view_module_version": "1.2.0",
            "_view_name": "StyleView",
            "description_width": ""
          }
        },
        "3b442da9b0fe426b96fd90bf40f89c2c": {
          "model_module": "@jupyter-widgets/base",
          "model_module_version": "1.2.0",
          "model_name": "LayoutModel",
          "state": {
            "_model_module": "@jupyter-widgets/base",
            "_model_module_version": "1.2.0",
            "_model_name": "LayoutModel",
            "_view_count": null,
            "_view_module": "@jupyter-widgets/base",
            "_view_module_version": "1.2.0",
            "_view_name": "LayoutView",
            "align_content": null,
            "align_items": null,
            "align_self": null,
            "border": null,
            "bottom": null,
            "display": null,
            "flex": null,
            "flex_flow": null,
            "grid_area": null,
            "grid_auto_columns": null,
            "grid_auto_flow": null,
            "grid_auto_rows": null,
            "grid_column": null,
            "grid_gap": null,
            "grid_row": null,
            "grid_template_areas": null,
            "grid_template_columns": null,
            "grid_template_rows": null,
            "height": null,
            "justify_content": null,
            "justify_items": null,
            "left": null,
            "margin": null,
            "max_height": null,
            "max_width": null,
            "min_height": null,
            "min_width": null,
            "object_fit": null,
            "object_position": null,
            "order": null,
            "overflow": null,
            "overflow_x": null,
            "overflow_y": null,
            "padding": null,
            "right": null,
            "top": null,
            "visibility": null,
            "width": null
          }
        },
        "3dd62f79240b42db8a2c1a87b434d0f7": {
          "model_module": "@jupyter-widgets/controls",
          "model_module_version": "1.5.0",
          "model_name": "DescriptionStyleModel",
          "state": {
            "_model_module": "@jupyter-widgets/controls",
            "_model_module_version": "1.5.0",
            "_model_name": "DescriptionStyleModel",
            "_view_count": null,
            "_view_module": "@jupyter-widgets/base",
            "_view_module_version": "1.2.0",
            "_view_name": "StyleView",
            "description_width": ""
          }
        },
        "3dfd82c726524ddb87b2e4f071ce45b5": {
          "model_module": "@jupyter-widgets/base",
          "model_module_version": "1.2.0",
          "model_name": "LayoutModel",
          "state": {
            "_model_module": "@jupyter-widgets/base",
            "_model_module_version": "1.2.0",
            "_model_name": "LayoutModel",
            "_view_count": null,
            "_view_module": "@jupyter-widgets/base",
            "_view_module_version": "1.2.0",
            "_view_name": "LayoutView",
            "align_content": null,
            "align_items": null,
            "align_self": null,
            "border": null,
            "bottom": null,
            "display": null,
            "flex": null,
            "flex_flow": null,
            "grid_area": null,
            "grid_auto_columns": null,
            "grid_auto_flow": null,
            "grid_auto_rows": null,
            "grid_column": null,
            "grid_gap": null,
            "grid_row": null,
            "grid_template_areas": null,
            "grid_template_columns": null,
            "grid_template_rows": null,
            "height": null,
            "justify_content": null,
            "justify_items": null,
            "left": null,
            "margin": null,
            "max_height": null,
            "max_width": null,
            "min_height": null,
            "min_width": null,
            "object_fit": null,
            "object_position": null,
            "order": null,
            "overflow": null,
            "overflow_x": null,
            "overflow_y": null,
            "padding": null,
            "right": null,
            "top": null,
            "visibility": null,
            "width": null
          }
        },
        "3e57cac9ba0b447eac56d54a965191fc": {
          "model_module": "@jupyter-widgets/controls",
          "model_module_version": "1.5.0",
          "model_name": "HTMLModel",
          "state": {
            "_dom_classes": [],
            "_model_module": "@jupyter-widgets/controls",
            "_model_module_version": "1.5.0",
            "_model_name": "HTMLModel",
            "_view_count": null,
            "_view_module": "@jupyter-widgets/controls",
            "_view_module_version": "1.5.0",
            "_view_name": "HTMLView",
            "description": "",
            "description_tooltip": null,
            "layout": "IPY_MODEL_0f9fb69e954e4b748a5292d768a8b8d8",
            "placeholder": "​",
            "style": "IPY_MODEL_1b5eb765e7e243cdb6f6ec4ba308b363",
            "value": " 2.42M/? [00:00&lt;00:00, 78.5MB/s]"
          }
        },
        "4064da1bd9934cb3ac6851a4e9020cce": {
          "model_module": "@jupyter-widgets/base",
          "model_module_version": "1.2.0",
          "model_name": "LayoutModel",
          "state": {
            "_model_module": "@jupyter-widgets/base",
            "_model_module_version": "1.2.0",
            "_model_name": "LayoutModel",
            "_view_count": null,
            "_view_module": "@jupyter-widgets/base",
            "_view_module_version": "1.2.0",
            "_view_name": "LayoutView",
            "align_content": null,
            "align_items": null,
            "align_self": null,
            "border": null,
            "bottom": null,
            "display": null,
            "flex": null,
            "flex_flow": null,
            "grid_area": null,
            "grid_auto_columns": null,
            "grid_auto_flow": null,
            "grid_auto_rows": null,
            "grid_column": null,
            "grid_gap": null,
            "grid_row": null,
            "grid_template_areas": null,
            "grid_template_columns": null,
            "grid_template_rows": null,
            "height": null,
            "justify_content": null,
            "justify_items": null,
            "left": null,
            "margin": null,
            "max_height": null,
            "max_width": null,
            "min_height": null,
            "min_width": null,
            "object_fit": null,
            "object_position": null,
            "order": null,
            "overflow": null,
            "overflow_x": null,
            "overflow_y": null,
            "padding": null,
            "right": null,
            "top": null,
            "visibility": null,
            "width": null
          }
        },
        "40d901ae974f4c36b6bd0c8ebe612601": {
          "model_module": "@jupyter-widgets/controls",
          "model_module_version": "1.5.0",
          "model_name": "DescriptionStyleModel",
          "state": {
            "_model_module": "@jupyter-widgets/controls",
            "_model_module_version": "1.5.0",
            "_model_name": "DescriptionStyleModel",
            "_view_count": null,
            "_view_module": "@jupyter-widgets/base",
            "_view_module_version": "1.2.0",
            "_view_name": "StyleView",
            "description_width": ""
          }
        },
        "410af1d25cf34d0985a89b7f2bee17e1": {
          "model_module": "@jupyter-widgets/controls",
          "model_module_version": "1.5.0",
          "model_name": "HTMLModel",
          "state": {
            "_dom_classes": [],
            "_model_module": "@jupyter-widgets/controls",
            "_model_module_version": "1.5.0",
            "_model_name": "HTMLModel",
            "_view_count": null,
            "_view_module": "@jupyter-widgets/controls",
            "_view_module_version": "1.5.0",
            "_view_name": "HTMLView",
            "description": "",
            "description_tooltip": null,
            "layout": "IPY_MODEL_0466f0a751d64634b917b4419006db65",
            "placeholder": "​",
            "style": "IPY_MODEL_10689611e3dd47eaae7f9d5dbba859b8",
            "value": "Batches: 100%"
          }
        },
        "41d6341cd7814b21a655c9108d3c3fc2": {
          "model_module": "@jupyter-widgets/base",
          "model_module_version": "1.2.0",
          "model_name": "LayoutModel",
          "state": {
            "_model_module": "@jupyter-widgets/base",
            "_model_module_version": "1.2.0",
            "_model_name": "LayoutModel",
            "_view_count": null,
            "_view_module": "@jupyter-widgets/base",
            "_view_module_version": "1.2.0",
            "_view_name": "LayoutView",
            "align_content": null,
            "align_items": null,
            "align_self": null,
            "border": null,
            "bottom": null,
            "display": null,
            "flex": null,
            "flex_flow": null,
            "grid_area": null,
            "grid_auto_columns": null,
            "grid_auto_flow": null,
            "grid_auto_rows": null,
            "grid_column": null,
            "grid_gap": null,
            "grid_row": null,
            "grid_template_areas": null,
            "grid_template_columns": null,
            "grid_template_rows": null,
            "height": null,
            "justify_content": null,
            "justify_items": null,
            "left": null,
            "margin": null,
            "max_height": null,
            "max_width": null,
            "min_height": null,
            "min_width": null,
            "object_fit": null,
            "object_position": null,
            "order": null,
            "overflow": null,
            "overflow_x": null,
            "overflow_y": null,
            "padding": null,
            "right": null,
            "top": null,
            "visibility": null,
            "width": "20px"
          }
        },
        "424ce06fcb1b4327a76c2346052981e8": {
          "model_module": "@jupyter-widgets/base",
          "model_module_version": "1.2.0",
          "model_name": "LayoutModel",
          "state": {
            "_model_module": "@jupyter-widgets/base",
            "_model_module_version": "1.2.0",
            "_model_name": "LayoutModel",
            "_view_count": null,
            "_view_module": "@jupyter-widgets/base",
            "_view_module_version": "1.2.0",
            "_view_name": "LayoutView",
            "align_content": null,
            "align_items": null,
            "align_self": null,
            "border": null,
            "bottom": null,
            "display": null,
            "flex": null,
            "flex_flow": null,
            "grid_area": null,
            "grid_auto_columns": null,
            "grid_auto_flow": null,
            "grid_auto_rows": null,
            "grid_column": null,
            "grid_gap": null,
            "grid_row": null,
            "grid_template_areas": null,
            "grid_template_columns": null,
            "grid_template_rows": null,
            "height": null,
            "justify_content": null,
            "justify_items": null,
            "left": null,
            "margin": null,
            "max_height": null,
            "max_width": null,
            "min_height": null,
            "min_width": null,
            "object_fit": null,
            "object_position": null,
            "order": null,
            "overflow": null,
            "overflow_x": null,
            "overflow_y": null,
            "padding": null,
            "right": null,
            "top": null,
            "visibility": null,
            "width": null
          }
        },
        "43c6c3e98cf6499d9c1bc8807ff18e3a": {
          "model_module": "@jupyter-widgets/base",
          "model_module_version": "1.2.0",
          "model_name": "LayoutModel",
          "state": {
            "_model_module": "@jupyter-widgets/base",
            "_model_module_version": "1.2.0",
            "_model_name": "LayoutModel",
            "_view_count": null,
            "_view_module": "@jupyter-widgets/base",
            "_view_module_version": "1.2.0",
            "_view_name": "LayoutView",
            "align_content": null,
            "align_items": null,
            "align_self": null,
            "border": null,
            "bottom": null,
            "display": null,
            "flex": null,
            "flex_flow": null,
            "grid_area": null,
            "grid_auto_columns": null,
            "grid_auto_flow": null,
            "grid_auto_rows": null,
            "grid_column": null,
            "grid_gap": null,
            "grid_row": null,
            "grid_template_areas": null,
            "grid_template_columns": null,
            "grid_template_rows": null,
            "height": null,
            "justify_content": null,
            "justify_items": null,
            "left": null,
            "margin": null,
            "max_height": null,
            "max_width": null,
            "min_height": null,
            "min_width": null,
            "object_fit": null,
            "object_position": null,
            "order": null,
            "overflow": null,
            "overflow_x": null,
            "overflow_y": null,
            "padding": null,
            "right": null,
            "top": null,
            "visibility": null,
            "width": null
          }
        },
        "4479972678344badb3af55b2c4da0e2f": {
          "model_module": "@jupyter-widgets/controls",
          "model_module_version": "1.5.0",
          "model_name": "FloatProgressModel",
          "state": {
            "_dom_classes": [],
            "_model_module": "@jupyter-widgets/controls",
            "_model_module_version": "1.5.0",
            "_model_name": "FloatProgressModel",
            "_view_count": null,
            "_view_module": "@jupyter-widgets/controls",
            "_view_module_version": "1.5.0",
            "_view_name": "ProgressView",
            "bar_style": "success",
            "description": "",
            "description_tooltip": null,
            "layout": "IPY_MODEL_939b0755f1044347b7719bec39421d64",
            "max": 116,
            "min": 0,
            "orientation": "horizontal",
            "style": "IPY_MODEL_4db6e338a7de41c480de953aa4c7e155",
            "value": 116
          }
        },
        "471de197d0e04d42a3db5f6633d0718b": {
          "model_module": "@jupyter-widgets/controls",
          "model_module_version": "1.5.0",
          "model_name": "HTMLModel",
          "state": {
            "_dom_classes": [],
            "_model_module": "@jupyter-widgets/controls",
            "_model_module_version": "1.5.0",
            "_model_name": "HTMLModel",
            "_view_count": null,
            "_view_module": "@jupyter-widgets/controls",
            "_view_module_version": "1.5.0",
            "_view_name": "HTMLView",
            "description": "",
            "description_tooltip": null,
            "layout": "IPY_MODEL_080f78f446d64769bf676560fce36ad2",
            "placeholder": "​",
            "style": "IPY_MODEL_e758ed15a7c246db9619750429dc6012",
            "value": " 2.20k/? [00:00&lt;00:00, 302kB/s]"
          }
        },
        "479899f6df8c4c448c3723e65c730377": {
          "model_module": "@jupyter-widgets/controls",
          "model_module_version": "1.5.0",
          "model_name": "FloatProgressModel",
          "state": {
            "_dom_classes": [],
            "_model_module": "@jupyter-widgets/controls",
            "_model_module_version": "1.5.0",
            "_model_name": "FloatProgressModel",
            "_view_count": null,
            "_view_module": "@jupyter-widgets/controls",
            "_view_module_version": "1.5.0",
            "_view_name": "ProgressView",
            "bar_style": "success",
            "description": "",
            "description_tooltip": null,
            "layout": "IPY_MODEL_1efb141b312c40dba63912d723b67f64",
            "max": 791656,
            "min": 0,
            "orientation": "horizontal",
            "style": "IPY_MODEL_5796ce0428654b018bb81e42751d1859",
            "value": 791656
          }
        },
        "4b38d31ae87144a89db3b3bd73094c99": {
          "model_module": "@jupyter-widgets/base",
          "model_module_version": "1.2.0",
          "model_name": "LayoutModel",
          "state": {
            "_model_module": "@jupyter-widgets/base",
            "_model_module_version": "1.2.0",
            "_model_name": "LayoutModel",
            "_view_count": null,
            "_view_module": "@jupyter-widgets/base",
            "_view_module_version": "1.2.0",
            "_view_name": "LayoutView",
            "align_content": null,
            "align_items": null,
            "align_self": null,
            "border": null,
            "bottom": null,
            "display": null,
            "flex": null,
            "flex_flow": null,
            "grid_area": null,
            "grid_auto_columns": null,
            "grid_auto_flow": null,
            "grid_auto_rows": null,
            "grid_column": null,
            "grid_gap": null,
            "grid_row": null,
            "grid_template_areas": null,
            "grid_template_columns": null,
            "grid_template_rows": null,
            "height": null,
            "justify_content": null,
            "justify_items": null,
            "left": null,
            "margin": null,
            "max_height": null,
            "max_width": null,
            "min_height": null,
            "min_width": null,
            "object_fit": null,
            "object_position": null,
            "order": null,
            "overflow": null,
            "overflow_x": null,
            "overflow_y": null,
            "padding": null,
            "right": null,
            "top": null,
            "visibility": null,
            "width": null
          }
        },
        "4b74fa6f2c434136bcdef66c25f33405": {
          "model_module": "@jupyter-widgets/base",
          "model_module_version": "1.2.0",
          "model_name": "LayoutModel",
          "state": {
            "_model_module": "@jupyter-widgets/base",
            "_model_module_version": "1.2.0",
            "_model_name": "LayoutModel",
            "_view_count": null,
            "_view_module": "@jupyter-widgets/base",
            "_view_module_version": "1.2.0",
            "_view_name": "LayoutView",
            "align_content": null,
            "align_items": null,
            "align_self": null,
            "border": null,
            "bottom": null,
            "display": null,
            "flex": null,
            "flex_flow": null,
            "grid_area": null,
            "grid_auto_columns": null,
            "grid_auto_flow": null,
            "grid_auto_rows": null,
            "grid_column": null,
            "grid_gap": null,
            "grid_row": null,
            "grid_template_areas": null,
            "grid_template_columns": null,
            "grid_template_rows": null,
            "height": null,
            "justify_content": null,
            "justify_items": null,
            "left": null,
            "margin": null,
            "max_height": null,
            "max_width": null,
            "min_height": null,
            "min_width": null,
            "object_fit": null,
            "object_position": null,
            "order": null,
            "overflow": null,
            "overflow_x": null,
            "overflow_y": null,
            "padding": null,
            "right": null,
            "top": null,
            "visibility": null,
            "width": null
          }
        },
        "4bbfc200de60491b9c8def5e92af64cd": {
          "model_module": "@jupyter-widgets/controls",
          "model_module_version": "1.5.0",
          "model_name": "HBoxModel",
          "state": {
            "_dom_classes": [],
            "_model_module": "@jupyter-widgets/controls",
            "_model_module_version": "1.5.0",
            "_model_name": "HBoxModel",
            "_view_count": null,
            "_view_module": "@jupyter-widgets/controls",
            "_view_module_version": "1.5.0",
            "_view_name": "HBoxView",
            "box_style": "",
            "children": [
              "IPY_MODEL_6da399c48b6f4a7789a83ca1f629f8c7",
              "IPY_MODEL_f1a955f3d96040c584246eef27f58c97",
              "IPY_MODEL_57d764d43bb049f39711d268a000e8ba"
            ],
            "layout": "IPY_MODEL_fd9d9003d8774acb8af10b7521808517"
          }
        },
        "4c8ad9c89ec54ad39a9486e4b092ef4c": {
          "model_module": "@jupyter-widgets/base",
          "model_module_version": "1.2.0",
          "model_name": "LayoutModel",
          "state": {
            "_model_module": "@jupyter-widgets/base",
            "_model_module_version": "1.2.0",
            "_model_name": "LayoutModel",
            "_view_count": null,
            "_view_module": "@jupyter-widgets/base",
            "_view_module_version": "1.2.0",
            "_view_name": "LayoutView",
            "align_content": null,
            "align_items": null,
            "align_self": null,
            "border": null,
            "bottom": null,
            "display": null,
            "flex": null,
            "flex_flow": null,
            "grid_area": null,
            "grid_auto_columns": null,
            "grid_auto_flow": null,
            "grid_auto_rows": null,
            "grid_column": null,
            "grid_gap": null,
            "grid_row": null,
            "grid_template_areas": null,
            "grid_template_columns": null,
            "grid_template_rows": null,
            "height": null,
            "justify_content": null,
            "justify_items": null,
            "left": null,
            "margin": null,
            "max_height": null,
            "max_width": null,
            "min_height": null,
            "min_width": null,
            "object_fit": null,
            "object_position": null,
            "order": null,
            "overflow": null,
            "overflow_x": null,
            "overflow_y": null,
            "padding": null,
            "right": null,
            "top": null,
            "visibility": null,
            "width": null
          }
        },
        "4db6e338a7de41c480de953aa4c7e155": {
          "model_module": "@jupyter-widgets/controls",
          "model_module_version": "1.5.0",
          "model_name": "ProgressStyleModel",
          "state": {
            "_model_module": "@jupyter-widgets/controls",
            "_model_module_version": "1.5.0",
            "_model_name": "ProgressStyleModel",
            "_view_count": null,
            "_view_module": "@jupyter-widgets/base",
            "_view_module_version": "1.2.0",
            "_view_name": "StyleView",
            "bar_color": null,
            "description_width": ""
          }
        },
        "546b27f78ed44dce9feb8298a23fee60": {
          "model_module": "@jupyter-widgets/controls",
          "model_module_version": "1.5.0",
          "model_name": "ProgressStyleModel",
          "state": {
            "_model_module": "@jupyter-widgets/controls",
            "_model_module_version": "1.5.0",
            "_model_name": "ProgressStyleModel",
            "_view_count": null,
            "_view_module": "@jupyter-widgets/base",
            "_view_module_version": "1.2.0",
            "_view_name": "StyleView",
            "bar_color": null,
            "description_width": ""
          }
        },
        "55a266e84ebe4d39b467999d9d0e191b": {
          "model_module": "@jupyter-widgets/base",
          "model_module_version": "1.2.0",
          "model_name": "LayoutModel",
          "state": {
            "_model_module": "@jupyter-widgets/base",
            "_model_module_version": "1.2.0",
            "_model_name": "LayoutModel",
            "_view_count": null,
            "_view_module": "@jupyter-widgets/base",
            "_view_module_version": "1.2.0",
            "_view_name": "LayoutView",
            "align_content": null,
            "align_items": null,
            "align_self": null,
            "border": null,
            "bottom": null,
            "display": null,
            "flex": null,
            "flex_flow": null,
            "grid_area": null,
            "grid_auto_columns": null,
            "grid_auto_flow": null,
            "grid_auto_rows": null,
            "grid_column": null,
            "grid_gap": null,
            "grid_row": null,
            "grid_template_areas": null,
            "grid_template_columns": null,
            "grid_template_rows": null,
            "height": null,
            "justify_content": null,
            "justify_items": null,
            "left": null,
            "margin": null,
            "max_height": null,
            "max_width": null,
            "min_height": null,
            "min_width": null,
            "object_fit": null,
            "object_position": null,
            "order": null,
            "overflow": null,
            "overflow_x": null,
            "overflow_y": null,
            "padding": null,
            "right": null,
            "top": null,
            "visibility": null,
            "width": null
          }
        },
        "56b5990c03f5456f9719fed1218a1da8": {
          "model_module": "@jupyter-widgets/controls",
          "model_module_version": "1.5.0",
          "model_name": "HTMLModel",
          "state": {
            "_dom_classes": [],
            "_model_module": "@jupyter-widgets/controls",
            "_model_module_version": "1.5.0",
            "_model_name": "HTMLModel",
            "_view_count": null,
            "_view_module": "@jupyter-widgets/controls",
            "_view_module_version": "1.5.0",
            "_view_name": "HTMLView",
            "description": "",
            "description_tooltip": null,
            "layout": "IPY_MODEL_a7f6863bf3284d2a934dfd3bfd35675e",
            "placeholder": "​",
            "style": "IPY_MODEL_3dd62f79240b42db8a2c1a87b434d0f7",
            "value": "vocab.txt: "
          }
        },
        "579100a0cd8840b79845fabedef60eaf": {
          "model_module": "@jupyter-widgets/base",
          "model_module_version": "1.2.0",
          "model_name": "LayoutModel",
          "state": {
            "_model_module": "@jupyter-widgets/base",
            "_model_module_version": "1.2.0",
            "_model_name": "LayoutModel",
            "_view_count": null,
            "_view_module": "@jupyter-widgets/base",
            "_view_module_version": "1.2.0",
            "_view_name": "LayoutView",
            "align_content": null,
            "align_items": null,
            "align_self": null,
            "border": null,
            "bottom": null,
            "display": null,
            "flex": null,
            "flex_flow": null,
            "grid_area": null,
            "grid_auto_columns": null,
            "grid_auto_flow": null,
            "grid_auto_rows": null,
            "grid_column": null,
            "grid_gap": null,
            "grid_row": null,
            "grid_template_areas": null,
            "grid_template_columns": null,
            "grid_template_rows": null,
            "height": null,
            "justify_content": null,
            "justify_items": null,
            "left": null,
            "margin": null,
            "max_height": null,
            "max_width": null,
            "min_height": null,
            "min_width": null,
            "object_fit": null,
            "object_position": null,
            "order": null,
            "overflow": null,
            "overflow_x": null,
            "overflow_y": null,
            "padding": null,
            "right": null,
            "top": null,
            "visibility": null,
            "width": null
          }
        },
        "5796ce0428654b018bb81e42751d1859": {
          "model_module": "@jupyter-widgets/controls",
          "model_module_version": "1.5.0",
          "model_name": "ProgressStyleModel",
          "state": {
            "_model_module": "@jupyter-widgets/controls",
            "_model_module_version": "1.5.0",
            "_model_name": "ProgressStyleModel",
            "_view_count": null,
            "_view_module": "@jupyter-widgets/base",
            "_view_module_version": "1.2.0",
            "_view_name": "StyleView",
            "bar_color": null,
            "description_width": ""
          }
        },
        "57d764d43bb049f39711d268a000e8ba": {
          "model_module": "@jupyter-widgets/controls",
          "model_module_version": "1.5.0",
          "model_name": "HTMLModel",
          "state": {
            "_dom_classes": [],
            "_model_module": "@jupyter-widgets/controls",
            "_model_module_version": "1.5.0",
            "_model_name": "HTMLModel",
            "_view_count": null,
            "_view_module": "@jupyter-widgets/controls",
            "_view_module_version": "1.5.0",
            "_view_name": "HTMLView",
            "description": "",
            "description_tooltip": null,
            "layout": "IPY_MODEL_8ce5e0efa2f341b6885772b7745a5f7c",
            "placeholder": "​",
            "style": "IPY_MODEL_0840cd9c74ac4eba9e0ae6ecf13800ba",
            "value": " 112/112 [00:00&lt;00:00, 15.9kB/s]"
          }
        },
        "586af5c58bd942478e649d6e8658d6cd": {
          "model_module": "@jupyter-widgets/controls",
          "model_module_version": "1.5.0",
          "model_name": "HBoxModel",
          "state": {
            "_dom_classes": [],
            "_model_module": "@jupyter-widgets/controls",
            "_model_module_version": "1.5.0",
            "_model_name": "HBoxModel",
            "_view_count": null,
            "_view_module": "@jupyter-widgets/controls",
            "_view_module_version": "1.5.0",
            "_view_name": "HBoxView",
            "box_style": "",
            "children": [
              "IPY_MODEL_ff85256eedf3457fa8c9b90ba1d31946",
              "IPY_MODEL_59361372440346bd95d50c62f1af85dc",
              "IPY_MODEL_471de197d0e04d42a3db5f6633d0718b"
            ],
            "layout": "IPY_MODEL_d0bc0dbdf30c4bcc9ecb09399adf56ef"
          }
        },
        "59023d10e4384146a26b387e3036a690": {
          "model_module": "@jupyter-widgets/controls",
          "model_module_version": "1.5.0",
          "model_name": "DescriptionStyleModel",
          "state": {
            "_model_module": "@jupyter-widgets/controls",
            "_model_module_version": "1.5.0",
            "_model_name": "DescriptionStyleModel",
            "_view_count": null,
            "_view_module": "@jupyter-widgets/base",
            "_view_module_version": "1.2.0",
            "_view_name": "StyleView",
            "description_width": ""
          }
        },
        "59361372440346bd95d50c62f1af85dc": {
          "model_module": "@jupyter-widgets/controls",
          "model_module_version": "1.5.0",
          "model_name": "FloatProgressModel",
          "state": {
            "_dom_classes": [],
            "_model_module": "@jupyter-widgets/controls",
            "_model_module_version": "1.5.0",
            "_model_name": "FloatProgressModel",
            "_view_count": null,
            "_view_module": "@jupyter-widgets/controls",
            "_view_module_version": "1.5.0",
            "_view_name": "ProgressView",
            "bar_style": "success",
            "description": "",
            "description_tooltip": null,
            "layout": "IPY_MODEL_75f29d7e4de348a0ad20b8a793ca9389",
            "max": 1,
            "min": 0,
            "orientation": "horizontal",
            "style": "IPY_MODEL_f3e88432406241e289f36b28810c335d",
            "value": 1
          }
        },
        "5995e57b254e4f88879e6d7f6cf75863": {
          "model_module": "@jupyter-widgets/controls",
          "model_module_version": "1.5.0",
          "model_name": "FloatProgressModel",
          "state": {
            "_dom_classes": [],
            "_model_module": "@jupyter-widgets/controls",
            "_model_module_version": "1.5.0",
            "_model_name": "FloatProgressModel",
            "_view_count": null,
            "_view_module": "@jupyter-widgets/controls",
            "_view_module_version": "1.5.0",
            "_view_name": "ProgressView",
            "bar_style": "success",
            "description": "",
            "description_tooltip": null,
            "layout": "IPY_MODEL_c0549f365ab54bc3b484142a11984437",
            "max": 190,
            "min": 0,
            "orientation": "horizontal",
            "style": "IPY_MODEL_97e76bd760454daa91d7160e5ada153a",
            "value": 190
          }
        },
        "5e982b21a8b34000888682cda1259b16": {
          "model_module": "@jupyter-widgets/base",
          "model_module_version": "1.2.0",
          "model_name": "LayoutModel",
          "state": {
            "_model_module": "@jupyter-widgets/base",
            "_model_module_version": "1.2.0",
            "_model_name": "LayoutModel",
            "_view_count": null,
            "_view_module": "@jupyter-widgets/base",
            "_view_module_version": "1.2.0",
            "_view_name": "LayoutView",
            "align_content": null,
            "align_items": null,
            "align_self": null,
            "border": null,
            "bottom": null,
            "display": null,
            "flex": null,
            "flex_flow": null,
            "grid_area": null,
            "grid_auto_columns": null,
            "grid_auto_flow": null,
            "grid_auto_rows": null,
            "grid_column": null,
            "grid_gap": null,
            "grid_row": null,
            "grid_template_areas": null,
            "grid_template_columns": null,
            "grid_template_rows": null,
            "height": null,
            "justify_content": null,
            "justify_items": null,
            "left": null,
            "margin": null,
            "max_height": null,
            "max_width": null,
            "min_height": null,
            "min_width": null,
            "object_fit": null,
            "object_position": null,
            "order": null,
            "overflow": null,
            "overflow_x": null,
            "overflow_y": null,
            "padding": null,
            "right": null,
            "top": null,
            "visibility": null,
            "width": null
          }
        },
        "60d2ef1123084520b2344bee0c5045f6": {
          "model_module": "@jupyter-widgets/controls",
          "model_module_version": "1.5.0",
          "model_name": "HTMLModel",
          "state": {
            "_dom_classes": [],
            "_model_module": "@jupyter-widgets/controls",
            "_model_module_version": "1.5.0",
            "_model_name": "HTMLModel",
            "_view_count": null,
            "_view_module": "@jupyter-widgets/controls",
            "_view_module_version": "1.5.0",
            "_view_name": "HTMLView",
            "description": "",
            "description_tooltip": null,
            "layout": "IPY_MODEL_c55e6975a8e6465089feebc4826d2f5a",
            "placeholder": "​",
            "style": "IPY_MODEL_af6917cfdea74207a03638147469b918",
            "value": "modules.json: 100%"
          }
        },
        "60f38db45b3f48bab8148fb5b54571d5": {
          "model_module": "@jupyter-widgets/controls",
          "model_module_version": "1.5.0",
          "model_name": "ProgressStyleModel",
          "state": {
            "_model_module": "@jupyter-widgets/controls",
            "_model_module_version": "1.5.0",
            "_model_name": "ProgressStyleModel",
            "_view_count": null,
            "_view_module": "@jupyter-widgets/base",
            "_view_module_version": "1.2.0",
            "_view_name": "StyleView",
            "bar_color": null,
            "description_width": ""
          }
        },
        "61e7b293947241c7979bdc025debdaf8": {
          "model_module": "@jupyter-widgets/controls",
          "model_module_version": "1.5.0",
          "model_name": "ProgressStyleModel",
          "state": {
            "_model_module": "@jupyter-widgets/controls",
            "_model_module_version": "1.5.0",
            "_model_name": "ProgressStyleModel",
            "_view_count": null,
            "_view_module": "@jupyter-widgets/base",
            "_view_module_version": "1.2.0",
            "_view_name": "StyleView",
            "bar_color": null,
            "description_width": ""
          }
        },
        "620a63e50b09428982223c26314d040b": {
          "model_module": "@jupyter-widgets/controls",
          "model_module_version": "1.5.0",
          "model_name": "DescriptionStyleModel",
          "state": {
            "_model_module": "@jupyter-widgets/controls",
            "_model_module_version": "1.5.0",
            "_model_name": "DescriptionStyleModel",
            "_view_count": null,
            "_view_module": "@jupyter-widgets/base",
            "_view_module_version": "1.2.0",
            "_view_name": "StyleView",
            "description_width": ""
          }
        },
        "6559435eb0a743158204cb137a43a2d1": {
          "model_module": "@jupyter-widgets/base",
          "model_module_version": "1.2.0",
          "model_name": "LayoutModel",
          "state": {
            "_model_module": "@jupyter-widgets/base",
            "_model_module_version": "1.2.0",
            "_model_name": "LayoutModel",
            "_view_count": null,
            "_view_module": "@jupyter-widgets/base",
            "_view_module_version": "1.2.0",
            "_view_name": "LayoutView",
            "align_content": null,
            "align_items": null,
            "align_self": null,
            "border": null,
            "bottom": null,
            "display": null,
            "flex": null,
            "flex_flow": null,
            "grid_area": null,
            "grid_auto_columns": null,
            "grid_auto_flow": null,
            "grid_auto_rows": null,
            "grid_column": null,
            "grid_gap": null,
            "grid_row": null,
            "grid_template_areas": null,
            "grid_template_columns": null,
            "grid_template_rows": null,
            "height": null,
            "justify_content": null,
            "justify_items": null,
            "left": null,
            "margin": null,
            "max_height": null,
            "max_width": null,
            "min_height": null,
            "min_width": null,
            "object_fit": null,
            "object_position": null,
            "order": null,
            "overflow": null,
            "overflow_x": null,
            "overflow_y": null,
            "padding": null,
            "right": null,
            "top": null,
            "visibility": null,
            "width": "20px"
          }
        },
        "6592504ba65c4af98545646d59dd9cdf": {
          "model_module": "@jupyter-widgets/base",
          "model_module_version": "1.2.0",
          "model_name": "LayoutModel",
          "state": {
            "_model_module": "@jupyter-widgets/base",
            "_model_module_version": "1.2.0",
            "_model_name": "LayoutModel",
            "_view_count": null,
            "_view_module": "@jupyter-widgets/base",
            "_view_module_version": "1.2.0",
            "_view_name": "LayoutView",
            "align_content": null,
            "align_items": null,
            "align_self": null,
            "border": null,
            "bottom": null,
            "display": null,
            "flex": null,
            "flex_flow": null,
            "grid_area": null,
            "grid_auto_columns": null,
            "grid_auto_flow": null,
            "grid_auto_rows": null,
            "grid_column": null,
            "grid_gap": null,
            "grid_row": null,
            "grid_template_areas": null,
            "grid_template_columns": null,
            "grid_template_rows": null,
            "height": null,
            "justify_content": null,
            "justify_items": null,
            "left": null,
            "margin": null,
            "max_height": null,
            "max_width": null,
            "min_height": null,
            "min_width": null,
            "object_fit": null,
            "object_position": null,
            "order": null,
            "overflow": null,
            "overflow_x": null,
            "overflow_y": null,
            "padding": null,
            "right": null,
            "top": null,
            "visibility": null,
            "width": null
          }
        },
        "65ac5afc621e4743a733e3fd8be17dcf": {
          "model_module": "@jupyter-widgets/base",
          "model_module_version": "1.2.0",
          "model_name": "LayoutModel",
          "state": {
            "_model_module": "@jupyter-widgets/base",
            "_model_module_version": "1.2.0",
            "_model_name": "LayoutModel",
            "_view_count": null,
            "_view_module": "@jupyter-widgets/base",
            "_view_module_version": "1.2.0",
            "_view_name": "LayoutView",
            "align_content": null,
            "align_items": null,
            "align_self": null,
            "border": null,
            "bottom": null,
            "display": null,
            "flex": null,
            "flex_flow": null,
            "grid_area": null,
            "grid_auto_columns": null,
            "grid_auto_flow": null,
            "grid_auto_rows": null,
            "grid_column": null,
            "grid_gap": null,
            "grid_row": null,
            "grid_template_areas": null,
            "grid_template_columns": null,
            "grid_template_rows": null,
            "height": null,
            "justify_content": null,
            "justify_items": null,
            "left": null,
            "margin": null,
            "max_height": null,
            "max_width": null,
            "min_height": null,
            "min_width": null,
            "object_fit": null,
            "object_position": null,
            "order": null,
            "overflow": null,
            "overflow_x": null,
            "overflow_y": null,
            "padding": null,
            "right": null,
            "top": null,
            "visibility": null,
            "width": null
          }
        },
        "6687510a696a4d79b2c3eefae6be23f7": {
          "model_module": "@jupyter-widgets/base",
          "model_module_version": "1.2.0",
          "model_name": "LayoutModel",
          "state": {
            "_model_module": "@jupyter-widgets/base",
            "_model_module_version": "1.2.0",
            "_model_name": "LayoutModel",
            "_view_count": null,
            "_view_module": "@jupyter-widgets/base",
            "_view_module_version": "1.2.0",
            "_view_name": "LayoutView",
            "align_content": null,
            "align_items": null,
            "align_self": null,
            "border": null,
            "bottom": null,
            "display": null,
            "flex": null,
            "flex_flow": null,
            "grid_area": null,
            "grid_auto_columns": null,
            "grid_auto_flow": null,
            "grid_auto_rows": null,
            "grid_column": null,
            "grid_gap": null,
            "grid_row": null,
            "grid_template_areas": null,
            "grid_template_columns": null,
            "grid_template_rows": null,
            "height": null,
            "justify_content": null,
            "justify_items": null,
            "left": null,
            "margin": null,
            "max_height": null,
            "max_width": null,
            "min_height": null,
            "min_width": null,
            "object_fit": null,
            "object_position": null,
            "order": null,
            "overflow": null,
            "overflow_x": null,
            "overflow_y": null,
            "padding": null,
            "right": null,
            "top": null,
            "visibility": null,
            "width": "20px"
          }
        },
        "67737e87ca2e44e1b4d8020f291b229c": {
          "model_module": "@jupyter-widgets/base",
          "model_module_version": "1.2.0",
          "model_name": "LayoutModel",
          "state": {
            "_model_module": "@jupyter-widgets/base",
            "_model_module_version": "1.2.0",
            "_model_name": "LayoutModel",
            "_view_count": null,
            "_view_module": "@jupyter-widgets/base",
            "_view_module_version": "1.2.0",
            "_view_name": "LayoutView",
            "align_content": null,
            "align_items": null,
            "align_self": null,
            "border": null,
            "bottom": null,
            "display": null,
            "flex": null,
            "flex_flow": null,
            "grid_area": null,
            "grid_auto_columns": null,
            "grid_auto_flow": null,
            "grid_auto_rows": null,
            "grid_column": null,
            "grid_gap": null,
            "grid_row": null,
            "grid_template_areas": null,
            "grid_template_columns": null,
            "grid_template_rows": null,
            "height": null,
            "justify_content": null,
            "justify_items": null,
            "left": null,
            "margin": null,
            "max_height": null,
            "max_width": null,
            "min_height": null,
            "min_width": null,
            "object_fit": null,
            "object_position": null,
            "order": null,
            "overflow": null,
            "overflow_x": null,
            "overflow_y": null,
            "padding": null,
            "right": null,
            "top": null,
            "visibility": null,
            "width": null
          }
        },
        "6b68fcb5bbaf4c6ca34553ffeac8cf3e": {
          "model_module": "@jupyter-widgets/controls",
          "model_module_version": "1.5.0",
          "model_name": "DescriptionStyleModel",
          "state": {
            "_model_module": "@jupyter-widgets/controls",
            "_model_module_version": "1.5.0",
            "_model_name": "DescriptionStyleModel",
            "_view_count": null,
            "_view_module": "@jupyter-widgets/base",
            "_view_module_version": "1.2.0",
            "_view_name": "StyleView",
            "description_width": ""
          }
        },
        "6ccf1e58c72f4c7a85337b58f6fb00f5": {
          "model_module": "@jupyter-widgets/controls",
          "model_module_version": "1.5.0",
          "model_name": "DescriptionStyleModel",
          "state": {
            "_model_module": "@jupyter-widgets/controls",
            "_model_module_version": "1.5.0",
            "_model_name": "DescriptionStyleModel",
            "_view_count": null,
            "_view_module": "@jupyter-widgets/base",
            "_view_module_version": "1.2.0",
            "_view_name": "StyleView",
            "description_width": ""
          }
        },
        "6da399c48b6f4a7789a83ca1f629f8c7": {
          "model_module": "@jupyter-widgets/controls",
          "model_module_version": "1.5.0",
          "model_name": "HTMLModel",
          "state": {
            "_dom_classes": [],
            "_model_module": "@jupyter-widgets/controls",
            "_model_module_version": "1.5.0",
            "_model_name": "HTMLModel",
            "_view_count": null,
            "_view_module": "@jupyter-widgets/controls",
            "_view_module_version": "1.5.0",
            "_view_name": "HTMLView",
            "description": "",
            "description_tooltip": null,
            "layout": "IPY_MODEL_2fb4092ad2f341d5a0e377cb298c2c57",
            "placeholder": "​",
            "style": "IPY_MODEL_2f1825da191d4350a39fefc0effcedc0",
            "value": "special_tokens_map.json: 100%"
          }
        },
        "6dd0a70304414d93a24a950cbaa6b5c1": {
          "model_module": "@jupyter-widgets/base",
          "model_module_version": "1.2.0",
          "model_name": "LayoutModel",
          "state": {
            "_model_module": "@jupyter-widgets/base",
            "_model_module_version": "1.2.0",
            "_model_name": "LayoutModel",
            "_view_count": null,
            "_view_module": "@jupyter-widgets/base",
            "_view_module_version": "1.2.0",
            "_view_name": "LayoutView",
            "align_content": null,
            "align_items": null,
            "align_self": null,
            "border": null,
            "bottom": null,
            "display": null,
            "flex": null,
            "flex_flow": null,
            "grid_area": null,
            "grid_auto_columns": null,
            "grid_auto_flow": null,
            "grid_auto_rows": null,
            "grid_column": null,
            "grid_gap": null,
            "grid_row": null,
            "grid_template_areas": null,
            "grid_template_columns": null,
            "grid_template_rows": null,
            "height": null,
            "justify_content": null,
            "justify_items": null,
            "left": null,
            "margin": null,
            "max_height": null,
            "max_width": null,
            "min_height": null,
            "min_width": null,
            "object_fit": null,
            "object_position": null,
            "order": null,
            "overflow": null,
            "overflow_x": null,
            "overflow_y": null,
            "padding": null,
            "right": null,
            "top": null,
            "visibility": null,
            "width": null
          }
        },
        "71170f055fa6474ca8db5177c6bacd71": {
          "model_module": "@jupyter-widgets/controls",
          "model_module_version": "1.5.0",
          "model_name": "DescriptionStyleModel",
          "state": {
            "_model_module": "@jupyter-widgets/controls",
            "_model_module_version": "1.5.0",
            "_model_name": "DescriptionStyleModel",
            "_view_count": null,
            "_view_module": "@jupyter-widgets/base",
            "_view_module_version": "1.2.0",
            "_view_name": "StyleView",
            "description_width": ""
          }
        },
        "7319a7ef7fd24e1ca41401782a225766": {
          "model_module": "@jupyter-widgets/base",
          "model_module_version": "1.2.0",
          "model_name": "LayoutModel",
          "state": {
            "_model_module": "@jupyter-widgets/base",
            "_model_module_version": "1.2.0",
            "_model_name": "LayoutModel",
            "_view_count": null,
            "_view_module": "@jupyter-widgets/base",
            "_view_module_version": "1.2.0",
            "_view_name": "LayoutView",
            "align_content": null,
            "align_items": null,
            "align_self": null,
            "border": null,
            "bottom": null,
            "display": null,
            "flex": null,
            "flex_flow": null,
            "grid_area": null,
            "grid_auto_columns": null,
            "grid_auto_flow": null,
            "grid_auto_rows": null,
            "grid_column": null,
            "grid_gap": null,
            "grid_row": null,
            "grid_template_areas": null,
            "grid_template_columns": null,
            "grid_template_rows": null,
            "height": null,
            "justify_content": null,
            "justify_items": null,
            "left": null,
            "margin": null,
            "max_height": null,
            "max_width": null,
            "min_height": null,
            "min_width": null,
            "object_fit": null,
            "object_position": null,
            "order": null,
            "overflow": null,
            "overflow_x": null,
            "overflow_y": null,
            "padding": null,
            "right": null,
            "top": null,
            "visibility": null,
            "width": null
          }
        },
        "73c3f74cd556433290e8a8877f2937e2": {
          "model_module": "@jupyter-widgets/controls",
          "model_module_version": "1.5.0",
          "model_name": "DescriptionStyleModel",
          "state": {
            "_model_module": "@jupyter-widgets/controls",
            "_model_module_version": "1.5.0",
            "_model_name": "DescriptionStyleModel",
            "_view_count": null,
            "_view_module": "@jupyter-widgets/base",
            "_view_module_version": "1.2.0",
            "_view_name": "StyleView",
            "description_width": ""
          }
        },
        "74b093607a7640bab5ec623082ee1d5d": {
          "model_module": "@jupyter-widgets/base",
          "model_module_version": "1.2.0",
          "model_name": "LayoutModel",
          "state": {
            "_model_module": "@jupyter-widgets/base",
            "_model_module_version": "1.2.0",
            "_model_name": "LayoutModel",
            "_view_count": null,
            "_view_module": "@jupyter-widgets/base",
            "_view_module_version": "1.2.0",
            "_view_name": "LayoutView",
            "align_content": null,
            "align_items": null,
            "align_self": null,
            "border": null,
            "bottom": null,
            "display": null,
            "flex": null,
            "flex_flow": null,
            "grid_area": null,
            "grid_auto_columns": null,
            "grid_auto_flow": null,
            "grid_auto_rows": null,
            "grid_column": null,
            "grid_gap": null,
            "grid_row": null,
            "grid_template_areas": null,
            "grid_template_columns": null,
            "grid_template_rows": null,
            "height": null,
            "justify_content": null,
            "justify_items": null,
            "left": null,
            "margin": null,
            "max_height": null,
            "max_width": null,
            "min_height": null,
            "min_width": null,
            "object_fit": null,
            "object_position": null,
            "order": null,
            "overflow": null,
            "overflow_x": null,
            "overflow_y": null,
            "padding": null,
            "right": null,
            "top": null,
            "visibility": null,
            "width": null
          }
        },
        "75b436c206554976a9ddb00b5cf9acab": {
          "model_module": "@jupyter-widgets/controls",
          "model_module_version": "1.5.0",
          "model_name": "HTMLModel",
          "state": {
            "_dom_classes": [],
            "_model_module": "@jupyter-widgets/controls",
            "_model_module_version": "1.5.0",
            "_model_name": "HTMLModel",
            "_view_count": null,
            "_view_module": "@jupyter-widgets/controls",
            "_view_module_version": "1.5.0",
            "_view_name": "HTMLView",
            "description": "",
            "description_tooltip": null,
            "layout": "IPY_MODEL_3b442da9b0fe426b96fd90bf40f89c2c",
            "placeholder": "​",
            "style": "IPY_MODEL_e49f923d0ab84154b6b92c3e032a3722",
            "value": " 466k/? [00:00&lt;00:00, 33.0MB/s]"
          }
        },
        "75f29d7e4de348a0ad20b8a793ca9389": {
          "model_module": "@jupyter-widgets/base",
          "model_module_version": "1.2.0",
          "model_name": "LayoutModel",
          "state": {
            "_model_module": "@jupyter-widgets/base",
            "_model_module_version": "1.2.0",
            "_model_name": "LayoutModel",
            "_view_count": null,
            "_view_module": "@jupyter-widgets/base",
            "_view_module_version": "1.2.0",
            "_view_name": "LayoutView",
            "align_content": null,
            "align_items": null,
            "align_self": null,
            "border": null,
            "bottom": null,
            "display": null,
            "flex": null,
            "flex_flow": null,
            "grid_area": null,
            "grid_auto_columns": null,
            "grid_auto_flow": null,
            "grid_auto_rows": null,
            "grid_column": null,
            "grid_gap": null,
            "grid_row": null,
            "grid_template_areas": null,
            "grid_template_columns": null,
            "grid_template_rows": null,
            "height": null,
            "justify_content": null,
            "justify_items": null,
            "left": null,
            "margin": null,
            "max_height": null,
            "max_width": null,
            "min_height": null,
            "min_width": null,
            "object_fit": null,
            "object_position": null,
            "order": null,
            "overflow": null,
            "overflow_x": null,
            "overflow_y": null,
            "padding": null,
            "right": null,
            "top": null,
            "visibility": null,
            "width": "20px"
          }
        },
        "7825d92d937e4b458fc92ce50c276af2": {
          "model_module": "@jupyter-widgets/base",
          "model_module_version": "1.2.0",
          "model_name": "LayoutModel",
          "state": {
            "_model_module": "@jupyter-widgets/base",
            "_model_module_version": "1.2.0",
            "_model_name": "LayoutModel",
            "_view_count": null,
            "_view_module": "@jupyter-widgets/base",
            "_view_module_version": "1.2.0",
            "_view_name": "LayoutView",
            "align_content": null,
            "align_items": null,
            "align_self": null,
            "border": null,
            "bottom": null,
            "display": null,
            "flex": null,
            "flex_flow": null,
            "grid_area": null,
            "grid_auto_columns": null,
            "grid_auto_flow": null,
            "grid_auto_rows": null,
            "grid_column": null,
            "grid_gap": null,
            "grid_row": null,
            "grid_template_areas": null,
            "grid_template_columns": null,
            "grid_template_rows": null,
            "height": null,
            "justify_content": null,
            "justify_items": null,
            "left": null,
            "margin": null,
            "max_height": null,
            "max_width": null,
            "min_height": null,
            "min_width": null,
            "object_fit": null,
            "object_position": null,
            "order": null,
            "overflow": null,
            "overflow_x": null,
            "overflow_y": null,
            "padding": null,
            "right": null,
            "top": null,
            "visibility": null,
            "width": null
          }
        },
        "787747bddfce4e7abc6dff60d7538162": {
          "model_module": "@jupyter-widgets/base",
          "model_module_version": "1.2.0",
          "model_name": "LayoutModel",
          "state": {
            "_model_module": "@jupyter-widgets/base",
            "_model_module_version": "1.2.0",
            "_model_name": "LayoutModel",
            "_view_count": null,
            "_view_module": "@jupyter-widgets/base",
            "_view_module_version": "1.2.0",
            "_view_name": "LayoutView",
            "align_content": null,
            "align_items": null,
            "align_self": null,
            "border": null,
            "bottom": null,
            "display": null,
            "flex": null,
            "flex_flow": null,
            "grid_area": null,
            "grid_auto_columns": null,
            "grid_auto_flow": null,
            "grid_auto_rows": null,
            "grid_column": null,
            "grid_gap": null,
            "grid_row": null,
            "grid_template_areas": null,
            "grid_template_columns": null,
            "grid_template_rows": null,
            "height": null,
            "justify_content": null,
            "justify_items": null,
            "left": null,
            "margin": null,
            "max_height": null,
            "max_width": null,
            "min_height": null,
            "min_width": null,
            "object_fit": null,
            "object_position": null,
            "order": null,
            "overflow": null,
            "overflow_x": null,
            "overflow_y": null,
            "padding": null,
            "right": null,
            "top": null,
            "visibility": null,
            "width": null
          }
        },
        "7b1bbc9446994d48a7cc457abc36960f": {
          "model_module": "@jupyter-widgets/controls",
          "model_module_version": "1.5.0",
          "model_name": "FloatProgressModel",
          "state": {
            "_dom_classes": [],
            "_model_module": "@jupyter-widgets/controls",
            "_model_module_version": "1.5.0",
            "_model_name": "FloatProgressModel",
            "_view_count": null,
            "_view_module": "@jupyter-widgets/controls",
            "_view_module_version": "1.5.0",
            "_view_name": "ProgressView",
            "bar_style": "success",
            "description": "",
            "description_tooltip": null,
            "layout": "IPY_MODEL_6dd0a70304414d93a24a950cbaa6b5c1",
            "max": 349,
            "min": 0,
            "orientation": "horizontal",
            "style": "IPY_MODEL_06005a7b6a614174857909c1d5efffc7",
            "value": 349
          }
        },
        "7cc0ce7dc34742159e22c2e60dba7a89": {
          "model_module": "@jupyter-widgets/base",
          "model_module_version": "1.2.0",
          "model_name": "LayoutModel",
          "state": {
            "_model_module": "@jupyter-widgets/base",
            "_model_module_version": "1.2.0",
            "_model_name": "LayoutModel",
            "_view_count": null,
            "_view_module": "@jupyter-widgets/base",
            "_view_module_version": "1.2.0",
            "_view_name": "LayoutView",
            "align_content": null,
            "align_items": null,
            "align_self": null,
            "border": null,
            "bottom": null,
            "display": null,
            "flex": null,
            "flex_flow": null,
            "grid_area": null,
            "grid_auto_columns": null,
            "grid_auto_flow": null,
            "grid_auto_rows": null,
            "grid_column": null,
            "grid_gap": null,
            "grid_row": null,
            "grid_template_areas": null,
            "grid_template_columns": null,
            "grid_template_rows": null,
            "height": null,
            "justify_content": null,
            "justify_items": null,
            "left": null,
            "margin": null,
            "max_height": null,
            "max_width": null,
            "min_height": null,
            "min_width": null,
            "object_fit": null,
            "object_position": null,
            "order": null,
            "overflow": null,
            "overflow_x": null,
            "overflow_y": null,
            "padding": null,
            "right": null,
            "top": null,
            "visibility": null,
            "width": null
          }
        },
        "7e8d7ef37d45457f9c6354b1c609ce4e": {
          "model_module": "@jupyter-widgets/controls",
          "model_module_version": "1.5.0",
          "model_name": "FloatProgressModel",
          "state": {
            "_dom_classes": [],
            "_model_module": "@jupyter-widgets/controls",
            "_model_module_version": "1.5.0",
            "_model_name": "FloatProgressModel",
            "_view_count": null,
            "_view_module": "@jupyter-widgets/controls",
            "_view_module_version": "1.5.0",
            "_view_name": "ProgressView",
            "bar_style": "success",
            "description": "",
            "description_tooltip": null,
            "layout": "IPY_MODEL_24eae5671a284479aaef233b3bdba293",
            "max": 1,
            "min": 0,
            "orientation": "horizontal",
            "style": "IPY_MODEL_60f38db45b3f48bab8148fb5b54571d5",
            "value": 1
          }
        },
        "7fe448991dd344c186d62806236f4e2f": {
          "model_module": "@jupyter-widgets/controls",
          "model_module_version": "1.5.0",
          "model_name": "ProgressStyleModel",
          "state": {
            "_model_module": "@jupyter-widgets/controls",
            "_model_module_version": "1.5.0",
            "_model_name": "ProgressStyleModel",
            "_view_count": null,
            "_view_module": "@jupyter-widgets/base",
            "_view_module_version": "1.2.0",
            "_view_name": "StyleView",
            "bar_color": null,
            "description_width": ""
          }
        },
        "805c5844915f4a7ab61ce3563bd4ab86": {
          "model_module": "@jupyter-widgets/controls",
          "model_module_version": "1.5.0",
          "model_name": "DescriptionStyleModel",
          "state": {
            "_model_module": "@jupyter-widgets/controls",
            "_model_module_version": "1.5.0",
            "_model_name": "DescriptionStyleModel",
            "_view_count": null,
            "_view_module": "@jupyter-widgets/base",
            "_view_module_version": "1.2.0",
            "_view_name": "StyleView",
            "description_width": ""
          }
        },
        "80cf2179717746b09b72ae14827b1582": {
          "model_module": "@jupyter-widgets/controls",
          "model_module_version": "1.5.0",
          "model_name": "DescriptionStyleModel",
          "state": {
            "_model_module": "@jupyter-widgets/controls",
            "_model_module_version": "1.5.0",
            "_model_name": "DescriptionStyleModel",
            "_view_count": null,
            "_view_module": "@jupyter-widgets/base",
            "_view_module_version": "1.2.0",
            "_view_name": "StyleView",
            "description_width": ""
          }
        },
        "81225845c2524796af71ec5ce26857d7": {
          "model_module": "@jupyter-widgets/base",
          "model_module_version": "1.2.0",
          "model_name": "LayoutModel",
          "state": {
            "_model_module": "@jupyter-widgets/base",
            "_model_module_version": "1.2.0",
            "_model_name": "LayoutModel",
            "_view_count": null,
            "_view_module": "@jupyter-widgets/base",
            "_view_module_version": "1.2.0",
            "_view_name": "LayoutView",
            "align_content": null,
            "align_items": null,
            "align_self": null,
            "border": null,
            "bottom": null,
            "display": null,
            "flex": null,
            "flex_flow": null,
            "grid_area": null,
            "grid_auto_columns": null,
            "grid_auto_flow": null,
            "grid_auto_rows": null,
            "grid_column": null,
            "grid_gap": null,
            "grid_row": null,
            "grid_template_areas": null,
            "grid_template_columns": null,
            "grid_template_rows": null,
            "height": null,
            "justify_content": null,
            "justify_items": null,
            "left": null,
            "margin": null,
            "max_height": null,
            "max_width": null,
            "min_height": null,
            "min_width": null,
            "object_fit": null,
            "object_position": null,
            "order": null,
            "overflow": null,
            "overflow_x": null,
            "overflow_y": null,
            "padding": null,
            "right": null,
            "top": null,
            "visibility": null,
            "width": null
          }
        },
        "81340af3334547d6a2bc1e1149639c94": {
          "model_module": "@jupyter-widgets/base",
          "model_module_version": "1.2.0",
          "model_name": "LayoutModel",
          "state": {
            "_model_module": "@jupyter-widgets/base",
            "_model_module_version": "1.2.0",
            "_model_name": "LayoutModel",
            "_view_count": null,
            "_view_module": "@jupyter-widgets/base",
            "_view_module_version": "1.2.0",
            "_view_name": "LayoutView",
            "align_content": null,
            "align_items": null,
            "align_self": null,
            "border": null,
            "bottom": null,
            "display": null,
            "flex": null,
            "flex_flow": null,
            "grid_area": null,
            "grid_auto_columns": null,
            "grid_auto_flow": null,
            "grid_auto_rows": null,
            "grid_column": null,
            "grid_gap": null,
            "grid_row": null,
            "grid_template_areas": null,
            "grid_template_columns": null,
            "grid_template_rows": null,
            "height": null,
            "justify_content": null,
            "justify_items": null,
            "left": null,
            "margin": null,
            "max_height": null,
            "max_width": null,
            "min_height": null,
            "min_width": null,
            "object_fit": null,
            "object_position": null,
            "order": null,
            "overflow": null,
            "overflow_x": null,
            "overflow_y": null,
            "padding": null,
            "right": null,
            "top": null,
            "visibility": null,
            "width": null
          }
        },
        "8310c6e7ab3b4df3b315289ea538b0cd": {
          "model_module": "@jupyter-widgets/base",
          "model_module_version": "1.2.0",
          "model_name": "LayoutModel",
          "state": {
            "_model_module": "@jupyter-widgets/base",
            "_model_module_version": "1.2.0",
            "_model_name": "LayoutModel",
            "_view_count": null,
            "_view_module": "@jupyter-widgets/base",
            "_view_module_version": "1.2.0",
            "_view_name": "LayoutView",
            "align_content": null,
            "align_items": null,
            "align_self": null,
            "border": null,
            "bottom": null,
            "display": null,
            "flex": null,
            "flex_flow": null,
            "grid_area": null,
            "grid_auto_columns": null,
            "grid_auto_flow": null,
            "grid_auto_rows": null,
            "grid_column": null,
            "grid_gap": null,
            "grid_row": null,
            "grid_template_areas": null,
            "grid_template_columns": null,
            "grid_template_rows": null,
            "height": null,
            "justify_content": null,
            "justify_items": null,
            "left": null,
            "margin": null,
            "max_height": null,
            "max_width": null,
            "min_height": null,
            "min_width": null,
            "object_fit": null,
            "object_position": null,
            "order": null,
            "overflow": null,
            "overflow_x": null,
            "overflow_y": null,
            "padding": null,
            "right": null,
            "top": null,
            "visibility": null,
            "width": null
          }
        },
        "8465c699c3b447699c5eb67b7fdc95ce": {
          "model_module": "@jupyter-widgets/controls",
          "model_module_version": "1.5.0",
          "model_name": "DescriptionStyleModel",
          "state": {
            "_model_module": "@jupyter-widgets/controls",
            "_model_module_version": "1.5.0",
            "_model_name": "DescriptionStyleModel",
            "_view_count": null,
            "_view_module": "@jupyter-widgets/base",
            "_view_module_version": "1.2.0",
            "_view_name": "StyleView",
            "description_width": ""
          }
        },
        "84962797fbbc46cdbff8d495f69b1233": {
          "model_module": "@jupyter-widgets/controls",
          "model_module_version": "1.5.0",
          "model_name": "FloatProgressModel",
          "state": {
            "_dom_classes": [],
            "_model_module": "@jupyter-widgets/controls",
            "_model_module_version": "1.5.0",
            "_model_name": "FloatProgressModel",
            "_view_count": null,
            "_view_module": "@jupyter-widgets/controls",
            "_view_module_version": "1.5.0",
            "_view_name": "ProgressView",
            "bar_style": "success",
            "description": "",
            "description_tooltip": null,
            "layout": "IPY_MODEL_579100a0cd8840b79845fabedef60eaf",
            "max": 350,
            "min": 0,
            "orientation": "horizontal",
            "style": "IPY_MODEL_9e1ef541e56347d29abc5ff3130b514d",
            "value": 350
          }
        },
        "84bdd8e2684047608277e59ef1e53f08": {
          "model_module": "@jupyter-widgets/controls",
          "model_module_version": "1.5.0",
          "model_name": "HTMLModel",
          "state": {
            "_dom_classes": [],
            "_model_module": "@jupyter-widgets/controls",
            "_model_module_version": "1.5.0",
            "_model_name": "HTMLModel",
            "_view_count": null,
            "_view_module": "@jupyter-widgets/controls",
            "_view_module_version": "1.5.0",
            "_view_name": "HTMLView",
            "description": "",
            "description_tooltip": null,
            "layout": "IPY_MODEL_4b38d31ae87144a89db3b3bd73094c99",
            "placeholder": "​",
            "style": "IPY_MODEL_962485678c934f909d9b37862a03ee80",
            "value": "config_sentence_transformers.json: 100%"
          }
        },
        "84ffb0539ee94104b754815b9caebe87": {
          "model_module": "@jupyter-widgets/base",
          "model_module_version": "1.2.0",
          "model_name": "LayoutModel",
          "state": {
            "_model_module": "@jupyter-widgets/base",
            "_model_module_version": "1.2.0",
            "_model_name": "LayoutModel",
            "_view_count": null,
            "_view_module": "@jupyter-widgets/base",
            "_view_module_version": "1.2.0",
            "_view_name": "LayoutView",
            "align_content": null,
            "align_items": null,
            "align_self": null,
            "border": null,
            "bottom": null,
            "display": null,
            "flex": null,
            "flex_flow": null,
            "grid_area": null,
            "grid_auto_columns": null,
            "grid_auto_flow": null,
            "grid_auto_rows": null,
            "grid_column": null,
            "grid_gap": null,
            "grid_row": null,
            "grid_template_areas": null,
            "grid_template_columns": null,
            "grid_template_rows": null,
            "height": null,
            "justify_content": null,
            "justify_items": null,
            "left": null,
            "margin": null,
            "max_height": null,
            "max_width": null,
            "min_height": null,
            "min_width": null,
            "object_fit": null,
            "object_position": null,
            "order": null,
            "overflow": null,
            "overflow_x": null,
            "overflow_y": null,
            "padding": null,
            "right": null,
            "top": null,
            "visibility": null,
            "width": "20px"
          }
        },
        "8739c1f0c22347c8b4777952d1c7d249": {
          "model_module": "@jupyter-widgets/controls",
          "model_module_version": "1.5.0",
          "model_name": "HTMLModel",
          "state": {
            "_dom_classes": [],
            "_model_module": "@jupyter-widgets/controls",
            "_model_module_version": "1.5.0",
            "_model_name": "HTMLModel",
            "_view_count": null,
            "_view_module": "@jupyter-widgets/controls",
            "_view_module_version": "1.5.0",
            "_view_name": "HTMLView",
            "description": "",
            "description_tooltip": null,
            "layout": "IPY_MODEL_3dfd82c726524ddb87b2e4f071ce45b5",
            "placeholder": "​",
            "style": "IPY_MODEL_8465c699c3b447699c5eb67b7fdc95ce",
            "value": " 349/349 [00:00&lt;00:00, 43.0kB/s]"
          }
        },
        "874d4e86a82b43298ec99e4bb1b67c8b": {
          "model_module": "@jupyter-widgets/controls",
          "model_module_version": "1.5.0",
          "model_name": "FloatProgressModel",
          "state": {
            "_dom_classes": [],
            "_model_module": "@jupyter-widgets/controls",
            "_model_module_version": "1.5.0",
            "_model_name": "FloatProgressModel",
            "_view_count": null,
            "_view_module": "@jupyter-widgets/controls",
            "_view_module_version": "1.5.0",
            "_view_name": "ProgressView",
            "bar_style": "success",
            "description": "",
            "description_tooltip": null,
            "layout": "IPY_MODEL_6687510a696a4d79b2c3eefae6be23f7",
            "max": 1,
            "min": 0,
            "orientation": "horizontal",
            "style": "IPY_MODEL_94779fbf4b98446186948dc7c46a8042",
            "value": 1
          }
        },
        "8947a5ec91514ac2b67cfabb9ec82c1b": {
          "model_module": "@jupyter-widgets/controls",
          "model_module_version": "1.5.0",
          "model_name": "HTMLModel",
          "state": {
            "_dom_classes": [],
            "_model_module": "@jupyter-widgets/controls",
            "_model_module_version": "1.5.0",
            "_model_name": "HTMLModel",
            "_view_count": null,
            "_view_module": "@jupyter-widgets/controls",
            "_view_module_version": "1.5.0",
            "_view_name": "HTMLView",
            "description": "",
            "description_tooltip": null,
            "layout": "IPY_MODEL_d3515521b7614749b78ad70c0fba8463",
            "placeholder": "​",
            "style": "IPY_MODEL_59023d10e4384146a26b387e3036a690",
            "value": "config.json: 100%"
          }
        },
        "8acbf3003fe3407c8007128876733a67": {
          "model_module": "@jupyter-widgets/controls",
          "model_module_version": "1.5.0",
          "model_name": "ProgressStyleModel",
          "state": {
            "_model_module": "@jupyter-widgets/controls",
            "_model_module_version": "1.5.0",
            "_model_name": "ProgressStyleModel",
            "_view_count": null,
            "_view_module": "@jupyter-widgets/base",
            "_view_module_version": "1.2.0",
            "_view_name": "StyleView",
            "bar_color": null,
            "description_width": ""
          }
        },
        "8bb3fa205f52427c921b0096d9be5cad": {
          "model_module": "@jupyter-widgets/controls",
          "model_module_version": "1.5.0",
          "model_name": "FloatProgressModel",
          "state": {
            "_dom_classes": [],
            "_model_module": "@jupyter-widgets/controls",
            "_model_module_version": "1.5.0",
            "_model_name": "FloatProgressModel",
            "_view_count": null,
            "_view_module": "@jupyter-widgets/controls",
            "_view_module_version": "1.5.0",
            "_view_name": "ProgressView",
            "bar_style": "success",
            "description": "",
            "description_tooltip": null,
            "layout": "IPY_MODEL_e4c982978dd341d78348462706437357",
            "max": 612,
            "min": 0,
            "orientation": "horizontal",
            "style": "IPY_MODEL_e93bf98f4a1a460e89457b28c59d8922",
            "value": 612
          }
        },
        "8bb93eb9e73d464d922c925423425dce": {
          "model_module": "@jupyter-widgets/controls",
          "model_module_version": "1.5.0",
          "model_name": "HTMLModel",
          "state": {
            "_dom_classes": [],
            "_model_module": "@jupyter-widgets/controls",
            "_model_module_version": "1.5.0",
            "_model_name": "HTMLModel",
            "_view_count": null,
            "_view_module": "@jupyter-widgets/controls",
            "_view_module_version": "1.5.0",
            "_view_name": "HTMLView",
            "description": "",
            "description_tooltip": null,
            "layout": "IPY_MODEL_9441dd635e4a4cbaaadd9bbe50294485",
            "placeholder": "​",
            "style": "IPY_MODEL_cdbfbd520c1245ffb599b23ba4a1b39d",
            "value": "tokenizer.json: "
          }
        },
        "8ce5e0efa2f341b6885772b7745a5f7c": {
          "model_module": "@jupyter-widgets/base",
          "model_module_version": "1.2.0",
          "model_name": "LayoutModel",
          "state": {
            "_model_module": "@jupyter-widgets/base",
            "_model_module_version": "1.2.0",
            "_model_name": "LayoutModel",
            "_view_count": null,
            "_view_module": "@jupyter-widgets/base",
            "_view_module_version": "1.2.0",
            "_view_name": "LayoutView",
            "align_content": null,
            "align_items": null,
            "align_self": null,
            "border": null,
            "bottom": null,
            "display": null,
            "flex": null,
            "flex_flow": null,
            "grid_area": null,
            "grid_auto_columns": null,
            "grid_auto_flow": null,
            "grid_auto_rows": null,
            "grid_column": null,
            "grid_gap": null,
            "grid_row": null,
            "grid_template_areas": null,
            "grid_template_columns": null,
            "grid_template_rows": null,
            "height": null,
            "justify_content": null,
            "justify_items": null,
            "left": null,
            "margin": null,
            "max_height": null,
            "max_width": null,
            "min_height": null,
            "min_width": null,
            "object_fit": null,
            "object_position": null,
            "order": null,
            "overflow": null,
            "overflow_x": null,
            "overflow_y": null,
            "padding": null,
            "right": null,
            "top": null,
            "visibility": null,
            "width": null
          }
        },
        "8d698816bb204f398c8f98629d0e73e7": {
          "model_module": "@jupyter-widgets/controls",
          "model_module_version": "1.5.0",
          "model_name": "HTMLModel",
          "state": {
            "_dom_classes": [],
            "_model_module": "@jupyter-widgets/controls",
            "_model_module_version": "1.5.0",
            "_model_name": "HTMLModel",
            "_view_count": null,
            "_view_module": "@jupyter-widgets/controls",
            "_view_module_version": "1.5.0",
            "_view_name": "HTMLView",
            "description": "",
            "description_tooltip": null,
            "layout": "IPY_MODEL_f9406b7919ee4a18a850431633aca080",
            "placeholder": "​",
            "style": "IPY_MODEL_805c5844915f4a7ab61ce3563bd4ab86",
            "value": " 147/147 [00:00&lt;00:00, 20.4kB/s]"
          }
        },
        "900690eaa7a2412c80f35aa80e9f4265": {
          "model_module": "@jupyter-widgets/controls",
          "model_module_version": "1.5.0",
          "model_name": "DescriptionStyleModel",
          "state": {
            "_model_module": "@jupyter-widgets/controls",
            "_model_module_version": "1.5.0",
            "_model_name": "DescriptionStyleModel",
            "_view_count": null,
            "_view_module": "@jupyter-widgets/base",
            "_view_module_version": "1.2.0",
            "_view_name": "StyleView",
            "description_width": ""
          }
        },
        "91bf69c77bc242f4827d3f4f159dcb37": {
          "model_module": "@jupyter-widgets/controls",
          "model_module_version": "1.5.0",
          "model_name": "HBoxModel",
          "state": {
            "_dom_classes": [],
            "_model_module": "@jupyter-widgets/controls",
            "_model_module_version": "1.5.0",
            "_model_name": "HBoxModel",
            "_view_count": null,
            "_view_module": "@jupyter-widgets/controls",
            "_view_module_version": "1.5.0",
            "_view_name": "HBoxView",
            "box_style": "",
            "children": [
              "IPY_MODEL_8bb93eb9e73d464d922c925423425dce",
              "IPY_MODEL_e508f9ccec7f41b695549a9cd117e21d",
              "IPY_MODEL_75b436c206554976a9ddb00b5cf9acab"
            ],
            "layout": "IPY_MODEL_f4c932aac1dd4b60b4c9ca7d93023af7"
          }
        },
        "9365a2ca0b7d4479a6feb5fb06dc9bb3": {
          "model_module": "@jupyter-widgets/controls",
          "model_module_version": "1.5.0",
          "model_name": "ProgressStyleModel",
          "state": {
            "_model_module": "@jupyter-widgets/controls",
            "_model_module_version": "1.5.0",
            "_model_name": "ProgressStyleModel",
            "_view_count": null,
            "_view_module": "@jupyter-widgets/base",
            "_view_module_version": "1.2.0",
            "_view_name": "StyleView",
            "bar_color": null,
            "description_width": ""
          }
        },
        "939b0755f1044347b7719bec39421d64": {
          "model_module": "@jupyter-widgets/base",
          "model_module_version": "1.2.0",
          "model_name": "LayoutModel",
          "state": {
            "_model_module": "@jupyter-widgets/base",
            "_model_module_version": "1.2.0",
            "_model_name": "LayoutModel",
            "_view_count": null,
            "_view_module": "@jupyter-widgets/base",
            "_view_module_version": "1.2.0",
            "_view_name": "LayoutView",
            "align_content": null,
            "align_items": null,
            "align_self": null,
            "border": null,
            "bottom": null,
            "display": null,
            "flex": null,
            "flex_flow": null,
            "grid_area": null,
            "grid_auto_columns": null,
            "grid_auto_flow": null,
            "grid_auto_rows": null,
            "grid_column": null,
            "grid_gap": null,
            "grid_row": null,
            "grid_template_areas": null,
            "grid_template_columns": null,
            "grid_template_rows": null,
            "height": null,
            "justify_content": null,
            "justify_items": null,
            "left": null,
            "margin": null,
            "max_height": null,
            "max_width": null,
            "min_height": null,
            "min_width": null,
            "object_fit": null,
            "object_position": null,
            "order": null,
            "overflow": null,
            "overflow_x": null,
            "overflow_y": null,
            "padding": null,
            "right": null,
            "top": null,
            "visibility": null,
            "width": null
          }
        },
        "9441dd635e4a4cbaaadd9bbe50294485": {
          "model_module": "@jupyter-widgets/base",
          "model_module_version": "1.2.0",
          "model_name": "LayoutModel",
          "state": {
            "_model_module": "@jupyter-widgets/base",
            "_model_module_version": "1.2.0",
            "_model_name": "LayoutModel",
            "_view_count": null,
            "_view_module": "@jupyter-widgets/base",
            "_view_module_version": "1.2.0",
            "_view_name": "LayoutView",
            "align_content": null,
            "align_items": null,
            "align_self": null,
            "border": null,
            "bottom": null,
            "display": null,
            "flex": null,
            "flex_flow": null,
            "grid_area": null,
            "grid_auto_columns": null,
            "grid_auto_flow": null,
            "grid_auto_rows": null,
            "grid_column": null,
            "grid_gap": null,
            "grid_row": null,
            "grid_template_areas": null,
            "grid_template_columns": null,
            "grid_template_rows": null,
            "height": null,
            "justify_content": null,
            "justify_items": null,
            "left": null,
            "margin": null,
            "max_height": null,
            "max_width": null,
            "min_height": null,
            "min_width": null,
            "object_fit": null,
            "object_position": null,
            "order": null,
            "overflow": null,
            "overflow_x": null,
            "overflow_y": null,
            "padding": null,
            "right": null,
            "top": null,
            "visibility": null,
            "width": null
          }
        },
        "94779fbf4b98446186948dc7c46a8042": {
          "model_module": "@jupyter-widgets/controls",
          "model_module_version": "1.5.0",
          "model_name": "ProgressStyleModel",
          "state": {
            "_model_module": "@jupyter-widgets/controls",
            "_model_module_version": "1.5.0",
            "_model_name": "ProgressStyleModel",
            "_view_count": null,
            "_view_module": "@jupyter-widgets/base",
            "_view_module_version": "1.2.0",
            "_view_name": "StyleView",
            "bar_color": null,
            "description_width": ""
          }
        },
        "962485678c934f909d9b37862a03ee80": {
          "model_module": "@jupyter-widgets/controls",
          "model_module_version": "1.5.0",
          "model_name": "DescriptionStyleModel",
          "state": {
            "_model_module": "@jupyter-widgets/controls",
            "_model_module_version": "1.5.0",
            "_model_name": "DescriptionStyleModel",
            "_view_count": null,
            "_view_module": "@jupyter-widgets/base",
            "_view_module_version": "1.2.0",
            "_view_name": "StyleView",
            "description_width": ""
          }
        },
        "963de9c1050746dd971200305dc2d615": {
          "model_module": "@jupyter-widgets/controls",
          "model_module_version": "1.5.0",
          "model_name": "HTMLModel",
          "state": {
            "_dom_classes": [],
            "_model_module": "@jupyter-widgets/controls",
            "_model_module_version": "1.5.0",
            "_model_name": "HTMLModel",
            "_view_count": null,
            "_view_module": "@jupyter-widgets/controls",
            "_view_module_version": "1.5.0",
            "_view_name": "HTMLView",
            "description": "",
            "description_tooltip": null,
            "layout": "IPY_MODEL_f1c2c7e6c8b547aa939c8f9f3f0c9568",
            "placeholder": "​",
            "style": "IPY_MODEL_73c3f74cd556433290e8a8877f2937e2",
            "value": " 13/13 [00:04&lt;00:00,  3.91it/s]"
          }
        },
        "9765c195fe424a308bcb3e49592964b1": {
          "model_module": "@jupyter-widgets/controls",
          "model_module_version": "1.5.0",
          "model_name": "HTMLModel",
          "state": {
            "_dom_classes": [],
            "_model_module": "@jupyter-widgets/controls",
            "_model_module_version": "1.5.0",
            "_model_name": "HTMLModel",
            "_view_count": null,
            "_view_module": "@jupyter-widgets/controls",
            "_view_module_version": "1.5.0",
            "_view_name": "HTMLView",
            "description": "",
            "description_tooltip": null,
            "layout": "IPY_MODEL_8310c6e7ab3b4df3b315289ea538b0cd",
            "placeholder": "​",
            "style": "IPY_MODEL_80cf2179717746b09b72ae14827b1582",
            "value": "README.md: "
          }
        },
        "97e76bd760454daa91d7160e5ada153a": {
          "model_module": "@jupyter-widgets/controls",
          "model_module_version": "1.5.0",
          "model_name": "ProgressStyleModel",
          "state": {
            "_model_module": "@jupyter-widgets/controls",
            "_model_module_version": "1.5.0",
            "_model_name": "ProgressStyleModel",
            "_view_count": null,
            "_view_module": "@jupyter-widgets/base",
            "_view_module_version": "1.2.0",
            "_view_name": "StyleView",
            "bar_color": null,
            "description_width": ""
          }
        },
        "99e510f250cd4dc99757308ff4c37797": {
          "model_module": "@jupyter-widgets/controls",
          "model_module_version": "1.5.0",
          "model_name": "HBoxModel",
          "state": {
            "_dom_classes": [],
            "_model_module": "@jupyter-widgets/controls",
            "_model_module_version": "1.5.0",
            "_model_name": "HBoxModel",
            "_view_count": null,
            "_view_module": "@jupyter-widgets/controls",
            "_view_module_version": "1.5.0",
            "_view_name": "HBoxView",
            "box_style": "",
            "children": [
              "IPY_MODEL_07c1469557f14a92b4bf36f913e7c384",
              "IPY_MODEL_308896670f014bdb8fc2c71fab0957d3",
              "IPY_MODEL_3e57cac9ba0b447eac56d54a965191fc"
            ],
            "layout": "IPY_MODEL_f5eeaf6b133c424284492520fe243fd6"
          }
        },
        "99f2af1a9ab54e1487373c07c461ba3c": {
          "model_module": "@jupyter-widgets/controls",
          "model_module_version": "1.5.0",
          "model_name": "DescriptionStyleModel",
          "state": {
            "_model_module": "@jupyter-widgets/controls",
            "_model_module_version": "1.5.0",
            "_model_name": "DescriptionStyleModel",
            "_view_count": null,
            "_view_module": "@jupyter-widgets/base",
            "_view_module_version": "1.2.0",
            "_view_name": "StyleView",
            "description_width": ""
          }
        },
        "9e1ef541e56347d29abc5ff3130b514d": {
          "model_module": "@jupyter-widgets/controls",
          "model_module_version": "1.5.0",
          "model_name": "ProgressStyleModel",
          "state": {
            "_model_module": "@jupyter-widgets/controls",
            "_model_module_version": "1.5.0",
            "_model_name": "ProgressStyleModel",
            "_view_count": null,
            "_view_module": "@jupyter-widgets/base",
            "_view_module_version": "1.2.0",
            "_view_name": "StyleView",
            "bar_color": null,
            "description_width": ""
          }
        },
        "a1c65d743e4a42699010c7438b4bb5c6": {
          "model_module": "@jupyter-widgets/controls",
          "model_module_version": "1.5.0",
          "model_name": "FloatProgressModel",
          "state": {
            "_dom_classes": [],
            "_model_module": "@jupyter-widgets/controls",
            "_model_module_version": "1.5.0",
            "_model_name": "FloatProgressModel",
            "_view_count": null,
            "_view_module": "@jupyter-widgets/controls",
            "_view_module_version": "1.5.0",
            "_view_name": "ProgressView",
            "bar_style": "success",
            "description": "",
            "description_tooltip": null,
            "layout": "IPY_MODEL_a452517413ab4837a15fd0878b6eaa91",
            "max": 13,
            "min": 0,
            "orientation": "horizontal",
            "style": "IPY_MODEL_187ea1c43ef242289bbcb2c1a40014fb",
            "value": 13
          }
        },
        "a1d2f05aa0314725abce3d71d6260255": {
          "model_module": "@jupyter-widgets/base",
          "model_module_version": "1.2.0",
          "model_name": "LayoutModel",
          "state": {
            "_model_module": "@jupyter-widgets/base",
            "_model_module_version": "1.2.0",
            "_model_name": "LayoutModel",
            "_view_count": null,
            "_view_module": "@jupyter-widgets/base",
            "_view_module_version": "1.2.0",
            "_view_name": "LayoutView",
            "align_content": null,
            "align_items": null,
            "align_self": null,
            "border": null,
            "bottom": null,
            "display": null,
            "flex": null,
            "flex_flow": null,
            "grid_area": null,
            "grid_auto_columns": null,
            "grid_auto_flow": null,
            "grid_auto_rows": null,
            "grid_column": null,
            "grid_gap": null,
            "grid_row": null,
            "grid_template_areas": null,
            "grid_template_columns": null,
            "grid_template_rows": null,
            "height": null,
            "justify_content": null,
            "justify_items": null,
            "left": null,
            "margin": null,
            "max_height": null,
            "max_width": null,
            "min_height": null,
            "min_width": null,
            "object_fit": null,
            "object_position": null,
            "order": null,
            "overflow": null,
            "overflow_x": null,
            "overflow_y": null,
            "padding": null,
            "right": null,
            "top": null,
            "visibility": null,
            "width": null
          }
        },
        "a452517413ab4837a15fd0878b6eaa91": {
          "model_module": "@jupyter-widgets/base",
          "model_module_version": "1.2.0",
          "model_name": "LayoutModel",
          "state": {
            "_model_module": "@jupyter-widgets/base",
            "_model_module_version": "1.2.0",
            "_model_name": "LayoutModel",
            "_view_count": null,
            "_view_module": "@jupyter-widgets/base",
            "_view_module_version": "1.2.0",
            "_view_name": "LayoutView",
            "align_content": null,
            "align_items": null,
            "align_self": null,
            "border": null,
            "bottom": null,
            "display": null,
            "flex": null,
            "flex_flow": null,
            "grid_area": null,
            "grid_auto_columns": null,
            "grid_auto_flow": null,
            "grid_auto_rows": null,
            "grid_column": null,
            "grid_gap": null,
            "grid_row": null,
            "grid_template_areas": null,
            "grid_template_columns": null,
            "grid_template_rows": null,
            "height": null,
            "justify_content": null,
            "justify_items": null,
            "left": null,
            "margin": null,
            "max_height": null,
            "max_width": null,
            "min_height": null,
            "min_width": null,
            "object_fit": null,
            "object_position": null,
            "order": null,
            "overflow": null,
            "overflow_x": null,
            "overflow_y": null,
            "padding": null,
            "right": null,
            "top": null,
            "visibility": null,
            "width": null
          }
        },
        "a709e26e7c0e43d4907631617292cd3e": {
          "model_module": "@jupyter-widgets/controls",
          "model_module_version": "1.5.0",
          "model_name": "DescriptionStyleModel",
          "state": {
            "_model_module": "@jupyter-widgets/controls",
            "_model_module_version": "1.5.0",
            "_model_name": "DescriptionStyleModel",
            "_view_count": null,
            "_view_module": "@jupyter-widgets/base",
            "_view_module_version": "1.2.0",
            "_view_name": "StyleView",
            "description_width": ""
          }
        },
        "a7541caf08d541f1b76e30b049c87cb8": {
          "model_module": "@jupyter-widgets/controls",
          "model_module_version": "1.5.0",
          "model_name": "HTMLModel",
          "state": {
            "_dom_classes": [],
            "_model_module": "@jupyter-widgets/controls",
            "_model_module_version": "1.5.0",
            "_model_name": "HTMLModel",
            "_view_count": null,
            "_view_module": "@jupyter-widgets/controls",
            "_view_module_version": "1.5.0",
            "_view_name": "HTMLView",
            "description": "",
            "description_tooltip": null,
            "layout": "IPY_MODEL_4c8ad9c89ec54ad39a9486e4b092ef4c",
            "placeholder": "​",
            "style": "IPY_MODEL_f03dcb782cfa41d691db6e265af7982c",
            "value": " 190/190 [00:00&lt;00:00, 25.7kB/s]"
          }
        },
        "a7f6863bf3284d2a934dfd3bfd35675e": {
          "model_module": "@jupyter-widgets/base",
          "model_module_version": "1.2.0",
          "model_name": "LayoutModel",
          "state": {
            "_model_module": "@jupyter-widgets/base",
            "_model_module_version": "1.2.0",
            "_model_name": "LayoutModel",
            "_view_count": null,
            "_view_module": "@jupyter-widgets/base",
            "_view_module_version": "1.2.0",
            "_view_name": "LayoutView",
            "align_content": null,
            "align_items": null,
            "align_self": null,
            "border": null,
            "bottom": null,
            "display": null,
            "flex": null,
            "flex_flow": null,
            "grid_area": null,
            "grid_auto_columns": null,
            "grid_auto_flow": null,
            "grid_auto_rows": null,
            "grid_column": null,
            "grid_gap": null,
            "grid_row": null,
            "grid_template_areas": null,
            "grid_template_columns": null,
            "grid_template_rows": null,
            "height": null,
            "justify_content": null,
            "justify_items": null,
            "left": null,
            "margin": null,
            "max_height": null,
            "max_width": null,
            "min_height": null,
            "min_width": null,
            "object_fit": null,
            "object_position": null,
            "order": null,
            "overflow": null,
            "overflow_x": null,
            "overflow_y": null,
            "padding": null,
            "right": null,
            "top": null,
            "visibility": null,
            "width": null
          }
        },
        "a8b0db36c6b34c3b9704efa5064a56af": {
          "model_module": "@jupyter-widgets/controls",
          "model_module_version": "1.5.0",
          "model_name": "HBoxModel",
          "state": {
            "_dom_classes": [],
            "_model_module": "@jupyter-widgets/controls",
            "_model_module_version": "1.5.0",
            "_model_name": "HBoxModel",
            "_view_count": null,
            "_view_module": "@jupyter-widgets/controls",
            "_view_module_version": "1.5.0",
            "_view_name": "HBoxView",
            "box_style": "",
            "children": [
              "IPY_MODEL_ae57de3415fa4f4aa7dacd7170daafed",
              "IPY_MODEL_2966c74e68ec4db28a5e3a9104051d32",
              "IPY_MODEL_8d698816bb204f398c8f98629d0e73e7"
            ],
            "layout": "IPY_MODEL_b8b1d96870fa49018c98ff4cd402f872"
          }
        },
        "a8b32a0ee84b45d9910f88651a0435ed": {
          "model_module": "@jupyter-widgets/controls",
          "model_module_version": "1.5.0",
          "model_name": "DescriptionStyleModel",
          "state": {
            "_model_module": "@jupyter-widgets/controls",
            "_model_module_version": "1.5.0",
            "_model_name": "DescriptionStyleModel",
            "_view_count": null,
            "_view_module": "@jupyter-widgets/base",
            "_view_module_version": "1.2.0",
            "_view_name": "StyleView",
            "description_width": ""
          }
        },
        "a967c90cb0094960b963faca9d41e72a": {
          "model_module": "@jupyter-widgets/base",
          "model_module_version": "1.2.0",
          "model_name": "LayoutModel",
          "state": {
            "_model_module": "@jupyter-widgets/base",
            "_model_module_version": "1.2.0",
            "_model_name": "LayoutModel",
            "_view_count": null,
            "_view_module": "@jupyter-widgets/base",
            "_view_module_version": "1.2.0",
            "_view_name": "LayoutView",
            "align_content": null,
            "align_items": null,
            "align_self": null,
            "border": null,
            "bottom": null,
            "display": null,
            "flex": null,
            "flex_flow": null,
            "grid_area": null,
            "grid_auto_columns": null,
            "grid_auto_flow": null,
            "grid_auto_rows": null,
            "grid_column": null,
            "grid_gap": null,
            "grid_row": null,
            "grid_template_areas": null,
            "grid_template_columns": null,
            "grid_template_rows": null,
            "height": null,
            "justify_content": null,
            "justify_items": null,
            "left": null,
            "margin": null,
            "max_height": null,
            "max_width": null,
            "min_height": null,
            "min_width": null,
            "object_fit": null,
            "object_position": null,
            "order": null,
            "overflow": null,
            "overflow_x": null,
            "overflow_y": null,
            "padding": null,
            "right": null,
            "top": null,
            "visibility": null,
            "width": null
          }
        },
        "ae57de3415fa4f4aa7dacd7170daafed": {
          "model_module": "@jupyter-widgets/controls",
          "model_module_version": "1.5.0",
          "model_name": "HTMLModel",
          "state": {
            "_dom_classes": [],
            "_model_module": "@jupyter-widgets/controls",
            "_model_module_version": "1.5.0",
            "_model_name": "HTMLModel",
            "_view_count": null,
            "_view_module": "@jupyter-widgets/controls",
            "_view_module_version": "1.5.0",
            "_view_name": "HTMLView",
            "description": "",
            "description_tooltip": null,
            "layout": "IPY_MODEL_ee7cab43e02f41c18f911939b7bd9c27",
            "placeholder": "​",
            "style": "IPY_MODEL_be20bfde0f9542868e921ed368f2c28b",
            "value": "generation_config.json: 100%"
          }
        },
        "aeb906745a394d29b5bf1c894a247e36": {
          "model_module": "@jupyter-widgets/controls",
          "model_module_version": "1.5.0",
          "model_name": "DescriptionStyleModel",
          "state": {
            "_model_module": "@jupyter-widgets/controls",
            "_model_module_version": "1.5.0",
            "_model_name": "DescriptionStyleModel",
            "_view_count": null,
            "_view_module": "@jupyter-widgets/base",
            "_view_module_version": "1.2.0",
            "_view_name": "StyleView",
            "description_width": ""
          }
        },
        "aefcaf2b972c47029be071a0b3992ea7": {
          "model_module": "@jupyter-widgets/controls",
          "model_module_version": "1.5.0",
          "model_name": "DescriptionStyleModel",
          "state": {
            "_model_module": "@jupyter-widgets/controls",
            "_model_module_version": "1.5.0",
            "_model_name": "DescriptionStyleModel",
            "_view_count": null,
            "_view_module": "@jupyter-widgets/base",
            "_view_module_version": "1.2.0",
            "_view_name": "StyleView",
            "description_width": ""
          }
        },
        "af449b969ceb4bb1822a365a2085203a": {
          "model_module": "@jupyter-widgets/base",
          "model_module_version": "1.2.0",
          "model_name": "LayoutModel",
          "state": {
            "_model_module": "@jupyter-widgets/base",
            "_model_module_version": "1.2.0",
            "_model_name": "LayoutModel",
            "_view_count": null,
            "_view_module": "@jupyter-widgets/base",
            "_view_module_version": "1.2.0",
            "_view_name": "LayoutView",
            "align_content": null,
            "align_items": null,
            "align_self": null,
            "border": null,
            "bottom": null,
            "display": null,
            "flex": null,
            "flex_flow": null,
            "grid_area": null,
            "grid_auto_columns": null,
            "grid_auto_flow": null,
            "grid_auto_rows": null,
            "grid_column": null,
            "grid_gap": null,
            "grid_row": null,
            "grid_template_areas": null,
            "grid_template_columns": null,
            "grid_template_rows": null,
            "height": null,
            "justify_content": null,
            "justify_items": null,
            "left": null,
            "margin": null,
            "max_height": null,
            "max_width": null,
            "min_height": null,
            "min_width": null,
            "object_fit": null,
            "object_position": null,
            "order": null,
            "overflow": null,
            "overflow_x": null,
            "overflow_y": null,
            "padding": null,
            "right": null,
            "top": null,
            "visibility": null,
            "width": null
          }
        },
        "af6917cfdea74207a03638147469b918": {
          "model_module": "@jupyter-widgets/controls",
          "model_module_version": "1.5.0",
          "model_name": "DescriptionStyleModel",
          "state": {
            "_model_module": "@jupyter-widgets/controls",
            "_model_module_version": "1.5.0",
            "_model_name": "DescriptionStyleModel",
            "_view_count": null,
            "_view_module": "@jupyter-widgets/base",
            "_view_module_version": "1.2.0",
            "_view_name": "StyleView",
            "description_width": ""
          }
        },
        "b230b01ebaec4292b7b5e600d40762b2": {
          "model_module": "@jupyter-widgets/base",
          "model_module_version": "1.2.0",
          "model_name": "LayoutModel",
          "state": {
            "_model_module": "@jupyter-widgets/base",
            "_model_module_version": "1.2.0",
            "_model_name": "LayoutModel",
            "_view_count": null,
            "_view_module": "@jupyter-widgets/base",
            "_view_module_version": "1.2.0",
            "_view_name": "LayoutView",
            "align_content": null,
            "align_items": null,
            "align_self": null,
            "border": null,
            "bottom": null,
            "display": null,
            "flex": null,
            "flex_flow": null,
            "grid_area": null,
            "grid_auto_columns": null,
            "grid_auto_flow": null,
            "grid_auto_rows": null,
            "grid_column": null,
            "grid_gap": null,
            "grid_row": null,
            "grid_template_areas": null,
            "grid_template_columns": null,
            "grid_template_rows": null,
            "height": null,
            "justify_content": null,
            "justify_items": null,
            "left": null,
            "margin": null,
            "max_height": null,
            "max_width": null,
            "min_height": null,
            "min_width": null,
            "object_fit": null,
            "object_position": null,
            "order": null,
            "overflow": null,
            "overflow_x": null,
            "overflow_y": null,
            "padding": null,
            "right": null,
            "top": null,
            "visibility": null,
            "width": null
          }
        },
        "b2583a31ece3468c9cd5b863383d9240": {
          "model_module": "@jupyter-widgets/controls",
          "model_module_version": "1.5.0",
          "model_name": "FloatProgressModel",
          "state": {
            "_dom_classes": [],
            "_model_module": "@jupyter-widgets/controls",
            "_model_module_version": "1.5.0",
            "_model_name": "FloatProgressModel",
            "_view_count": null,
            "_view_module": "@jupyter-widgets/controls",
            "_view_module_version": "1.5.0",
            "_view_name": "ProgressView",
            "bar_style": "success",
            "description": "",
            "description_tooltip": null,
            "layout": "IPY_MODEL_84ffb0539ee94104b754815b9caebe87",
            "max": 1,
            "min": 0,
            "orientation": "horizontal",
            "style": "IPY_MODEL_059ead11de8b4c33a3b21745f0c3dc4b",
            "value": 1
          }
        },
        "b31380d5ad3a4b639b849c3f795397e0": {
          "model_module": "@jupyter-widgets/controls",
          "model_module_version": "1.5.0",
          "model_name": "FloatProgressModel",
          "state": {
            "_dom_classes": [],
            "_model_module": "@jupyter-widgets/controls",
            "_model_module_version": "1.5.0",
            "_model_name": "FloatProgressModel",
            "_view_count": null,
            "_view_module": "@jupyter-widgets/controls",
            "_view_module_version": "1.5.0",
            "_view_name": "ProgressView",
            "bar_style": "success",
            "description": "",
            "description_tooltip": null,
            "layout": "IPY_MODEL_67737e87ca2e44e1b4d8020f291b229c",
            "max": 990345061,
            "min": 0,
            "orientation": "horizontal",
            "style": "IPY_MODEL_fbb55e79bb4c45dda21dd751d4144f45",
            "value": 990345061
          }
        },
        "b41873cfc6c045e994c7da1777401be9": {
          "model_module": "@jupyter-widgets/base",
          "model_module_version": "1.2.0",
          "model_name": "LayoutModel",
          "state": {
            "_model_module": "@jupyter-widgets/base",
            "_model_module_version": "1.2.0",
            "_model_name": "LayoutModel",
            "_view_count": null,
            "_view_module": "@jupyter-widgets/base",
            "_view_module_version": "1.2.0",
            "_view_name": "LayoutView",
            "align_content": null,
            "align_items": null,
            "align_self": null,
            "border": null,
            "bottom": null,
            "display": null,
            "flex": null,
            "flex_flow": null,
            "grid_area": null,
            "grid_auto_columns": null,
            "grid_auto_flow": null,
            "grid_auto_rows": null,
            "grid_column": null,
            "grid_gap": null,
            "grid_row": null,
            "grid_template_areas": null,
            "grid_template_columns": null,
            "grid_template_rows": null,
            "height": null,
            "justify_content": null,
            "justify_items": null,
            "left": null,
            "margin": null,
            "max_height": null,
            "max_width": null,
            "min_height": null,
            "min_width": null,
            "object_fit": null,
            "object_position": null,
            "order": null,
            "overflow": null,
            "overflow_x": null,
            "overflow_y": null,
            "padding": null,
            "right": null,
            "top": null,
            "visibility": null,
            "width": null
          }
        },
        "b8b1d96870fa49018c98ff4cd402f872": {
          "model_module": "@jupyter-widgets/base",
          "model_module_version": "1.2.0",
          "model_name": "LayoutModel",
          "state": {
            "_model_module": "@jupyter-widgets/base",
            "_model_module_version": "1.2.0",
            "_model_name": "LayoutModel",
            "_view_count": null,
            "_view_module": "@jupyter-widgets/base",
            "_view_module_version": "1.2.0",
            "_view_name": "LayoutView",
            "align_content": null,
            "align_items": null,
            "align_self": null,
            "border": null,
            "bottom": null,
            "display": null,
            "flex": null,
            "flex_flow": null,
            "grid_area": null,
            "grid_auto_columns": null,
            "grid_auto_flow": null,
            "grid_auto_rows": null,
            "grid_column": null,
            "grid_gap": null,
            "grid_row": null,
            "grid_template_areas": null,
            "grid_template_columns": null,
            "grid_template_rows": null,
            "height": null,
            "justify_content": null,
            "justify_items": null,
            "left": null,
            "margin": null,
            "max_height": null,
            "max_width": null,
            "min_height": null,
            "min_width": null,
            "object_fit": null,
            "object_position": null,
            "order": null,
            "overflow": null,
            "overflow_x": null,
            "overflow_y": null,
            "padding": null,
            "right": null,
            "top": null,
            "visibility": null,
            "width": null
          }
        },
        "ba5f7a0638b9471194a5665602c7949a": {
          "model_module": "@jupyter-widgets/controls",
          "model_module_version": "1.5.0",
          "model_name": "HBoxModel",
          "state": {
            "_dom_classes": [],
            "_model_module": "@jupyter-widgets/controls",
            "_model_module_version": "1.5.0",
            "_model_name": "HBoxModel",
            "_view_count": null,
            "_view_module": "@jupyter-widgets/controls",
            "_view_module_version": "1.5.0",
            "_view_name": "HBoxView",
            "box_style": "",
            "children": [
              "IPY_MODEL_410af1d25cf34d0985a89b7f2bee17e1",
              "IPY_MODEL_a1c65d743e4a42699010c7438b4bb5c6",
              "IPY_MODEL_963de9c1050746dd971200305dc2d615"
            ],
            "layout": "IPY_MODEL_103f8c70f8d246d4b3b9509d83817a0f"
          }
        },
        "bb436847f3a342d1bdd877a2d0af4e51": {
          "model_module": "@jupyter-widgets/controls",
          "model_module_version": "1.5.0",
          "model_name": "ProgressStyleModel",
          "state": {
            "_model_module": "@jupyter-widgets/controls",
            "_model_module_version": "1.5.0",
            "_model_name": "ProgressStyleModel",
            "_view_count": null,
            "_view_module": "@jupyter-widgets/base",
            "_view_module_version": "1.2.0",
            "_view_name": "StyleView",
            "bar_color": null,
            "description_width": ""
          }
        },
        "bb6d4b345386427795e8120bf9a3208f": {
          "model_module": "@jupyter-widgets/controls",
          "model_module_version": "1.5.0",
          "model_name": "HTMLModel",
          "state": {
            "_dom_classes": [],
            "_model_module": "@jupyter-widgets/controls",
            "_model_module_version": "1.5.0",
            "_model_name": "HTMLModel",
            "_view_count": null,
            "_view_module": "@jupyter-widgets/controls",
            "_view_module_version": "1.5.0",
            "_view_name": "HTMLView",
            "description": "",
            "description_tooltip": null,
            "layout": "IPY_MODEL_787747bddfce4e7abc6dff60d7538162",
            "placeholder": "​",
            "style": "IPY_MODEL_11f6897129b74c509b6000528b73d40d",
            "value": "tokenizer_config.json: 100%"
          }
        },
        "bbcafdf202bb4c27939f88c1ab242d85": {
          "model_module": "@jupyter-widgets/controls",
          "model_module_version": "1.5.0",
          "model_name": "HBoxModel",
          "state": {
            "_dom_classes": [],
            "_model_module": "@jupyter-widgets/controls",
            "_model_module_version": "1.5.0",
            "_model_name": "HBoxModel",
            "_view_count": null,
            "_view_module": "@jupyter-widgets/controls",
            "_view_module_version": "1.5.0",
            "_view_name": "HBoxView",
            "box_style": "",
            "children": [
              "IPY_MODEL_3173617e3eb84b099c20bf97d1c34941",
              "IPY_MODEL_f2f72a40464e4504a3e96cab8481aa35",
              "IPY_MODEL_ca75b3fa83d04e768cf1825d247f958b"
            ],
            "layout": "IPY_MODEL_81225845c2524796af71ec5ce26857d7"
          }
        },
        "bbf3576d737742bc8991400bdf51ef17": {
          "model_module": "@jupyter-widgets/controls",
          "model_module_version": "1.5.0",
          "model_name": "HBoxModel",
          "state": {
            "_dom_classes": [],
            "_model_module": "@jupyter-widgets/controls",
            "_model_module_version": "1.5.0",
            "_model_name": "HBoxModel",
            "_view_count": null,
            "_view_module": "@jupyter-widgets/controls",
            "_view_module_version": "1.5.0",
            "_view_name": "HBoxView",
            "box_style": "",
            "children": [
              "IPY_MODEL_9765c195fe424a308bcb3e49592964b1",
              "IPY_MODEL_874d4e86a82b43298ec99e4bb1b67c8b",
              "IPY_MODEL_2ad72911a5784415bc707de099b9348d"
            ],
            "layout": "IPY_MODEL_2acac88d9b7a47358f46960f37d5d2eb"
          }
        },
        "be1676299faa4f5bbfe8544aa70e8d4c": {
          "model_module": "@jupyter-widgets/controls",
          "model_module_version": "1.5.0",
          "model_name": "HBoxModel",
          "state": {
            "_dom_classes": [],
            "_model_module": "@jupyter-widgets/controls",
            "_model_module_version": "1.5.0",
            "_model_name": "HBoxModel",
            "_view_count": null,
            "_view_module": "@jupyter-widgets/controls",
            "_view_module_version": "1.5.0",
            "_view_name": "HBoxView",
            "box_style": "",
            "children": [
              "IPY_MODEL_e13035ad801b4d05b25a0e4372adc7db",
              "IPY_MODEL_b2583a31ece3468c9cd5b863383d9240",
              "IPY_MODEL_de9eb131ff074612a85efc6c310695bd"
            ],
            "layout": "IPY_MODEL_6592504ba65c4af98545646d59dd9cdf"
          }
        },
        "be20bfde0f9542868e921ed368f2c28b": {
          "model_module": "@jupyter-widgets/controls",
          "model_module_version": "1.5.0",
          "model_name": "DescriptionStyleModel",
          "state": {
            "_model_module": "@jupyter-widgets/controls",
            "_model_module_version": "1.5.0",
            "_model_name": "DescriptionStyleModel",
            "_view_count": null,
            "_view_module": "@jupyter-widgets/base",
            "_view_module_version": "1.2.0",
            "_view_name": "StyleView",
            "description_width": ""
          }
        },
        "bfb2a64e8ab3482db003a43e94d8f62f": {
          "model_module": "@jupyter-widgets/controls",
          "model_module_version": "1.5.0",
          "model_name": "HTMLModel",
          "state": {
            "_dom_classes": [],
            "_model_module": "@jupyter-widgets/controls",
            "_model_module_version": "1.5.0",
            "_model_name": "HTMLModel",
            "_view_count": null,
            "_view_module": "@jupyter-widgets/controls",
            "_view_module_version": "1.5.0",
            "_view_name": "HTMLView",
            "description": "",
            "description_tooltip": null,
            "layout": "IPY_MODEL_22d7520b3a9e4a3e8afaeb8b7cca7c9f",
            "placeholder": "​",
            "style": "IPY_MODEL_01905d8806754e6f953a5094dd9c7781",
            "value": " 990M/990M [00:05&lt;00:00, 194MB/s]"
          }
        },
        "c0549f365ab54bc3b484142a11984437": {
          "model_module": "@jupyter-widgets/base",
          "model_module_version": "1.2.0",
          "model_name": "LayoutModel",
          "state": {
            "_model_module": "@jupyter-widgets/base",
            "_model_module_version": "1.2.0",
            "_model_name": "LayoutModel",
            "_view_count": null,
            "_view_module": "@jupyter-widgets/base",
            "_view_module_version": "1.2.0",
            "_view_name": "LayoutView",
            "align_content": null,
            "align_items": null,
            "align_self": null,
            "border": null,
            "bottom": null,
            "display": null,
            "flex": null,
            "flex_flow": null,
            "grid_area": null,
            "grid_auto_columns": null,
            "grid_auto_flow": null,
            "grid_auto_rows": null,
            "grid_column": null,
            "grid_gap": null,
            "grid_row": null,
            "grid_template_areas": null,
            "grid_template_columns": null,
            "grid_template_rows": null,
            "height": null,
            "justify_content": null,
            "justify_items": null,
            "left": null,
            "margin": null,
            "max_height": null,
            "max_width": null,
            "min_height": null,
            "min_width": null,
            "object_fit": null,
            "object_position": null,
            "order": null,
            "overflow": null,
            "overflow_x": null,
            "overflow_y": null,
            "padding": null,
            "right": null,
            "top": null,
            "visibility": null,
            "width": null
          }
        },
        "c55e6975a8e6465089feebc4826d2f5a": {
          "model_module": "@jupyter-widgets/base",
          "model_module_version": "1.2.0",
          "model_name": "LayoutModel",
          "state": {
            "_model_module": "@jupyter-widgets/base",
            "_model_module_version": "1.2.0",
            "_model_name": "LayoutModel",
            "_view_count": null,
            "_view_module": "@jupyter-widgets/base",
            "_view_module_version": "1.2.0",
            "_view_name": "LayoutView",
            "align_content": null,
            "align_items": null,
            "align_self": null,
            "border": null,
            "bottom": null,
            "display": null,
            "flex": null,
            "flex_flow": null,
            "grid_area": null,
            "grid_auto_columns": null,
            "grid_auto_flow": null,
            "grid_auto_rows": null,
            "grid_column": null,
            "grid_gap": null,
            "grid_row": null,
            "grid_template_areas": null,
            "grid_template_columns": null,
            "grid_template_rows": null,
            "height": null,
            "justify_content": null,
            "justify_items": null,
            "left": null,
            "margin": null,
            "max_height": null,
            "max_width": null,
            "min_height": null,
            "min_width": null,
            "object_fit": null,
            "object_position": null,
            "order": null,
            "overflow": null,
            "overflow_x": null,
            "overflow_y": null,
            "padding": null,
            "right": null,
            "top": null,
            "visibility": null,
            "width": null
          }
        },
        "c6bf9f11ccc94e71b67d74034af1c685": {
          "model_module": "@jupyter-widgets/base",
          "model_module_version": "1.2.0",
          "model_name": "LayoutModel",
          "state": {
            "_model_module": "@jupyter-widgets/base",
            "_model_module_version": "1.2.0",
            "_model_name": "LayoutModel",
            "_view_count": null,
            "_view_module": "@jupyter-widgets/base",
            "_view_module_version": "1.2.0",
            "_view_name": "LayoutView",
            "align_content": null,
            "align_items": null,
            "align_self": null,
            "border": null,
            "bottom": null,
            "display": null,
            "flex": null,
            "flex_flow": null,
            "grid_area": null,
            "grid_auto_columns": null,
            "grid_auto_flow": null,
            "grid_auto_rows": null,
            "grid_column": null,
            "grid_gap": null,
            "grid_row": null,
            "grid_template_areas": null,
            "grid_template_columns": null,
            "grid_template_rows": null,
            "height": null,
            "justify_content": null,
            "justify_items": null,
            "left": null,
            "margin": null,
            "max_height": null,
            "max_width": null,
            "min_height": null,
            "min_width": null,
            "object_fit": null,
            "object_position": null,
            "order": null,
            "overflow": null,
            "overflow_x": null,
            "overflow_y": null,
            "padding": null,
            "right": null,
            "top": null,
            "visibility": null,
            "width": null
          }
        },
        "c7beb9be26b3424290ac6b440e3981a3": {
          "model_module": "@jupyter-widgets/controls",
          "model_module_version": "1.5.0",
          "model_name": "HBoxModel",
          "state": {
            "_dom_classes": [],
            "_model_module": "@jupyter-widgets/controls",
            "_model_module_version": "1.5.0",
            "_model_name": "HBoxModel",
            "_view_count": null,
            "_view_module": "@jupyter-widgets/controls",
            "_view_module_version": "1.5.0",
            "_view_name": "HBoxView",
            "box_style": "",
            "children": [
              "IPY_MODEL_2563636448364378b1a58a4f99dbddb0",
              "IPY_MODEL_479899f6df8c4c448c3723e65c730377",
              "IPY_MODEL_f5b44ba59a084b2dad9c59dcb03b84fc"
            ],
            "layout": "IPY_MODEL_ce9c40b28e814971ae8915745cf51339"
          }
        },
        "c9476a0e97a54f4dba2b88d1ee6c1599": {
          "model_module": "@jupyter-widgets/base",
          "model_module_version": "1.2.0",
          "model_name": "LayoutModel",
          "state": {
            "_model_module": "@jupyter-widgets/base",
            "_model_module_version": "1.2.0",
            "_model_name": "LayoutModel",
            "_view_count": null,
            "_view_module": "@jupyter-widgets/base",
            "_view_module_version": "1.2.0",
            "_view_name": "LayoutView",
            "align_content": null,
            "align_items": null,
            "align_self": null,
            "border": null,
            "bottom": null,
            "display": null,
            "flex": null,
            "flex_flow": null,
            "grid_area": null,
            "grid_auto_columns": null,
            "grid_auto_flow": null,
            "grid_auto_rows": null,
            "grid_column": null,
            "grid_gap": null,
            "grid_row": null,
            "grid_template_areas": null,
            "grid_template_columns": null,
            "grid_template_rows": null,
            "height": null,
            "justify_content": null,
            "justify_items": null,
            "left": null,
            "margin": null,
            "max_height": null,
            "max_width": null,
            "min_height": null,
            "min_width": null,
            "object_fit": null,
            "object_position": null,
            "order": null,
            "overflow": null,
            "overflow_x": null,
            "overflow_y": null,
            "padding": null,
            "right": null,
            "top": null,
            "visibility": null,
            "width": "20px"
          }
        },
        "ca75b3fa83d04e768cf1825d247f958b": {
          "model_module": "@jupyter-widgets/controls",
          "model_module_version": "1.5.0",
          "model_name": "HTMLModel",
          "state": {
            "_dom_classes": [],
            "_model_module": "@jupyter-widgets/controls",
            "_model_module_version": "1.5.0",
            "_model_name": "HTMLModel",
            "_view_count": null,
            "_view_module": "@jupyter-widgets/controls",
            "_view_module_version": "1.5.0",
            "_view_name": "HTMLView",
            "description": "",
            "description_tooltip": null,
            "layout": "IPY_MODEL_7319a7ef7fd24e1ca41401782a225766",
            "placeholder": "​",
            "style": "IPY_MODEL_121655b9b7804d64b3a618941d11a668",
            "value": " 53.0/53.0 [00:00&lt;00:00, 7.60kB/s]"
          }
        },
        "cb5a947989594bfeb7c0225ebd739078": {
          "model_module": "@jupyter-widgets/controls",
          "model_module_version": "1.5.0",
          "model_name": "DescriptionStyleModel",
          "state": {
            "_model_module": "@jupyter-widgets/controls",
            "_model_module_version": "1.5.0",
            "_model_name": "DescriptionStyleModel",
            "_view_count": null,
            "_view_module": "@jupyter-widgets/base",
            "_view_module_version": "1.2.0",
            "_view_name": "StyleView",
            "description_width": ""
          }
        },
        "cdbfbd520c1245ffb599b23ba4a1b39d": {
          "model_module": "@jupyter-widgets/controls",
          "model_module_version": "1.5.0",
          "model_name": "DescriptionStyleModel",
          "state": {
            "_model_module": "@jupyter-widgets/controls",
            "_model_module_version": "1.5.0",
            "_model_name": "DescriptionStyleModel",
            "_view_count": null,
            "_view_module": "@jupyter-widgets/base",
            "_view_module_version": "1.2.0",
            "_view_name": "StyleView",
            "description_width": ""
          }
        },
        "ce29e018bb884d3fa4ac33025ee5e56b": {
          "model_module": "@jupyter-widgets/base",
          "model_module_version": "1.2.0",
          "model_name": "LayoutModel",
          "state": {
            "_model_module": "@jupyter-widgets/base",
            "_model_module_version": "1.2.0",
            "_model_name": "LayoutModel",
            "_view_count": null,
            "_view_module": "@jupyter-widgets/base",
            "_view_module_version": "1.2.0",
            "_view_name": "LayoutView",
            "align_content": null,
            "align_items": null,
            "align_self": null,
            "border": null,
            "bottom": null,
            "display": null,
            "flex": null,
            "flex_flow": null,
            "grid_area": null,
            "grid_auto_columns": null,
            "grid_auto_flow": null,
            "grid_auto_rows": null,
            "grid_column": null,
            "grid_gap": null,
            "grid_row": null,
            "grid_template_areas": null,
            "grid_template_columns": null,
            "grid_template_rows": null,
            "height": null,
            "justify_content": null,
            "justify_items": null,
            "left": null,
            "margin": null,
            "max_height": null,
            "max_width": null,
            "min_height": null,
            "min_width": null,
            "object_fit": null,
            "object_position": null,
            "order": null,
            "overflow": null,
            "overflow_x": null,
            "overflow_y": null,
            "padding": null,
            "right": null,
            "top": null,
            "visibility": null,
            "width": null
          }
        },
        "ce9c40b28e814971ae8915745cf51339": {
          "model_module": "@jupyter-widgets/base",
          "model_module_version": "1.2.0",
          "model_name": "LayoutModel",
          "state": {
            "_model_module": "@jupyter-widgets/base",
            "_model_module_version": "1.2.0",
            "_model_name": "LayoutModel",
            "_view_count": null,
            "_view_module": "@jupyter-widgets/base",
            "_view_module_version": "1.2.0",
            "_view_name": "LayoutView",
            "align_content": null,
            "align_items": null,
            "align_self": null,
            "border": null,
            "bottom": null,
            "display": null,
            "flex": null,
            "flex_flow": null,
            "grid_area": null,
            "grid_auto_columns": null,
            "grid_auto_flow": null,
            "grid_auto_rows": null,
            "grid_column": null,
            "grid_gap": null,
            "grid_row": null,
            "grid_template_areas": null,
            "grid_template_columns": null,
            "grid_template_rows": null,
            "height": null,
            "justify_content": null,
            "justify_items": null,
            "left": null,
            "margin": null,
            "max_height": null,
            "max_width": null,
            "min_height": null,
            "min_width": null,
            "object_fit": null,
            "object_position": null,
            "order": null,
            "overflow": null,
            "overflow_x": null,
            "overflow_y": null,
            "padding": null,
            "right": null,
            "top": null,
            "visibility": null,
            "width": null
          }
        },
        "cf286c1602bd4245a1cb5693fc5c8093": {
          "model_module": "@jupyter-widgets/controls",
          "model_module_version": "1.5.0",
          "model_name": "FloatProgressModel",
          "state": {
            "_dom_classes": [],
            "_model_module": "@jupyter-widgets/controls",
            "_model_module_version": "1.5.0",
            "_model_name": "FloatProgressModel",
            "_view_count": null,
            "_view_module": "@jupyter-widgets/controls",
            "_view_module_version": "1.5.0",
            "_view_name": "ProgressView",
            "bar_style": "success",
            "description": "",
            "description_tooltip": null,
            "layout": "IPY_MODEL_c9476a0e97a54f4dba2b88d1ee6c1599",
            "max": 1,
            "min": 0,
            "orientation": "horizontal",
            "style": "IPY_MODEL_7fe448991dd344c186d62806236f4e2f",
            "value": 1
          }
        },
        "cf4c79ccbde942559aa12d8cbc0d1998": {
          "model_module": "@jupyter-widgets/controls",
          "model_module_version": "1.5.0",
          "model_name": "DescriptionStyleModel",
          "state": {
            "_model_module": "@jupyter-widgets/controls",
            "_model_module_version": "1.5.0",
            "_model_name": "DescriptionStyleModel",
            "_view_count": null,
            "_view_module": "@jupyter-widgets/base",
            "_view_module_version": "1.2.0",
            "_view_name": "StyleView",
            "description_width": ""
          }
        },
        "d0bc0dbdf30c4bcc9ecb09399adf56ef": {
          "model_module": "@jupyter-widgets/base",
          "model_module_version": "1.2.0",
          "model_name": "LayoutModel",
          "state": {
            "_model_module": "@jupyter-widgets/base",
            "_model_module_version": "1.2.0",
            "_model_name": "LayoutModel",
            "_view_count": null,
            "_view_module": "@jupyter-widgets/base",
            "_view_module_version": "1.2.0",
            "_view_name": "LayoutView",
            "align_content": null,
            "align_items": null,
            "align_self": null,
            "border": null,
            "bottom": null,
            "display": null,
            "flex": null,
            "flex_flow": null,
            "grid_area": null,
            "grid_auto_columns": null,
            "grid_auto_flow": null,
            "grid_auto_rows": null,
            "grid_column": null,
            "grid_gap": null,
            "grid_row": null,
            "grid_template_areas": null,
            "grid_template_columns": null,
            "grid_template_rows": null,
            "height": null,
            "justify_content": null,
            "justify_items": null,
            "left": null,
            "margin": null,
            "max_height": null,
            "max_width": null,
            "min_height": null,
            "min_width": null,
            "object_fit": null,
            "object_position": null,
            "order": null,
            "overflow": null,
            "overflow_x": null,
            "overflow_y": null,
            "padding": null,
            "right": null,
            "top": null,
            "visibility": null,
            "width": null
          }
        },
        "d3515521b7614749b78ad70c0fba8463": {
          "model_module": "@jupyter-widgets/base",
          "model_module_version": "1.2.0",
          "model_name": "LayoutModel",
          "state": {
            "_model_module": "@jupyter-widgets/base",
            "_model_module_version": "1.2.0",
            "_model_name": "LayoutModel",
            "_view_count": null,
            "_view_module": "@jupyter-widgets/base",
            "_view_module_version": "1.2.0",
            "_view_name": "LayoutView",
            "align_content": null,
            "align_items": null,
            "align_self": null,
            "border": null,
            "bottom": null,
            "display": null,
            "flex": null,
            "flex_flow": null,
            "grid_area": null,
            "grid_auto_columns": null,
            "grid_auto_flow": null,
            "grid_auto_rows": null,
            "grid_column": null,
            "grid_gap": null,
            "grid_row": null,
            "grid_template_areas": null,
            "grid_template_columns": null,
            "grid_template_rows": null,
            "height": null,
            "justify_content": null,
            "justify_items": null,
            "left": null,
            "margin": null,
            "max_height": null,
            "max_width": null,
            "min_height": null,
            "min_width": null,
            "object_fit": null,
            "object_position": null,
            "order": null,
            "overflow": null,
            "overflow_x": null,
            "overflow_y": null,
            "padding": null,
            "right": null,
            "top": null,
            "visibility": null,
            "width": null
          }
        },
        "d53bab4e249343969c0b4b1b85e207a8": {
          "model_module": "@jupyter-widgets/controls",
          "model_module_version": "1.5.0",
          "model_name": "HBoxModel",
          "state": {
            "_dom_classes": [],
            "_model_module": "@jupyter-widgets/controls",
            "_model_module_version": "1.5.0",
            "_model_name": "HBoxModel",
            "_view_count": null,
            "_view_module": "@jupyter-widgets/controls",
            "_view_module_version": "1.5.0",
            "_view_name": "HBoxView",
            "box_style": "",
            "children": [
              "IPY_MODEL_de1cd6208bd7426a80b85d91c0de353a",
              "IPY_MODEL_7e8d7ef37d45457f9c6354b1c609ce4e",
              "IPY_MODEL_fb097c07d48646cdb9918d5a97c95e61"
            ],
            "layout": "IPY_MODEL_c6bf9f11ccc94e71b67d74034af1c685"
          }
        },
        "d78101abfce143918fee8fea7137f00e": {
          "model_module": "@jupyter-widgets/base",
          "model_module_version": "1.2.0",
          "model_name": "LayoutModel",
          "state": {
            "_model_module": "@jupyter-widgets/base",
            "_model_module_version": "1.2.0",
            "_model_name": "LayoutModel",
            "_view_count": null,
            "_view_module": "@jupyter-widgets/base",
            "_view_module_version": "1.2.0",
            "_view_name": "LayoutView",
            "align_content": null,
            "align_items": null,
            "align_self": null,
            "border": null,
            "bottom": null,
            "display": null,
            "flex": null,
            "flex_flow": null,
            "grid_area": null,
            "grid_auto_columns": null,
            "grid_auto_flow": null,
            "grid_auto_rows": null,
            "grid_column": null,
            "grid_gap": null,
            "grid_row": null,
            "grid_template_areas": null,
            "grid_template_columns": null,
            "grid_template_rows": null,
            "height": null,
            "justify_content": null,
            "justify_items": null,
            "left": null,
            "margin": null,
            "max_height": null,
            "max_width": null,
            "min_height": null,
            "min_width": null,
            "object_fit": null,
            "object_position": null,
            "order": null,
            "overflow": null,
            "overflow_x": null,
            "overflow_y": null,
            "padding": null,
            "right": null,
            "top": null,
            "visibility": null,
            "width": null
          }
        },
        "de1cd6208bd7426a80b85d91c0de353a": {
          "model_module": "@jupyter-widgets/controls",
          "model_module_version": "1.5.0",
          "model_name": "HTMLModel",
          "state": {
            "_dom_classes": [],
            "_model_module": "@jupyter-widgets/controls",
            "_model_module_version": "1.5.0",
            "_model_name": "HTMLModel",
            "_view_count": null,
            "_view_module": "@jupyter-widgets/controls",
            "_view_module_version": "1.5.0",
            "_view_name": "HTMLView",
            "description": "",
            "description_tooltip": null,
            "layout": "IPY_MODEL_a967c90cb0094960b963faca9d41e72a",
            "placeholder": "​",
            "style": "IPY_MODEL_e3b010dd43d6443fb628713a92070da1",
            "value": "tokenizer_config.json: "
          }
        },
        "de9eb131ff074612a85efc6c310695bd": {
          "model_module": "@jupyter-widgets/controls",
          "model_module_version": "1.5.0",
          "model_name": "HTMLModel",
          "state": {
            "_dom_classes": [],
            "_model_module": "@jupyter-widgets/controls",
            "_model_module_version": "1.5.0",
            "_model_name": "HTMLModel",
            "_view_count": null,
            "_view_module": "@jupyter-widgets/controls",
            "_view_module_version": "1.5.0",
            "_view_name": "HTMLView",
            "description": "",
            "description_tooltip": null,
            "layout": "IPY_MODEL_43c6c3e98cf6499d9c1bc8807ff18e3a",
            "placeholder": "​",
            "style": "IPY_MODEL_fe426c74687144a2af5738f0a34442a9",
            "value": " 1.40k/? [00:00&lt;00:00, 190kB/s]"
          }
        },
        "e13035ad801b4d05b25a0e4372adc7db": {
          "model_module": "@jupyter-widgets/controls",
          "model_module_version": "1.5.0",
          "model_name": "HTMLModel",
          "state": {
            "_dom_classes": [],
            "_model_module": "@jupyter-widgets/controls",
            "_model_module_version": "1.5.0",
            "_model_name": "HTMLModel",
            "_view_count": null,
            "_view_module": "@jupyter-widgets/controls",
            "_view_module_version": "1.5.0",
            "_view_name": "HTMLView",
            "description": "",
            "description_tooltip": null,
            "layout": "IPY_MODEL_15b458c8b9f84769ac4262ae8ea26875",
            "placeholder": "​",
            "style": "IPY_MODEL_aeb906745a394d29b5bf1c894a247e36",
            "value": "config.json: "
          }
        },
        "e3272793f0c442afa7159d520bc46a28": {
          "model_module": "@jupyter-widgets/base",
          "model_module_version": "1.2.0",
          "model_name": "LayoutModel",
          "state": {
            "_model_module": "@jupyter-widgets/base",
            "_model_module_version": "1.2.0",
            "_model_name": "LayoutModel",
            "_view_count": null,
            "_view_module": "@jupyter-widgets/base",
            "_view_module_version": "1.2.0",
            "_view_name": "LayoutView",
            "align_content": null,
            "align_items": null,
            "align_self": null,
            "border": null,
            "bottom": null,
            "display": null,
            "flex": null,
            "flex_flow": null,
            "grid_area": null,
            "grid_auto_columns": null,
            "grid_auto_flow": null,
            "grid_auto_rows": null,
            "grid_column": null,
            "grid_gap": null,
            "grid_row": null,
            "grid_template_areas": null,
            "grid_template_columns": null,
            "grid_template_rows": null,
            "height": null,
            "justify_content": null,
            "justify_items": null,
            "left": null,
            "margin": null,
            "max_height": null,
            "max_width": null,
            "min_height": null,
            "min_width": null,
            "object_fit": null,
            "object_position": null,
            "order": null,
            "overflow": null,
            "overflow_x": null,
            "overflow_y": null,
            "padding": null,
            "right": null,
            "top": null,
            "visibility": null,
            "width": null
          }
        },
        "e3b010dd43d6443fb628713a92070da1": {
          "model_module": "@jupyter-widgets/controls",
          "model_module_version": "1.5.0",
          "model_name": "DescriptionStyleModel",
          "state": {
            "_model_module": "@jupyter-widgets/controls",
            "_model_module_version": "1.5.0",
            "_model_name": "DescriptionStyleModel",
            "_view_count": null,
            "_view_module": "@jupyter-widgets/base",
            "_view_module_version": "1.2.0",
            "_view_name": "StyleView",
            "description_width": ""
          }
        },
        "e49f923d0ab84154b6b92c3e032a3722": {
          "model_module": "@jupyter-widgets/controls",
          "model_module_version": "1.5.0",
          "model_name": "DescriptionStyleModel",
          "state": {
            "_model_module": "@jupyter-widgets/controls",
            "_model_module_version": "1.5.0",
            "_model_name": "DescriptionStyleModel",
            "_view_count": null,
            "_view_module": "@jupyter-widgets/base",
            "_view_module_version": "1.2.0",
            "_view_name": "StyleView",
            "description_width": ""
          }
        },
        "e4c982978dd341d78348462706437357": {
          "model_module": "@jupyter-widgets/base",
          "model_module_version": "1.2.0",
          "model_name": "LayoutModel",
          "state": {
            "_model_module": "@jupyter-widgets/base",
            "_model_module_version": "1.2.0",
            "_model_name": "LayoutModel",
            "_view_count": null,
            "_view_module": "@jupyter-widgets/base",
            "_view_module_version": "1.2.0",
            "_view_name": "LayoutView",
            "align_content": null,
            "align_items": null,
            "align_self": null,
            "border": null,
            "bottom": null,
            "display": null,
            "flex": null,
            "flex_flow": null,
            "grid_area": null,
            "grid_auto_columns": null,
            "grid_auto_flow": null,
            "grid_auto_rows": null,
            "grid_column": null,
            "grid_gap": null,
            "grid_row": null,
            "grid_template_areas": null,
            "grid_template_columns": null,
            "grid_template_rows": null,
            "height": null,
            "justify_content": null,
            "justify_items": null,
            "left": null,
            "margin": null,
            "max_height": null,
            "max_width": null,
            "min_height": null,
            "min_width": null,
            "object_fit": null,
            "object_position": null,
            "order": null,
            "overflow": null,
            "overflow_x": null,
            "overflow_y": null,
            "padding": null,
            "right": null,
            "top": null,
            "visibility": null,
            "width": null
          }
        },
        "e503c7779582450088272064c16e7076": {
          "model_module": "@jupyter-widgets/base",
          "model_module_version": "1.2.0",
          "model_name": "LayoutModel",
          "state": {
            "_model_module": "@jupyter-widgets/base",
            "_model_module_version": "1.2.0",
            "_model_name": "LayoutModel",
            "_view_count": null,
            "_view_module": "@jupyter-widgets/base",
            "_view_module_version": "1.2.0",
            "_view_name": "LayoutView",
            "align_content": null,
            "align_items": null,
            "align_self": null,
            "border": null,
            "bottom": null,
            "display": null,
            "flex": null,
            "flex_flow": null,
            "grid_area": null,
            "grid_auto_columns": null,
            "grid_auto_flow": null,
            "grid_auto_rows": null,
            "grid_column": null,
            "grid_gap": null,
            "grid_row": null,
            "grid_template_areas": null,
            "grid_template_columns": null,
            "grid_template_rows": null,
            "height": null,
            "justify_content": null,
            "justify_items": null,
            "left": null,
            "margin": null,
            "max_height": null,
            "max_width": null,
            "min_height": null,
            "min_width": null,
            "object_fit": null,
            "object_position": null,
            "order": null,
            "overflow": null,
            "overflow_x": null,
            "overflow_y": null,
            "padding": null,
            "right": null,
            "top": null,
            "visibility": null,
            "width": null
          }
        },
        "e508f9ccec7f41b695549a9cd117e21d": {
          "model_module": "@jupyter-widgets/controls",
          "model_module_version": "1.5.0",
          "model_name": "FloatProgressModel",
          "state": {
            "_dom_classes": [],
            "_model_module": "@jupyter-widgets/controls",
            "_model_module_version": "1.5.0",
            "_model_name": "FloatProgressModel",
            "_view_count": null,
            "_view_module": "@jupyter-widgets/controls",
            "_view_module_version": "1.5.0",
            "_view_name": "ProgressView",
            "bar_style": "success",
            "description": "",
            "description_tooltip": null,
            "layout": "IPY_MODEL_41d6341cd7814b21a655c9108d3c3fc2",
            "max": 1,
            "min": 0,
            "orientation": "horizontal",
            "style": "IPY_MODEL_0d34fd28d92744ed814fa6b7b8860452",
            "value": 1
          }
        },
        "e5bf95ee01654549924bd323c30f482b": {
          "model_module": "@jupyter-widgets/base",
          "model_module_version": "1.2.0",
          "model_name": "LayoutModel",
          "state": {
            "_model_module": "@jupyter-widgets/base",
            "_model_module_version": "1.2.0",
            "_model_name": "LayoutModel",
            "_view_count": null,
            "_view_module": "@jupyter-widgets/base",
            "_view_module_version": "1.2.0",
            "_view_name": "LayoutView",
            "align_content": null,
            "align_items": null,
            "align_self": null,
            "border": null,
            "bottom": null,
            "display": null,
            "flex": null,
            "flex_flow": null,
            "grid_area": null,
            "grid_auto_columns": null,
            "grid_auto_flow": null,
            "grid_auto_rows": null,
            "grid_column": null,
            "grid_gap": null,
            "grid_row": null,
            "grid_template_areas": null,
            "grid_template_columns": null,
            "grid_template_rows": null,
            "height": null,
            "justify_content": null,
            "justify_items": null,
            "left": null,
            "margin": null,
            "max_height": null,
            "max_width": null,
            "min_height": null,
            "min_width": null,
            "object_fit": null,
            "object_position": null,
            "order": null,
            "overflow": null,
            "overflow_x": null,
            "overflow_y": null,
            "padding": null,
            "right": null,
            "top": null,
            "visibility": null,
            "width": null
          }
        },
        "e758ed15a7c246db9619750429dc6012": {
          "model_module": "@jupyter-widgets/controls",
          "model_module_version": "1.5.0",
          "model_name": "DescriptionStyleModel",
          "state": {
            "_model_module": "@jupyter-widgets/controls",
            "_model_module_version": "1.5.0",
            "_model_name": "DescriptionStyleModel",
            "_view_count": null,
            "_view_module": "@jupyter-widgets/base",
            "_view_module_version": "1.2.0",
            "_view_name": "StyleView",
            "description_width": ""
          }
        },
        "e93bf98f4a1a460e89457b28c59d8922": {
          "model_module": "@jupyter-widgets/controls",
          "model_module_version": "1.5.0",
          "model_name": "ProgressStyleModel",
          "state": {
            "_model_module": "@jupyter-widgets/controls",
            "_model_module_version": "1.5.0",
            "_model_name": "ProgressStyleModel",
            "_view_count": null,
            "_view_module": "@jupyter-widgets/base",
            "_view_module_version": "1.2.0",
            "_view_name": "StyleView",
            "bar_color": null,
            "description_width": ""
          }
        },
        "eaebde64f6a94ee8ae0a10d0f84620da": {
          "model_module": "@jupyter-widgets/base",
          "model_module_version": "1.2.0",
          "model_name": "LayoutModel",
          "state": {
            "_model_module": "@jupyter-widgets/base",
            "_model_module_version": "1.2.0",
            "_model_name": "LayoutModel",
            "_view_count": null,
            "_view_module": "@jupyter-widgets/base",
            "_view_module_version": "1.2.0",
            "_view_name": "LayoutView",
            "align_content": null,
            "align_items": null,
            "align_self": null,
            "border": null,
            "bottom": null,
            "display": null,
            "flex": null,
            "flex_flow": null,
            "grid_area": null,
            "grid_auto_columns": null,
            "grid_auto_flow": null,
            "grid_auto_rows": null,
            "grid_column": null,
            "grid_gap": null,
            "grid_row": null,
            "grid_template_areas": null,
            "grid_template_columns": null,
            "grid_template_rows": null,
            "height": null,
            "justify_content": null,
            "justify_items": null,
            "left": null,
            "margin": null,
            "max_height": null,
            "max_width": null,
            "min_height": null,
            "min_width": null,
            "object_fit": null,
            "object_position": null,
            "order": null,
            "overflow": null,
            "overflow_x": null,
            "overflow_y": null,
            "padding": null,
            "right": null,
            "top": null,
            "visibility": null,
            "width": null
          }
        },
        "eb54c8df9290490cae904dd4574c9622": {
          "model_module": "@jupyter-widgets/base",
          "model_module_version": "1.2.0",
          "model_name": "LayoutModel",
          "state": {
            "_model_module": "@jupyter-widgets/base",
            "_model_module_version": "1.2.0",
            "_model_name": "LayoutModel",
            "_view_count": null,
            "_view_module": "@jupyter-widgets/base",
            "_view_module_version": "1.2.0",
            "_view_name": "LayoutView",
            "align_content": null,
            "align_items": null,
            "align_self": null,
            "border": null,
            "bottom": null,
            "display": null,
            "flex": null,
            "flex_flow": null,
            "grid_area": null,
            "grid_auto_columns": null,
            "grid_auto_flow": null,
            "grid_auto_rows": null,
            "grid_column": null,
            "grid_gap": null,
            "grid_row": null,
            "grid_template_areas": null,
            "grid_template_columns": null,
            "grid_template_rows": null,
            "height": null,
            "justify_content": null,
            "justify_items": null,
            "left": null,
            "margin": null,
            "max_height": null,
            "max_width": null,
            "min_height": null,
            "min_width": null,
            "object_fit": null,
            "object_position": null,
            "order": null,
            "overflow": null,
            "overflow_x": null,
            "overflow_y": null,
            "padding": null,
            "right": null,
            "top": null,
            "visibility": null,
            "width": null
          }
        },
        "eb7a719f03214229910d4527dd4ec0db": {
          "model_module": "@jupyter-widgets/base",
          "model_module_version": "1.2.0",
          "model_name": "LayoutModel",
          "state": {
            "_model_module": "@jupyter-widgets/base",
            "_model_module_version": "1.2.0",
            "_model_name": "LayoutModel",
            "_view_count": null,
            "_view_module": "@jupyter-widgets/base",
            "_view_module_version": "1.2.0",
            "_view_name": "LayoutView",
            "align_content": null,
            "align_items": null,
            "align_self": null,
            "border": null,
            "bottom": null,
            "display": null,
            "flex": null,
            "flex_flow": null,
            "grid_area": null,
            "grid_auto_columns": null,
            "grid_auto_flow": null,
            "grid_auto_rows": null,
            "grid_column": null,
            "grid_gap": null,
            "grid_row": null,
            "grid_template_areas": null,
            "grid_template_columns": null,
            "grid_template_rows": null,
            "height": null,
            "justify_content": null,
            "justify_items": null,
            "left": null,
            "margin": null,
            "max_height": null,
            "max_width": null,
            "min_height": null,
            "min_width": null,
            "object_fit": null,
            "object_position": null,
            "order": null,
            "overflow": null,
            "overflow_x": null,
            "overflow_y": null,
            "padding": null,
            "right": null,
            "top": null,
            "visibility": null,
            "width": null
          }
        },
        "ed2933195c7f4336a2692440bcbb5038": {
          "model_module": "@jupyter-widgets/controls",
          "model_module_version": "1.5.0",
          "model_name": "HTMLModel",
          "state": {
            "_dom_classes": [],
            "_model_module": "@jupyter-widgets/controls",
            "_model_module_version": "1.5.0",
            "_model_name": "HTMLModel",
            "_view_count": null,
            "_view_module": "@jupyter-widgets/controls",
            "_view_module_version": "1.5.0",
            "_view_name": "HTMLView",
            "description": "",
            "description_tooltip": null,
            "layout": "IPY_MODEL_e503c7779582450088272064c16e7076",
            "placeholder": "​",
            "style": "IPY_MODEL_620a63e50b09428982223c26314d040b",
            "value": " 612/612 [00:00&lt;00:00, 85.4kB/s]"
          }
        },
        "eda26346a0f147628263c7eb6f5af29b": {
          "model_module": "@jupyter-widgets/base",
          "model_module_version": "1.2.0",
          "model_name": "LayoutModel",
          "state": {
            "_model_module": "@jupyter-widgets/base",
            "_model_module_version": "1.2.0",
            "_model_name": "LayoutModel",
            "_view_count": null,
            "_view_module": "@jupyter-widgets/base",
            "_view_module_version": "1.2.0",
            "_view_name": "LayoutView",
            "align_content": null,
            "align_items": null,
            "align_self": null,
            "border": null,
            "bottom": null,
            "display": null,
            "flex": null,
            "flex_flow": null,
            "grid_area": null,
            "grid_auto_columns": null,
            "grid_auto_flow": null,
            "grid_auto_rows": null,
            "grid_column": null,
            "grid_gap": null,
            "grid_row": null,
            "grid_template_areas": null,
            "grid_template_columns": null,
            "grid_template_rows": null,
            "height": null,
            "justify_content": null,
            "justify_items": null,
            "left": null,
            "margin": null,
            "max_height": null,
            "max_width": null,
            "min_height": null,
            "min_width": null,
            "object_fit": null,
            "object_position": null,
            "order": null,
            "overflow": null,
            "overflow_x": null,
            "overflow_y": null,
            "padding": null,
            "right": null,
            "top": null,
            "visibility": null,
            "width": null
          }
        },
        "ee7cab43e02f41c18f911939b7bd9c27": {
          "model_module": "@jupyter-widgets/base",
          "model_module_version": "1.2.0",
          "model_name": "LayoutModel",
          "state": {
            "_model_module": "@jupyter-widgets/base",
            "_model_module_version": "1.2.0",
            "_model_name": "LayoutModel",
            "_view_count": null,
            "_view_module": "@jupyter-widgets/base",
            "_view_module_version": "1.2.0",
            "_view_name": "LayoutView",
            "align_content": null,
            "align_items": null,
            "align_self": null,
            "border": null,
            "bottom": null,
            "display": null,
            "flex": null,
            "flex_flow": null,
            "grid_area": null,
            "grid_auto_columns": null,
            "grid_auto_flow": null,
            "grid_auto_rows": null,
            "grid_column": null,
            "grid_gap": null,
            "grid_row": null,
            "grid_template_areas": null,
            "grid_template_columns": null,
            "grid_template_rows": null,
            "height": null,
            "justify_content": null,
            "justify_items": null,
            "left": null,
            "margin": null,
            "max_height": null,
            "max_width": null,
            "min_height": null,
            "min_width": null,
            "object_fit": null,
            "object_position": null,
            "order": null,
            "overflow": null,
            "overflow_x": null,
            "overflow_y": null,
            "padding": null,
            "right": null,
            "top": null,
            "visibility": null,
            "width": null
          }
        },
        "f0276dc2fd504893bcc00ba4f4f2fb39": {
          "model_module": "@jupyter-widgets/controls",
          "model_module_version": "1.5.0",
          "model_name": "HTMLModel",
          "state": {
            "_dom_classes": [],
            "_model_module": "@jupyter-widgets/controls",
            "_model_module_version": "1.5.0",
            "_model_name": "HTMLModel",
            "_view_count": null,
            "_view_module": "@jupyter-widgets/controls",
            "_view_module_version": "1.5.0",
            "_view_name": "HTMLView",
            "description": "",
            "description_tooltip": null,
            "layout": "IPY_MODEL_81340af3334547d6a2bc1e1149639c94",
            "placeholder": "​",
            "style": "IPY_MODEL_99f2af1a9ab54e1487373c07c461ba3c",
            "value": " 90.9M/90.9M [00:00&lt;00:00, 142MB/s]"
          }
        },
        "f03dcb782cfa41d691db6e265af7982c": {
          "model_module": "@jupyter-widgets/controls",
          "model_module_version": "1.5.0",
          "model_name": "DescriptionStyleModel",
          "state": {
            "_model_module": "@jupyter-widgets/controls",
            "_model_module_version": "1.5.0",
            "_model_name": "DescriptionStyleModel",
            "_view_count": null,
            "_view_module": "@jupyter-widgets/base",
            "_view_module_version": "1.2.0",
            "_view_name": "StyleView",
            "description_width": ""
          }
        },
        "f1a955f3d96040c584246eef27f58c97": {
          "model_module": "@jupyter-widgets/controls",
          "model_module_version": "1.5.0",
          "model_name": "FloatProgressModel",
          "state": {
            "_dom_classes": [],
            "_model_module": "@jupyter-widgets/controls",
            "_model_module_version": "1.5.0",
            "_model_name": "FloatProgressModel",
            "_view_count": null,
            "_view_module": "@jupyter-widgets/controls",
            "_view_module_version": "1.5.0",
            "_view_name": "ProgressView",
            "bar_style": "success",
            "description": "",
            "description_tooltip": null,
            "layout": "IPY_MODEL_16d3216fdfe746f7a1675d0828c2353d",
            "max": 112,
            "min": 0,
            "orientation": "horizontal",
            "style": "IPY_MODEL_bb436847f3a342d1bdd877a2d0af4e51",
            "value": 112
          }
        },
        "f1c2c7e6c8b547aa939c8f9f3f0c9568": {
          "model_module": "@jupyter-widgets/base",
          "model_module_version": "1.2.0",
          "model_name": "LayoutModel",
          "state": {
            "_model_module": "@jupyter-widgets/base",
            "_model_module_version": "1.2.0",
            "_model_name": "LayoutModel",
            "_view_count": null,
            "_view_module": "@jupyter-widgets/base",
            "_view_module_version": "1.2.0",
            "_view_name": "LayoutView",
            "align_content": null,
            "align_items": null,
            "align_self": null,
            "border": null,
            "bottom": null,
            "display": null,
            "flex": null,
            "flex_flow": null,
            "grid_area": null,
            "grid_auto_columns": null,
            "grid_auto_flow": null,
            "grid_auto_rows": null,
            "grid_column": null,
            "grid_gap": null,
            "grid_row": null,
            "grid_template_areas": null,
            "grid_template_columns": null,
            "grid_template_rows": null,
            "height": null,
            "justify_content": null,
            "justify_items": null,
            "left": null,
            "margin": null,
            "max_height": null,
            "max_width": null,
            "min_height": null,
            "min_width": null,
            "object_fit": null,
            "object_position": null,
            "order": null,
            "overflow": null,
            "overflow_x": null,
            "overflow_y": null,
            "padding": null,
            "right": null,
            "top": null,
            "visibility": null,
            "width": null
          }
        },
        "f29da959484844bc9d6dcb761afdf27a": {
          "model_module": "@jupyter-widgets/controls",
          "model_module_version": "1.5.0",
          "model_name": "FloatProgressModel",
          "state": {
            "_dom_classes": [],
            "_model_module": "@jupyter-widgets/controls",
            "_model_module_version": "1.5.0",
            "_model_name": "FloatProgressModel",
            "_view_count": null,
            "_view_module": "@jupyter-widgets/controls",
            "_view_module_version": "1.5.0",
            "_view_name": "ProgressView",
            "bar_style": "success",
            "description": "",
            "description_tooltip": null,
            "layout": "IPY_MODEL_b41873cfc6c045e994c7da1777401be9",
            "max": 90868376,
            "min": 0,
            "orientation": "horizontal",
            "style": "IPY_MODEL_8acbf3003fe3407c8007128876733a67",
            "value": 90868376
          }
        },
        "f2f72a40464e4504a3e96cab8481aa35": {
          "model_module": "@jupyter-widgets/controls",
          "model_module_version": "1.5.0",
          "model_name": "FloatProgressModel",
          "state": {
            "_dom_classes": [],
            "_model_module": "@jupyter-widgets/controls",
            "_model_module_version": "1.5.0",
            "_model_name": "FloatProgressModel",
            "_view_count": null,
            "_view_module": "@jupyter-widgets/controls",
            "_view_module_version": "1.5.0",
            "_view_name": "ProgressView",
            "bar_style": "success",
            "description": "",
            "description_tooltip": null,
            "layout": "IPY_MODEL_65ac5afc621e4743a733e3fd8be17dcf",
            "max": 53,
            "min": 0,
            "orientation": "horizontal",
            "style": "IPY_MODEL_61e7b293947241c7979bdc025debdaf8",
            "value": 53
          }
        },
        "f3e88432406241e289f36b28810c335d": {
          "model_module": "@jupyter-widgets/controls",
          "model_module_version": "1.5.0",
          "model_name": "ProgressStyleModel",
          "state": {
            "_model_module": "@jupyter-widgets/controls",
            "_model_module_version": "1.5.0",
            "_model_name": "ProgressStyleModel",
            "_view_count": null,
            "_view_module": "@jupyter-widgets/base",
            "_view_module_version": "1.2.0",
            "_view_name": "StyleView",
            "bar_color": null,
            "description_width": ""
          }
        },
        "f4c932aac1dd4b60b4c9ca7d93023af7": {
          "model_module": "@jupyter-widgets/base",
          "model_module_version": "1.2.0",
          "model_name": "LayoutModel",
          "state": {
            "_model_module": "@jupyter-widgets/base",
            "_model_module_version": "1.2.0",
            "_model_name": "LayoutModel",
            "_view_count": null,
            "_view_module": "@jupyter-widgets/base",
            "_view_module_version": "1.2.0",
            "_view_name": "LayoutView",
            "align_content": null,
            "align_items": null,
            "align_self": null,
            "border": null,
            "bottom": null,
            "display": null,
            "flex": null,
            "flex_flow": null,
            "grid_area": null,
            "grid_auto_columns": null,
            "grid_auto_flow": null,
            "grid_auto_rows": null,
            "grid_column": null,
            "grid_gap": null,
            "grid_row": null,
            "grid_template_areas": null,
            "grid_template_columns": null,
            "grid_template_rows": null,
            "height": null,
            "justify_content": null,
            "justify_items": null,
            "left": null,
            "margin": null,
            "max_height": null,
            "max_width": null,
            "min_height": null,
            "min_width": null,
            "object_fit": null,
            "object_position": null,
            "order": null,
            "overflow": null,
            "overflow_x": null,
            "overflow_y": null,
            "padding": null,
            "right": null,
            "top": null,
            "visibility": null,
            "width": null
          }
        },
        "f5b44ba59a084b2dad9c59dcb03b84fc": {
          "model_module": "@jupyter-widgets/controls",
          "model_module_version": "1.5.0",
          "model_name": "HTMLModel",
          "state": {
            "_dom_classes": [],
            "_model_module": "@jupyter-widgets/controls",
            "_model_module_version": "1.5.0",
            "_model_name": "HTMLModel",
            "_view_count": null,
            "_view_module": "@jupyter-widgets/controls",
            "_view_module_version": "1.5.0",
            "_view_name": "HTMLView",
            "description": "",
            "description_tooltip": null,
            "layout": "IPY_MODEL_eaebde64f6a94ee8ae0a10d0f84620da",
            "placeholder": "​",
            "style": "IPY_MODEL_a8b32a0ee84b45d9910f88651a0435ed",
            "value": " 792k/792k [00:00&lt;00:00, 4.10MB/s]"
          }
        },
        "f5eeaf6b133c424284492520fe243fd6": {
          "model_module": "@jupyter-widgets/base",
          "model_module_version": "1.2.0",
          "model_name": "LayoutModel",
          "state": {
            "_model_module": "@jupyter-widgets/base",
            "_model_module_version": "1.2.0",
            "_model_name": "LayoutModel",
            "_view_count": null,
            "_view_module": "@jupyter-widgets/base",
            "_view_module_version": "1.2.0",
            "_view_name": "LayoutView",
            "align_content": null,
            "align_items": null,
            "align_self": null,
            "border": null,
            "bottom": null,
            "display": null,
            "flex": null,
            "flex_flow": null,
            "grid_area": null,
            "grid_auto_columns": null,
            "grid_auto_flow": null,
            "grid_auto_rows": null,
            "grid_column": null,
            "grid_gap": null,
            "grid_row": null,
            "grid_template_areas": null,
            "grid_template_columns": null,
            "grid_template_rows": null,
            "height": null,
            "justify_content": null,
            "justify_items": null,
            "left": null,
            "margin": null,
            "max_height": null,
            "max_width": null,
            "min_height": null,
            "min_width": null,
            "object_fit": null,
            "object_position": null,
            "order": null,
            "overflow": null,
            "overflow_x": null,
            "overflow_y": null,
            "padding": null,
            "right": null,
            "top": null,
            "visibility": null,
            "width": null
          }
        },
        "f73378ce33ce49759427e8e47c54ecce": {
          "model_module": "@jupyter-widgets/controls",
          "model_module_version": "1.5.0",
          "model_name": "HBoxModel",
          "state": {
            "_dom_classes": [],
            "_model_module": "@jupyter-widgets/controls",
            "_model_module_version": "1.5.0",
            "_model_name": "HBoxModel",
            "_view_count": null,
            "_view_module": "@jupyter-widgets/controls",
            "_view_module_version": "1.5.0",
            "_view_name": "HBoxView",
            "box_style": "",
            "children": [
              "IPY_MODEL_60d2ef1123084520b2344bee0c5045f6",
              "IPY_MODEL_7b1bbc9446994d48a7cc457abc36960f",
              "IPY_MODEL_8739c1f0c22347c8b4777952d1c7d249"
            ],
            "layout": "IPY_MODEL_7cc0ce7dc34742159e22c2e60dba7a89"
          }
        },
        "f9406b7919ee4a18a850431633aca080": {
          "model_module": "@jupyter-widgets/base",
          "model_module_version": "1.2.0",
          "model_name": "LayoutModel",
          "state": {
            "_model_module": "@jupyter-widgets/base",
            "_model_module_version": "1.2.0",
            "_model_name": "LayoutModel",
            "_view_count": null,
            "_view_module": "@jupyter-widgets/base",
            "_view_module_version": "1.2.0",
            "_view_name": "LayoutView",
            "align_content": null,
            "align_items": null,
            "align_self": null,
            "border": null,
            "bottom": null,
            "display": null,
            "flex": null,
            "flex_flow": null,
            "grid_area": null,
            "grid_auto_columns": null,
            "grid_auto_flow": null,
            "grid_auto_rows": null,
            "grid_column": null,
            "grid_gap": null,
            "grid_row": null,
            "grid_template_areas": null,
            "grid_template_columns": null,
            "grid_template_rows": null,
            "height": null,
            "justify_content": null,
            "justify_items": null,
            "left": null,
            "margin": null,
            "max_height": null,
            "max_width": null,
            "min_height": null,
            "min_width": null,
            "object_fit": null,
            "object_position": null,
            "order": null,
            "overflow": null,
            "overflow_x": null,
            "overflow_y": null,
            "padding": null,
            "right": null,
            "top": null,
            "visibility": null,
            "width": null
          }
        },
        "fb097c07d48646cdb9918d5a97c95e61": {
          "model_module": "@jupyter-widgets/controls",
          "model_module_version": "1.5.0",
          "model_name": "HTMLModel",
          "state": {
            "_dom_classes": [],
            "_model_module": "@jupyter-widgets/controls",
            "_model_module_version": "1.5.0",
            "_model_name": "HTMLModel",
            "_view_count": null,
            "_view_module": "@jupyter-widgets/controls",
            "_view_module_version": "1.5.0",
            "_view_name": "HTMLView",
            "description": "",
            "description_tooltip": null,
            "layout": "IPY_MODEL_eb7a719f03214229910d4527dd4ec0db",
            "placeholder": "​",
            "style": "IPY_MODEL_a709e26e7c0e43d4907631617292cd3e",
            "value": " 2.54k/? [00:00&lt;00:00, 317kB/s]"
          }
        },
        "fb52983ea2754f978225be48909a08e1": {
          "model_module": "@jupyter-widgets/controls",
          "model_module_version": "1.5.0",
          "model_name": "HTMLModel",
          "state": {
            "_dom_classes": [],
            "_model_module": "@jupyter-widgets/controls",
            "_model_module_version": "1.5.0",
            "_model_name": "HTMLModel",
            "_view_count": null,
            "_view_module": "@jupyter-widgets/controls",
            "_view_module_version": "1.5.0",
            "_view_name": "HTMLView",
            "description": "",
            "description_tooltip": null,
            "layout": "IPY_MODEL_eda26346a0f147628263c7eb6f5af29b",
            "placeholder": "​",
            "style": "IPY_MODEL_cb5a947989594bfeb7c0225ebd739078",
            "value": " 116/116 [00:00&lt;00:00, 16.4kB/s]"
          }
        },
        "fbb55e79bb4c45dda21dd751d4144f45": {
          "model_module": "@jupyter-widgets/controls",
          "model_module_version": "1.5.0",
          "model_name": "ProgressStyleModel",
          "state": {
            "_model_module": "@jupyter-widgets/controls",
            "_model_module_version": "1.5.0",
            "_model_name": "ProgressStyleModel",
            "_view_count": null,
            "_view_module": "@jupyter-widgets/base",
            "_view_module_version": "1.2.0",
            "_view_name": "StyleView",
            "bar_color": null,
            "description_width": ""
          }
        },
        "fd9d9003d8774acb8af10b7521808517": {
          "model_module": "@jupyter-widgets/base",
          "model_module_version": "1.2.0",
          "model_name": "LayoutModel",
          "state": {
            "_model_module": "@jupyter-widgets/base",
            "_model_module_version": "1.2.0",
            "_model_name": "LayoutModel",
            "_view_count": null,
            "_view_module": "@jupyter-widgets/base",
            "_view_module_version": "1.2.0",
            "_view_name": "LayoutView",
            "align_content": null,
            "align_items": null,
            "align_self": null,
            "border": null,
            "bottom": null,
            "display": null,
            "flex": null,
            "flex_flow": null,
            "grid_area": null,
            "grid_auto_columns": null,
            "grid_auto_flow": null,
            "grid_auto_rows": null,
            "grid_column": null,
            "grid_gap": null,
            "grid_row": null,
            "grid_template_areas": null,
            "grid_template_columns": null,
            "grid_template_rows": null,
            "height": null,
            "justify_content": null,
            "justify_items": null,
            "left": null,
            "margin": null,
            "max_height": null,
            "max_width": null,
            "min_height": null,
            "min_width": null,
            "object_fit": null,
            "object_position": null,
            "order": null,
            "overflow": null,
            "overflow_x": null,
            "overflow_y": null,
            "padding": null,
            "right": null,
            "top": null,
            "visibility": null,
            "width": null
          }
        },
        "fe426c74687144a2af5738f0a34442a9": {
          "model_module": "@jupyter-widgets/controls",
          "model_module_version": "1.5.0",
          "model_name": "DescriptionStyleModel",
          "state": {
            "_model_module": "@jupyter-widgets/controls",
            "_model_module_version": "1.5.0",
            "_model_name": "DescriptionStyleModel",
            "_view_count": null,
            "_view_module": "@jupyter-widgets/base",
            "_view_module_version": "1.2.0",
            "_view_name": "StyleView",
            "description_width": ""
          }
        },
        "ff85256eedf3457fa8c9b90ba1d31946": {
          "model_module": "@jupyter-widgets/controls",
          "model_module_version": "1.5.0",
          "model_name": "HTMLModel",
          "state": {
            "_dom_classes": [],
            "_model_module": "@jupyter-widgets/controls",
            "_model_module_version": "1.5.0",
            "_model_name": "HTMLModel",
            "_view_count": null,
            "_view_module": "@jupyter-widgets/controls",
            "_view_module_version": "1.5.0",
            "_view_name": "HTMLView",
            "description": "",
            "description_tooltip": null,
            "layout": "IPY_MODEL_5e982b21a8b34000888682cda1259b16",
            "placeholder": "​",
            "style": "IPY_MODEL_aefcaf2b972c47029be071a0b3992ea7",
            "value": "special_tokens_map.json: "
          }
        }
      }
    }
  },
  "nbformat": 4,
  "nbformat_minor": 0
}
